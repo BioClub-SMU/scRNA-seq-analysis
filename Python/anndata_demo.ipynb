{
 "cells": [
  {
   "cell_type": "markdown",
   "id": "93fc673b",
   "metadata": {},
   "source": [
    "# Anndata介绍"
   ]
  },
  {
   "cell_type": "markdown",
   "id": "6b860eae",
   "metadata": {},
   "source": [
    "`AnnData`（全称 `Annotated Data`）是 Scanpy 的核心数据结构，可以理解成 Python 版的 `SingleCellExperiment`。\n",
    "它是为矩阵型数据设计的，特点是：\n",
    ".行（`obs`）：观测值（单细胞分析里 = 细胞/样本），通常有唯一的索引（`barcode`）\n",
    ".列（`var`）：特征（单细胞分析里 = 基因/峰/蛋白），也有唯一的索引（`gene ID`）\n",
    ".`.obs` 和 `.var`：行/列的元数据（`metadata`）\n",
    ".`uns`：不规则的、结构化或非结构化的元信息（如颜色、聚类结果、分析参数）\n",
    ".`X`：核心数据矩阵（表达量、计数等），可以是稠密矩阵（`NumPy array`）或稀疏矩阵（`scipy.sparse`）\n",
    ".支持稀疏矩阵（非常重要，因为单细胞数据大部分是 0）"
   ]
  },
  {
   "cell_type": "markdown",
   "id": "b84877da",
   "metadata": {},
   "source": [
    "类比：\n",
    "在 R/Seurat 里，`.X` 类似 `counts(sce)` 或 `GetAssayData(seurat, slot=\"counts\")`\n",
    "`.obs` 类似 `colData(sce)`\n",
    "`.var` 类似 `rowData(sce)`\n",
    "`.uns` 类似 `metadata(sce)` 或 `Seurat 的 @misc`"
   ]
  },
  {
   "cell_type": "markdown",
   "id": "c899dab7",
   "metadata": {},
   "source": [
    "## 下面创建一个anndata对象，以随机生成的稀疏矩阵为例："
   ]
  },
  {
   "cell_type": "code",
   "execution_count": 1,
   "id": "64d65786",
   "metadata": {},
   "outputs": [
    {
     "name": "stdout",
     "output_type": "stream",
     "text": [
      "0.11.4\n"
     ]
    }
   ],
   "source": [
    "import numpy as np\n",
    "import pandas as pd\n",
    "import anndata as ad\n",
    "from scipy.sparse import csr_matrix\n",
    "print(ad.__version__)"
   ]
  },
  {
   "cell_type": "code",
   "execution_count": 2,
   "id": "fc9bb2c3",
   "metadata": {},
   "outputs": [
    {
     "data": {
      "text/plain": [
       "AnnData object with n_obs × n_vars = 100 × 2000"
      ]
     },
     "execution_count": 2,
     "metadata": {},
     "output_type": "execute_result"
    }
   ],
   "source": [
    "## 创建一个100x2000的稀疏矩阵来表征基因表达数据\n",
    "counts = csr_matrix(np.random.poisson(1, size=(100, 2000)), dtype=np.float32)\n",
    "adata = ad.AnnData(counts)\n",
    "adata"
   ]
  },
  {
   "cell_type": "code",
   "execution_count": 3,
   "id": "7994cfa0",
   "metadata": {},
   "outputs": [
    {
     "data": {
      "text/plain": [
       "<Compressed Sparse Row sparse matrix of dtype 'float32'\n",
       "\twith 126209 stored elements and shape (100, 2000)>"
      ]
     },
     "execution_count": 3,
     "metadata": {},
     "output_type": "execute_result"
    }
   ],
   "source": [
    "## 访问表达矩阵\n",
    "adata.X"
   ]
  },
  {
   "cell_type": "markdown",
   "id": "ef0d2529",
   "metadata": {},
   "source": [
    "然后，给细胞和基因打上索引（命名）"
   ]
  },
  {
   "cell_type": "code",
   "execution_count": 4,
   "id": "8675761e",
   "metadata": {},
   "outputs": [
    {
     "name": "stdout",
     "output_type": "stream",
     "text": [
      "Index(['Cell_0', 'Cell_1', 'Cell_2', 'Cell_3', 'Cell_4', 'Cell_5', 'Cell_6',\n",
      "       'Cell_7', 'Cell_8', 'Cell_9'],\n",
      "      dtype='object')\n",
      "Index(['Gene_0', 'Gene_1', 'Gene_2', 'Gene_3', 'Gene_4', 'Gene_5', 'Gene_6',\n",
      "       'Gene_7', 'Gene_8', 'Gene_9'],\n",
      "      dtype='object')\n"
     ]
    }
   ],
   "source": [
    "adata.obs_names = [f\"Cell_{i:d}\" for i in range(adata.n_obs)]\n",
    "adata.var_names = [f\"Gene_{i:d}\" for i in range(adata.n_vars)]\n",
    "print(adata.obs_names[:10])\n",
    "print(adata.var_names[:10])"
   ]
  },
  {
   "cell_type": "markdown",
   "id": "f706ba90",
   "metadata": {},
   "source": [
    "## 筛选感兴趣的细胞和基因"
   ]
  },
  {
   "cell_type": "code",
   "execution_count": 5,
   "id": "c189d45c",
   "metadata": {},
   "outputs": [
    {
     "data": {
      "text/plain": [
       "View of AnnData object with n_obs × n_vars = 2 × 2"
      ]
     },
     "execution_count": 5,
     "metadata": {},
     "output_type": "execute_result"
    }
   ],
   "source": [
    "## 筛选成一个新的anndata对象\n",
    "adata[[\"Cell_1\", \"Cell_10\"], [\"Gene_5\", \"Gene_1900\"]]"
   ]
  },
  {
   "cell_type": "markdown",
   "id": "b8aea180",
   "metadata": {},
   "source": [
    "## 增加metadata`adata.obs, adata.var`\n",
    "在anndata中，细胞和基因的metadata可以用`adata.obs`和`adata.var`来访问，他们本质上都是一个pd.DataFrame"
   ]
  },
  {
   "cell_type": "code",
   "execution_count": 6,
   "id": "84d94e05",
   "metadata": {},
   "outputs": [
    {
     "data": {
      "application/vnd.microsoft.datawrangler.viewer.v0+json": {
       "columns": [
        {
         "name": "index",
         "rawType": "object",
         "type": "string"
        },
        {
         "name": "cell_type",
         "rawType": "category",
         "type": "unknown"
        }
       ],
       "ref": "a874cf27-c47d-4033-8d17-87a0911b42a5",
       "rows": [
        [
         "Cell_0",
         "T"
        ],
        [
         "Cell_1",
         "Monocyte"
        ],
        [
         "Cell_2",
         "Monocyte"
        ],
        [
         "Cell_3",
         "T"
        ],
        [
         "Cell_4",
         "T"
        ],
        [
         "Cell_5",
         "Monocyte"
        ],
        [
         "Cell_6",
         "T"
        ],
        [
         "Cell_7",
         "T"
        ],
        [
         "Cell_8",
         "B"
        ],
        [
         "Cell_9",
         "Monocyte"
        ],
        [
         "Cell_10",
         "B"
        ],
        [
         "Cell_11",
         "T"
        ],
        [
         "Cell_12",
         "B"
        ],
        [
         "Cell_13",
         "T"
        ],
        [
         "Cell_14",
         "Monocyte"
        ],
        [
         "Cell_15",
         "T"
        ],
        [
         "Cell_16",
         "Monocyte"
        ],
        [
         "Cell_17",
         "T"
        ],
        [
         "Cell_18",
         "B"
        ],
        [
         "Cell_19",
         "Monocyte"
        ],
        [
         "Cell_20",
         "B"
        ],
        [
         "Cell_21",
         "B"
        ],
        [
         "Cell_22",
         "B"
        ],
        [
         "Cell_23",
         "T"
        ],
        [
         "Cell_24",
         "B"
        ],
        [
         "Cell_25",
         "B"
        ],
        [
         "Cell_26",
         "B"
        ],
        [
         "Cell_27",
         "B"
        ],
        [
         "Cell_28",
         "T"
        ],
        [
         "Cell_29",
         "Monocyte"
        ],
        [
         "Cell_30",
         "T"
        ],
        [
         "Cell_31",
         "T"
        ],
        [
         "Cell_32",
         "T"
        ],
        [
         "Cell_33",
         "T"
        ],
        [
         "Cell_34",
         "B"
        ],
        [
         "Cell_35",
         "Monocyte"
        ],
        [
         "Cell_36",
         "T"
        ],
        [
         "Cell_37",
         "Monocyte"
        ],
        [
         "Cell_38",
         "B"
        ],
        [
         "Cell_39",
         "B"
        ],
        [
         "Cell_40",
         "T"
        ],
        [
         "Cell_41",
         "T"
        ],
        [
         "Cell_42",
         "B"
        ],
        [
         "Cell_43",
         "Monocyte"
        ],
        [
         "Cell_44",
         "B"
        ],
        [
         "Cell_45",
         "B"
        ],
        [
         "Cell_46",
         "B"
        ],
        [
         "Cell_47",
         "T"
        ],
        [
         "Cell_48",
         "Monocyte"
        ],
        [
         "Cell_49",
         "B"
        ]
       ],
       "shape": {
        "columns": 1,
        "rows": 100
       }
      },
      "text/html": [
       "<div>\n",
       "<style scoped>\n",
       "    .dataframe tbody tr th:only-of-type {\n",
       "        vertical-align: middle;\n",
       "    }\n",
       "\n",
       "    .dataframe tbody tr th {\n",
       "        vertical-align: top;\n",
       "    }\n",
       "\n",
       "    .dataframe thead th {\n",
       "        text-align: right;\n",
       "    }\n",
       "</style>\n",
       "<table border=\"1\" class=\"dataframe\">\n",
       "  <thead>\n",
       "    <tr style=\"text-align: right;\">\n",
       "      <th></th>\n",
       "      <th>cell_type</th>\n",
       "    </tr>\n",
       "  </thead>\n",
       "  <tbody>\n",
       "    <tr>\n",
       "      <th>Cell_0</th>\n",
       "      <td>T</td>\n",
       "    </tr>\n",
       "    <tr>\n",
       "      <th>Cell_1</th>\n",
       "      <td>Monocyte</td>\n",
       "    </tr>\n",
       "    <tr>\n",
       "      <th>Cell_2</th>\n",
       "      <td>Monocyte</td>\n",
       "    </tr>\n",
       "    <tr>\n",
       "      <th>Cell_3</th>\n",
       "      <td>T</td>\n",
       "    </tr>\n",
       "    <tr>\n",
       "      <th>Cell_4</th>\n",
       "      <td>T</td>\n",
       "    </tr>\n",
       "    <tr>\n",
       "      <th>...</th>\n",
       "      <td>...</td>\n",
       "    </tr>\n",
       "    <tr>\n",
       "      <th>Cell_95</th>\n",
       "      <td>T</td>\n",
       "    </tr>\n",
       "    <tr>\n",
       "      <th>Cell_96</th>\n",
       "      <td>Monocyte</td>\n",
       "    </tr>\n",
       "    <tr>\n",
       "      <th>Cell_97</th>\n",
       "      <td>T</td>\n",
       "    </tr>\n",
       "    <tr>\n",
       "      <th>Cell_98</th>\n",
       "      <td>B</td>\n",
       "    </tr>\n",
       "    <tr>\n",
       "      <th>Cell_99</th>\n",
       "      <td>Monocyte</td>\n",
       "    </tr>\n",
       "  </tbody>\n",
       "</table>\n",
       "<p>100 rows × 1 columns</p>\n",
       "</div>"
      ],
      "text/plain": [
       "        cell_type\n",
       "Cell_0          T\n",
       "Cell_1   Monocyte\n",
       "Cell_2   Monocyte\n",
       "Cell_3          T\n",
       "Cell_4          T\n",
       "...           ...\n",
       "Cell_95         T\n",
       "Cell_96  Monocyte\n",
       "Cell_97         T\n",
       "Cell_98         B\n",
       "Cell_99  Monocyte\n",
       "\n",
       "[100 rows x 1 columns]"
      ]
     },
     "execution_count": 6,
     "metadata": {},
     "output_type": "execute_result"
    }
   ],
   "source": [
    "ct = np.random.choice([\"B\", \"T\", \"Monocyte\"], size = (adata.n_obs, ))\n",
    "adata.obs[\"cell_type\"] = pd.Categorical(ct)\n",
    "adata.obs"
   ]
  },
  {
   "cell_type": "code",
   "execution_count": 7,
   "id": "4959215d",
   "metadata": {},
   "outputs": [
    {
     "data": {
      "text/plain": [
       "AnnData object with n_obs × n_vars = 100 × 2000\n",
       "    obs: 'cell_type'"
      ]
     },
     "execution_count": 7,
     "metadata": {},
     "output_type": "execute_result"
    }
   ],
   "source": [
    "## 查看更新后的adata信息\n",
    "adata"
   ]
  },
  {
   "cell_type": "markdown",
   "id": "845e821b",
   "metadata": {},
   "source": [
    "可以根据新生成的细胞类型来筛选数据："
   ]
  },
  {
   "cell_type": "code",
   "execution_count": 8,
   "id": "1e09c110",
   "metadata": {},
   "outputs": [
    {
     "data": {
      "text/plain": [
       "View of AnnData object with n_obs × n_vars = 38 × 2000\n",
       "    obs: 'cell_type'"
      ]
     },
     "execution_count": 8,
     "metadata": {},
     "output_type": "execute_result"
    }
   ],
   "source": [
    "bdata = adata[adata.obs.cell_type == \"B\"]\n",
    "bdata"
   ]
  },
  {
   "cell_type": "markdown",
   "id": "5d01d73b",
   "metadata": {},
   "source": [
    "## 多维元数据的存储方式`.obsm, .varm`\n",
    "有些元数据不是单一值，而是一个矩阵，比如：\n",
    "对细胞（observation）来说：`UMAP` 或 `PCA` 降维后的二维坐标\n",
    "对基因（variable）来说：某个算法计算的多维特征向量\n",
    "这类数据在 `AnnData` 里不能放在 `.obs` 或 `.var`（因为它们只支持表格型、列状数据），而是放在 `.obsm` / `.varm`。\n",
    "\n",
    "### `.obsm` 和 `.varm` 的规则\n",
    "`.obsm（Observation Multi-dimensional）`:\n",
    "存放细胞层面的多维矩阵\n",
    "行数必须等于细胞数`n_obs`\n",
    "比如 `adata.obsm[\"X_umap\"]` 的形状是 (细胞数, 降维维度数)，如 (100, 2)\n",
    "\n",
    "`.varm（Variable Multi-dimensional）`:\n",
    "存放基因层面的多维矩阵\n",
    "行数必须等于基因数`n_vars`\n",
    "比如 `adata.varm[\"gene_stuff\"]` 的形状是 (基因数, 特征数)，如 (2000, 5)"
   ]
  },
  {
   "cell_type": "code",
   "execution_count": 9,
   "id": "69fbb18c",
   "metadata": {},
   "outputs": [
    {
     "data": {
      "text/plain": [
       "AxisArrays with keys: X_umap"
      ]
     },
     "execution_count": 9,
     "metadata": {},
     "output_type": "execute_result"
    }
   ],
   "source": [
    "adata.obsm[\"X_umap\"] = np.random.normal(0, 1, size = (adata.n_obs, 2))\n",
    "adata.varm[\"gene_stuff\"] = np.random.normal(0, 1, size = (adata.n_vars, 5))\n",
    "adata.obsm"
   ]
  },
  {
   "cell_type": "code",
   "execution_count": 10,
   "id": "83802c1f",
   "metadata": {},
   "outputs": [
    {
     "data": {
      "text/plain": [
       "AnnData object with n_obs × n_vars = 100 × 2000\n",
       "    obs: 'cell_type'\n",
       "    obsm: 'X_umap'\n",
       "    varm: 'gene_stuff'"
      ]
     },
     "execution_count": 10,
     "metadata": {},
     "output_type": "execute_result"
    }
   ],
   "source": [
    "adata"
   ]
  },
  {
   "cell_type": "markdown",
   "id": "aad4fcf0",
   "metadata": {},
   "source": [
    "## 非结构化的元数据`.uns`\n",
    "`.uns（Unstructured）`是一个 字典（dict-like）容器，可以放任何类型的 Python 对象：数字、列表、字典、颜色映射、描述信息等。"
   ]
  },
  {
   "cell_type": "code",
   "execution_count": 11,
   "id": "73a5e17e",
   "metadata": {},
   "outputs": [
    {
     "data": {
      "text/plain": [
       "OrderedDict([('random', [1, 2, 3])])"
      ]
     },
     "execution_count": 11,
     "metadata": {},
     "output_type": "execute_result"
    }
   ],
   "source": [
    "adata.uns[\"random\"] = [1, 2, 3]\n",
    "adata.uns"
   ]
  },
  {
   "cell_type": "markdown",
   "id": "b27eda09",
   "metadata": {},
   "source": [
    "## 存放表达数据的不同方式`.layers`\n",
    "对原始表达矩阵进行不同处理之后，比如标准化后的矩阵，存放在`adata.layers`中。\n",
    "`adata.X`一般指正在分析的数据，如果用`scanpy`去标准化，会覆盖，所以一般会把原始矩阵copy一份放在`adata.layers[\"counts\"]`里"
   ]
  },
  {
   "cell_type": "code",
   "execution_count": 12,
   "id": "e4f715f9",
   "metadata": {},
   "outputs": [
    {
     "data": {
      "text/plain": [
       "AnnData object with n_obs × n_vars = 100 × 2000\n",
       "    obs: 'cell_type'\n",
       "    uns: 'random'\n",
       "    obsm: 'X_umap'\n",
       "    varm: 'gene_stuff'\n",
       "    layers: 'log_transformed', 'counts'"
      ]
     },
     "execution_count": 12,
     "metadata": {},
     "output_type": "execute_result"
    }
   ],
   "source": [
    "adata.layers[\"log_transformed\"] = np.log1p(adata.X)\n",
    "\n",
    "## 通常会把原始矩阵留一份放在layers中\n",
    "adata.layers[\"counts\"] = adata.X.copy()\n",
    "\n",
    "adata"
   ]
  },
  {
   "cell_type": "markdown",
   "id": "48a80d8c",
   "metadata": {},
   "source": [
    "同时，还可以将`layers`中的表达矩阵转成`DataFrames`"
   ]
  },
  {
   "cell_type": "code",
   "execution_count": 13,
   "id": "31ca4b10",
   "metadata": {},
   "outputs": [
    {
     "data": {
      "application/vnd.microsoft.datawrangler.viewer.v0+json": {
       "columns": [
        {
         "name": "index",
         "rawType": "object",
         "type": "string"
        },
        {
         "name": "Gene_0",
         "rawType": "float32",
         "type": "float"
        },
        {
         "name": "Gene_1",
         "rawType": "float32",
         "type": "float"
        },
        {
         "name": "Gene_2",
         "rawType": "float32",
         "type": "float"
        },
        {
         "name": "Gene_3",
         "rawType": "float32",
         "type": "float"
        },
        {
         "name": "Gene_4",
         "rawType": "float32",
         "type": "float"
        },
        {
         "name": "Gene_5",
         "rawType": "float32",
         "type": "float"
        },
        {
         "name": "Gene_6",
         "rawType": "float32",
         "type": "float"
        },
        {
         "name": "Gene_7",
         "rawType": "float32",
         "type": "float"
        },
        {
         "name": "Gene_8",
         "rawType": "float32",
         "type": "float"
        },
        {
         "name": "Gene_9",
         "rawType": "float32",
         "type": "float"
        },
        {
         "name": "Gene_10",
         "rawType": "float32",
         "type": "float"
        },
        {
         "name": "Gene_11",
         "rawType": "float32",
         "type": "float"
        },
        {
         "name": "Gene_12",
         "rawType": "float32",
         "type": "float"
        },
        {
         "name": "Gene_13",
         "rawType": "float32",
         "type": "float"
        },
        {
         "name": "Gene_14",
         "rawType": "float32",
         "type": "float"
        },
        {
         "name": "Gene_15",
         "rawType": "float32",
         "type": "float"
        },
        {
         "name": "Gene_16",
         "rawType": "float32",
         "type": "float"
        },
        {
         "name": "Gene_17",
         "rawType": "float32",
         "type": "float"
        },
        {
         "name": "Gene_18",
         "rawType": "float32",
         "type": "float"
        },
        {
         "name": "Gene_19",
         "rawType": "float32",
         "type": "float"
        },
        {
         "name": "Gene_20",
         "rawType": "float32",
         "type": "float"
        },
        {
         "name": "Gene_21",
         "rawType": "float32",
         "type": "float"
        },
        {
         "name": "Gene_22",
         "rawType": "float32",
         "type": "float"
        },
        {
         "name": "Gene_23",
         "rawType": "float32",
         "type": "float"
        },
        {
         "name": "Gene_24",
         "rawType": "float32",
         "type": "float"
        },
        {
         "name": "Gene_25",
         "rawType": "float32",
         "type": "float"
        },
        {
         "name": "Gene_26",
         "rawType": "float32",
         "type": "float"
        },
        {
         "name": "Gene_27",
         "rawType": "float32",
         "type": "float"
        },
        {
         "name": "Gene_28",
         "rawType": "float32",
         "type": "float"
        },
        {
         "name": "Gene_29",
         "rawType": "float32",
         "type": "float"
        },
        {
         "name": "Gene_30",
         "rawType": "float32",
         "type": "float"
        },
        {
         "name": "Gene_31",
         "rawType": "float32",
         "type": "float"
        },
        {
         "name": "Gene_32",
         "rawType": "float32",
         "type": "float"
        },
        {
         "name": "Gene_33",
         "rawType": "float32",
         "type": "float"
        },
        {
         "name": "Gene_34",
         "rawType": "float32",
         "type": "float"
        },
        {
         "name": "Gene_35",
         "rawType": "float32",
         "type": "float"
        },
        {
         "name": "Gene_36",
         "rawType": "float32",
         "type": "float"
        },
        {
         "name": "Gene_37",
         "rawType": "float32",
         "type": "float"
        },
        {
         "name": "Gene_38",
         "rawType": "float32",
         "type": "float"
        },
        {
         "name": "Gene_39",
         "rawType": "float32",
         "type": "float"
        },
        {
         "name": "Gene_40",
         "rawType": "float32",
         "type": "float"
        },
        {
         "name": "Gene_41",
         "rawType": "float32",
         "type": "float"
        },
        {
         "name": "Gene_42",
         "rawType": "float32",
         "type": "float"
        },
        {
         "name": "Gene_43",
         "rawType": "float32",
         "type": "float"
        },
        {
         "name": "Gene_44",
         "rawType": "float32",
         "type": "float"
        },
        {
         "name": "Gene_45",
         "rawType": "float32",
         "type": "float"
        },
        {
         "name": "Gene_46",
         "rawType": "float32",
         "type": "float"
        },
        {
         "name": "Gene_47",
         "rawType": "float32",
         "type": "float"
        },
        {
         "name": "Gene_48",
         "rawType": "float32",
         "type": "float"
        },
        {
         "name": "Gene_49",
         "rawType": "float32",
         "type": "float"
        },
        {
         "name": "Gene_50",
         "rawType": "float32",
         "type": "float"
        },
        {
         "name": "Gene_51",
         "rawType": "float32",
         "type": "float"
        },
        {
         "name": "Gene_52",
         "rawType": "float32",
         "type": "float"
        },
        {
         "name": "Gene_53",
         "rawType": "float32",
         "type": "float"
        },
        {
         "name": "Gene_54",
         "rawType": "float32",
         "type": "float"
        },
        {
         "name": "Gene_55",
         "rawType": "float32",
         "type": "float"
        },
        {
         "name": "Gene_56",
         "rawType": "float32",
         "type": "float"
        },
        {
         "name": "Gene_57",
         "rawType": "float32",
         "type": "float"
        },
        {
         "name": "Gene_58",
         "rawType": "float32",
         "type": "float"
        },
        {
         "name": "Gene_59",
         "rawType": "float32",
         "type": "float"
        },
        {
         "name": "Gene_60",
         "rawType": "float32",
         "type": "float"
        },
        {
         "name": "Gene_61",
         "rawType": "float32",
         "type": "float"
        },
        {
         "name": "Gene_62",
         "rawType": "float32",
         "type": "float"
        },
        {
         "name": "Gene_63",
         "rawType": "float32",
         "type": "float"
        },
        {
         "name": "Gene_64",
         "rawType": "float32",
         "type": "float"
        },
        {
         "name": "Gene_65",
         "rawType": "float32",
         "type": "float"
        },
        {
         "name": "Gene_66",
         "rawType": "float32",
         "type": "float"
        },
        {
         "name": "Gene_67",
         "rawType": "float32",
         "type": "float"
        },
        {
         "name": "Gene_68",
         "rawType": "float32",
         "type": "float"
        },
        {
         "name": "Gene_69",
         "rawType": "float32",
         "type": "float"
        },
        {
         "name": "Gene_70",
         "rawType": "float32",
         "type": "float"
        },
        {
         "name": "Gene_71",
         "rawType": "float32",
         "type": "float"
        },
        {
         "name": "Gene_72",
         "rawType": "float32",
         "type": "float"
        },
        {
         "name": "Gene_73",
         "rawType": "float32",
         "type": "float"
        },
        {
         "name": "Gene_74",
         "rawType": "float32",
         "type": "float"
        },
        {
         "name": "Gene_75",
         "rawType": "float32",
         "type": "float"
        },
        {
         "name": "Gene_76",
         "rawType": "float32",
         "type": "float"
        },
        {
         "name": "Gene_77",
         "rawType": "float32",
         "type": "float"
        },
        {
         "name": "Gene_78",
         "rawType": "float32",
         "type": "float"
        },
        {
         "name": "Gene_79",
         "rawType": "float32",
         "type": "float"
        },
        {
         "name": "Gene_80",
         "rawType": "float32",
         "type": "float"
        },
        {
         "name": "Gene_81",
         "rawType": "float32",
         "type": "float"
        },
        {
         "name": "Gene_82",
         "rawType": "float32",
         "type": "float"
        },
        {
         "name": "Gene_83",
         "rawType": "float32",
         "type": "float"
        },
        {
         "name": "Gene_84",
         "rawType": "float32",
         "type": "float"
        },
        {
         "name": "Gene_85",
         "rawType": "float32",
         "type": "float"
        },
        {
         "name": "Gene_86",
         "rawType": "float32",
         "type": "float"
        },
        {
         "name": "Gene_87",
         "rawType": "float32",
         "type": "float"
        },
        {
         "name": "Gene_88",
         "rawType": "float32",
         "type": "float"
        },
        {
         "name": "Gene_89",
         "rawType": "float32",
         "type": "float"
        },
        {
         "name": "Gene_90",
         "rawType": "float32",
         "type": "float"
        },
        {
         "name": "Gene_91",
         "rawType": "float32",
         "type": "float"
        },
        {
         "name": "Gene_92",
         "rawType": "float32",
         "type": "float"
        },
        {
         "name": "Gene_93",
         "rawType": "float32",
         "type": "float"
        },
        {
         "name": "Gene_94",
         "rawType": "float32",
         "type": "float"
        },
        {
         "name": "Gene_95",
         "rawType": "float32",
         "type": "float"
        },
        {
         "name": "Gene_96",
         "rawType": "float32",
         "type": "float"
        },
        {
         "name": "Gene_97",
         "rawType": "float32",
         "type": "float"
        },
        {
         "name": "Gene_98",
         "rawType": "float32",
         "type": "float"
        },
        {
         "name": "Gene_99",
         "rawType": "float32",
         "type": "float"
        },
        {
         "name": "Gene_100",
         "rawType": "float32",
         "type": "float"
        },
        {
         "name": "Gene_101",
         "rawType": "float32",
         "type": "float"
        },
        {
         "name": "Gene_102",
         "rawType": "float32",
         "type": "float"
        },
        {
         "name": "Gene_103",
         "rawType": "float32",
         "type": "float"
        },
        {
         "name": "Gene_104",
         "rawType": "float32",
         "type": "float"
        },
        {
         "name": "Gene_105",
         "rawType": "float32",
         "type": "float"
        },
        {
         "name": "Gene_106",
         "rawType": "float32",
         "type": "float"
        },
        {
         "name": "Gene_107",
         "rawType": "float32",
         "type": "float"
        },
        {
         "name": "Gene_108",
         "rawType": "float32",
         "type": "float"
        },
        {
         "name": "Gene_109",
         "rawType": "float32",
         "type": "float"
        },
        {
         "name": "Gene_110",
         "rawType": "float32",
         "type": "float"
        },
        {
         "name": "Gene_111",
         "rawType": "float32",
         "type": "float"
        },
        {
         "name": "Gene_112",
         "rawType": "float32",
         "type": "float"
        },
        {
         "name": "Gene_113",
         "rawType": "float32",
         "type": "float"
        },
        {
         "name": "Gene_114",
         "rawType": "float32",
         "type": "float"
        },
        {
         "name": "Gene_115",
         "rawType": "float32",
         "type": "float"
        },
        {
         "name": "Gene_116",
         "rawType": "float32",
         "type": "float"
        },
        {
         "name": "Gene_117",
         "rawType": "float32",
         "type": "float"
        },
        {
         "name": "Gene_118",
         "rawType": "float32",
         "type": "float"
        },
        {
         "name": "Gene_119",
         "rawType": "float32",
         "type": "float"
        },
        {
         "name": "Gene_120",
         "rawType": "float32",
         "type": "float"
        },
        {
         "name": "Gene_121",
         "rawType": "float32",
         "type": "float"
        },
        {
         "name": "Gene_122",
         "rawType": "float32",
         "type": "float"
        },
        {
         "name": "Gene_123",
         "rawType": "float32",
         "type": "float"
        },
        {
         "name": "Gene_124",
         "rawType": "float32",
         "type": "float"
        },
        {
         "name": "Gene_125",
         "rawType": "float32",
         "type": "float"
        },
        {
         "name": "Gene_126",
         "rawType": "float32",
         "type": "float"
        },
        {
         "name": "Gene_127",
         "rawType": "float32",
         "type": "float"
        },
        {
         "name": "Gene_128",
         "rawType": "float32",
         "type": "float"
        },
        {
         "name": "Gene_129",
         "rawType": "float32",
         "type": "float"
        },
        {
         "name": "Gene_130",
         "rawType": "float32",
         "type": "float"
        },
        {
         "name": "Gene_131",
         "rawType": "float32",
         "type": "float"
        },
        {
         "name": "Gene_132",
         "rawType": "float32",
         "type": "float"
        },
        {
         "name": "Gene_133",
         "rawType": "float32",
         "type": "float"
        },
        {
         "name": "Gene_134",
         "rawType": "float32",
         "type": "float"
        },
        {
         "name": "Gene_135",
         "rawType": "float32",
         "type": "float"
        },
        {
         "name": "Gene_136",
         "rawType": "float32",
         "type": "float"
        },
        {
         "name": "Gene_137",
         "rawType": "float32",
         "type": "float"
        },
        {
         "name": "Gene_138",
         "rawType": "float32",
         "type": "float"
        },
        {
         "name": "Gene_139",
         "rawType": "float32",
         "type": "float"
        },
        {
         "name": "Gene_140",
         "rawType": "float32",
         "type": "float"
        },
        {
         "name": "Gene_141",
         "rawType": "float32",
         "type": "float"
        },
        {
         "name": "Gene_142",
         "rawType": "float32",
         "type": "float"
        },
        {
         "name": "Gene_143",
         "rawType": "float32",
         "type": "float"
        },
        {
         "name": "Gene_144",
         "rawType": "float32",
         "type": "float"
        },
        {
         "name": "Gene_145",
         "rawType": "float32",
         "type": "float"
        },
        {
         "name": "Gene_146",
         "rawType": "float32",
         "type": "float"
        },
        {
         "name": "Gene_147",
         "rawType": "float32",
         "type": "float"
        },
        {
         "name": "Gene_148",
         "rawType": "float32",
         "type": "float"
        },
        {
         "name": "Gene_149",
         "rawType": "float32",
         "type": "float"
        },
        {
         "name": "Gene_150",
         "rawType": "float32",
         "type": "float"
        },
        {
         "name": "Gene_151",
         "rawType": "float32",
         "type": "float"
        },
        {
         "name": "Gene_152",
         "rawType": "float32",
         "type": "float"
        },
        {
         "name": "Gene_153",
         "rawType": "float32",
         "type": "float"
        },
        {
         "name": "Gene_154",
         "rawType": "float32",
         "type": "float"
        },
        {
         "name": "Gene_155",
         "rawType": "float32",
         "type": "float"
        },
        {
         "name": "Gene_156",
         "rawType": "float32",
         "type": "float"
        },
        {
         "name": "Gene_157",
         "rawType": "float32",
         "type": "float"
        },
        {
         "name": "Gene_158",
         "rawType": "float32",
         "type": "float"
        },
        {
         "name": "Gene_159",
         "rawType": "float32",
         "type": "float"
        },
        {
         "name": "Gene_160",
         "rawType": "float32",
         "type": "float"
        },
        {
         "name": "Gene_161",
         "rawType": "float32",
         "type": "float"
        },
        {
         "name": "Gene_162",
         "rawType": "float32",
         "type": "float"
        },
        {
         "name": "Gene_163",
         "rawType": "float32",
         "type": "float"
        },
        {
         "name": "Gene_164",
         "rawType": "float32",
         "type": "float"
        },
        {
         "name": "Gene_165",
         "rawType": "float32",
         "type": "float"
        },
        {
         "name": "Gene_166",
         "rawType": "float32",
         "type": "float"
        },
        {
         "name": "Gene_167",
         "rawType": "float32",
         "type": "float"
        },
        {
         "name": "Gene_168",
         "rawType": "float32",
         "type": "float"
        },
        {
         "name": "Gene_169",
         "rawType": "float32",
         "type": "float"
        },
        {
         "name": "Gene_170",
         "rawType": "float32",
         "type": "float"
        },
        {
         "name": "Gene_171",
         "rawType": "float32",
         "type": "float"
        },
        {
         "name": "Gene_172",
         "rawType": "float32",
         "type": "float"
        },
        {
         "name": "Gene_173",
         "rawType": "float32",
         "type": "float"
        },
        {
         "name": "Gene_174",
         "rawType": "float32",
         "type": "float"
        },
        {
         "name": "Gene_175",
         "rawType": "float32",
         "type": "float"
        },
        {
         "name": "Gene_176",
         "rawType": "float32",
         "type": "float"
        },
        {
         "name": "Gene_177",
         "rawType": "float32",
         "type": "float"
        },
        {
         "name": "Gene_178",
         "rawType": "float32",
         "type": "float"
        },
        {
         "name": "Gene_179",
         "rawType": "float32",
         "type": "float"
        },
        {
         "name": "Gene_180",
         "rawType": "float32",
         "type": "float"
        },
        {
         "name": "Gene_181",
         "rawType": "float32",
         "type": "float"
        },
        {
         "name": "Gene_182",
         "rawType": "float32",
         "type": "float"
        },
        {
         "name": "Gene_183",
         "rawType": "float32",
         "type": "float"
        },
        {
         "name": "Gene_184",
         "rawType": "float32",
         "type": "float"
        },
        {
         "name": "Gene_185",
         "rawType": "float32",
         "type": "float"
        },
        {
         "name": "Gene_186",
         "rawType": "float32",
         "type": "float"
        },
        {
         "name": "Gene_187",
         "rawType": "float32",
         "type": "float"
        },
        {
         "name": "Gene_188",
         "rawType": "float32",
         "type": "float"
        },
        {
         "name": "Gene_189",
         "rawType": "float32",
         "type": "float"
        },
        {
         "name": "Gene_190",
         "rawType": "float32",
         "type": "float"
        },
        {
         "name": "Gene_191",
         "rawType": "float32",
         "type": "float"
        },
        {
         "name": "Gene_192",
         "rawType": "float32",
         "type": "float"
        },
        {
         "name": "Gene_193",
         "rawType": "float32",
         "type": "float"
        },
        {
         "name": "Gene_194",
         "rawType": "float32",
         "type": "float"
        },
        {
         "name": "Gene_195",
         "rawType": "float32",
         "type": "float"
        },
        {
         "name": "Gene_196",
         "rawType": "float32",
         "type": "float"
        },
        {
         "name": "Gene_197",
         "rawType": "float32",
         "type": "float"
        },
        {
         "name": "Gene_198",
         "rawType": "float32",
         "type": "float"
        },
        {
         "name": "Gene_199",
         "rawType": "float32",
         "type": "float"
        },
        {
         "name": "Gene_200",
         "rawType": "float32",
         "type": "float"
        },
        {
         "name": "Gene_201",
         "rawType": "float32",
         "type": "float"
        },
        {
         "name": "Gene_202",
         "rawType": "float32",
         "type": "float"
        },
        {
         "name": "Gene_203",
         "rawType": "float32",
         "type": "float"
        },
        {
         "name": "Gene_204",
         "rawType": "float32",
         "type": "float"
        },
        {
         "name": "Gene_205",
         "rawType": "float32",
         "type": "float"
        },
        {
         "name": "Gene_206",
         "rawType": "float32",
         "type": "float"
        },
        {
         "name": "Gene_207",
         "rawType": "float32",
         "type": "float"
        },
        {
         "name": "Gene_208",
         "rawType": "float32",
         "type": "float"
        },
        {
         "name": "Gene_209",
         "rawType": "float32",
         "type": "float"
        },
        {
         "name": "Gene_210",
         "rawType": "float32",
         "type": "float"
        },
        {
         "name": "Gene_211",
         "rawType": "float32",
         "type": "float"
        },
        {
         "name": "Gene_212",
         "rawType": "float32",
         "type": "float"
        },
        {
         "name": "Gene_213",
         "rawType": "float32",
         "type": "float"
        },
        {
         "name": "Gene_214",
         "rawType": "float32",
         "type": "float"
        },
        {
         "name": "Gene_215",
         "rawType": "float32",
         "type": "float"
        },
        {
         "name": "Gene_216",
         "rawType": "float32",
         "type": "float"
        },
        {
         "name": "Gene_217",
         "rawType": "float32",
         "type": "float"
        },
        {
         "name": "Gene_218",
         "rawType": "float32",
         "type": "float"
        },
        {
         "name": "Gene_219",
         "rawType": "float32",
         "type": "float"
        },
        {
         "name": "Gene_220",
         "rawType": "float32",
         "type": "float"
        },
        {
         "name": "Gene_221",
         "rawType": "float32",
         "type": "float"
        },
        {
         "name": "Gene_222",
         "rawType": "float32",
         "type": "float"
        },
        {
         "name": "Gene_223",
         "rawType": "float32",
         "type": "float"
        },
        {
         "name": "Gene_224",
         "rawType": "float32",
         "type": "float"
        },
        {
         "name": "Gene_225",
         "rawType": "float32",
         "type": "float"
        },
        {
         "name": "Gene_226",
         "rawType": "float32",
         "type": "float"
        },
        {
         "name": "Gene_227",
         "rawType": "float32",
         "type": "float"
        },
        {
         "name": "Gene_228",
         "rawType": "float32",
         "type": "float"
        },
        {
         "name": "Gene_229",
         "rawType": "float32",
         "type": "float"
        },
        {
         "name": "Gene_230",
         "rawType": "float32",
         "type": "float"
        },
        {
         "name": "Gene_231",
         "rawType": "float32",
         "type": "float"
        },
        {
         "name": "Gene_232",
         "rawType": "float32",
         "type": "float"
        },
        {
         "name": "Gene_233",
         "rawType": "float32",
         "type": "float"
        },
        {
         "name": "Gene_234",
         "rawType": "float32",
         "type": "float"
        },
        {
         "name": "Gene_235",
         "rawType": "float32",
         "type": "float"
        },
        {
         "name": "Gene_236",
         "rawType": "float32",
         "type": "float"
        },
        {
         "name": "Gene_237",
         "rawType": "float32",
         "type": "float"
        },
        {
         "name": "Gene_238",
         "rawType": "float32",
         "type": "float"
        },
        {
         "name": "Gene_239",
         "rawType": "float32",
         "type": "float"
        },
        {
         "name": "Gene_240",
         "rawType": "float32",
         "type": "float"
        },
        {
         "name": "Gene_241",
         "rawType": "float32",
         "type": "float"
        },
        {
         "name": "Gene_242",
         "rawType": "float32",
         "type": "float"
        },
        {
         "name": "Gene_243",
         "rawType": "float32",
         "type": "float"
        },
        {
         "name": "Gene_244",
         "rawType": "float32",
         "type": "float"
        },
        {
         "name": "Gene_245",
         "rawType": "float32",
         "type": "float"
        },
        {
         "name": "Gene_246",
         "rawType": "float32",
         "type": "float"
        },
        {
         "name": "Gene_247",
         "rawType": "float32",
         "type": "float"
        },
        {
         "name": "Gene_248",
         "rawType": "float32",
         "type": "float"
        },
        {
         "name": "Gene_249",
         "rawType": "float32",
         "type": "float"
        },
        {
         "name": "Gene_250",
         "rawType": "float32",
         "type": "float"
        },
        {
         "name": "Gene_251",
         "rawType": "float32",
         "type": "float"
        },
        {
         "name": "Gene_252",
         "rawType": "float32",
         "type": "float"
        },
        {
         "name": "Gene_253",
         "rawType": "float32",
         "type": "float"
        },
        {
         "name": "Gene_254",
         "rawType": "float32",
         "type": "float"
        },
        {
         "name": "Gene_255",
         "rawType": "float32",
         "type": "float"
        },
        {
         "name": "Gene_256",
         "rawType": "float32",
         "type": "float"
        },
        {
         "name": "Gene_257",
         "rawType": "float32",
         "type": "float"
        },
        {
         "name": "Gene_258",
         "rawType": "float32",
         "type": "float"
        },
        {
         "name": "Gene_259",
         "rawType": "float32",
         "type": "float"
        },
        {
         "name": "Gene_260",
         "rawType": "float32",
         "type": "float"
        },
        {
         "name": "Gene_261",
         "rawType": "float32",
         "type": "float"
        },
        {
         "name": "Gene_262",
         "rawType": "float32",
         "type": "float"
        },
        {
         "name": "Gene_263",
         "rawType": "float32",
         "type": "float"
        },
        {
         "name": "Gene_264",
         "rawType": "float32",
         "type": "float"
        },
        {
         "name": "Gene_265",
         "rawType": "float32",
         "type": "float"
        },
        {
         "name": "Gene_266",
         "rawType": "float32",
         "type": "float"
        },
        {
         "name": "Gene_267",
         "rawType": "float32",
         "type": "float"
        },
        {
         "name": "Gene_268",
         "rawType": "float32",
         "type": "float"
        },
        {
         "name": "Gene_269",
         "rawType": "float32",
         "type": "float"
        },
        {
         "name": "Gene_270",
         "rawType": "float32",
         "type": "float"
        },
        {
         "name": "Gene_271",
         "rawType": "float32",
         "type": "float"
        },
        {
         "name": "Gene_272",
         "rawType": "float32",
         "type": "float"
        },
        {
         "name": "Gene_273",
         "rawType": "float32",
         "type": "float"
        },
        {
         "name": "Gene_274",
         "rawType": "float32",
         "type": "float"
        },
        {
         "name": "Gene_275",
         "rawType": "float32",
         "type": "float"
        },
        {
         "name": "Gene_276",
         "rawType": "float32",
         "type": "float"
        },
        {
         "name": "Gene_277",
         "rawType": "float32",
         "type": "float"
        },
        {
         "name": "Gene_278",
         "rawType": "float32",
         "type": "float"
        },
        {
         "name": "Gene_279",
         "rawType": "float32",
         "type": "float"
        },
        {
         "name": "Gene_280",
         "rawType": "float32",
         "type": "float"
        },
        {
         "name": "Gene_281",
         "rawType": "float32",
         "type": "float"
        },
        {
         "name": "Gene_282",
         "rawType": "float32",
         "type": "float"
        },
        {
         "name": "Gene_283",
         "rawType": "float32",
         "type": "float"
        },
        {
         "name": "Gene_284",
         "rawType": "float32",
         "type": "float"
        },
        {
         "name": "Gene_285",
         "rawType": "float32",
         "type": "float"
        },
        {
         "name": "Gene_286",
         "rawType": "float32",
         "type": "float"
        },
        {
         "name": "Gene_287",
         "rawType": "float32",
         "type": "float"
        },
        {
         "name": "Gene_288",
         "rawType": "float32",
         "type": "float"
        },
        {
         "name": "Gene_289",
         "rawType": "float32",
         "type": "float"
        },
        {
         "name": "Gene_290",
         "rawType": "float32",
         "type": "float"
        },
        {
         "name": "Gene_291",
         "rawType": "float32",
         "type": "float"
        },
        {
         "name": "Gene_292",
         "rawType": "float32",
         "type": "float"
        },
        {
         "name": "Gene_293",
         "rawType": "float32",
         "type": "float"
        },
        {
         "name": "Gene_294",
         "rawType": "float32",
         "type": "float"
        },
        {
         "name": "Gene_295",
         "rawType": "float32",
         "type": "float"
        },
        {
         "name": "Gene_296",
         "rawType": "float32",
         "type": "float"
        },
        {
         "name": "Gene_297",
         "rawType": "float32",
         "type": "float"
        },
        {
         "name": "Gene_298",
         "rawType": "float32",
         "type": "float"
        },
        {
         "name": "Gene_299",
         "rawType": "float32",
         "type": "float"
        },
        {
         "name": "Gene_300",
         "rawType": "float32",
         "type": "float"
        },
        {
         "name": "Gene_301",
         "rawType": "float32",
         "type": "float"
        },
        {
         "name": "Gene_302",
         "rawType": "float32",
         "type": "float"
        },
        {
         "name": "Gene_303",
         "rawType": "float32",
         "type": "float"
        },
        {
         "name": "Gene_304",
         "rawType": "float32",
         "type": "float"
        },
        {
         "name": "Gene_305",
         "rawType": "float32",
         "type": "float"
        },
        {
         "name": "Gene_306",
         "rawType": "float32",
         "type": "float"
        },
        {
         "name": "Gene_307",
         "rawType": "float32",
         "type": "float"
        },
        {
         "name": "Gene_308",
         "rawType": "float32",
         "type": "float"
        },
        {
         "name": "Gene_309",
         "rawType": "float32",
         "type": "float"
        },
        {
         "name": "Gene_310",
         "rawType": "float32",
         "type": "float"
        },
        {
         "name": "Gene_311",
         "rawType": "float32",
         "type": "float"
        },
        {
         "name": "Gene_312",
         "rawType": "float32",
         "type": "float"
        },
        {
         "name": "Gene_313",
         "rawType": "float32",
         "type": "float"
        },
        {
         "name": "Gene_314",
         "rawType": "float32",
         "type": "float"
        },
        {
         "name": "Gene_315",
         "rawType": "float32",
         "type": "float"
        },
        {
         "name": "Gene_316",
         "rawType": "float32",
         "type": "float"
        },
        {
         "name": "Gene_317",
         "rawType": "float32",
         "type": "float"
        },
        {
         "name": "Gene_318",
         "rawType": "float32",
         "type": "float"
        },
        {
         "name": "Gene_319",
         "rawType": "float32",
         "type": "float"
        },
        {
         "name": "Gene_320",
         "rawType": "float32",
         "type": "float"
        },
        {
         "name": "Gene_321",
         "rawType": "float32",
         "type": "float"
        },
        {
         "name": "Gene_322",
         "rawType": "float32",
         "type": "float"
        },
        {
         "name": "Gene_323",
         "rawType": "float32",
         "type": "float"
        },
        {
         "name": "Gene_324",
         "rawType": "float32",
         "type": "float"
        },
        {
         "name": "Gene_325",
         "rawType": "float32",
         "type": "float"
        },
        {
         "name": "Gene_326",
         "rawType": "float32",
         "type": "float"
        },
        {
         "name": "Gene_327",
         "rawType": "float32",
         "type": "float"
        },
        {
         "name": "Gene_328",
         "rawType": "float32",
         "type": "float"
        },
        {
         "name": "Gene_329",
         "rawType": "float32",
         "type": "float"
        },
        {
         "name": "Gene_330",
         "rawType": "float32",
         "type": "float"
        },
        {
         "name": "Gene_331",
         "rawType": "float32",
         "type": "float"
        },
        {
         "name": "Gene_332",
         "rawType": "float32",
         "type": "float"
        },
        {
         "name": "Gene_333",
         "rawType": "float32",
         "type": "float"
        },
        {
         "name": "Gene_334",
         "rawType": "float32",
         "type": "float"
        },
        {
         "name": "Gene_335",
         "rawType": "float32",
         "type": "float"
        },
        {
         "name": "Gene_336",
         "rawType": "float32",
         "type": "float"
        },
        {
         "name": "Gene_337",
         "rawType": "float32",
         "type": "float"
        },
        {
         "name": "Gene_338",
         "rawType": "float32",
         "type": "float"
        },
        {
         "name": "Gene_339",
         "rawType": "float32",
         "type": "float"
        },
        {
         "name": "Gene_340",
         "rawType": "float32",
         "type": "float"
        },
        {
         "name": "Gene_341",
         "rawType": "float32",
         "type": "float"
        },
        {
         "name": "Gene_342",
         "rawType": "float32",
         "type": "float"
        },
        {
         "name": "Gene_343",
         "rawType": "float32",
         "type": "float"
        },
        {
         "name": "Gene_344",
         "rawType": "float32",
         "type": "float"
        },
        {
         "name": "Gene_345",
         "rawType": "float32",
         "type": "float"
        },
        {
         "name": "Gene_346",
         "rawType": "float32",
         "type": "float"
        },
        {
         "name": "Gene_347",
         "rawType": "float32",
         "type": "float"
        },
        {
         "name": "Gene_348",
         "rawType": "float32",
         "type": "float"
        },
        {
         "name": "Gene_349",
         "rawType": "float32",
         "type": "float"
        },
        {
         "name": "Gene_350",
         "rawType": "float32",
         "type": "float"
        },
        {
         "name": "Gene_351",
         "rawType": "float32",
         "type": "float"
        },
        {
         "name": "Gene_352",
         "rawType": "float32",
         "type": "float"
        },
        {
         "name": "Gene_353",
         "rawType": "float32",
         "type": "float"
        },
        {
         "name": "Gene_354",
         "rawType": "float32",
         "type": "float"
        },
        {
         "name": "Gene_355",
         "rawType": "float32",
         "type": "float"
        },
        {
         "name": "Gene_356",
         "rawType": "float32",
         "type": "float"
        },
        {
         "name": "Gene_357",
         "rawType": "float32",
         "type": "float"
        },
        {
         "name": "Gene_358",
         "rawType": "float32",
         "type": "float"
        },
        {
         "name": "Gene_359",
         "rawType": "float32",
         "type": "float"
        },
        {
         "name": "Gene_360",
         "rawType": "float32",
         "type": "float"
        },
        {
         "name": "Gene_361",
         "rawType": "float32",
         "type": "float"
        },
        {
         "name": "Gene_362",
         "rawType": "float32",
         "type": "float"
        },
        {
         "name": "Gene_363",
         "rawType": "float32",
         "type": "float"
        },
        {
         "name": "Gene_364",
         "rawType": "float32",
         "type": "float"
        },
        {
         "name": "Gene_365",
         "rawType": "float32",
         "type": "float"
        },
        {
         "name": "Gene_366",
         "rawType": "float32",
         "type": "float"
        },
        {
         "name": "Gene_367",
         "rawType": "float32",
         "type": "float"
        },
        {
         "name": "Gene_368",
         "rawType": "float32",
         "type": "float"
        },
        {
         "name": "Gene_369",
         "rawType": "float32",
         "type": "float"
        },
        {
         "name": "Gene_370",
         "rawType": "float32",
         "type": "float"
        },
        {
         "name": "Gene_371",
         "rawType": "float32",
         "type": "float"
        },
        {
         "name": "Gene_372",
         "rawType": "float32",
         "type": "float"
        },
        {
         "name": "Gene_373",
         "rawType": "float32",
         "type": "float"
        },
        {
         "name": "Gene_374",
         "rawType": "float32",
         "type": "float"
        },
        {
         "name": "Gene_375",
         "rawType": "float32",
         "type": "float"
        },
        {
         "name": "Gene_376",
         "rawType": "float32",
         "type": "float"
        },
        {
         "name": "Gene_377",
         "rawType": "float32",
         "type": "float"
        },
        {
         "name": "Gene_378",
         "rawType": "float32",
         "type": "float"
        },
        {
         "name": "Gene_379",
         "rawType": "float32",
         "type": "float"
        },
        {
         "name": "Gene_380",
         "rawType": "float32",
         "type": "float"
        },
        {
         "name": "Gene_381",
         "rawType": "float32",
         "type": "float"
        },
        {
         "name": "Gene_382",
         "rawType": "float32",
         "type": "float"
        },
        {
         "name": "Gene_383",
         "rawType": "float32",
         "type": "float"
        },
        {
         "name": "Gene_384",
         "rawType": "float32",
         "type": "float"
        },
        {
         "name": "Gene_385",
         "rawType": "float32",
         "type": "float"
        },
        {
         "name": "Gene_386",
         "rawType": "float32",
         "type": "float"
        },
        {
         "name": "Gene_387",
         "rawType": "float32",
         "type": "float"
        },
        {
         "name": "Gene_388",
         "rawType": "float32",
         "type": "float"
        },
        {
         "name": "Gene_389",
         "rawType": "float32",
         "type": "float"
        },
        {
         "name": "Gene_390",
         "rawType": "float32",
         "type": "float"
        },
        {
         "name": "Gene_391",
         "rawType": "float32",
         "type": "float"
        },
        {
         "name": "Gene_392",
         "rawType": "float32",
         "type": "float"
        },
        {
         "name": "Gene_393",
         "rawType": "float32",
         "type": "float"
        },
        {
         "name": "Gene_394",
         "rawType": "float32",
         "type": "float"
        },
        {
         "name": "Gene_395",
         "rawType": "float32",
         "type": "float"
        },
        {
         "name": "Gene_396",
         "rawType": "float32",
         "type": "float"
        },
        {
         "name": "Gene_397",
         "rawType": "float32",
         "type": "float"
        },
        {
         "name": "Gene_398",
         "rawType": "float32",
         "type": "float"
        },
        {
         "name": "Gene_399",
         "rawType": "float32",
         "type": "float"
        },
        {
         "name": "Gene_400",
         "rawType": "float32",
         "type": "float"
        },
        {
         "name": "Gene_401",
         "rawType": "float32",
         "type": "float"
        },
        {
         "name": "Gene_402",
         "rawType": "float32",
         "type": "float"
        },
        {
         "name": "Gene_403",
         "rawType": "float32",
         "type": "float"
        },
        {
         "name": "Gene_404",
         "rawType": "float32",
         "type": "float"
        },
        {
         "name": "Gene_405",
         "rawType": "float32",
         "type": "float"
        },
        {
         "name": "Gene_406",
         "rawType": "float32",
         "type": "float"
        },
        {
         "name": "Gene_407",
         "rawType": "float32",
         "type": "float"
        },
        {
         "name": "Gene_408",
         "rawType": "float32",
         "type": "float"
        },
        {
         "name": "Gene_409",
         "rawType": "float32",
         "type": "float"
        },
        {
         "name": "Gene_410",
         "rawType": "float32",
         "type": "float"
        },
        {
         "name": "Gene_411",
         "rawType": "float32",
         "type": "float"
        },
        {
         "name": "Gene_412",
         "rawType": "float32",
         "type": "float"
        },
        {
         "name": "Gene_413",
         "rawType": "float32",
         "type": "float"
        },
        {
         "name": "Gene_414",
         "rawType": "float32",
         "type": "float"
        },
        {
         "name": "Gene_415",
         "rawType": "float32",
         "type": "float"
        },
        {
         "name": "Gene_416",
         "rawType": "float32",
         "type": "float"
        },
        {
         "name": "Gene_417",
         "rawType": "float32",
         "type": "float"
        },
        {
         "name": "Gene_418",
         "rawType": "float32",
         "type": "float"
        },
        {
         "name": "Gene_419",
         "rawType": "float32",
         "type": "float"
        },
        {
         "name": "Gene_420",
         "rawType": "float32",
         "type": "float"
        },
        {
         "name": "Gene_421",
         "rawType": "float32",
         "type": "float"
        },
        {
         "name": "Gene_422",
         "rawType": "float32",
         "type": "float"
        },
        {
         "name": "Gene_423",
         "rawType": "float32",
         "type": "float"
        },
        {
         "name": "Gene_424",
         "rawType": "float32",
         "type": "float"
        },
        {
         "name": "Gene_425",
         "rawType": "float32",
         "type": "float"
        },
        {
         "name": "Gene_426",
         "rawType": "float32",
         "type": "float"
        },
        {
         "name": "Gene_427",
         "rawType": "float32",
         "type": "float"
        },
        {
         "name": "Gene_428",
         "rawType": "float32",
         "type": "float"
        },
        {
         "name": "Gene_429",
         "rawType": "float32",
         "type": "float"
        },
        {
         "name": "Gene_430",
         "rawType": "float32",
         "type": "float"
        },
        {
         "name": "Gene_431",
         "rawType": "float32",
         "type": "float"
        },
        {
         "name": "Gene_432",
         "rawType": "float32",
         "type": "float"
        },
        {
         "name": "Gene_433",
         "rawType": "float32",
         "type": "float"
        },
        {
         "name": "Gene_434",
         "rawType": "float32",
         "type": "float"
        },
        {
         "name": "Gene_435",
         "rawType": "float32",
         "type": "float"
        },
        {
         "name": "Gene_436",
         "rawType": "float32",
         "type": "float"
        },
        {
         "name": "Gene_437",
         "rawType": "float32",
         "type": "float"
        },
        {
         "name": "Gene_438",
         "rawType": "float32",
         "type": "float"
        },
        {
         "name": "Gene_439",
         "rawType": "float32",
         "type": "float"
        },
        {
         "name": "Gene_440",
         "rawType": "float32",
         "type": "float"
        },
        {
         "name": "Gene_441",
         "rawType": "float32",
         "type": "float"
        },
        {
         "name": "Gene_442",
         "rawType": "float32",
         "type": "float"
        },
        {
         "name": "Gene_443",
         "rawType": "float32",
         "type": "float"
        },
        {
         "name": "Gene_444",
         "rawType": "float32",
         "type": "float"
        },
        {
         "name": "Gene_445",
         "rawType": "float32",
         "type": "float"
        },
        {
         "name": "Gene_446",
         "rawType": "float32",
         "type": "float"
        },
        {
         "name": "Gene_447",
         "rawType": "float32",
         "type": "float"
        },
        {
         "name": "Gene_448",
         "rawType": "float32",
         "type": "float"
        },
        {
         "name": "Gene_449",
         "rawType": "float32",
         "type": "float"
        },
        {
         "name": "Gene_450",
         "rawType": "float32",
         "type": "float"
        },
        {
         "name": "Gene_451",
         "rawType": "float32",
         "type": "float"
        },
        {
         "name": "Gene_452",
         "rawType": "float32",
         "type": "float"
        },
        {
         "name": "Gene_453",
         "rawType": "float32",
         "type": "float"
        },
        {
         "name": "Gene_454",
         "rawType": "float32",
         "type": "float"
        },
        {
         "name": "Gene_455",
         "rawType": "float32",
         "type": "float"
        },
        {
         "name": "Gene_456",
         "rawType": "float32",
         "type": "float"
        },
        {
         "name": "Gene_457",
         "rawType": "float32",
         "type": "float"
        },
        {
         "name": "Gene_458",
         "rawType": "float32",
         "type": "float"
        },
        {
         "name": "Gene_459",
         "rawType": "float32",
         "type": "float"
        },
        {
         "name": "Gene_460",
         "rawType": "float32",
         "type": "float"
        },
        {
         "name": "Gene_461",
         "rawType": "float32",
         "type": "float"
        },
        {
         "name": "Gene_462",
         "rawType": "float32",
         "type": "float"
        },
        {
         "name": "Gene_463",
         "rawType": "float32",
         "type": "float"
        },
        {
         "name": "Gene_464",
         "rawType": "float32",
         "type": "float"
        },
        {
         "name": "Gene_465",
         "rawType": "float32",
         "type": "float"
        },
        {
         "name": "Gene_466",
         "rawType": "float32",
         "type": "float"
        },
        {
         "name": "Gene_467",
         "rawType": "float32",
         "type": "float"
        },
        {
         "name": "Gene_468",
         "rawType": "float32",
         "type": "float"
        },
        {
         "name": "Gene_469",
         "rawType": "float32",
         "type": "float"
        },
        {
         "name": "Gene_470",
         "rawType": "float32",
         "type": "float"
        },
        {
         "name": "Gene_471",
         "rawType": "float32",
         "type": "float"
        },
        {
         "name": "Gene_472",
         "rawType": "float32",
         "type": "float"
        },
        {
         "name": "Gene_473",
         "rawType": "float32",
         "type": "float"
        },
        {
         "name": "Gene_474",
         "rawType": "float32",
         "type": "float"
        },
        {
         "name": "Gene_475",
         "rawType": "float32",
         "type": "float"
        },
        {
         "name": "Gene_476",
         "rawType": "float32",
         "type": "float"
        },
        {
         "name": "Gene_477",
         "rawType": "float32",
         "type": "float"
        },
        {
         "name": "Gene_478",
         "rawType": "float32",
         "type": "float"
        },
        {
         "name": "Gene_479",
         "rawType": "float32",
         "type": "float"
        },
        {
         "name": "Gene_480",
         "rawType": "float32",
         "type": "float"
        },
        {
         "name": "Gene_481",
         "rawType": "float32",
         "type": "float"
        },
        {
         "name": "Gene_482",
         "rawType": "float32",
         "type": "float"
        },
        {
         "name": "Gene_483",
         "rawType": "float32",
         "type": "float"
        },
        {
         "name": "Gene_484",
         "rawType": "float32",
         "type": "float"
        },
        {
         "name": "Gene_485",
         "rawType": "float32",
         "type": "float"
        },
        {
         "name": "Gene_486",
         "rawType": "float32",
         "type": "float"
        },
        {
         "name": "Gene_487",
         "rawType": "float32",
         "type": "float"
        },
        {
         "name": "Gene_488",
         "rawType": "float32",
         "type": "float"
        },
        {
         "name": "Gene_489",
         "rawType": "float32",
         "type": "float"
        },
        {
         "name": "Gene_490",
         "rawType": "float32",
         "type": "float"
        },
        {
         "name": "Gene_491",
         "rawType": "float32",
         "type": "float"
        },
        {
         "name": "Gene_492",
         "rawType": "float32",
         "type": "float"
        },
        {
         "name": "Gene_493",
         "rawType": "float32",
         "type": "float"
        },
        {
         "name": "Gene_494",
         "rawType": "float32",
         "type": "float"
        },
        {
         "name": "Gene_495",
         "rawType": "float32",
         "type": "float"
        },
        {
         "name": "Gene_496",
         "rawType": "float32",
         "type": "float"
        },
        {
         "name": "Gene_497",
         "rawType": "float32",
         "type": "float"
        },
        {
         "name": "Gene_498",
         "rawType": "float32",
         "type": "float"
        },
        {
         "name": "Gene_499",
         "rawType": "float32",
         "type": "float"
        },
        {
         "name": "Gene_500",
         "rawType": "float32",
         "type": "float"
        },
        {
         "name": "Gene_501",
         "rawType": "float32",
         "type": "float"
        },
        {
         "name": "Gene_502",
         "rawType": "float32",
         "type": "float"
        },
        {
         "name": "Gene_503",
         "rawType": "float32",
         "type": "float"
        },
        {
         "name": "Gene_504",
         "rawType": "float32",
         "type": "float"
        },
        {
         "name": "Gene_505",
         "rawType": "float32",
         "type": "float"
        },
        {
         "name": "Gene_506",
         "rawType": "float32",
         "type": "float"
        },
        {
         "name": "Gene_507",
         "rawType": "float32",
         "type": "float"
        },
        {
         "name": "Gene_508",
         "rawType": "float32",
         "type": "float"
        },
        {
         "name": "Gene_509",
         "rawType": "float32",
         "type": "float"
        },
        {
         "name": "Gene_510",
         "rawType": "float32",
         "type": "float"
        },
        {
         "name": "Gene_511",
         "rawType": "float32",
         "type": "float"
        },
        {
         "name": "Gene_512",
         "rawType": "float32",
         "type": "float"
        },
        {
         "name": "Gene_513",
         "rawType": "float32",
         "type": "float"
        },
        {
         "name": "Gene_514",
         "rawType": "float32",
         "type": "float"
        },
        {
         "name": "Gene_515",
         "rawType": "float32",
         "type": "float"
        },
        {
         "name": "Gene_516",
         "rawType": "float32",
         "type": "float"
        },
        {
         "name": "Gene_517",
         "rawType": "float32",
         "type": "float"
        },
        {
         "name": "Gene_518",
         "rawType": "float32",
         "type": "float"
        },
        {
         "name": "Gene_519",
         "rawType": "float32",
         "type": "float"
        },
        {
         "name": "Gene_520",
         "rawType": "float32",
         "type": "float"
        },
        {
         "name": "Gene_521",
         "rawType": "float32",
         "type": "float"
        },
        {
         "name": "Gene_522",
         "rawType": "float32",
         "type": "float"
        },
        {
         "name": "Gene_523",
         "rawType": "float32",
         "type": "float"
        },
        {
         "name": "Gene_524",
         "rawType": "float32",
         "type": "float"
        },
        {
         "name": "Gene_525",
         "rawType": "float32",
         "type": "float"
        },
        {
         "name": "Gene_526",
         "rawType": "float32",
         "type": "float"
        },
        {
         "name": "Gene_527",
         "rawType": "float32",
         "type": "float"
        },
        {
         "name": "Gene_528",
         "rawType": "float32",
         "type": "float"
        },
        {
         "name": "Gene_529",
         "rawType": "float32",
         "type": "float"
        },
        {
         "name": "Gene_530",
         "rawType": "float32",
         "type": "float"
        },
        {
         "name": "Gene_531",
         "rawType": "float32",
         "type": "float"
        },
        {
         "name": "Gene_532",
         "rawType": "float32",
         "type": "float"
        },
        {
         "name": "Gene_533",
         "rawType": "float32",
         "type": "float"
        },
        {
         "name": "Gene_534",
         "rawType": "float32",
         "type": "float"
        },
        {
         "name": "Gene_535",
         "rawType": "float32",
         "type": "float"
        },
        {
         "name": "Gene_536",
         "rawType": "float32",
         "type": "float"
        },
        {
         "name": "Gene_537",
         "rawType": "float32",
         "type": "float"
        },
        {
         "name": "Gene_538",
         "rawType": "float32",
         "type": "float"
        },
        {
         "name": "Gene_539",
         "rawType": "float32",
         "type": "float"
        },
        {
         "name": "Gene_540",
         "rawType": "float32",
         "type": "float"
        },
        {
         "name": "Gene_541",
         "rawType": "float32",
         "type": "float"
        },
        {
         "name": "Gene_542",
         "rawType": "float32",
         "type": "float"
        },
        {
         "name": "Gene_543",
         "rawType": "float32",
         "type": "float"
        },
        {
         "name": "Gene_544",
         "rawType": "float32",
         "type": "float"
        },
        {
         "name": "Gene_545",
         "rawType": "float32",
         "type": "float"
        },
        {
         "name": "Gene_546",
         "rawType": "float32",
         "type": "float"
        },
        {
         "name": "Gene_547",
         "rawType": "float32",
         "type": "float"
        },
        {
         "name": "Gene_548",
         "rawType": "float32",
         "type": "float"
        },
        {
         "name": "Gene_549",
         "rawType": "float32",
         "type": "float"
        },
        {
         "name": "Gene_550",
         "rawType": "float32",
         "type": "float"
        },
        {
         "name": "Gene_551",
         "rawType": "float32",
         "type": "float"
        },
        {
         "name": "Gene_552",
         "rawType": "float32",
         "type": "float"
        },
        {
         "name": "Gene_553",
         "rawType": "float32",
         "type": "float"
        },
        {
         "name": "Gene_554",
         "rawType": "float32",
         "type": "float"
        },
        {
         "name": "Gene_555",
         "rawType": "float32",
         "type": "float"
        },
        {
         "name": "Gene_556",
         "rawType": "float32",
         "type": "float"
        },
        {
         "name": "Gene_557",
         "rawType": "float32",
         "type": "float"
        },
        {
         "name": "Gene_558",
         "rawType": "float32",
         "type": "float"
        },
        {
         "name": "Gene_559",
         "rawType": "float32",
         "type": "float"
        },
        {
         "name": "Gene_560",
         "rawType": "float32",
         "type": "float"
        },
        {
         "name": "Gene_561",
         "rawType": "float32",
         "type": "float"
        },
        {
         "name": "Gene_562",
         "rawType": "float32",
         "type": "float"
        },
        {
         "name": "Gene_563",
         "rawType": "float32",
         "type": "float"
        },
        {
         "name": "Gene_564",
         "rawType": "float32",
         "type": "float"
        },
        {
         "name": "Gene_565",
         "rawType": "float32",
         "type": "float"
        },
        {
         "name": "Gene_566",
         "rawType": "float32",
         "type": "float"
        },
        {
         "name": "Gene_567",
         "rawType": "float32",
         "type": "float"
        },
        {
         "name": "Gene_568",
         "rawType": "float32",
         "type": "float"
        },
        {
         "name": "Gene_569",
         "rawType": "float32",
         "type": "float"
        },
        {
         "name": "Gene_570",
         "rawType": "float32",
         "type": "float"
        },
        {
         "name": "Gene_571",
         "rawType": "float32",
         "type": "float"
        },
        {
         "name": "Gene_572",
         "rawType": "float32",
         "type": "float"
        },
        {
         "name": "Gene_573",
         "rawType": "float32",
         "type": "float"
        },
        {
         "name": "Gene_574",
         "rawType": "float32",
         "type": "float"
        },
        {
         "name": "Gene_575",
         "rawType": "float32",
         "type": "float"
        },
        {
         "name": "Gene_576",
         "rawType": "float32",
         "type": "float"
        },
        {
         "name": "Gene_577",
         "rawType": "float32",
         "type": "float"
        },
        {
         "name": "Gene_578",
         "rawType": "float32",
         "type": "float"
        },
        {
         "name": "Gene_579",
         "rawType": "float32",
         "type": "float"
        },
        {
         "name": "Gene_580",
         "rawType": "float32",
         "type": "float"
        },
        {
         "name": "Gene_581",
         "rawType": "float32",
         "type": "float"
        },
        {
         "name": "Gene_582",
         "rawType": "float32",
         "type": "float"
        },
        {
         "name": "Gene_583",
         "rawType": "float32",
         "type": "float"
        },
        {
         "name": "Gene_584",
         "rawType": "float32",
         "type": "float"
        },
        {
         "name": "Gene_585",
         "rawType": "float32",
         "type": "float"
        },
        {
         "name": "Gene_586",
         "rawType": "float32",
         "type": "float"
        },
        {
         "name": "Gene_587",
         "rawType": "float32",
         "type": "float"
        },
        {
         "name": "Gene_588",
         "rawType": "float32",
         "type": "float"
        },
        {
         "name": "Gene_589",
         "rawType": "float32",
         "type": "float"
        },
        {
         "name": "Gene_590",
         "rawType": "float32",
         "type": "float"
        },
        {
         "name": "Gene_591",
         "rawType": "float32",
         "type": "float"
        },
        {
         "name": "Gene_592",
         "rawType": "float32",
         "type": "float"
        },
        {
         "name": "Gene_593",
         "rawType": "float32",
         "type": "float"
        },
        {
         "name": "Gene_594",
         "rawType": "float32",
         "type": "float"
        },
        {
         "name": "Gene_595",
         "rawType": "float32",
         "type": "float"
        },
        {
         "name": "Gene_596",
         "rawType": "float32",
         "type": "float"
        },
        {
         "name": "Gene_597",
         "rawType": "float32",
         "type": "float"
        },
        {
         "name": "Gene_598",
         "rawType": "float32",
         "type": "float"
        },
        {
         "name": "Gene_599",
         "rawType": "float32",
         "type": "float"
        },
        {
         "name": "Gene_600",
         "rawType": "float32",
         "type": "float"
        },
        {
         "name": "Gene_601",
         "rawType": "float32",
         "type": "float"
        },
        {
         "name": "Gene_602",
         "rawType": "float32",
         "type": "float"
        },
        {
         "name": "Gene_603",
         "rawType": "float32",
         "type": "float"
        },
        {
         "name": "Gene_604",
         "rawType": "float32",
         "type": "float"
        },
        {
         "name": "Gene_605",
         "rawType": "float32",
         "type": "float"
        },
        {
         "name": "Gene_606",
         "rawType": "float32",
         "type": "float"
        },
        {
         "name": "Gene_607",
         "rawType": "float32",
         "type": "float"
        },
        {
         "name": "Gene_608",
         "rawType": "float32",
         "type": "float"
        },
        {
         "name": "Gene_609",
         "rawType": "float32",
         "type": "float"
        },
        {
         "name": "Gene_610",
         "rawType": "float32",
         "type": "float"
        },
        {
         "name": "Gene_611",
         "rawType": "float32",
         "type": "float"
        },
        {
         "name": "Gene_612",
         "rawType": "float32",
         "type": "float"
        },
        {
         "name": "Gene_613",
         "rawType": "float32",
         "type": "float"
        },
        {
         "name": "Gene_614",
         "rawType": "float32",
         "type": "float"
        },
        {
         "name": "Gene_615",
         "rawType": "float32",
         "type": "float"
        },
        {
         "name": "Gene_616",
         "rawType": "float32",
         "type": "float"
        },
        {
         "name": "Gene_617",
         "rawType": "float32",
         "type": "float"
        },
        {
         "name": "Gene_618",
         "rawType": "float32",
         "type": "float"
        },
        {
         "name": "Gene_619",
         "rawType": "float32",
         "type": "float"
        },
        {
         "name": "Gene_620",
         "rawType": "float32",
         "type": "float"
        },
        {
         "name": "Gene_621",
         "rawType": "float32",
         "type": "float"
        },
        {
         "name": "Gene_622",
         "rawType": "float32",
         "type": "float"
        },
        {
         "name": "Gene_623",
         "rawType": "float32",
         "type": "float"
        },
        {
         "name": "Gene_624",
         "rawType": "float32",
         "type": "float"
        },
        {
         "name": "Gene_625",
         "rawType": "float32",
         "type": "float"
        },
        {
         "name": "Gene_626",
         "rawType": "float32",
         "type": "float"
        },
        {
         "name": "Gene_627",
         "rawType": "float32",
         "type": "float"
        },
        {
         "name": "Gene_628",
         "rawType": "float32",
         "type": "float"
        },
        {
         "name": "Gene_629",
         "rawType": "float32",
         "type": "float"
        },
        {
         "name": "Gene_630",
         "rawType": "float32",
         "type": "float"
        },
        {
         "name": "Gene_631",
         "rawType": "float32",
         "type": "float"
        },
        {
         "name": "Gene_632",
         "rawType": "float32",
         "type": "float"
        },
        {
         "name": "Gene_633",
         "rawType": "float32",
         "type": "float"
        },
        {
         "name": "Gene_634",
         "rawType": "float32",
         "type": "float"
        },
        {
         "name": "Gene_635",
         "rawType": "float32",
         "type": "float"
        },
        {
         "name": "Gene_636",
         "rawType": "float32",
         "type": "float"
        },
        {
         "name": "Gene_637",
         "rawType": "float32",
         "type": "float"
        },
        {
         "name": "Gene_638",
         "rawType": "float32",
         "type": "float"
        },
        {
         "name": "Gene_639",
         "rawType": "float32",
         "type": "float"
        },
        {
         "name": "Gene_640",
         "rawType": "float32",
         "type": "float"
        },
        {
         "name": "Gene_641",
         "rawType": "float32",
         "type": "float"
        },
        {
         "name": "Gene_642",
         "rawType": "float32",
         "type": "float"
        },
        {
         "name": "Gene_643",
         "rawType": "float32",
         "type": "float"
        },
        {
         "name": "Gene_644",
         "rawType": "float32",
         "type": "float"
        },
        {
         "name": "Gene_645",
         "rawType": "float32",
         "type": "float"
        },
        {
         "name": "Gene_646",
         "rawType": "float32",
         "type": "float"
        },
        {
         "name": "Gene_647",
         "rawType": "float32",
         "type": "float"
        },
        {
         "name": "Gene_648",
         "rawType": "float32",
         "type": "float"
        },
        {
         "name": "Gene_649",
         "rawType": "float32",
         "type": "float"
        },
        {
         "name": "Gene_650",
         "rawType": "float32",
         "type": "float"
        },
        {
         "name": "Gene_651",
         "rawType": "float32",
         "type": "float"
        },
        {
         "name": "Gene_652",
         "rawType": "float32",
         "type": "float"
        },
        {
         "name": "Gene_653",
         "rawType": "float32",
         "type": "float"
        },
        {
         "name": "Gene_654",
         "rawType": "float32",
         "type": "float"
        },
        {
         "name": "Gene_655",
         "rawType": "float32",
         "type": "float"
        },
        {
         "name": "Gene_656",
         "rawType": "float32",
         "type": "float"
        },
        {
         "name": "Gene_657",
         "rawType": "float32",
         "type": "float"
        },
        {
         "name": "Gene_658",
         "rawType": "float32",
         "type": "float"
        },
        {
         "name": "Gene_659",
         "rawType": "float32",
         "type": "float"
        },
        {
         "name": "Gene_660",
         "rawType": "float32",
         "type": "float"
        },
        {
         "name": "Gene_661",
         "rawType": "float32",
         "type": "float"
        },
        {
         "name": "Gene_662",
         "rawType": "float32",
         "type": "float"
        },
        {
         "name": "Gene_663",
         "rawType": "float32",
         "type": "float"
        },
        {
         "name": "Gene_664",
         "rawType": "float32",
         "type": "float"
        },
        {
         "name": "Gene_665",
         "rawType": "float32",
         "type": "float"
        },
        {
         "name": "Gene_666",
         "rawType": "float32",
         "type": "float"
        },
        {
         "name": "Gene_667",
         "rawType": "float32",
         "type": "float"
        },
        {
         "name": "Gene_668",
         "rawType": "float32",
         "type": "float"
        },
        {
         "name": "Gene_669",
         "rawType": "float32",
         "type": "float"
        },
        {
         "name": "Gene_670",
         "rawType": "float32",
         "type": "float"
        },
        {
         "name": "Gene_671",
         "rawType": "float32",
         "type": "float"
        },
        {
         "name": "Gene_672",
         "rawType": "float32",
         "type": "float"
        },
        {
         "name": "Gene_673",
         "rawType": "float32",
         "type": "float"
        },
        {
         "name": "Gene_674",
         "rawType": "float32",
         "type": "float"
        },
        {
         "name": "Gene_675",
         "rawType": "float32",
         "type": "float"
        },
        {
         "name": "Gene_676",
         "rawType": "float32",
         "type": "float"
        },
        {
         "name": "Gene_677",
         "rawType": "float32",
         "type": "float"
        },
        {
         "name": "Gene_678",
         "rawType": "float32",
         "type": "float"
        },
        {
         "name": "Gene_679",
         "rawType": "float32",
         "type": "float"
        },
        {
         "name": "Gene_680",
         "rawType": "float32",
         "type": "float"
        },
        {
         "name": "Gene_681",
         "rawType": "float32",
         "type": "float"
        },
        {
         "name": "Gene_682",
         "rawType": "float32",
         "type": "float"
        },
        {
         "name": "Gene_683",
         "rawType": "float32",
         "type": "float"
        },
        {
         "name": "Gene_684",
         "rawType": "float32",
         "type": "float"
        },
        {
         "name": "Gene_685",
         "rawType": "float32",
         "type": "float"
        },
        {
         "name": "Gene_686",
         "rawType": "float32",
         "type": "float"
        },
        {
         "name": "Gene_687",
         "rawType": "float32",
         "type": "float"
        },
        {
         "name": "Gene_688",
         "rawType": "float32",
         "type": "float"
        },
        {
         "name": "Gene_689",
         "rawType": "float32",
         "type": "float"
        },
        {
         "name": "Gene_690",
         "rawType": "float32",
         "type": "float"
        },
        {
         "name": "Gene_691",
         "rawType": "float32",
         "type": "float"
        },
        {
         "name": "Gene_692",
         "rawType": "float32",
         "type": "float"
        },
        {
         "name": "Gene_693",
         "rawType": "float32",
         "type": "float"
        },
        {
         "name": "Gene_694",
         "rawType": "float32",
         "type": "float"
        },
        {
         "name": "Gene_695",
         "rawType": "float32",
         "type": "float"
        },
        {
         "name": "Gene_696",
         "rawType": "float32",
         "type": "float"
        },
        {
         "name": "Gene_697",
         "rawType": "float32",
         "type": "float"
        },
        {
         "name": "Gene_698",
         "rawType": "float32",
         "type": "float"
        },
        {
         "name": "Gene_699",
         "rawType": "float32",
         "type": "float"
        },
        {
         "name": "Gene_700",
         "rawType": "float32",
         "type": "float"
        },
        {
         "name": "Gene_701",
         "rawType": "float32",
         "type": "float"
        },
        {
         "name": "Gene_702",
         "rawType": "float32",
         "type": "float"
        },
        {
         "name": "Gene_703",
         "rawType": "float32",
         "type": "float"
        },
        {
         "name": "Gene_704",
         "rawType": "float32",
         "type": "float"
        },
        {
         "name": "Gene_705",
         "rawType": "float32",
         "type": "float"
        },
        {
         "name": "Gene_706",
         "rawType": "float32",
         "type": "float"
        },
        {
         "name": "Gene_707",
         "rawType": "float32",
         "type": "float"
        },
        {
         "name": "Gene_708",
         "rawType": "float32",
         "type": "float"
        },
        {
         "name": "Gene_709",
         "rawType": "float32",
         "type": "float"
        },
        {
         "name": "Gene_710",
         "rawType": "float32",
         "type": "float"
        },
        {
         "name": "Gene_711",
         "rawType": "float32",
         "type": "float"
        },
        {
         "name": "Gene_712",
         "rawType": "float32",
         "type": "float"
        },
        {
         "name": "Gene_713",
         "rawType": "float32",
         "type": "float"
        },
        {
         "name": "Gene_714",
         "rawType": "float32",
         "type": "float"
        },
        {
         "name": "Gene_715",
         "rawType": "float32",
         "type": "float"
        },
        {
         "name": "Gene_716",
         "rawType": "float32",
         "type": "float"
        },
        {
         "name": "Gene_717",
         "rawType": "float32",
         "type": "float"
        },
        {
         "name": "Gene_718",
         "rawType": "float32",
         "type": "float"
        },
        {
         "name": "Gene_719",
         "rawType": "float32",
         "type": "float"
        },
        {
         "name": "Gene_720",
         "rawType": "float32",
         "type": "float"
        },
        {
         "name": "Gene_721",
         "rawType": "float32",
         "type": "float"
        },
        {
         "name": "Gene_722",
         "rawType": "float32",
         "type": "float"
        },
        {
         "name": "Gene_723",
         "rawType": "float32",
         "type": "float"
        },
        {
         "name": "Gene_724",
         "rawType": "float32",
         "type": "float"
        },
        {
         "name": "Gene_725",
         "rawType": "float32",
         "type": "float"
        },
        {
         "name": "Gene_726",
         "rawType": "float32",
         "type": "float"
        },
        {
         "name": "Gene_727",
         "rawType": "float32",
         "type": "float"
        },
        {
         "name": "Gene_728",
         "rawType": "float32",
         "type": "float"
        },
        {
         "name": "Gene_729",
         "rawType": "float32",
         "type": "float"
        },
        {
         "name": "Gene_730",
         "rawType": "float32",
         "type": "float"
        },
        {
         "name": "Gene_731",
         "rawType": "float32",
         "type": "float"
        },
        {
         "name": "Gene_732",
         "rawType": "float32",
         "type": "float"
        },
        {
         "name": "Gene_733",
         "rawType": "float32",
         "type": "float"
        },
        {
         "name": "Gene_734",
         "rawType": "float32",
         "type": "float"
        },
        {
         "name": "Gene_735",
         "rawType": "float32",
         "type": "float"
        },
        {
         "name": "Gene_736",
         "rawType": "float32",
         "type": "float"
        },
        {
         "name": "Gene_737",
         "rawType": "float32",
         "type": "float"
        },
        {
         "name": "Gene_738",
         "rawType": "float32",
         "type": "float"
        },
        {
         "name": "Gene_739",
         "rawType": "float32",
         "type": "float"
        },
        {
         "name": "Gene_740",
         "rawType": "float32",
         "type": "float"
        },
        {
         "name": "Gene_741",
         "rawType": "float32",
         "type": "float"
        },
        {
         "name": "Gene_742",
         "rawType": "float32",
         "type": "float"
        },
        {
         "name": "Gene_743",
         "rawType": "float32",
         "type": "float"
        },
        {
         "name": "Gene_744",
         "rawType": "float32",
         "type": "float"
        },
        {
         "name": "Gene_745",
         "rawType": "float32",
         "type": "float"
        },
        {
         "name": "Gene_746",
         "rawType": "float32",
         "type": "float"
        },
        {
         "name": "Gene_747",
         "rawType": "float32",
         "type": "float"
        },
        {
         "name": "Gene_748",
         "rawType": "float32",
         "type": "float"
        },
        {
         "name": "Gene_749",
         "rawType": "float32",
         "type": "float"
        },
        {
         "name": "Gene_750",
         "rawType": "float32",
         "type": "float"
        },
        {
         "name": "Gene_751",
         "rawType": "float32",
         "type": "float"
        },
        {
         "name": "Gene_752",
         "rawType": "float32",
         "type": "float"
        },
        {
         "name": "Gene_753",
         "rawType": "float32",
         "type": "float"
        },
        {
         "name": "Gene_754",
         "rawType": "float32",
         "type": "float"
        },
        {
         "name": "Gene_755",
         "rawType": "float32",
         "type": "float"
        },
        {
         "name": "Gene_756",
         "rawType": "float32",
         "type": "float"
        },
        {
         "name": "Gene_757",
         "rawType": "float32",
         "type": "float"
        },
        {
         "name": "Gene_758",
         "rawType": "float32",
         "type": "float"
        },
        {
         "name": "Gene_759",
         "rawType": "float32",
         "type": "float"
        },
        {
         "name": "Gene_760",
         "rawType": "float32",
         "type": "float"
        },
        {
         "name": "Gene_761",
         "rawType": "float32",
         "type": "float"
        },
        {
         "name": "Gene_762",
         "rawType": "float32",
         "type": "float"
        },
        {
         "name": "Gene_763",
         "rawType": "float32",
         "type": "float"
        },
        {
         "name": "Gene_764",
         "rawType": "float32",
         "type": "float"
        },
        {
         "name": "Gene_765",
         "rawType": "float32",
         "type": "float"
        },
        {
         "name": "Gene_766",
         "rawType": "float32",
         "type": "float"
        },
        {
         "name": "Gene_767",
         "rawType": "float32",
         "type": "float"
        },
        {
         "name": "Gene_768",
         "rawType": "float32",
         "type": "float"
        },
        {
         "name": "Gene_769",
         "rawType": "float32",
         "type": "float"
        },
        {
         "name": "Gene_770",
         "rawType": "float32",
         "type": "float"
        },
        {
         "name": "Gene_771",
         "rawType": "float32",
         "type": "float"
        },
        {
         "name": "Gene_772",
         "rawType": "float32",
         "type": "float"
        },
        {
         "name": "Gene_773",
         "rawType": "float32",
         "type": "float"
        },
        {
         "name": "Gene_774",
         "rawType": "float32",
         "type": "float"
        },
        {
         "name": "Gene_775",
         "rawType": "float32",
         "type": "float"
        },
        {
         "name": "Gene_776",
         "rawType": "float32",
         "type": "float"
        },
        {
         "name": "Gene_777",
         "rawType": "float32",
         "type": "float"
        },
        {
         "name": "Gene_778",
         "rawType": "float32",
         "type": "float"
        },
        {
         "name": "Gene_779",
         "rawType": "float32",
         "type": "float"
        },
        {
         "name": "Gene_780",
         "rawType": "float32",
         "type": "float"
        },
        {
         "name": "Gene_781",
         "rawType": "float32",
         "type": "float"
        },
        {
         "name": "Gene_782",
         "rawType": "float32",
         "type": "float"
        },
        {
         "name": "Gene_783",
         "rawType": "float32",
         "type": "float"
        },
        {
         "name": "Gene_784",
         "rawType": "float32",
         "type": "float"
        },
        {
         "name": "Gene_785",
         "rawType": "float32",
         "type": "float"
        },
        {
         "name": "Gene_786",
         "rawType": "float32",
         "type": "float"
        },
        {
         "name": "Gene_787",
         "rawType": "float32",
         "type": "float"
        },
        {
         "name": "Gene_788",
         "rawType": "float32",
         "type": "float"
        },
        {
         "name": "Gene_789",
         "rawType": "float32",
         "type": "float"
        },
        {
         "name": "Gene_790",
         "rawType": "float32",
         "type": "float"
        },
        {
         "name": "Gene_791",
         "rawType": "float32",
         "type": "float"
        },
        {
         "name": "Gene_792",
         "rawType": "float32",
         "type": "float"
        },
        {
         "name": "Gene_793",
         "rawType": "float32",
         "type": "float"
        },
        {
         "name": "Gene_794",
         "rawType": "float32",
         "type": "float"
        },
        {
         "name": "Gene_795",
         "rawType": "float32",
         "type": "float"
        },
        {
         "name": "Gene_796",
         "rawType": "float32",
         "type": "float"
        },
        {
         "name": "Gene_797",
         "rawType": "float32",
         "type": "float"
        },
        {
         "name": "Gene_798",
         "rawType": "float32",
         "type": "float"
        },
        {
         "name": "Gene_799",
         "rawType": "float32",
         "type": "float"
        },
        {
         "name": "Gene_800",
         "rawType": "float32",
         "type": "float"
        },
        {
         "name": "Gene_801",
         "rawType": "float32",
         "type": "float"
        },
        {
         "name": "Gene_802",
         "rawType": "float32",
         "type": "float"
        },
        {
         "name": "Gene_803",
         "rawType": "float32",
         "type": "float"
        },
        {
         "name": "Gene_804",
         "rawType": "float32",
         "type": "float"
        },
        {
         "name": "Gene_805",
         "rawType": "float32",
         "type": "float"
        },
        {
         "name": "Gene_806",
         "rawType": "float32",
         "type": "float"
        },
        {
         "name": "Gene_807",
         "rawType": "float32",
         "type": "float"
        },
        {
         "name": "Gene_808",
         "rawType": "float32",
         "type": "float"
        },
        {
         "name": "Gene_809",
         "rawType": "float32",
         "type": "float"
        },
        {
         "name": "Gene_810",
         "rawType": "float32",
         "type": "float"
        },
        {
         "name": "Gene_811",
         "rawType": "float32",
         "type": "float"
        },
        {
         "name": "Gene_812",
         "rawType": "float32",
         "type": "float"
        },
        {
         "name": "Gene_813",
         "rawType": "float32",
         "type": "float"
        },
        {
         "name": "Gene_814",
         "rawType": "float32",
         "type": "float"
        },
        {
         "name": "Gene_815",
         "rawType": "float32",
         "type": "float"
        },
        {
         "name": "Gene_816",
         "rawType": "float32",
         "type": "float"
        },
        {
         "name": "Gene_817",
         "rawType": "float32",
         "type": "float"
        },
        {
         "name": "Gene_818",
         "rawType": "float32",
         "type": "float"
        },
        {
         "name": "Gene_819",
         "rawType": "float32",
         "type": "float"
        },
        {
         "name": "Gene_820",
         "rawType": "float32",
         "type": "float"
        },
        {
         "name": "Gene_821",
         "rawType": "float32",
         "type": "float"
        },
        {
         "name": "Gene_822",
         "rawType": "float32",
         "type": "float"
        },
        {
         "name": "Gene_823",
         "rawType": "float32",
         "type": "float"
        },
        {
         "name": "Gene_824",
         "rawType": "float32",
         "type": "float"
        },
        {
         "name": "Gene_825",
         "rawType": "float32",
         "type": "float"
        },
        {
         "name": "Gene_826",
         "rawType": "float32",
         "type": "float"
        },
        {
         "name": "Gene_827",
         "rawType": "float32",
         "type": "float"
        },
        {
         "name": "Gene_828",
         "rawType": "float32",
         "type": "float"
        },
        {
         "name": "Gene_829",
         "rawType": "float32",
         "type": "float"
        },
        {
         "name": "Gene_830",
         "rawType": "float32",
         "type": "float"
        },
        {
         "name": "Gene_831",
         "rawType": "float32",
         "type": "float"
        },
        {
         "name": "Gene_832",
         "rawType": "float32",
         "type": "float"
        },
        {
         "name": "Gene_833",
         "rawType": "float32",
         "type": "float"
        },
        {
         "name": "Gene_834",
         "rawType": "float32",
         "type": "float"
        },
        {
         "name": "Gene_835",
         "rawType": "float32",
         "type": "float"
        },
        {
         "name": "Gene_836",
         "rawType": "float32",
         "type": "float"
        },
        {
         "name": "Gene_837",
         "rawType": "float32",
         "type": "float"
        },
        {
         "name": "Gene_838",
         "rawType": "float32",
         "type": "float"
        },
        {
         "name": "Gene_839",
         "rawType": "float32",
         "type": "float"
        },
        {
         "name": "Gene_840",
         "rawType": "float32",
         "type": "float"
        },
        {
         "name": "Gene_841",
         "rawType": "float32",
         "type": "float"
        },
        {
         "name": "Gene_842",
         "rawType": "float32",
         "type": "float"
        },
        {
         "name": "Gene_843",
         "rawType": "float32",
         "type": "float"
        },
        {
         "name": "Gene_844",
         "rawType": "float32",
         "type": "float"
        },
        {
         "name": "Gene_845",
         "rawType": "float32",
         "type": "float"
        },
        {
         "name": "Gene_846",
         "rawType": "float32",
         "type": "float"
        },
        {
         "name": "Gene_847",
         "rawType": "float32",
         "type": "float"
        },
        {
         "name": "Gene_848",
         "rawType": "float32",
         "type": "float"
        },
        {
         "name": "Gene_849",
         "rawType": "float32",
         "type": "float"
        },
        {
         "name": "Gene_850",
         "rawType": "float32",
         "type": "float"
        },
        {
         "name": "Gene_851",
         "rawType": "float32",
         "type": "float"
        },
        {
         "name": "Gene_852",
         "rawType": "float32",
         "type": "float"
        },
        {
         "name": "Gene_853",
         "rawType": "float32",
         "type": "float"
        },
        {
         "name": "Gene_854",
         "rawType": "float32",
         "type": "float"
        },
        {
         "name": "Gene_855",
         "rawType": "float32",
         "type": "float"
        },
        {
         "name": "Gene_856",
         "rawType": "float32",
         "type": "float"
        },
        {
         "name": "Gene_857",
         "rawType": "float32",
         "type": "float"
        },
        {
         "name": "Gene_858",
         "rawType": "float32",
         "type": "float"
        },
        {
         "name": "Gene_859",
         "rawType": "float32",
         "type": "float"
        },
        {
         "name": "Gene_860",
         "rawType": "float32",
         "type": "float"
        },
        {
         "name": "Gene_861",
         "rawType": "float32",
         "type": "float"
        },
        {
         "name": "Gene_862",
         "rawType": "float32",
         "type": "float"
        },
        {
         "name": "Gene_863",
         "rawType": "float32",
         "type": "float"
        },
        {
         "name": "Gene_864",
         "rawType": "float32",
         "type": "float"
        },
        {
         "name": "Gene_865",
         "rawType": "float32",
         "type": "float"
        },
        {
         "name": "Gene_866",
         "rawType": "float32",
         "type": "float"
        },
        {
         "name": "Gene_867",
         "rawType": "float32",
         "type": "float"
        },
        {
         "name": "Gene_868",
         "rawType": "float32",
         "type": "float"
        },
        {
         "name": "Gene_869",
         "rawType": "float32",
         "type": "float"
        },
        {
         "name": "Gene_870",
         "rawType": "float32",
         "type": "float"
        },
        {
         "name": "Gene_871",
         "rawType": "float32",
         "type": "float"
        },
        {
         "name": "Gene_872",
         "rawType": "float32",
         "type": "float"
        },
        {
         "name": "Gene_873",
         "rawType": "float32",
         "type": "float"
        },
        {
         "name": "Gene_874",
         "rawType": "float32",
         "type": "float"
        },
        {
         "name": "Gene_875",
         "rawType": "float32",
         "type": "float"
        },
        {
         "name": "Gene_876",
         "rawType": "float32",
         "type": "float"
        },
        {
         "name": "Gene_877",
         "rawType": "float32",
         "type": "float"
        },
        {
         "name": "Gene_878",
         "rawType": "float32",
         "type": "float"
        },
        {
         "name": "Gene_879",
         "rawType": "float32",
         "type": "float"
        },
        {
         "name": "Gene_880",
         "rawType": "float32",
         "type": "float"
        },
        {
         "name": "Gene_881",
         "rawType": "float32",
         "type": "float"
        },
        {
         "name": "Gene_882",
         "rawType": "float32",
         "type": "float"
        },
        {
         "name": "Gene_883",
         "rawType": "float32",
         "type": "float"
        },
        {
         "name": "Gene_884",
         "rawType": "float32",
         "type": "float"
        },
        {
         "name": "Gene_885",
         "rawType": "float32",
         "type": "float"
        },
        {
         "name": "Gene_886",
         "rawType": "float32",
         "type": "float"
        },
        {
         "name": "Gene_887",
         "rawType": "float32",
         "type": "float"
        },
        {
         "name": "Gene_888",
         "rawType": "float32",
         "type": "float"
        },
        {
         "name": "Gene_889",
         "rawType": "float32",
         "type": "float"
        },
        {
         "name": "Gene_890",
         "rawType": "float32",
         "type": "float"
        },
        {
         "name": "Gene_891",
         "rawType": "float32",
         "type": "float"
        },
        {
         "name": "Gene_892",
         "rawType": "float32",
         "type": "float"
        },
        {
         "name": "Gene_893",
         "rawType": "float32",
         "type": "float"
        },
        {
         "name": "Gene_894",
         "rawType": "float32",
         "type": "float"
        },
        {
         "name": "Gene_895",
         "rawType": "float32",
         "type": "float"
        },
        {
         "name": "Gene_896",
         "rawType": "float32",
         "type": "float"
        },
        {
         "name": "Gene_897",
         "rawType": "float32",
         "type": "float"
        },
        {
         "name": "Gene_898",
         "rawType": "float32",
         "type": "float"
        },
        {
         "name": "Gene_899",
         "rawType": "float32",
         "type": "float"
        },
        {
         "name": "Gene_900",
         "rawType": "float32",
         "type": "float"
        },
        {
         "name": "Gene_901",
         "rawType": "float32",
         "type": "float"
        },
        {
         "name": "Gene_902",
         "rawType": "float32",
         "type": "float"
        },
        {
         "name": "Gene_903",
         "rawType": "float32",
         "type": "float"
        },
        {
         "name": "Gene_904",
         "rawType": "float32",
         "type": "float"
        },
        {
         "name": "Gene_905",
         "rawType": "float32",
         "type": "float"
        },
        {
         "name": "Gene_906",
         "rawType": "float32",
         "type": "float"
        },
        {
         "name": "Gene_907",
         "rawType": "float32",
         "type": "float"
        },
        {
         "name": "Gene_908",
         "rawType": "float32",
         "type": "float"
        },
        {
         "name": "Gene_909",
         "rawType": "float32",
         "type": "float"
        },
        {
         "name": "Gene_910",
         "rawType": "float32",
         "type": "float"
        },
        {
         "name": "Gene_911",
         "rawType": "float32",
         "type": "float"
        },
        {
         "name": "Gene_912",
         "rawType": "float32",
         "type": "float"
        },
        {
         "name": "Gene_913",
         "rawType": "float32",
         "type": "float"
        },
        {
         "name": "Gene_914",
         "rawType": "float32",
         "type": "float"
        },
        {
         "name": "Gene_915",
         "rawType": "float32",
         "type": "float"
        },
        {
         "name": "Gene_916",
         "rawType": "float32",
         "type": "float"
        },
        {
         "name": "Gene_917",
         "rawType": "float32",
         "type": "float"
        },
        {
         "name": "Gene_918",
         "rawType": "float32",
         "type": "float"
        },
        {
         "name": "Gene_919",
         "rawType": "float32",
         "type": "float"
        },
        {
         "name": "Gene_920",
         "rawType": "float32",
         "type": "float"
        },
        {
         "name": "Gene_921",
         "rawType": "float32",
         "type": "float"
        },
        {
         "name": "Gene_922",
         "rawType": "float32",
         "type": "float"
        },
        {
         "name": "Gene_923",
         "rawType": "float32",
         "type": "float"
        },
        {
         "name": "Gene_924",
         "rawType": "float32",
         "type": "float"
        },
        {
         "name": "Gene_925",
         "rawType": "float32",
         "type": "float"
        },
        {
         "name": "Gene_926",
         "rawType": "float32",
         "type": "float"
        },
        {
         "name": "Gene_927",
         "rawType": "float32",
         "type": "float"
        },
        {
         "name": "Gene_928",
         "rawType": "float32",
         "type": "float"
        },
        {
         "name": "Gene_929",
         "rawType": "float32",
         "type": "float"
        },
        {
         "name": "Gene_930",
         "rawType": "float32",
         "type": "float"
        },
        {
         "name": "Gene_931",
         "rawType": "float32",
         "type": "float"
        },
        {
         "name": "Gene_932",
         "rawType": "float32",
         "type": "float"
        },
        {
         "name": "Gene_933",
         "rawType": "float32",
         "type": "float"
        },
        {
         "name": "Gene_934",
         "rawType": "float32",
         "type": "float"
        },
        {
         "name": "Gene_935",
         "rawType": "float32",
         "type": "float"
        },
        {
         "name": "Gene_936",
         "rawType": "float32",
         "type": "float"
        },
        {
         "name": "Gene_937",
         "rawType": "float32",
         "type": "float"
        },
        {
         "name": "Gene_938",
         "rawType": "float32",
         "type": "float"
        },
        {
         "name": "Gene_939",
         "rawType": "float32",
         "type": "float"
        },
        {
         "name": "Gene_940",
         "rawType": "float32",
         "type": "float"
        },
        {
         "name": "Gene_941",
         "rawType": "float32",
         "type": "float"
        },
        {
         "name": "Gene_942",
         "rawType": "float32",
         "type": "float"
        },
        {
         "name": "Gene_943",
         "rawType": "float32",
         "type": "float"
        },
        {
         "name": "Gene_944",
         "rawType": "float32",
         "type": "float"
        },
        {
         "name": "Gene_945",
         "rawType": "float32",
         "type": "float"
        },
        {
         "name": "Gene_946",
         "rawType": "float32",
         "type": "float"
        },
        {
         "name": "Gene_947",
         "rawType": "float32",
         "type": "float"
        },
        {
         "name": "Gene_948",
         "rawType": "float32",
         "type": "float"
        },
        {
         "name": "Gene_949",
         "rawType": "float32",
         "type": "float"
        },
        {
         "name": "Gene_950",
         "rawType": "float32",
         "type": "float"
        },
        {
         "name": "Gene_951",
         "rawType": "float32",
         "type": "float"
        },
        {
         "name": "Gene_952",
         "rawType": "float32",
         "type": "float"
        },
        {
         "name": "Gene_953",
         "rawType": "float32",
         "type": "float"
        },
        {
         "name": "Gene_954",
         "rawType": "float32",
         "type": "float"
        },
        {
         "name": "Gene_955",
         "rawType": "float32",
         "type": "float"
        },
        {
         "name": "Gene_956",
         "rawType": "float32",
         "type": "float"
        },
        {
         "name": "Gene_957",
         "rawType": "float32",
         "type": "float"
        },
        {
         "name": "Gene_958",
         "rawType": "float32",
         "type": "float"
        },
        {
         "name": "Gene_959",
         "rawType": "float32",
         "type": "float"
        },
        {
         "name": "Gene_960",
         "rawType": "float32",
         "type": "float"
        },
        {
         "name": "Gene_961",
         "rawType": "float32",
         "type": "float"
        },
        {
         "name": "Gene_962",
         "rawType": "float32",
         "type": "float"
        },
        {
         "name": "Gene_963",
         "rawType": "float32",
         "type": "float"
        },
        {
         "name": "Gene_964",
         "rawType": "float32",
         "type": "float"
        },
        {
         "name": "Gene_965",
         "rawType": "float32",
         "type": "float"
        },
        {
         "name": "Gene_966",
         "rawType": "float32",
         "type": "float"
        },
        {
         "name": "Gene_967",
         "rawType": "float32",
         "type": "float"
        },
        {
         "name": "Gene_968",
         "rawType": "float32",
         "type": "float"
        },
        {
         "name": "Gene_969",
         "rawType": "float32",
         "type": "float"
        },
        {
         "name": "Gene_970",
         "rawType": "float32",
         "type": "float"
        },
        {
         "name": "Gene_971",
         "rawType": "float32",
         "type": "float"
        },
        {
         "name": "Gene_972",
         "rawType": "float32",
         "type": "float"
        },
        {
         "name": "Gene_973",
         "rawType": "float32",
         "type": "float"
        },
        {
         "name": "Gene_974",
         "rawType": "float32",
         "type": "float"
        },
        {
         "name": "Gene_975",
         "rawType": "float32",
         "type": "float"
        },
        {
         "name": "Gene_976",
         "rawType": "float32",
         "type": "float"
        },
        {
         "name": "Gene_977",
         "rawType": "float32",
         "type": "float"
        },
        {
         "name": "Gene_978",
         "rawType": "float32",
         "type": "float"
        },
        {
         "name": "Gene_979",
         "rawType": "float32",
         "type": "float"
        },
        {
         "name": "Gene_980",
         "rawType": "float32",
         "type": "float"
        },
        {
         "name": "Gene_981",
         "rawType": "float32",
         "type": "float"
        },
        {
         "name": "Gene_982",
         "rawType": "float32",
         "type": "float"
        },
        {
         "name": "Gene_983",
         "rawType": "float32",
         "type": "float"
        },
        {
         "name": "Gene_984",
         "rawType": "float32",
         "type": "float"
        },
        {
         "name": "Gene_985",
         "rawType": "float32",
         "type": "float"
        },
        {
         "name": "Gene_986",
         "rawType": "float32",
         "type": "float"
        },
        {
         "name": "Gene_987",
         "rawType": "float32",
         "type": "float"
        },
        {
         "name": "Gene_988",
         "rawType": "float32",
         "type": "float"
        },
        {
         "name": "Gene_989",
         "rawType": "float32",
         "type": "float"
        },
        {
         "name": "Gene_990",
         "rawType": "float32",
         "type": "float"
        },
        {
         "name": "Gene_991",
         "rawType": "float32",
         "type": "float"
        },
        {
         "name": "Gene_992",
         "rawType": "float32",
         "type": "float"
        },
        {
         "name": "Gene_993",
         "rawType": "float32",
         "type": "float"
        },
        {
         "name": "Gene_994",
         "rawType": "float32",
         "type": "float"
        },
        {
         "name": "Gene_995",
         "rawType": "float32",
         "type": "float"
        },
        {
         "name": "Gene_996",
         "rawType": "float32",
         "type": "float"
        },
        {
         "name": "Gene_997",
         "rawType": "float32",
         "type": "float"
        },
        {
         "name": "Gene_998",
         "rawType": "float32",
         "type": "float"
        },
        {
         "name": "Gene_999",
         "rawType": "float32",
         "type": "float"
        },
        {
         "name": "Gene_1000",
         "rawType": "float32",
         "type": "float"
        },
        {
         "name": "Gene_1001",
         "rawType": "float32",
         "type": "float"
        },
        {
         "name": "Gene_1002",
         "rawType": "float32",
         "type": "float"
        },
        {
         "name": "Gene_1003",
         "rawType": "float32",
         "type": "float"
        },
        {
         "name": "Gene_1004",
         "rawType": "float32",
         "type": "float"
        },
        {
         "name": "Gene_1005",
         "rawType": "float32",
         "type": "float"
        },
        {
         "name": "Gene_1006",
         "rawType": "float32",
         "type": "float"
        },
        {
         "name": "Gene_1007",
         "rawType": "float32",
         "type": "float"
        },
        {
         "name": "Gene_1008",
         "rawType": "float32",
         "type": "float"
        },
        {
         "name": "Gene_1009",
         "rawType": "float32",
         "type": "float"
        },
        {
         "name": "Gene_1010",
         "rawType": "float32",
         "type": "float"
        },
        {
         "name": "Gene_1011",
         "rawType": "float32",
         "type": "float"
        },
        {
         "name": "Gene_1012",
         "rawType": "float32",
         "type": "float"
        },
        {
         "name": "Gene_1013",
         "rawType": "float32",
         "type": "float"
        },
        {
         "name": "Gene_1014",
         "rawType": "float32",
         "type": "float"
        },
        {
         "name": "Gene_1015",
         "rawType": "float32",
         "type": "float"
        },
        {
         "name": "Gene_1016",
         "rawType": "float32",
         "type": "float"
        },
        {
         "name": "Gene_1017",
         "rawType": "float32",
         "type": "float"
        },
        {
         "name": "Gene_1018",
         "rawType": "float32",
         "type": "float"
        },
        {
         "name": "Gene_1019",
         "rawType": "float32",
         "type": "float"
        },
        {
         "name": "Gene_1020",
         "rawType": "float32",
         "type": "float"
        },
        {
         "name": "Gene_1021",
         "rawType": "float32",
         "type": "float"
        },
        {
         "name": "Gene_1022",
         "rawType": "float32",
         "type": "float"
        },
        {
         "name": "Gene_1023",
         "rawType": "float32",
         "type": "float"
        },
        {
         "name": "Gene_1024",
         "rawType": "float32",
         "type": "float"
        },
        {
         "name": "Gene_1025",
         "rawType": "float32",
         "type": "float"
        },
        {
         "name": "Gene_1026",
         "rawType": "float32",
         "type": "float"
        },
        {
         "name": "Gene_1027",
         "rawType": "float32",
         "type": "float"
        },
        {
         "name": "Gene_1028",
         "rawType": "float32",
         "type": "float"
        },
        {
         "name": "Gene_1029",
         "rawType": "float32",
         "type": "float"
        },
        {
         "name": "Gene_1030",
         "rawType": "float32",
         "type": "float"
        },
        {
         "name": "Gene_1031",
         "rawType": "float32",
         "type": "float"
        },
        {
         "name": "Gene_1032",
         "rawType": "float32",
         "type": "float"
        },
        {
         "name": "Gene_1033",
         "rawType": "float32",
         "type": "float"
        },
        {
         "name": "Gene_1034",
         "rawType": "float32",
         "type": "float"
        },
        {
         "name": "Gene_1035",
         "rawType": "float32",
         "type": "float"
        },
        {
         "name": "Gene_1036",
         "rawType": "float32",
         "type": "float"
        },
        {
         "name": "Gene_1037",
         "rawType": "float32",
         "type": "float"
        },
        {
         "name": "Gene_1038",
         "rawType": "float32",
         "type": "float"
        },
        {
         "name": "Gene_1039",
         "rawType": "float32",
         "type": "float"
        },
        {
         "name": "Gene_1040",
         "rawType": "float32",
         "type": "float"
        },
        {
         "name": "Gene_1041",
         "rawType": "float32",
         "type": "float"
        },
        {
         "name": "Gene_1042",
         "rawType": "float32",
         "type": "float"
        },
        {
         "name": "Gene_1043",
         "rawType": "float32",
         "type": "float"
        },
        {
         "name": "Gene_1044",
         "rawType": "float32",
         "type": "float"
        },
        {
         "name": "Gene_1045",
         "rawType": "float32",
         "type": "float"
        },
        {
         "name": "Gene_1046",
         "rawType": "float32",
         "type": "float"
        },
        {
         "name": "Gene_1047",
         "rawType": "float32",
         "type": "float"
        },
        {
         "name": "Gene_1048",
         "rawType": "float32",
         "type": "float"
        },
        {
         "name": "Gene_1049",
         "rawType": "float32",
         "type": "float"
        },
        {
         "name": "Gene_1050",
         "rawType": "float32",
         "type": "float"
        },
        {
         "name": "Gene_1051",
         "rawType": "float32",
         "type": "float"
        },
        {
         "name": "Gene_1052",
         "rawType": "float32",
         "type": "float"
        },
        {
         "name": "Gene_1053",
         "rawType": "float32",
         "type": "float"
        },
        {
         "name": "Gene_1054",
         "rawType": "float32",
         "type": "float"
        },
        {
         "name": "Gene_1055",
         "rawType": "float32",
         "type": "float"
        },
        {
         "name": "Gene_1056",
         "rawType": "float32",
         "type": "float"
        },
        {
         "name": "Gene_1057",
         "rawType": "float32",
         "type": "float"
        },
        {
         "name": "Gene_1058",
         "rawType": "float32",
         "type": "float"
        },
        {
         "name": "Gene_1059",
         "rawType": "float32",
         "type": "float"
        },
        {
         "name": "Gene_1060",
         "rawType": "float32",
         "type": "float"
        },
        {
         "name": "Gene_1061",
         "rawType": "float32",
         "type": "float"
        },
        {
         "name": "Gene_1062",
         "rawType": "float32",
         "type": "float"
        },
        {
         "name": "Gene_1063",
         "rawType": "float32",
         "type": "float"
        },
        {
         "name": "Gene_1064",
         "rawType": "float32",
         "type": "float"
        },
        {
         "name": "Gene_1065",
         "rawType": "float32",
         "type": "float"
        },
        {
         "name": "Gene_1066",
         "rawType": "float32",
         "type": "float"
        },
        {
         "name": "Gene_1067",
         "rawType": "float32",
         "type": "float"
        },
        {
         "name": "Gene_1068",
         "rawType": "float32",
         "type": "float"
        },
        {
         "name": "Gene_1069",
         "rawType": "float32",
         "type": "float"
        },
        {
         "name": "Gene_1070",
         "rawType": "float32",
         "type": "float"
        },
        {
         "name": "Gene_1071",
         "rawType": "float32",
         "type": "float"
        },
        {
         "name": "Gene_1072",
         "rawType": "float32",
         "type": "float"
        },
        {
         "name": "Gene_1073",
         "rawType": "float32",
         "type": "float"
        },
        {
         "name": "Gene_1074",
         "rawType": "float32",
         "type": "float"
        },
        {
         "name": "Gene_1075",
         "rawType": "float32",
         "type": "float"
        },
        {
         "name": "Gene_1076",
         "rawType": "float32",
         "type": "float"
        },
        {
         "name": "Gene_1077",
         "rawType": "float32",
         "type": "float"
        },
        {
         "name": "Gene_1078",
         "rawType": "float32",
         "type": "float"
        },
        {
         "name": "Gene_1079",
         "rawType": "float32",
         "type": "float"
        },
        {
         "name": "Gene_1080",
         "rawType": "float32",
         "type": "float"
        },
        {
         "name": "Gene_1081",
         "rawType": "float32",
         "type": "float"
        },
        {
         "name": "Gene_1082",
         "rawType": "float32",
         "type": "float"
        },
        {
         "name": "Gene_1083",
         "rawType": "float32",
         "type": "float"
        },
        {
         "name": "Gene_1084",
         "rawType": "float32",
         "type": "float"
        },
        {
         "name": "Gene_1085",
         "rawType": "float32",
         "type": "float"
        },
        {
         "name": "Gene_1086",
         "rawType": "float32",
         "type": "float"
        },
        {
         "name": "Gene_1087",
         "rawType": "float32",
         "type": "float"
        },
        {
         "name": "Gene_1088",
         "rawType": "float32",
         "type": "float"
        },
        {
         "name": "Gene_1089",
         "rawType": "float32",
         "type": "float"
        },
        {
         "name": "Gene_1090",
         "rawType": "float32",
         "type": "float"
        },
        {
         "name": "Gene_1091",
         "rawType": "float32",
         "type": "float"
        },
        {
         "name": "Gene_1092",
         "rawType": "float32",
         "type": "float"
        },
        {
         "name": "Gene_1093",
         "rawType": "float32",
         "type": "float"
        },
        {
         "name": "Gene_1094",
         "rawType": "float32",
         "type": "float"
        },
        {
         "name": "Gene_1095",
         "rawType": "float32",
         "type": "float"
        },
        {
         "name": "Gene_1096",
         "rawType": "float32",
         "type": "float"
        },
        {
         "name": "Gene_1097",
         "rawType": "float32",
         "type": "float"
        },
        {
         "name": "Gene_1098",
         "rawType": "float32",
         "type": "float"
        },
        {
         "name": "Gene_1099",
         "rawType": "float32",
         "type": "float"
        },
        {
         "name": "Gene_1100",
         "rawType": "float32",
         "type": "float"
        },
        {
         "name": "Gene_1101",
         "rawType": "float32",
         "type": "float"
        },
        {
         "name": "Gene_1102",
         "rawType": "float32",
         "type": "float"
        },
        {
         "name": "Gene_1103",
         "rawType": "float32",
         "type": "float"
        },
        {
         "name": "Gene_1104",
         "rawType": "float32",
         "type": "float"
        },
        {
         "name": "Gene_1105",
         "rawType": "float32",
         "type": "float"
        },
        {
         "name": "Gene_1106",
         "rawType": "float32",
         "type": "float"
        },
        {
         "name": "Gene_1107",
         "rawType": "float32",
         "type": "float"
        },
        {
         "name": "Gene_1108",
         "rawType": "float32",
         "type": "float"
        },
        {
         "name": "Gene_1109",
         "rawType": "float32",
         "type": "float"
        },
        {
         "name": "Gene_1110",
         "rawType": "float32",
         "type": "float"
        },
        {
         "name": "Gene_1111",
         "rawType": "float32",
         "type": "float"
        },
        {
         "name": "Gene_1112",
         "rawType": "float32",
         "type": "float"
        },
        {
         "name": "Gene_1113",
         "rawType": "float32",
         "type": "float"
        },
        {
         "name": "Gene_1114",
         "rawType": "float32",
         "type": "float"
        },
        {
         "name": "Gene_1115",
         "rawType": "float32",
         "type": "float"
        },
        {
         "name": "Gene_1116",
         "rawType": "float32",
         "type": "float"
        },
        {
         "name": "Gene_1117",
         "rawType": "float32",
         "type": "float"
        },
        {
         "name": "Gene_1118",
         "rawType": "float32",
         "type": "float"
        },
        {
         "name": "Gene_1119",
         "rawType": "float32",
         "type": "float"
        },
        {
         "name": "Gene_1120",
         "rawType": "float32",
         "type": "float"
        },
        {
         "name": "Gene_1121",
         "rawType": "float32",
         "type": "float"
        },
        {
         "name": "Gene_1122",
         "rawType": "float32",
         "type": "float"
        },
        {
         "name": "Gene_1123",
         "rawType": "float32",
         "type": "float"
        },
        {
         "name": "Gene_1124",
         "rawType": "float32",
         "type": "float"
        },
        {
         "name": "Gene_1125",
         "rawType": "float32",
         "type": "float"
        },
        {
         "name": "Gene_1126",
         "rawType": "float32",
         "type": "float"
        },
        {
         "name": "Gene_1127",
         "rawType": "float32",
         "type": "float"
        },
        {
         "name": "Gene_1128",
         "rawType": "float32",
         "type": "float"
        },
        {
         "name": "Gene_1129",
         "rawType": "float32",
         "type": "float"
        },
        {
         "name": "Gene_1130",
         "rawType": "float32",
         "type": "float"
        },
        {
         "name": "Gene_1131",
         "rawType": "float32",
         "type": "float"
        },
        {
         "name": "Gene_1132",
         "rawType": "float32",
         "type": "float"
        },
        {
         "name": "Gene_1133",
         "rawType": "float32",
         "type": "float"
        },
        {
         "name": "Gene_1134",
         "rawType": "float32",
         "type": "float"
        },
        {
         "name": "Gene_1135",
         "rawType": "float32",
         "type": "float"
        },
        {
         "name": "Gene_1136",
         "rawType": "float32",
         "type": "float"
        },
        {
         "name": "Gene_1137",
         "rawType": "float32",
         "type": "float"
        },
        {
         "name": "Gene_1138",
         "rawType": "float32",
         "type": "float"
        },
        {
         "name": "Gene_1139",
         "rawType": "float32",
         "type": "float"
        },
        {
         "name": "Gene_1140",
         "rawType": "float32",
         "type": "float"
        },
        {
         "name": "Gene_1141",
         "rawType": "float32",
         "type": "float"
        },
        {
         "name": "Gene_1142",
         "rawType": "float32",
         "type": "float"
        },
        {
         "name": "Gene_1143",
         "rawType": "float32",
         "type": "float"
        },
        {
         "name": "Gene_1144",
         "rawType": "float32",
         "type": "float"
        },
        {
         "name": "Gene_1145",
         "rawType": "float32",
         "type": "float"
        },
        {
         "name": "Gene_1146",
         "rawType": "float32",
         "type": "float"
        },
        {
         "name": "Gene_1147",
         "rawType": "float32",
         "type": "float"
        },
        {
         "name": "Gene_1148",
         "rawType": "float32",
         "type": "float"
        },
        {
         "name": "Gene_1149",
         "rawType": "float32",
         "type": "float"
        },
        {
         "name": "Gene_1150",
         "rawType": "float32",
         "type": "float"
        },
        {
         "name": "Gene_1151",
         "rawType": "float32",
         "type": "float"
        },
        {
         "name": "Gene_1152",
         "rawType": "float32",
         "type": "float"
        },
        {
         "name": "Gene_1153",
         "rawType": "float32",
         "type": "float"
        },
        {
         "name": "Gene_1154",
         "rawType": "float32",
         "type": "float"
        },
        {
         "name": "Gene_1155",
         "rawType": "float32",
         "type": "float"
        },
        {
         "name": "Gene_1156",
         "rawType": "float32",
         "type": "float"
        },
        {
         "name": "Gene_1157",
         "rawType": "float32",
         "type": "float"
        },
        {
         "name": "Gene_1158",
         "rawType": "float32",
         "type": "float"
        },
        {
         "name": "Gene_1159",
         "rawType": "float32",
         "type": "float"
        },
        {
         "name": "Gene_1160",
         "rawType": "float32",
         "type": "float"
        },
        {
         "name": "Gene_1161",
         "rawType": "float32",
         "type": "float"
        },
        {
         "name": "Gene_1162",
         "rawType": "float32",
         "type": "float"
        },
        {
         "name": "Gene_1163",
         "rawType": "float32",
         "type": "float"
        },
        {
         "name": "Gene_1164",
         "rawType": "float32",
         "type": "float"
        },
        {
         "name": "Gene_1165",
         "rawType": "float32",
         "type": "float"
        },
        {
         "name": "Gene_1166",
         "rawType": "float32",
         "type": "float"
        },
        {
         "name": "Gene_1167",
         "rawType": "float32",
         "type": "float"
        },
        {
         "name": "Gene_1168",
         "rawType": "float32",
         "type": "float"
        },
        {
         "name": "Gene_1169",
         "rawType": "float32",
         "type": "float"
        },
        {
         "name": "Gene_1170",
         "rawType": "float32",
         "type": "float"
        },
        {
         "name": "Gene_1171",
         "rawType": "float32",
         "type": "float"
        },
        {
         "name": "Gene_1172",
         "rawType": "float32",
         "type": "float"
        },
        {
         "name": "Gene_1173",
         "rawType": "float32",
         "type": "float"
        },
        {
         "name": "Gene_1174",
         "rawType": "float32",
         "type": "float"
        },
        {
         "name": "Gene_1175",
         "rawType": "float32",
         "type": "float"
        },
        {
         "name": "Gene_1176",
         "rawType": "float32",
         "type": "float"
        },
        {
         "name": "Gene_1177",
         "rawType": "float32",
         "type": "float"
        },
        {
         "name": "Gene_1178",
         "rawType": "float32",
         "type": "float"
        },
        {
         "name": "Gene_1179",
         "rawType": "float32",
         "type": "float"
        },
        {
         "name": "Gene_1180",
         "rawType": "float32",
         "type": "float"
        },
        {
         "name": "Gene_1181",
         "rawType": "float32",
         "type": "float"
        },
        {
         "name": "Gene_1182",
         "rawType": "float32",
         "type": "float"
        },
        {
         "name": "Gene_1183",
         "rawType": "float32",
         "type": "float"
        },
        {
         "name": "Gene_1184",
         "rawType": "float32",
         "type": "float"
        },
        {
         "name": "Gene_1185",
         "rawType": "float32",
         "type": "float"
        },
        {
         "name": "Gene_1186",
         "rawType": "float32",
         "type": "float"
        },
        {
         "name": "Gene_1187",
         "rawType": "float32",
         "type": "float"
        },
        {
         "name": "Gene_1188",
         "rawType": "float32",
         "type": "float"
        },
        {
         "name": "Gene_1189",
         "rawType": "float32",
         "type": "float"
        },
        {
         "name": "Gene_1190",
         "rawType": "float32",
         "type": "float"
        },
        {
         "name": "Gene_1191",
         "rawType": "float32",
         "type": "float"
        },
        {
         "name": "Gene_1192",
         "rawType": "float32",
         "type": "float"
        },
        {
         "name": "Gene_1193",
         "rawType": "float32",
         "type": "float"
        },
        {
         "name": "Gene_1194",
         "rawType": "float32",
         "type": "float"
        },
        {
         "name": "Gene_1195",
         "rawType": "float32",
         "type": "float"
        },
        {
         "name": "Gene_1196",
         "rawType": "float32",
         "type": "float"
        },
        {
         "name": "Gene_1197",
         "rawType": "float32",
         "type": "float"
        },
        {
         "name": "Gene_1198",
         "rawType": "float32",
         "type": "float"
        },
        {
         "name": "Gene_1199",
         "rawType": "float32",
         "type": "float"
        },
        {
         "name": "Gene_1200",
         "rawType": "float32",
         "type": "float"
        },
        {
         "name": "Gene_1201",
         "rawType": "float32",
         "type": "float"
        },
        {
         "name": "Gene_1202",
         "rawType": "float32",
         "type": "float"
        },
        {
         "name": "Gene_1203",
         "rawType": "float32",
         "type": "float"
        },
        {
         "name": "Gene_1204",
         "rawType": "float32",
         "type": "float"
        },
        {
         "name": "Gene_1205",
         "rawType": "float32",
         "type": "float"
        },
        {
         "name": "Gene_1206",
         "rawType": "float32",
         "type": "float"
        },
        {
         "name": "Gene_1207",
         "rawType": "float32",
         "type": "float"
        },
        {
         "name": "Gene_1208",
         "rawType": "float32",
         "type": "float"
        },
        {
         "name": "Gene_1209",
         "rawType": "float32",
         "type": "float"
        },
        {
         "name": "Gene_1210",
         "rawType": "float32",
         "type": "float"
        },
        {
         "name": "Gene_1211",
         "rawType": "float32",
         "type": "float"
        },
        {
         "name": "Gene_1212",
         "rawType": "float32",
         "type": "float"
        },
        {
         "name": "Gene_1213",
         "rawType": "float32",
         "type": "float"
        },
        {
         "name": "Gene_1214",
         "rawType": "float32",
         "type": "float"
        },
        {
         "name": "Gene_1215",
         "rawType": "float32",
         "type": "float"
        },
        {
         "name": "Gene_1216",
         "rawType": "float32",
         "type": "float"
        },
        {
         "name": "Gene_1217",
         "rawType": "float32",
         "type": "float"
        },
        {
         "name": "Gene_1218",
         "rawType": "float32",
         "type": "float"
        },
        {
         "name": "Gene_1219",
         "rawType": "float32",
         "type": "float"
        },
        {
         "name": "Gene_1220",
         "rawType": "float32",
         "type": "float"
        },
        {
         "name": "Gene_1221",
         "rawType": "float32",
         "type": "float"
        },
        {
         "name": "Gene_1222",
         "rawType": "float32",
         "type": "float"
        },
        {
         "name": "Gene_1223",
         "rawType": "float32",
         "type": "float"
        },
        {
         "name": "Gene_1224",
         "rawType": "float32",
         "type": "float"
        },
        {
         "name": "Gene_1225",
         "rawType": "float32",
         "type": "float"
        },
        {
         "name": "Gene_1226",
         "rawType": "float32",
         "type": "float"
        },
        {
         "name": "Gene_1227",
         "rawType": "float32",
         "type": "float"
        },
        {
         "name": "Gene_1228",
         "rawType": "float32",
         "type": "float"
        },
        {
         "name": "Gene_1229",
         "rawType": "float32",
         "type": "float"
        },
        {
         "name": "Gene_1230",
         "rawType": "float32",
         "type": "float"
        },
        {
         "name": "Gene_1231",
         "rawType": "float32",
         "type": "float"
        },
        {
         "name": "Gene_1232",
         "rawType": "float32",
         "type": "float"
        },
        {
         "name": "Gene_1233",
         "rawType": "float32",
         "type": "float"
        },
        {
         "name": "Gene_1234",
         "rawType": "float32",
         "type": "float"
        },
        {
         "name": "Gene_1235",
         "rawType": "float32",
         "type": "float"
        },
        {
         "name": "Gene_1236",
         "rawType": "float32",
         "type": "float"
        },
        {
         "name": "Gene_1237",
         "rawType": "float32",
         "type": "float"
        },
        {
         "name": "Gene_1238",
         "rawType": "float32",
         "type": "float"
        },
        {
         "name": "Gene_1239",
         "rawType": "float32",
         "type": "float"
        },
        {
         "name": "Gene_1240",
         "rawType": "float32",
         "type": "float"
        },
        {
         "name": "Gene_1241",
         "rawType": "float32",
         "type": "float"
        },
        {
         "name": "Gene_1242",
         "rawType": "float32",
         "type": "float"
        },
        {
         "name": "Gene_1243",
         "rawType": "float32",
         "type": "float"
        },
        {
         "name": "Gene_1244",
         "rawType": "float32",
         "type": "float"
        },
        {
         "name": "Gene_1245",
         "rawType": "float32",
         "type": "float"
        },
        {
         "name": "Gene_1246",
         "rawType": "float32",
         "type": "float"
        },
        {
         "name": "Gene_1247",
         "rawType": "float32",
         "type": "float"
        },
        {
         "name": "Gene_1248",
         "rawType": "float32",
         "type": "float"
        },
        {
         "name": "Gene_1249",
         "rawType": "float32",
         "type": "float"
        },
        {
         "name": "Gene_1250",
         "rawType": "float32",
         "type": "float"
        },
        {
         "name": "Gene_1251",
         "rawType": "float32",
         "type": "float"
        },
        {
         "name": "Gene_1252",
         "rawType": "float32",
         "type": "float"
        },
        {
         "name": "Gene_1253",
         "rawType": "float32",
         "type": "float"
        },
        {
         "name": "Gene_1254",
         "rawType": "float32",
         "type": "float"
        },
        {
         "name": "Gene_1255",
         "rawType": "float32",
         "type": "float"
        },
        {
         "name": "Gene_1256",
         "rawType": "float32",
         "type": "float"
        },
        {
         "name": "Gene_1257",
         "rawType": "float32",
         "type": "float"
        },
        {
         "name": "Gene_1258",
         "rawType": "float32",
         "type": "float"
        },
        {
         "name": "Gene_1259",
         "rawType": "float32",
         "type": "float"
        },
        {
         "name": "Gene_1260",
         "rawType": "float32",
         "type": "float"
        },
        {
         "name": "Gene_1261",
         "rawType": "float32",
         "type": "float"
        },
        {
         "name": "Gene_1262",
         "rawType": "float32",
         "type": "float"
        },
        {
         "name": "Gene_1263",
         "rawType": "float32",
         "type": "float"
        },
        {
         "name": "Gene_1264",
         "rawType": "float32",
         "type": "float"
        },
        {
         "name": "Gene_1265",
         "rawType": "float32",
         "type": "float"
        },
        {
         "name": "Gene_1266",
         "rawType": "float32",
         "type": "float"
        },
        {
         "name": "Gene_1267",
         "rawType": "float32",
         "type": "float"
        },
        {
         "name": "Gene_1268",
         "rawType": "float32",
         "type": "float"
        },
        {
         "name": "Gene_1269",
         "rawType": "float32",
         "type": "float"
        },
        {
         "name": "Gene_1270",
         "rawType": "float32",
         "type": "float"
        },
        {
         "name": "Gene_1271",
         "rawType": "float32",
         "type": "float"
        },
        {
         "name": "Gene_1272",
         "rawType": "float32",
         "type": "float"
        },
        {
         "name": "Gene_1273",
         "rawType": "float32",
         "type": "float"
        },
        {
         "name": "Gene_1274",
         "rawType": "float32",
         "type": "float"
        },
        {
         "name": "Gene_1275",
         "rawType": "float32",
         "type": "float"
        },
        {
         "name": "Gene_1276",
         "rawType": "float32",
         "type": "float"
        },
        {
         "name": "Gene_1277",
         "rawType": "float32",
         "type": "float"
        },
        {
         "name": "Gene_1278",
         "rawType": "float32",
         "type": "float"
        },
        {
         "name": "Gene_1279",
         "rawType": "float32",
         "type": "float"
        },
        {
         "name": "Gene_1280",
         "rawType": "float32",
         "type": "float"
        },
        {
         "name": "Gene_1281",
         "rawType": "float32",
         "type": "float"
        },
        {
         "name": "Gene_1282",
         "rawType": "float32",
         "type": "float"
        },
        {
         "name": "Gene_1283",
         "rawType": "float32",
         "type": "float"
        },
        {
         "name": "Gene_1284",
         "rawType": "float32",
         "type": "float"
        },
        {
         "name": "Gene_1285",
         "rawType": "float32",
         "type": "float"
        },
        {
         "name": "Gene_1286",
         "rawType": "float32",
         "type": "float"
        },
        {
         "name": "Gene_1287",
         "rawType": "float32",
         "type": "float"
        },
        {
         "name": "Gene_1288",
         "rawType": "float32",
         "type": "float"
        },
        {
         "name": "Gene_1289",
         "rawType": "float32",
         "type": "float"
        },
        {
         "name": "Gene_1290",
         "rawType": "float32",
         "type": "float"
        },
        {
         "name": "Gene_1291",
         "rawType": "float32",
         "type": "float"
        },
        {
         "name": "Gene_1292",
         "rawType": "float32",
         "type": "float"
        },
        {
         "name": "Gene_1293",
         "rawType": "float32",
         "type": "float"
        },
        {
         "name": "Gene_1294",
         "rawType": "float32",
         "type": "float"
        },
        {
         "name": "Gene_1295",
         "rawType": "float32",
         "type": "float"
        },
        {
         "name": "Gene_1296",
         "rawType": "float32",
         "type": "float"
        },
        {
         "name": "Gene_1297",
         "rawType": "float32",
         "type": "float"
        },
        {
         "name": "Gene_1298",
         "rawType": "float32",
         "type": "float"
        },
        {
         "name": "Gene_1299",
         "rawType": "float32",
         "type": "float"
        },
        {
         "name": "Gene_1300",
         "rawType": "float32",
         "type": "float"
        },
        {
         "name": "Gene_1301",
         "rawType": "float32",
         "type": "float"
        },
        {
         "name": "Gene_1302",
         "rawType": "float32",
         "type": "float"
        },
        {
         "name": "Gene_1303",
         "rawType": "float32",
         "type": "float"
        },
        {
         "name": "Gene_1304",
         "rawType": "float32",
         "type": "float"
        },
        {
         "name": "Gene_1305",
         "rawType": "float32",
         "type": "float"
        },
        {
         "name": "Gene_1306",
         "rawType": "float32",
         "type": "float"
        },
        {
         "name": "Gene_1307",
         "rawType": "float32",
         "type": "float"
        },
        {
         "name": "Gene_1308",
         "rawType": "float32",
         "type": "float"
        },
        {
         "name": "Gene_1309",
         "rawType": "float32",
         "type": "float"
        },
        {
         "name": "Gene_1310",
         "rawType": "float32",
         "type": "float"
        },
        {
         "name": "Gene_1311",
         "rawType": "float32",
         "type": "float"
        },
        {
         "name": "Gene_1312",
         "rawType": "float32",
         "type": "float"
        },
        {
         "name": "Gene_1313",
         "rawType": "float32",
         "type": "float"
        },
        {
         "name": "Gene_1314",
         "rawType": "float32",
         "type": "float"
        },
        {
         "name": "Gene_1315",
         "rawType": "float32",
         "type": "float"
        },
        {
         "name": "Gene_1316",
         "rawType": "float32",
         "type": "float"
        },
        {
         "name": "Gene_1317",
         "rawType": "float32",
         "type": "float"
        },
        {
         "name": "Gene_1318",
         "rawType": "float32",
         "type": "float"
        },
        {
         "name": "Gene_1319",
         "rawType": "float32",
         "type": "float"
        },
        {
         "name": "Gene_1320",
         "rawType": "float32",
         "type": "float"
        },
        {
         "name": "Gene_1321",
         "rawType": "float32",
         "type": "float"
        },
        {
         "name": "Gene_1322",
         "rawType": "float32",
         "type": "float"
        },
        {
         "name": "Gene_1323",
         "rawType": "float32",
         "type": "float"
        },
        {
         "name": "Gene_1324",
         "rawType": "float32",
         "type": "float"
        },
        {
         "name": "Gene_1325",
         "rawType": "float32",
         "type": "float"
        },
        {
         "name": "Gene_1326",
         "rawType": "float32",
         "type": "float"
        },
        {
         "name": "Gene_1327",
         "rawType": "float32",
         "type": "float"
        },
        {
         "name": "Gene_1328",
         "rawType": "float32",
         "type": "float"
        },
        {
         "name": "Gene_1329",
         "rawType": "float32",
         "type": "float"
        },
        {
         "name": "Gene_1330",
         "rawType": "float32",
         "type": "float"
        },
        {
         "name": "Gene_1331",
         "rawType": "float32",
         "type": "float"
        },
        {
         "name": "Gene_1332",
         "rawType": "float32",
         "type": "float"
        },
        {
         "name": "Gene_1333",
         "rawType": "float32",
         "type": "float"
        },
        {
         "name": "Gene_1334",
         "rawType": "float32",
         "type": "float"
        },
        {
         "name": "Gene_1335",
         "rawType": "float32",
         "type": "float"
        },
        {
         "name": "Gene_1336",
         "rawType": "float32",
         "type": "float"
        },
        {
         "name": "Gene_1337",
         "rawType": "float32",
         "type": "float"
        },
        {
         "name": "Gene_1338",
         "rawType": "float32",
         "type": "float"
        },
        {
         "name": "Gene_1339",
         "rawType": "float32",
         "type": "float"
        },
        {
         "name": "Gene_1340",
         "rawType": "float32",
         "type": "float"
        },
        {
         "name": "Gene_1341",
         "rawType": "float32",
         "type": "float"
        },
        {
         "name": "Gene_1342",
         "rawType": "float32",
         "type": "float"
        },
        {
         "name": "Gene_1343",
         "rawType": "float32",
         "type": "float"
        },
        {
         "name": "Gene_1344",
         "rawType": "float32",
         "type": "float"
        },
        {
         "name": "Gene_1345",
         "rawType": "float32",
         "type": "float"
        },
        {
         "name": "Gene_1346",
         "rawType": "float32",
         "type": "float"
        },
        {
         "name": "Gene_1347",
         "rawType": "float32",
         "type": "float"
        },
        {
         "name": "Gene_1348",
         "rawType": "float32",
         "type": "float"
        },
        {
         "name": "Gene_1349",
         "rawType": "float32",
         "type": "float"
        },
        {
         "name": "Gene_1350",
         "rawType": "float32",
         "type": "float"
        },
        {
         "name": "Gene_1351",
         "rawType": "float32",
         "type": "float"
        },
        {
         "name": "Gene_1352",
         "rawType": "float32",
         "type": "float"
        },
        {
         "name": "Gene_1353",
         "rawType": "float32",
         "type": "float"
        },
        {
         "name": "Gene_1354",
         "rawType": "float32",
         "type": "float"
        },
        {
         "name": "Gene_1355",
         "rawType": "float32",
         "type": "float"
        },
        {
         "name": "Gene_1356",
         "rawType": "float32",
         "type": "float"
        },
        {
         "name": "Gene_1357",
         "rawType": "float32",
         "type": "float"
        },
        {
         "name": "Gene_1358",
         "rawType": "float32",
         "type": "float"
        },
        {
         "name": "Gene_1359",
         "rawType": "float32",
         "type": "float"
        },
        {
         "name": "Gene_1360",
         "rawType": "float32",
         "type": "float"
        },
        {
         "name": "Gene_1361",
         "rawType": "float32",
         "type": "float"
        },
        {
         "name": "Gene_1362",
         "rawType": "float32",
         "type": "float"
        },
        {
         "name": "Gene_1363",
         "rawType": "float32",
         "type": "float"
        },
        {
         "name": "Gene_1364",
         "rawType": "float32",
         "type": "float"
        },
        {
         "name": "Gene_1365",
         "rawType": "float32",
         "type": "float"
        },
        {
         "name": "Gene_1366",
         "rawType": "float32",
         "type": "float"
        },
        {
         "name": "Gene_1367",
         "rawType": "float32",
         "type": "float"
        },
        {
         "name": "Gene_1368",
         "rawType": "float32",
         "type": "float"
        },
        {
         "name": "Gene_1369",
         "rawType": "float32",
         "type": "float"
        },
        {
         "name": "Gene_1370",
         "rawType": "float32",
         "type": "float"
        },
        {
         "name": "Gene_1371",
         "rawType": "float32",
         "type": "float"
        },
        {
         "name": "Gene_1372",
         "rawType": "float32",
         "type": "float"
        },
        {
         "name": "Gene_1373",
         "rawType": "float32",
         "type": "float"
        },
        {
         "name": "Gene_1374",
         "rawType": "float32",
         "type": "float"
        },
        {
         "name": "Gene_1375",
         "rawType": "float32",
         "type": "float"
        },
        {
         "name": "Gene_1376",
         "rawType": "float32",
         "type": "float"
        },
        {
         "name": "Gene_1377",
         "rawType": "float32",
         "type": "float"
        },
        {
         "name": "Gene_1378",
         "rawType": "float32",
         "type": "float"
        },
        {
         "name": "Gene_1379",
         "rawType": "float32",
         "type": "float"
        },
        {
         "name": "Gene_1380",
         "rawType": "float32",
         "type": "float"
        },
        {
         "name": "Gene_1381",
         "rawType": "float32",
         "type": "float"
        },
        {
         "name": "Gene_1382",
         "rawType": "float32",
         "type": "float"
        },
        {
         "name": "Gene_1383",
         "rawType": "float32",
         "type": "float"
        },
        {
         "name": "Gene_1384",
         "rawType": "float32",
         "type": "float"
        },
        {
         "name": "Gene_1385",
         "rawType": "float32",
         "type": "float"
        },
        {
         "name": "Gene_1386",
         "rawType": "float32",
         "type": "float"
        },
        {
         "name": "Gene_1387",
         "rawType": "float32",
         "type": "float"
        },
        {
         "name": "Gene_1388",
         "rawType": "float32",
         "type": "float"
        },
        {
         "name": "Gene_1389",
         "rawType": "float32",
         "type": "float"
        },
        {
         "name": "Gene_1390",
         "rawType": "float32",
         "type": "float"
        },
        {
         "name": "Gene_1391",
         "rawType": "float32",
         "type": "float"
        },
        {
         "name": "Gene_1392",
         "rawType": "float32",
         "type": "float"
        },
        {
         "name": "Gene_1393",
         "rawType": "float32",
         "type": "float"
        },
        {
         "name": "Gene_1394",
         "rawType": "float32",
         "type": "float"
        },
        {
         "name": "Gene_1395",
         "rawType": "float32",
         "type": "float"
        },
        {
         "name": "Gene_1396",
         "rawType": "float32",
         "type": "float"
        },
        {
         "name": "Gene_1397",
         "rawType": "float32",
         "type": "float"
        },
        {
         "name": "Gene_1398",
         "rawType": "float32",
         "type": "float"
        },
        {
         "name": "Gene_1399",
         "rawType": "float32",
         "type": "float"
        },
        {
         "name": "Gene_1400",
         "rawType": "float32",
         "type": "float"
        },
        {
         "name": "Gene_1401",
         "rawType": "float32",
         "type": "float"
        },
        {
         "name": "Gene_1402",
         "rawType": "float32",
         "type": "float"
        },
        {
         "name": "Gene_1403",
         "rawType": "float32",
         "type": "float"
        },
        {
         "name": "Gene_1404",
         "rawType": "float32",
         "type": "float"
        },
        {
         "name": "Gene_1405",
         "rawType": "float32",
         "type": "float"
        },
        {
         "name": "Gene_1406",
         "rawType": "float32",
         "type": "float"
        },
        {
         "name": "Gene_1407",
         "rawType": "float32",
         "type": "float"
        },
        {
         "name": "Gene_1408",
         "rawType": "float32",
         "type": "float"
        },
        {
         "name": "Gene_1409",
         "rawType": "float32",
         "type": "float"
        },
        {
         "name": "Gene_1410",
         "rawType": "float32",
         "type": "float"
        },
        {
         "name": "Gene_1411",
         "rawType": "float32",
         "type": "float"
        },
        {
         "name": "Gene_1412",
         "rawType": "float32",
         "type": "float"
        },
        {
         "name": "Gene_1413",
         "rawType": "float32",
         "type": "float"
        },
        {
         "name": "Gene_1414",
         "rawType": "float32",
         "type": "float"
        },
        {
         "name": "Gene_1415",
         "rawType": "float32",
         "type": "float"
        },
        {
         "name": "Gene_1416",
         "rawType": "float32",
         "type": "float"
        },
        {
         "name": "Gene_1417",
         "rawType": "float32",
         "type": "float"
        },
        {
         "name": "Gene_1418",
         "rawType": "float32",
         "type": "float"
        },
        {
         "name": "Gene_1419",
         "rawType": "float32",
         "type": "float"
        },
        {
         "name": "Gene_1420",
         "rawType": "float32",
         "type": "float"
        },
        {
         "name": "Gene_1421",
         "rawType": "float32",
         "type": "float"
        },
        {
         "name": "Gene_1422",
         "rawType": "float32",
         "type": "float"
        },
        {
         "name": "Gene_1423",
         "rawType": "float32",
         "type": "float"
        },
        {
         "name": "Gene_1424",
         "rawType": "float32",
         "type": "float"
        },
        {
         "name": "Gene_1425",
         "rawType": "float32",
         "type": "float"
        },
        {
         "name": "Gene_1426",
         "rawType": "float32",
         "type": "float"
        },
        {
         "name": "Gene_1427",
         "rawType": "float32",
         "type": "float"
        },
        {
         "name": "Gene_1428",
         "rawType": "float32",
         "type": "float"
        },
        {
         "name": "Gene_1429",
         "rawType": "float32",
         "type": "float"
        },
        {
         "name": "Gene_1430",
         "rawType": "float32",
         "type": "float"
        },
        {
         "name": "Gene_1431",
         "rawType": "float32",
         "type": "float"
        },
        {
         "name": "Gene_1432",
         "rawType": "float32",
         "type": "float"
        },
        {
         "name": "Gene_1433",
         "rawType": "float32",
         "type": "float"
        },
        {
         "name": "Gene_1434",
         "rawType": "float32",
         "type": "float"
        },
        {
         "name": "Gene_1435",
         "rawType": "float32",
         "type": "float"
        },
        {
         "name": "Gene_1436",
         "rawType": "float32",
         "type": "float"
        },
        {
         "name": "Gene_1437",
         "rawType": "float32",
         "type": "float"
        },
        {
         "name": "Gene_1438",
         "rawType": "float32",
         "type": "float"
        },
        {
         "name": "Gene_1439",
         "rawType": "float32",
         "type": "float"
        },
        {
         "name": "Gene_1440",
         "rawType": "float32",
         "type": "float"
        },
        {
         "name": "Gene_1441",
         "rawType": "float32",
         "type": "float"
        },
        {
         "name": "Gene_1442",
         "rawType": "float32",
         "type": "float"
        },
        {
         "name": "Gene_1443",
         "rawType": "float32",
         "type": "float"
        },
        {
         "name": "Gene_1444",
         "rawType": "float32",
         "type": "float"
        },
        {
         "name": "Gene_1445",
         "rawType": "float32",
         "type": "float"
        },
        {
         "name": "Gene_1446",
         "rawType": "float32",
         "type": "float"
        },
        {
         "name": "Gene_1447",
         "rawType": "float32",
         "type": "float"
        },
        {
         "name": "Gene_1448",
         "rawType": "float32",
         "type": "float"
        },
        {
         "name": "Gene_1449",
         "rawType": "float32",
         "type": "float"
        },
        {
         "name": "Gene_1450",
         "rawType": "float32",
         "type": "float"
        },
        {
         "name": "Gene_1451",
         "rawType": "float32",
         "type": "float"
        },
        {
         "name": "Gene_1452",
         "rawType": "float32",
         "type": "float"
        },
        {
         "name": "Gene_1453",
         "rawType": "float32",
         "type": "float"
        },
        {
         "name": "Gene_1454",
         "rawType": "float32",
         "type": "float"
        },
        {
         "name": "Gene_1455",
         "rawType": "float32",
         "type": "float"
        },
        {
         "name": "Gene_1456",
         "rawType": "float32",
         "type": "float"
        },
        {
         "name": "Gene_1457",
         "rawType": "float32",
         "type": "float"
        },
        {
         "name": "Gene_1458",
         "rawType": "float32",
         "type": "float"
        },
        {
         "name": "Gene_1459",
         "rawType": "float32",
         "type": "float"
        },
        {
         "name": "Gene_1460",
         "rawType": "float32",
         "type": "float"
        },
        {
         "name": "Gene_1461",
         "rawType": "float32",
         "type": "float"
        },
        {
         "name": "Gene_1462",
         "rawType": "float32",
         "type": "float"
        },
        {
         "name": "Gene_1463",
         "rawType": "float32",
         "type": "float"
        },
        {
         "name": "Gene_1464",
         "rawType": "float32",
         "type": "float"
        },
        {
         "name": "Gene_1465",
         "rawType": "float32",
         "type": "float"
        },
        {
         "name": "Gene_1466",
         "rawType": "float32",
         "type": "float"
        },
        {
         "name": "Gene_1467",
         "rawType": "float32",
         "type": "float"
        },
        {
         "name": "Gene_1468",
         "rawType": "float32",
         "type": "float"
        },
        {
         "name": "Gene_1469",
         "rawType": "float32",
         "type": "float"
        },
        {
         "name": "Gene_1470",
         "rawType": "float32",
         "type": "float"
        },
        {
         "name": "Gene_1471",
         "rawType": "float32",
         "type": "float"
        },
        {
         "name": "Gene_1472",
         "rawType": "float32",
         "type": "float"
        },
        {
         "name": "Gene_1473",
         "rawType": "float32",
         "type": "float"
        },
        {
         "name": "Gene_1474",
         "rawType": "float32",
         "type": "float"
        },
        {
         "name": "Gene_1475",
         "rawType": "float32",
         "type": "float"
        },
        {
         "name": "Gene_1476",
         "rawType": "float32",
         "type": "float"
        },
        {
         "name": "Gene_1477",
         "rawType": "float32",
         "type": "float"
        },
        {
         "name": "Gene_1478",
         "rawType": "float32",
         "type": "float"
        },
        {
         "name": "Gene_1479",
         "rawType": "float32",
         "type": "float"
        },
        {
         "name": "Gene_1480",
         "rawType": "float32",
         "type": "float"
        },
        {
         "name": "Gene_1481",
         "rawType": "float32",
         "type": "float"
        },
        {
         "name": "Gene_1482",
         "rawType": "float32",
         "type": "float"
        },
        {
         "name": "Gene_1483",
         "rawType": "float32",
         "type": "float"
        },
        {
         "name": "Gene_1484",
         "rawType": "float32",
         "type": "float"
        },
        {
         "name": "Gene_1485",
         "rawType": "float32",
         "type": "float"
        },
        {
         "name": "Gene_1486",
         "rawType": "float32",
         "type": "float"
        },
        {
         "name": "Gene_1487",
         "rawType": "float32",
         "type": "float"
        },
        {
         "name": "Gene_1488",
         "rawType": "float32",
         "type": "float"
        },
        {
         "name": "Gene_1489",
         "rawType": "float32",
         "type": "float"
        },
        {
         "name": "Gene_1490",
         "rawType": "float32",
         "type": "float"
        },
        {
         "name": "Gene_1491",
         "rawType": "float32",
         "type": "float"
        },
        {
         "name": "Gene_1492",
         "rawType": "float32",
         "type": "float"
        },
        {
         "name": "Gene_1493",
         "rawType": "float32",
         "type": "float"
        },
        {
         "name": "Gene_1494",
         "rawType": "float32",
         "type": "float"
        },
        {
         "name": "Gene_1495",
         "rawType": "float32",
         "type": "float"
        },
        {
         "name": "Gene_1496",
         "rawType": "float32",
         "type": "float"
        },
        {
         "name": "Gene_1497",
         "rawType": "float32",
         "type": "float"
        },
        {
         "name": "Gene_1498",
         "rawType": "float32",
         "type": "float"
        },
        {
         "name": "Gene_1499",
         "rawType": "float32",
         "type": "float"
        },
        {
         "name": "Gene_1500",
         "rawType": "float32",
         "type": "float"
        },
        {
         "name": "Gene_1501",
         "rawType": "float32",
         "type": "float"
        },
        {
         "name": "Gene_1502",
         "rawType": "float32",
         "type": "float"
        },
        {
         "name": "Gene_1503",
         "rawType": "float32",
         "type": "float"
        },
        {
         "name": "Gene_1504",
         "rawType": "float32",
         "type": "float"
        },
        {
         "name": "Gene_1505",
         "rawType": "float32",
         "type": "float"
        },
        {
         "name": "Gene_1506",
         "rawType": "float32",
         "type": "float"
        },
        {
         "name": "Gene_1507",
         "rawType": "float32",
         "type": "float"
        },
        {
         "name": "Gene_1508",
         "rawType": "float32",
         "type": "float"
        },
        {
         "name": "Gene_1509",
         "rawType": "float32",
         "type": "float"
        },
        {
         "name": "Gene_1510",
         "rawType": "float32",
         "type": "float"
        },
        {
         "name": "Gene_1511",
         "rawType": "float32",
         "type": "float"
        },
        {
         "name": "Gene_1512",
         "rawType": "float32",
         "type": "float"
        },
        {
         "name": "Gene_1513",
         "rawType": "float32",
         "type": "float"
        },
        {
         "name": "Gene_1514",
         "rawType": "float32",
         "type": "float"
        },
        {
         "name": "Gene_1515",
         "rawType": "float32",
         "type": "float"
        },
        {
         "name": "Gene_1516",
         "rawType": "float32",
         "type": "float"
        },
        {
         "name": "Gene_1517",
         "rawType": "float32",
         "type": "float"
        },
        {
         "name": "Gene_1518",
         "rawType": "float32",
         "type": "float"
        },
        {
         "name": "Gene_1519",
         "rawType": "float32",
         "type": "float"
        },
        {
         "name": "Gene_1520",
         "rawType": "float32",
         "type": "float"
        },
        {
         "name": "Gene_1521",
         "rawType": "float32",
         "type": "float"
        },
        {
         "name": "Gene_1522",
         "rawType": "float32",
         "type": "float"
        },
        {
         "name": "Gene_1523",
         "rawType": "float32",
         "type": "float"
        },
        {
         "name": "Gene_1524",
         "rawType": "float32",
         "type": "float"
        },
        {
         "name": "Gene_1525",
         "rawType": "float32",
         "type": "float"
        },
        {
         "name": "Gene_1526",
         "rawType": "float32",
         "type": "float"
        },
        {
         "name": "Gene_1527",
         "rawType": "float32",
         "type": "float"
        },
        {
         "name": "Gene_1528",
         "rawType": "float32",
         "type": "float"
        },
        {
         "name": "Gene_1529",
         "rawType": "float32",
         "type": "float"
        },
        {
         "name": "Gene_1530",
         "rawType": "float32",
         "type": "float"
        },
        {
         "name": "Gene_1531",
         "rawType": "float32",
         "type": "float"
        },
        {
         "name": "Gene_1532",
         "rawType": "float32",
         "type": "float"
        },
        {
         "name": "Gene_1533",
         "rawType": "float32",
         "type": "float"
        },
        {
         "name": "Gene_1534",
         "rawType": "float32",
         "type": "float"
        },
        {
         "name": "Gene_1535",
         "rawType": "float32",
         "type": "float"
        },
        {
         "name": "Gene_1536",
         "rawType": "float32",
         "type": "float"
        },
        {
         "name": "Gene_1537",
         "rawType": "float32",
         "type": "float"
        },
        {
         "name": "Gene_1538",
         "rawType": "float32",
         "type": "float"
        },
        {
         "name": "Gene_1539",
         "rawType": "float32",
         "type": "float"
        },
        {
         "name": "Gene_1540",
         "rawType": "float32",
         "type": "float"
        },
        {
         "name": "Gene_1541",
         "rawType": "float32",
         "type": "float"
        },
        {
         "name": "Gene_1542",
         "rawType": "float32",
         "type": "float"
        },
        {
         "name": "Gene_1543",
         "rawType": "float32",
         "type": "float"
        },
        {
         "name": "Gene_1544",
         "rawType": "float32",
         "type": "float"
        },
        {
         "name": "Gene_1545",
         "rawType": "float32",
         "type": "float"
        },
        {
         "name": "Gene_1546",
         "rawType": "float32",
         "type": "float"
        },
        {
         "name": "Gene_1547",
         "rawType": "float32",
         "type": "float"
        },
        {
         "name": "Gene_1548",
         "rawType": "float32",
         "type": "float"
        },
        {
         "name": "Gene_1549",
         "rawType": "float32",
         "type": "float"
        },
        {
         "name": "Gene_1550",
         "rawType": "float32",
         "type": "float"
        },
        {
         "name": "Gene_1551",
         "rawType": "float32",
         "type": "float"
        },
        {
         "name": "Gene_1552",
         "rawType": "float32",
         "type": "float"
        },
        {
         "name": "Gene_1553",
         "rawType": "float32",
         "type": "float"
        },
        {
         "name": "Gene_1554",
         "rawType": "float32",
         "type": "float"
        },
        {
         "name": "Gene_1555",
         "rawType": "float32",
         "type": "float"
        },
        {
         "name": "Gene_1556",
         "rawType": "float32",
         "type": "float"
        },
        {
         "name": "Gene_1557",
         "rawType": "float32",
         "type": "float"
        },
        {
         "name": "Gene_1558",
         "rawType": "float32",
         "type": "float"
        },
        {
         "name": "Gene_1559",
         "rawType": "float32",
         "type": "float"
        },
        {
         "name": "Gene_1560",
         "rawType": "float32",
         "type": "float"
        },
        {
         "name": "Gene_1561",
         "rawType": "float32",
         "type": "float"
        },
        {
         "name": "Gene_1562",
         "rawType": "float32",
         "type": "float"
        },
        {
         "name": "Gene_1563",
         "rawType": "float32",
         "type": "float"
        },
        {
         "name": "Gene_1564",
         "rawType": "float32",
         "type": "float"
        },
        {
         "name": "Gene_1565",
         "rawType": "float32",
         "type": "float"
        },
        {
         "name": "Gene_1566",
         "rawType": "float32",
         "type": "float"
        },
        {
         "name": "Gene_1567",
         "rawType": "float32",
         "type": "float"
        },
        {
         "name": "Gene_1568",
         "rawType": "float32",
         "type": "float"
        },
        {
         "name": "Gene_1569",
         "rawType": "float32",
         "type": "float"
        },
        {
         "name": "Gene_1570",
         "rawType": "float32",
         "type": "float"
        },
        {
         "name": "Gene_1571",
         "rawType": "float32",
         "type": "float"
        },
        {
         "name": "Gene_1572",
         "rawType": "float32",
         "type": "float"
        },
        {
         "name": "Gene_1573",
         "rawType": "float32",
         "type": "float"
        },
        {
         "name": "Gene_1574",
         "rawType": "float32",
         "type": "float"
        },
        {
         "name": "Gene_1575",
         "rawType": "float32",
         "type": "float"
        },
        {
         "name": "Gene_1576",
         "rawType": "float32",
         "type": "float"
        },
        {
         "name": "Gene_1577",
         "rawType": "float32",
         "type": "float"
        },
        {
         "name": "Gene_1578",
         "rawType": "float32",
         "type": "float"
        },
        {
         "name": "Gene_1579",
         "rawType": "float32",
         "type": "float"
        },
        {
         "name": "Gene_1580",
         "rawType": "float32",
         "type": "float"
        },
        {
         "name": "Gene_1581",
         "rawType": "float32",
         "type": "float"
        },
        {
         "name": "Gene_1582",
         "rawType": "float32",
         "type": "float"
        },
        {
         "name": "Gene_1583",
         "rawType": "float32",
         "type": "float"
        },
        {
         "name": "Gene_1584",
         "rawType": "float32",
         "type": "float"
        },
        {
         "name": "Gene_1585",
         "rawType": "float32",
         "type": "float"
        },
        {
         "name": "Gene_1586",
         "rawType": "float32",
         "type": "float"
        },
        {
         "name": "Gene_1587",
         "rawType": "float32",
         "type": "float"
        },
        {
         "name": "Gene_1588",
         "rawType": "float32",
         "type": "float"
        },
        {
         "name": "Gene_1589",
         "rawType": "float32",
         "type": "float"
        },
        {
         "name": "Gene_1590",
         "rawType": "float32",
         "type": "float"
        },
        {
         "name": "Gene_1591",
         "rawType": "float32",
         "type": "float"
        },
        {
         "name": "Gene_1592",
         "rawType": "float32",
         "type": "float"
        },
        {
         "name": "Gene_1593",
         "rawType": "float32",
         "type": "float"
        },
        {
         "name": "Gene_1594",
         "rawType": "float32",
         "type": "float"
        },
        {
         "name": "Gene_1595",
         "rawType": "float32",
         "type": "float"
        },
        {
         "name": "Gene_1596",
         "rawType": "float32",
         "type": "float"
        },
        {
         "name": "Gene_1597",
         "rawType": "float32",
         "type": "float"
        },
        {
         "name": "Gene_1598",
         "rawType": "float32",
         "type": "float"
        },
        {
         "name": "Gene_1599",
         "rawType": "float32",
         "type": "float"
        },
        {
         "name": "Gene_1600",
         "rawType": "float32",
         "type": "float"
        },
        {
         "name": "Gene_1601",
         "rawType": "float32",
         "type": "float"
        },
        {
         "name": "Gene_1602",
         "rawType": "float32",
         "type": "float"
        },
        {
         "name": "Gene_1603",
         "rawType": "float32",
         "type": "float"
        },
        {
         "name": "Gene_1604",
         "rawType": "float32",
         "type": "float"
        },
        {
         "name": "Gene_1605",
         "rawType": "float32",
         "type": "float"
        },
        {
         "name": "Gene_1606",
         "rawType": "float32",
         "type": "float"
        },
        {
         "name": "Gene_1607",
         "rawType": "float32",
         "type": "float"
        },
        {
         "name": "Gene_1608",
         "rawType": "float32",
         "type": "float"
        },
        {
         "name": "Gene_1609",
         "rawType": "float32",
         "type": "float"
        },
        {
         "name": "Gene_1610",
         "rawType": "float32",
         "type": "float"
        },
        {
         "name": "Gene_1611",
         "rawType": "float32",
         "type": "float"
        },
        {
         "name": "Gene_1612",
         "rawType": "float32",
         "type": "float"
        },
        {
         "name": "Gene_1613",
         "rawType": "float32",
         "type": "float"
        },
        {
         "name": "Gene_1614",
         "rawType": "float32",
         "type": "float"
        },
        {
         "name": "Gene_1615",
         "rawType": "float32",
         "type": "float"
        },
        {
         "name": "Gene_1616",
         "rawType": "float32",
         "type": "float"
        },
        {
         "name": "Gene_1617",
         "rawType": "float32",
         "type": "float"
        },
        {
         "name": "Gene_1618",
         "rawType": "float32",
         "type": "float"
        },
        {
         "name": "Gene_1619",
         "rawType": "float32",
         "type": "float"
        },
        {
         "name": "Gene_1620",
         "rawType": "float32",
         "type": "float"
        },
        {
         "name": "Gene_1621",
         "rawType": "float32",
         "type": "float"
        },
        {
         "name": "Gene_1622",
         "rawType": "float32",
         "type": "float"
        },
        {
         "name": "Gene_1623",
         "rawType": "float32",
         "type": "float"
        },
        {
         "name": "Gene_1624",
         "rawType": "float32",
         "type": "float"
        },
        {
         "name": "Gene_1625",
         "rawType": "float32",
         "type": "float"
        },
        {
         "name": "Gene_1626",
         "rawType": "float32",
         "type": "float"
        },
        {
         "name": "Gene_1627",
         "rawType": "float32",
         "type": "float"
        },
        {
         "name": "Gene_1628",
         "rawType": "float32",
         "type": "float"
        },
        {
         "name": "Gene_1629",
         "rawType": "float32",
         "type": "float"
        },
        {
         "name": "Gene_1630",
         "rawType": "float32",
         "type": "float"
        },
        {
         "name": "Gene_1631",
         "rawType": "float32",
         "type": "float"
        },
        {
         "name": "Gene_1632",
         "rawType": "float32",
         "type": "float"
        },
        {
         "name": "Gene_1633",
         "rawType": "float32",
         "type": "float"
        },
        {
         "name": "Gene_1634",
         "rawType": "float32",
         "type": "float"
        },
        {
         "name": "Gene_1635",
         "rawType": "float32",
         "type": "float"
        },
        {
         "name": "Gene_1636",
         "rawType": "float32",
         "type": "float"
        },
        {
         "name": "Gene_1637",
         "rawType": "float32",
         "type": "float"
        },
        {
         "name": "Gene_1638",
         "rawType": "float32",
         "type": "float"
        },
        {
         "name": "Gene_1639",
         "rawType": "float32",
         "type": "float"
        },
        {
         "name": "Gene_1640",
         "rawType": "float32",
         "type": "float"
        },
        {
         "name": "Gene_1641",
         "rawType": "float32",
         "type": "float"
        },
        {
         "name": "Gene_1642",
         "rawType": "float32",
         "type": "float"
        },
        {
         "name": "Gene_1643",
         "rawType": "float32",
         "type": "float"
        },
        {
         "name": "Gene_1644",
         "rawType": "float32",
         "type": "float"
        },
        {
         "name": "Gene_1645",
         "rawType": "float32",
         "type": "float"
        },
        {
         "name": "Gene_1646",
         "rawType": "float32",
         "type": "float"
        },
        {
         "name": "Gene_1647",
         "rawType": "float32",
         "type": "float"
        },
        {
         "name": "Gene_1648",
         "rawType": "float32",
         "type": "float"
        },
        {
         "name": "Gene_1649",
         "rawType": "float32",
         "type": "float"
        },
        {
         "name": "Gene_1650",
         "rawType": "float32",
         "type": "float"
        },
        {
         "name": "Gene_1651",
         "rawType": "float32",
         "type": "float"
        },
        {
         "name": "Gene_1652",
         "rawType": "float32",
         "type": "float"
        },
        {
         "name": "Gene_1653",
         "rawType": "float32",
         "type": "float"
        },
        {
         "name": "Gene_1654",
         "rawType": "float32",
         "type": "float"
        },
        {
         "name": "Gene_1655",
         "rawType": "float32",
         "type": "float"
        },
        {
         "name": "Gene_1656",
         "rawType": "float32",
         "type": "float"
        },
        {
         "name": "Gene_1657",
         "rawType": "float32",
         "type": "float"
        },
        {
         "name": "Gene_1658",
         "rawType": "float32",
         "type": "float"
        },
        {
         "name": "Gene_1659",
         "rawType": "float32",
         "type": "float"
        },
        {
         "name": "Gene_1660",
         "rawType": "float32",
         "type": "float"
        },
        {
         "name": "Gene_1661",
         "rawType": "float32",
         "type": "float"
        },
        {
         "name": "Gene_1662",
         "rawType": "float32",
         "type": "float"
        },
        {
         "name": "Gene_1663",
         "rawType": "float32",
         "type": "float"
        },
        {
         "name": "Gene_1664",
         "rawType": "float32",
         "type": "float"
        },
        {
         "name": "Gene_1665",
         "rawType": "float32",
         "type": "float"
        },
        {
         "name": "Gene_1666",
         "rawType": "float32",
         "type": "float"
        },
        {
         "name": "Gene_1667",
         "rawType": "float32",
         "type": "float"
        },
        {
         "name": "Gene_1668",
         "rawType": "float32",
         "type": "float"
        },
        {
         "name": "Gene_1669",
         "rawType": "float32",
         "type": "float"
        },
        {
         "name": "Gene_1670",
         "rawType": "float32",
         "type": "float"
        },
        {
         "name": "Gene_1671",
         "rawType": "float32",
         "type": "float"
        },
        {
         "name": "Gene_1672",
         "rawType": "float32",
         "type": "float"
        },
        {
         "name": "Gene_1673",
         "rawType": "float32",
         "type": "float"
        },
        {
         "name": "Gene_1674",
         "rawType": "float32",
         "type": "float"
        },
        {
         "name": "Gene_1675",
         "rawType": "float32",
         "type": "float"
        },
        {
         "name": "Gene_1676",
         "rawType": "float32",
         "type": "float"
        },
        {
         "name": "Gene_1677",
         "rawType": "float32",
         "type": "float"
        },
        {
         "name": "Gene_1678",
         "rawType": "float32",
         "type": "float"
        },
        {
         "name": "Gene_1679",
         "rawType": "float32",
         "type": "float"
        },
        {
         "name": "Gene_1680",
         "rawType": "float32",
         "type": "float"
        },
        {
         "name": "Gene_1681",
         "rawType": "float32",
         "type": "float"
        },
        {
         "name": "Gene_1682",
         "rawType": "float32",
         "type": "float"
        },
        {
         "name": "Gene_1683",
         "rawType": "float32",
         "type": "float"
        },
        {
         "name": "Gene_1684",
         "rawType": "float32",
         "type": "float"
        },
        {
         "name": "Gene_1685",
         "rawType": "float32",
         "type": "float"
        },
        {
         "name": "Gene_1686",
         "rawType": "float32",
         "type": "float"
        },
        {
         "name": "Gene_1687",
         "rawType": "float32",
         "type": "float"
        },
        {
         "name": "Gene_1688",
         "rawType": "float32",
         "type": "float"
        },
        {
         "name": "Gene_1689",
         "rawType": "float32",
         "type": "float"
        },
        {
         "name": "Gene_1690",
         "rawType": "float32",
         "type": "float"
        },
        {
         "name": "Gene_1691",
         "rawType": "float32",
         "type": "float"
        },
        {
         "name": "Gene_1692",
         "rawType": "float32",
         "type": "float"
        },
        {
         "name": "Gene_1693",
         "rawType": "float32",
         "type": "float"
        },
        {
         "name": "Gene_1694",
         "rawType": "float32",
         "type": "float"
        },
        {
         "name": "Gene_1695",
         "rawType": "float32",
         "type": "float"
        },
        {
         "name": "Gene_1696",
         "rawType": "float32",
         "type": "float"
        },
        {
         "name": "Gene_1697",
         "rawType": "float32",
         "type": "float"
        },
        {
         "name": "Gene_1698",
         "rawType": "float32",
         "type": "float"
        },
        {
         "name": "Gene_1699",
         "rawType": "float32",
         "type": "float"
        },
        {
         "name": "Gene_1700",
         "rawType": "float32",
         "type": "float"
        },
        {
         "name": "Gene_1701",
         "rawType": "float32",
         "type": "float"
        },
        {
         "name": "Gene_1702",
         "rawType": "float32",
         "type": "float"
        },
        {
         "name": "Gene_1703",
         "rawType": "float32",
         "type": "float"
        },
        {
         "name": "Gene_1704",
         "rawType": "float32",
         "type": "float"
        },
        {
         "name": "Gene_1705",
         "rawType": "float32",
         "type": "float"
        },
        {
         "name": "Gene_1706",
         "rawType": "float32",
         "type": "float"
        },
        {
         "name": "Gene_1707",
         "rawType": "float32",
         "type": "float"
        },
        {
         "name": "Gene_1708",
         "rawType": "float32",
         "type": "float"
        },
        {
         "name": "Gene_1709",
         "rawType": "float32",
         "type": "float"
        },
        {
         "name": "Gene_1710",
         "rawType": "float32",
         "type": "float"
        },
        {
         "name": "Gene_1711",
         "rawType": "float32",
         "type": "float"
        },
        {
         "name": "Gene_1712",
         "rawType": "float32",
         "type": "float"
        },
        {
         "name": "Gene_1713",
         "rawType": "float32",
         "type": "float"
        },
        {
         "name": "Gene_1714",
         "rawType": "float32",
         "type": "float"
        },
        {
         "name": "Gene_1715",
         "rawType": "float32",
         "type": "float"
        },
        {
         "name": "Gene_1716",
         "rawType": "float32",
         "type": "float"
        },
        {
         "name": "Gene_1717",
         "rawType": "float32",
         "type": "float"
        },
        {
         "name": "Gene_1718",
         "rawType": "float32",
         "type": "float"
        },
        {
         "name": "Gene_1719",
         "rawType": "float32",
         "type": "float"
        },
        {
         "name": "Gene_1720",
         "rawType": "float32",
         "type": "float"
        },
        {
         "name": "Gene_1721",
         "rawType": "float32",
         "type": "float"
        },
        {
         "name": "Gene_1722",
         "rawType": "float32",
         "type": "float"
        },
        {
         "name": "Gene_1723",
         "rawType": "float32",
         "type": "float"
        },
        {
         "name": "Gene_1724",
         "rawType": "float32",
         "type": "float"
        },
        {
         "name": "Gene_1725",
         "rawType": "float32",
         "type": "float"
        },
        {
         "name": "Gene_1726",
         "rawType": "float32",
         "type": "float"
        },
        {
         "name": "Gene_1727",
         "rawType": "float32",
         "type": "float"
        },
        {
         "name": "Gene_1728",
         "rawType": "float32",
         "type": "float"
        },
        {
         "name": "Gene_1729",
         "rawType": "float32",
         "type": "float"
        },
        {
         "name": "Gene_1730",
         "rawType": "float32",
         "type": "float"
        },
        {
         "name": "Gene_1731",
         "rawType": "float32",
         "type": "float"
        },
        {
         "name": "Gene_1732",
         "rawType": "float32",
         "type": "float"
        },
        {
         "name": "Gene_1733",
         "rawType": "float32",
         "type": "float"
        },
        {
         "name": "Gene_1734",
         "rawType": "float32",
         "type": "float"
        },
        {
         "name": "Gene_1735",
         "rawType": "float32",
         "type": "float"
        },
        {
         "name": "Gene_1736",
         "rawType": "float32",
         "type": "float"
        },
        {
         "name": "Gene_1737",
         "rawType": "float32",
         "type": "float"
        },
        {
         "name": "Gene_1738",
         "rawType": "float32",
         "type": "float"
        },
        {
         "name": "Gene_1739",
         "rawType": "float32",
         "type": "float"
        },
        {
         "name": "Gene_1740",
         "rawType": "float32",
         "type": "float"
        },
        {
         "name": "Gene_1741",
         "rawType": "float32",
         "type": "float"
        },
        {
         "name": "Gene_1742",
         "rawType": "float32",
         "type": "float"
        },
        {
         "name": "Gene_1743",
         "rawType": "float32",
         "type": "float"
        },
        {
         "name": "Gene_1744",
         "rawType": "float32",
         "type": "float"
        },
        {
         "name": "Gene_1745",
         "rawType": "float32",
         "type": "float"
        },
        {
         "name": "Gene_1746",
         "rawType": "float32",
         "type": "float"
        },
        {
         "name": "Gene_1747",
         "rawType": "float32",
         "type": "float"
        },
        {
         "name": "Gene_1748",
         "rawType": "float32",
         "type": "float"
        },
        {
         "name": "Gene_1749",
         "rawType": "float32",
         "type": "float"
        },
        {
         "name": "Gene_1750",
         "rawType": "float32",
         "type": "float"
        },
        {
         "name": "Gene_1751",
         "rawType": "float32",
         "type": "float"
        },
        {
         "name": "Gene_1752",
         "rawType": "float32",
         "type": "float"
        },
        {
         "name": "Gene_1753",
         "rawType": "float32",
         "type": "float"
        },
        {
         "name": "Gene_1754",
         "rawType": "float32",
         "type": "float"
        },
        {
         "name": "Gene_1755",
         "rawType": "float32",
         "type": "float"
        },
        {
         "name": "Gene_1756",
         "rawType": "float32",
         "type": "float"
        },
        {
         "name": "Gene_1757",
         "rawType": "float32",
         "type": "float"
        },
        {
         "name": "Gene_1758",
         "rawType": "float32",
         "type": "float"
        },
        {
         "name": "Gene_1759",
         "rawType": "float32",
         "type": "float"
        },
        {
         "name": "Gene_1760",
         "rawType": "float32",
         "type": "float"
        },
        {
         "name": "Gene_1761",
         "rawType": "float32",
         "type": "float"
        },
        {
         "name": "Gene_1762",
         "rawType": "float32",
         "type": "float"
        },
        {
         "name": "Gene_1763",
         "rawType": "float32",
         "type": "float"
        },
        {
         "name": "Gene_1764",
         "rawType": "float32",
         "type": "float"
        },
        {
         "name": "Gene_1765",
         "rawType": "float32",
         "type": "float"
        },
        {
         "name": "Gene_1766",
         "rawType": "float32",
         "type": "float"
        },
        {
         "name": "Gene_1767",
         "rawType": "float32",
         "type": "float"
        },
        {
         "name": "Gene_1768",
         "rawType": "float32",
         "type": "float"
        },
        {
         "name": "Gene_1769",
         "rawType": "float32",
         "type": "float"
        },
        {
         "name": "Gene_1770",
         "rawType": "float32",
         "type": "float"
        },
        {
         "name": "Gene_1771",
         "rawType": "float32",
         "type": "float"
        },
        {
         "name": "Gene_1772",
         "rawType": "float32",
         "type": "float"
        },
        {
         "name": "Gene_1773",
         "rawType": "float32",
         "type": "float"
        },
        {
         "name": "Gene_1774",
         "rawType": "float32",
         "type": "float"
        },
        {
         "name": "Gene_1775",
         "rawType": "float32",
         "type": "float"
        },
        {
         "name": "Gene_1776",
         "rawType": "float32",
         "type": "float"
        },
        {
         "name": "Gene_1777",
         "rawType": "float32",
         "type": "float"
        },
        {
         "name": "Gene_1778",
         "rawType": "float32",
         "type": "float"
        },
        {
         "name": "Gene_1779",
         "rawType": "float32",
         "type": "float"
        },
        {
         "name": "Gene_1780",
         "rawType": "float32",
         "type": "float"
        },
        {
         "name": "Gene_1781",
         "rawType": "float32",
         "type": "float"
        },
        {
         "name": "Gene_1782",
         "rawType": "float32",
         "type": "float"
        },
        {
         "name": "Gene_1783",
         "rawType": "float32",
         "type": "float"
        },
        {
         "name": "Gene_1784",
         "rawType": "float32",
         "type": "float"
        },
        {
         "name": "Gene_1785",
         "rawType": "float32",
         "type": "float"
        },
        {
         "name": "Gene_1786",
         "rawType": "float32",
         "type": "float"
        },
        {
         "name": "Gene_1787",
         "rawType": "float32",
         "type": "float"
        },
        {
         "name": "Gene_1788",
         "rawType": "float32",
         "type": "float"
        },
        {
         "name": "Gene_1789",
         "rawType": "float32",
         "type": "float"
        },
        {
         "name": "Gene_1790",
         "rawType": "float32",
         "type": "float"
        },
        {
         "name": "Gene_1791",
         "rawType": "float32",
         "type": "float"
        },
        {
         "name": "Gene_1792",
         "rawType": "float32",
         "type": "float"
        },
        {
         "name": "Gene_1793",
         "rawType": "float32",
         "type": "float"
        },
        {
         "name": "Gene_1794",
         "rawType": "float32",
         "type": "float"
        },
        {
         "name": "Gene_1795",
         "rawType": "float32",
         "type": "float"
        },
        {
         "name": "Gene_1796",
         "rawType": "float32",
         "type": "float"
        },
        {
         "name": "Gene_1797",
         "rawType": "float32",
         "type": "float"
        },
        {
         "name": "Gene_1798",
         "rawType": "float32",
         "type": "float"
        },
        {
         "name": "Gene_1799",
         "rawType": "float32",
         "type": "float"
        },
        {
         "name": "Gene_1800",
         "rawType": "float32",
         "type": "float"
        },
        {
         "name": "Gene_1801",
         "rawType": "float32",
         "type": "float"
        },
        {
         "name": "Gene_1802",
         "rawType": "float32",
         "type": "float"
        },
        {
         "name": "Gene_1803",
         "rawType": "float32",
         "type": "float"
        },
        {
         "name": "Gene_1804",
         "rawType": "float32",
         "type": "float"
        },
        {
         "name": "Gene_1805",
         "rawType": "float32",
         "type": "float"
        },
        {
         "name": "Gene_1806",
         "rawType": "float32",
         "type": "float"
        },
        {
         "name": "Gene_1807",
         "rawType": "float32",
         "type": "float"
        },
        {
         "name": "Gene_1808",
         "rawType": "float32",
         "type": "float"
        },
        {
         "name": "Gene_1809",
         "rawType": "float32",
         "type": "float"
        },
        {
         "name": "Gene_1810",
         "rawType": "float32",
         "type": "float"
        },
        {
         "name": "Gene_1811",
         "rawType": "float32",
         "type": "float"
        },
        {
         "name": "Gene_1812",
         "rawType": "float32",
         "type": "float"
        },
        {
         "name": "Gene_1813",
         "rawType": "float32",
         "type": "float"
        },
        {
         "name": "Gene_1814",
         "rawType": "float32",
         "type": "float"
        },
        {
         "name": "Gene_1815",
         "rawType": "float32",
         "type": "float"
        },
        {
         "name": "Gene_1816",
         "rawType": "float32",
         "type": "float"
        },
        {
         "name": "Gene_1817",
         "rawType": "float32",
         "type": "float"
        },
        {
         "name": "Gene_1818",
         "rawType": "float32",
         "type": "float"
        },
        {
         "name": "Gene_1819",
         "rawType": "float32",
         "type": "float"
        },
        {
         "name": "Gene_1820",
         "rawType": "float32",
         "type": "float"
        },
        {
         "name": "Gene_1821",
         "rawType": "float32",
         "type": "float"
        },
        {
         "name": "Gene_1822",
         "rawType": "float32",
         "type": "float"
        },
        {
         "name": "Gene_1823",
         "rawType": "float32",
         "type": "float"
        },
        {
         "name": "Gene_1824",
         "rawType": "float32",
         "type": "float"
        },
        {
         "name": "Gene_1825",
         "rawType": "float32",
         "type": "float"
        },
        {
         "name": "Gene_1826",
         "rawType": "float32",
         "type": "float"
        },
        {
         "name": "Gene_1827",
         "rawType": "float32",
         "type": "float"
        },
        {
         "name": "Gene_1828",
         "rawType": "float32",
         "type": "float"
        },
        {
         "name": "Gene_1829",
         "rawType": "float32",
         "type": "float"
        },
        {
         "name": "Gene_1830",
         "rawType": "float32",
         "type": "float"
        },
        {
         "name": "Gene_1831",
         "rawType": "float32",
         "type": "float"
        },
        {
         "name": "Gene_1832",
         "rawType": "float32",
         "type": "float"
        },
        {
         "name": "Gene_1833",
         "rawType": "float32",
         "type": "float"
        },
        {
         "name": "Gene_1834",
         "rawType": "float32",
         "type": "float"
        },
        {
         "name": "Gene_1835",
         "rawType": "float32",
         "type": "float"
        },
        {
         "name": "Gene_1836",
         "rawType": "float32",
         "type": "float"
        },
        {
         "name": "Gene_1837",
         "rawType": "float32",
         "type": "float"
        },
        {
         "name": "Gene_1838",
         "rawType": "float32",
         "type": "float"
        },
        {
         "name": "Gene_1839",
         "rawType": "float32",
         "type": "float"
        },
        {
         "name": "Gene_1840",
         "rawType": "float32",
         "type": "float"
        },
        {
         "name": "Gene_1841",
         "rawType": "float32",
         "type": "float"
        },
        {
         "name": "Gene_1842",
         "rawType": "float32",
         "type": "float"
        },
        {
         "name": "Gene_1843",
         "rawType": "float32",
         "type": "float"
        },
        {
         "name": "Gene_1844",
         "rawType": "float32",
         "type": "float"
        },
        {
         "name": "Gene_1845",
         "rawType": "float32",
         "type": "float"
        },
        {
         "name": "Gene_1846",
         "rawType": "float32",
         "type": "float"
        },
        {
         "name": "Gene_1847",
         "rawType": "float32",
         "type": "float"
        },
        {
         "name": "Gene_1848",
         "rawType": "float32",
         "type": "float"
        },
        {
         "name": "Gene_1849",
         "rawType": "float32",
         "type": "float"
        },
        {
         "name": "Gene_1850",
         "rawType": "float32",
         "type": "float"
        },
        {
         "name": "Gene_1851",
         "rawType": "float32",
         "type": "float"
        },
        {
         "name": "Gene_1852",
         "rawType": "float32",
         "type": "float"
        },
        {
         "name": "Gene_1853",
         "rawType": "float32",
         "type": "float"
        },
        {
         "name": "Gene_1854",
         "rawType": "float32",
         "type": "float"
        },
        {
         "name": "Gene_1855",
         "rawType": "float32",
         "type": "float"
        },
        {
         "name": "Gene_1856",
         "rawType": "float32",
         "type": "float"
        },
        {
         "name": "Gene_1857",
         "rawType": "float32",
         "type": "float"
        },
        {
         "name": "Gene_1858",
         "rawType": "float32",
         "type": "float"
        },
        {
         "name": "Gene_1859",
         "rawType": "float32",
         "type": "float"
        },
        {
         "name": "Gene_1860",
         "rawType": "float32",
         "type": "float"
        },
        {
         "name": "Gene_1861",
         "rawType": "float32",
         "type": "float"
        },
        {
         "name": "Gene_1862",
         "rawType": "float32",
         "type": "float"
        },
        {
         "name": "Gene_1863",
         "rawType": "float32",
         "type": "float"
        },
        {
         "name": "Gene_1864",
         "rawType": "float32",
         "type": "float"
        },
        {
         "name": "Gene_1865",
         "rawType": "float32",
         "type": "float"
        },
        {
         "name": "Gene_1866",
         "rawType": "float32",
         "type": "float"
        },
        {
         "name": "Gene_1867",
         "rawType": "float32",
         "type": "float"
        },
        {
         "name": "Gene_1868",
         "rawType": "float32",
         "type": "float"
        },
        {
         "name": "Gene_1869",
         "rawType": "float32",
         "type": "float"
        },
        {
         "name": "Gene_1870",
         "rawType": "float32",
         "type": "float"
        },
        {
         "name": "Gene_1871",
         "rawType": "float32",
         "type": "float"
        },
        {
         "name": "Gene_1872",
         "rawType": "float32",
         "type": "float"
        },
        {
         "name": "Gene_1873",
         "rawType": "float32",
         "type": "float"
        },
        {
         "name": "Gene_1874",
         "rawType": "float32",
         "type": "float"
        },
        {
         "name": "Gene_1875",
         "rawType": "float32",
         "type": "float"
        },
        {
         "name": "Gene_1876",
         "rawType": "float32",
         "type": "float"
        },
        {
         "name": "Gene_1877",
         "rawType": "float32",
         "type": "float"
        },
        {
         "name": "Gene_1878",
         "rawType": "float32",
         "type": "float"
        },
        {
         "name": "Gene_1879",
         "rawType": "float32",
         "type": "float"
        },
        {
         "name": "Gene_1880",
         "rawType": "float32",
         "type": "float"
        },
        {
         "name": "Gene_1881",
         "rawType": "float32",
         "type": "float"
        },
        {
         "name": "Gene_1882",
         "rawType": "float32",
         "type": "float"
        },
        {
         "name": "Gene_1883",
         "rawType": "float32",
         "type": "float"
        },
        {
         "name": "Gene_1884",
         "rawType": "float32",
         "type": "float"
        },
        {
         "name": "Gene_1885",
         "rawType": "float32",
         "type": "float"
        },
        {
         "name": "Gene_1886",
         "rawType": "float32",
         "type": "float"
        },
        {
         "name": "Gene_1887",
         "rawType": "float32",
         "type": "float"
        },
        {
         "name": "Gene_1888",
         "rawType": "float32",
         "type": "float"
        },
        {
         "name": "Gene_1889",
         "rawType": "float32",
         "type": "float"
        },
        {
         "name": "Gene_1890",
         "rawType": "float32",
         "type": "float"
        },
        {
         "name": "Gene_1891",
         "rawType": "float32",
         "type": "float"
        },
        {
         "name": "Gene_1892",
         "rawType": "float32",
         "type": "float"
        },
        {
         "name": "Gene_1893",
         "rawType": "float32",
         "type": "float"
        },
        {
         "name": "Gene_1894",
         "rawType": "float32",
         "type": "float"
        },
        {
         "name": "Gene_1895",
         "rawType": "float32",
         "type": "float"
        },
        {
         "name": "Gene_1896",
         "rawType": "float32",
         "type": "float"
        },
        {
         "name": "Gene_1897",
         "rawType": "float32",
         "type": "float"
        },
        {
         "name": "Gene_1898",
         "rawType": "float32",
         "type": "float"
        },
        {
         "name": "Gene_1899",
         "rawType": "float32",
         "type": "float"
        },
        {
         "name": "Gene_1900",
         "rawType": "float32",
         "type": "float"
        },
        {
         "name": "Gene_1901",
         "rawType": "float32",
         "type": "float"
        },
        {
         "name": "Gene_1902",
         "rawType": "float32",
         "type": "float"
        },
        {
         "name": "Gene_1903",
         "rawType": "float32",
         "type": "float"
        },
        {
         "name": "Gene_1904",
         "rawType": "float32",
         "type": "float"
        },
        {
         "name": "Gene_1905",
         "rawType": "float32",
         "type": "float"
        },
        {
         "name": "Gene_1906",
         "rawType": "float32",
         "type": "float"
        },
        {
         "name": "Gene_1907",
         "rawType": "float32",
         "type": "float"
        },
        {
         "name": "Gene_1908",
         "rawType": "float32",
         "type": "float"
        },
        {
         "name": "Gene_1909",
         "rawType": "float32",
         "type": "float"
        },
        {
         "name": "Gene_1910",
         "rawType": "float32",
         "type": "float"
        },
        {
         "name": "Gene_1911",
         "rawType": "float32",
         "type": "float"
        },
        {
         "name": "Gene_1912",
         "rawType": "float32",
         "type": "float"
        },
        {
         "name": "Gene_1913",
         "rawType": "float32",
         "type": "float"
        },
        {
         "name": "Gene_1914",
         "rawType": "float32",
         "type": "float"
        },
        {
         "name": "Gene_1915",
         "rawType": "float32",
         "type": "float"
        },
        {
         "name": "Gene_1916",
         "rawType": "float32",
         "type": "float"
        },
        {
         "name": "Gene_1917",
         "rawType": "float32",
         "type": "float"
        },
        {
         "name": "Gene_1918",
         "rawType": "float32",
         "type": "float"
        },
        {
         "name": "Gene_1919",
         "rawType": "float32",
         "type": "float"
        },
        {
         "name": "Gene_1920",
         "rawType": "float32",
         "type": "float"
        },
        {
         "name": "Gene_1921",
         "rawType": "float32",
         "type": "float"
        },
        {
         "name": "Gene_1922",
         "rawType": "float32",
         "type": "float"
        },
        {
         "name": "Gene_1923",
         "rawType": "float32",
         "type": "float"
        },
        {
         "name": "Gene_1924",
         "rawType": "float32",
         "type": "float"
        },
        {
         "name": "Gene_1925",
         "rawType": "float32",
         "type": "float"
        },
        {
         "name": "Gene_1926",
         "rawType": "float32",
         "type": "float"
        },
        {
         "name": "Gene_1927",
         "rawType": "float32",
         "type": "float"
        },
        {
         "name": "Gene_1928",
         "rawType": "float32",
         "type": "float"
        },
        {
         "name": "Gene_1929",
         "rawType": "float32",
         "type": "float"
        },
        {
         "name": "Gene_1930",
         "rawType": "float32",
         "type": "float"
        },
        {
         "name": "Gene_1931",
         "rawType": "float32",
         "type": "float"
        },
        {
         "name": "Gene_1932",
         "rawType": "float32",
         "type": "float"
        },
        {
         "name": "Gene_1933",
         "rawType": "float32",
         "type": "float"
        },
        {
         "name": "Gene_1934",
         "rawType": "float32",
         "type": "float"
        },
        {
         "name": "Gene_1935",
         "rawType": "float32",
         "type": "float"
        },
        {
         "name": "Gene_1936",
         "rawType": "float32",
         "type": "float"
        },
        {
         "name": "Gene_1937",
         "rawType": "float32",
         "type": "float"
        },
        {
         "name": "Gene_1938",
         "rawType": "float32",
         "type": "float"
        },
        {
         "name": "Gene_1939",
         "rawType": "float32",
         "type": "float"
        },
        {
         "name": "Gene_1940",
         "rawType": "float32",
         "type": "float"
        },
        {
         "name": "Gene_1941",
         "rawType": "float32",
         "type": "float"
        },
        {
         "name": "Gene_1942",
         "rawType": "float32",
         "type": "float"
        },
        {
         "name": "Gene_1943",
         "rawType": "float32",
         "type": "float"
        },
        {
         "name": "Gene_1944",
         "rawType": "float32",
         "type": "float"
        },
        {
         "name": "Gene_1945",
         "rawType": "float32",
         "type": "float"
        },
        {
         "name": "Gene_1946",
         "rawType": "float32",
         "type": "float"
        },
        {
         "name": "Gene_1947",
         "rawType": "float32",
         "type": "float"
        },
        {
         "name": "Gene_1948",
         "rawType": "float32",
         "type": "float"
        },
        {
         "name": "Gene_1949",
         "rawType": "float32",
         "type": "float"
        },
        {
         "name": "Gene_1950",
         "rawType": "float32",
         "type": "float"
        },
        {
         "name": "Gene_1951",
         "rawType": "float32",
         "type": "float"
        },
        {
         "name": "Gene_1952",
         "rawType": "float32",
         "type": "float"
        },
        {
         "name": "Gene_1953",
         "rawType": "float32",
         "type": "float"
        },
        {
         "name": "Gene_1954",
         "rawType": "float32",
         "type": "float"
        },
        {
         "name": "Gene_1955",
         "rawType": "float32",
         "type": "float"
        },
        {
         "name": "Gene_1956",
         "rawType": "float32",
         "type": "float"
        },
        {
         "name": "Gene_1957",
         "rawType": "float32",
         "type": "float"
        },
        {
         "name": "Gene_1958",
         "rawType": "float32",
         "type": "float"
        },
        {
         "name": "Gene_1959",
         "rawType": "float32",
         "type": "float"
        },
        {
         "name": "Gene_1960",
         "rawType": "float32",
         "type": "float"
        },
        {
         "name": "Gene_1961",
         "rawType": "float32",
         "type": "float"
        },
        {
         "name": "Gene_1962",
         "rawType": "float32",
         "type": "float"
        },
        {
         "name": "Gene_1963",
         "rawType": "float32",
         "type": "float"
        },
        {
         "name": "Gene_1964",
         "rawType": "float32",
         "type": "float"
        },
        {
         "name": "Gene_1965",
         "rawType": "float32",
         "type": "float"
        },
        {
         "name": "Gene_1966",
         "rawType": "float32",
         "type": "float"
        },
        {
         "name": "Gene_1967",
         "rawType": "float32",
         "type": "float"
        },
        {
         "name": "Gene_1968",
         "rawType": "float32",
         "type": "float"
        },
        {
         "name": "Gene_1969",
         "rawType": "float32",
         "type": "float"
        },
        {
         "name": "Gene_1970",
         "rawType": "float32",
         "type": "float"
        },
        {
         "name": "Gene_1971",
         "rawType": "float32",
         "type": "float"
        },
        {
         "name": "Gene_1972",
         "rawType": "float32",
         "type": "float"
        },
        {
         "name": "Gene_1973",
         "rawType": "float32",
         "type": "float"
        },
        {
         "name": "Gene_1974",
         "rawType": "float32",
         "type": "float"
        },
        {
         "name": "Gene_1975",
         "rawType": "float32",
         "type": "float"
        },
        {
         "name": "Gene_1976",
         "rawType": "float32",
         "type": "float"
        },
        {
         "name": "Gene_1977",
         "rawType": "float32",
         "type": "float"
        },
        {
         "name": "Gene_1978",
         "rawType": "float32",
         "type": "float"
        },
        {
         "name": "Gene_1979",
         "rawType": "float32",
         "type": "float"
        },
        {
         "name": "Gene_1980",
         "rawType": "float32",
         "type": "float"
        },
        {
         "name": "Gene_1981",
         "rawType": "float32",
         "type": "float"
        },
        {
         "name": "Gene_1982",
         "rawType": "float32",
         "type": "float"
        },
        {
         "name": "Gene_1983",
         "rawType": "float32",
         "type": "float"
        },
        {
         "name": "Gene_1984",
         "rawType": "float32",
         "type": "float"
        },
        {
         "name": "Gene_1985",
         "rawType": "float32",
         "type": "float"
        },
        {
         "name": "Gene_1986",
         "rawType": "float32",
         "type": "float"
        },
        {
         "name": "Gene_1987",
         "rawType": "float32",
         "type": "float"
        },
        {
         "name": "Gene_1988",
         "rawType": "float32",
         "type": "float"
        },
        {
         "name": "Gene_1989",
         "rawType": "float32",
         "type": "float"
        },
        {
         "name": "Gene_1990",
         "rawType": "float32",
         "type": "float"
        },
        {
         "name": "Gene_1991",
         "rawType": "float32",
         "type": "float"
        },
        {
         "name": "Gene_1992",
         "rawType": "float32",
         "type": "float"
        },
        {
         "name": "Gene_1993",
         "rawType": "float32",
         "type": "float"
        },
        {
         "name": "Gene_1994",
         "rawType": "float32",
         "type": "float"
        },
        {
         "name": "Gene_1995",
         "rawType": "float32",
         "type": "float"
        },
        {
         "name": "Gene_1996",
         "rawType": "float32",
         "type": "float"
        },
        {
         "name": "Gene_1997",
         "rawType": "float32",
         "type": "float"
        },
        {
         "name": "Gene_1998",
         "rawType": "float32",
         "type": "float"
        },
        {
         "name": "Gene_1999",
         "rawType": "float32",
         "type": "float"
        }
       ],
       "ref": "b3d119d1-0e28-451f-a1ad-eb2bb51d6142",
       "rows": [
        [
         "Cell_0",
         "0.6931472",
         "0.0",
         "1.3862944",
         "0.0",
         "0.0",
         "0.0",
         "0.6931472",
         "1.0986123",
         "0.0",
         "0.6931472",
         "0.6931472",
         "0.0",
         "0.0",
         "0.6931472",
         "0.0",
         "0.0",
         "0.6931472",
         "0.0",
         "0.6931472",
         "0.0",
         "0.0",
         "0.0",
         "0.6931472",
         "0.0",
         "1.0986123",
         "0.0",
         "0.0",
         "0.0",
         "0.0",
         "0.6931472",
         "0.0",
         "1.3862944",
         "1.0986123",
         "0.0",
         "0.6931472",
         "0.0",
         "0.6931472",
         "0.0",
         "1.0986123",
         "0.6931472",
         "0.0",
         "1.0986123",
         "1.0986123",
         "0.0",
         "0.0",
         "0.0",
         "0.0",
         "0.0",
         "0.0",
         "1.609438",
         "1.3862944",
         "0.0",
         "0.0",
         "0.0",
         "1.0986123",
         "1.3862944",
         "0.0",
         "0.0",
         "0.6931472",
         "0.6931472",
         "1.0986123",
         "0.0",
         "1.0986123",
         "1.0986123",
         "1.0986123",
         "1.3862944",
         "0.0",
         "1.3862944",
         "0.0",
         "0.0",
         "0.0",
         "0.0",
         "0.0",
         "1.7917595",
         "0.0",
         "0.6931472",
         "1.0986123",
         "1.0986123",
         "1.0986123",
         "0.0",
         "0.6931472",
         "0.0",
         "0.0",
         "0.6931472",
         "1.0986123",
         "1.0986123",
         "0.6931472",
         "0.0",
         "0.6931472",
         "1.0986123",
         "1.3862944",
         "0.6931472",
         "0.0",
         "0.6931472",
         "1.3862944",
         "1.0986123",
         "0.0",
         "0.6931472",
         "1.0986123",
         "1.0986123",
         "0.0",
         "0.6931472",
         "1.0986123",
         "0.0",
         "1.0986123",
         "0.6931472",
         "0.6931472",
         "1.0986123",
         "1.0986123",
         "0.0",
         "0.0",
         "0.0",
         "0.6931472",
         "0.0",
         "0.6931472",
         "0.0",
         "0.0",
         "0.6931472",
         "0.6931472",
         "0.0",
         "1.0986123",
         "0.0",
         "1.3862944",
         "0.0",
         "0.0",
         "0.6931472",
         "1.0986123",
         "0.6931472",
         "0.6931472",
         "1.0986123",
         "0.0",
         "0.6931472",
         "0.0",
         "0.0",
         "1.0986123",
         "1.0986123",
         "1.3862944",
         "0.0",
         "0.0",
         "0.0",
         "1.0986123",
         "1.0986123",
         "0.6931472",
         "1.0986123",
         "0.0",
         "0.6931472",
         "0.6931472",
         "0.6931472",
         "0.6931472",
         "0.0",
         "0.6931472",
         "0.6931472",
         "0.0",
         "0.6931472",
         "0.6931472",
         "0.6931472",
         "0.6931472",
         "0.6931472",
         "0.6931472",
         "0.0",
         "0.0",
         "1.0986123",
         "0.0",
         "0.6931472",
         "1.3862944",
         "0.0",
         "0.0",
         "0.0",
         "0.0",
         "0.6931472",
         "0.6931472",
         "0.6931472",
         "0.0",
         "1.0986123",
         "0.0",
         "0.6931472",
         "1.0986123",
         "1.0986123",
         "0.6931472",
         "0.0",
         "0.6931472",
         "0.6931472",
         "0.0",
         "0.0",
         "0.0",
         "0.0",
         "0.6931472",
         "1.0986123",
         "1.0986123",
         "0.6931472",
         "1.3862944",
         "1.0986123",
         "1.0986123",
         "0.6931472",
         "0.6931472",
         "0.0",
         "1.7917595",
         "1.0986123",
         "0.0",
         "0.6931472",
         "0.0",
         "0.6931472",
         "0.6931472",
         "1.0986123",
         "1.3862944",
         "0.0",
         "0.0",
         "0.6931472",
         "0.0",
         "0.0",
         "0.0",
         "0.0",
         "0.6931472",
         "1.0986123",
         "1.0986123",
         "0.0",
         "0.0",
         "1.0986123",
         "1.3862944",
         "1.0986123",
         "0.6931472",
         "0.0",
         "1.0986123",
         "0.0",
         "0.0",
         "0.6931472",
         "0.6931472",
         "0.6931472",
         "0.0",
         "0.0",
         "0.0",
         "0.6931472",
         "1.0986123",
         "0.6931472",
         "0.0",
         "0.0",
         "1.0986123",
         "0.0",
         "0.6931472",
         "0.0",
         "0.6931472",
         "0.0",
         "0.6931472",
         "0.0",
         "0.6931472",
         "1.3862944",
         "0.6931472",
         "0.0",
         "1.7917595",
         "0.6931472",
         "1.0986123",
         "1.3862944",
         "0.0",
         "0.0",
         "0.6931472",
         "1.0986123",
         "0.0",
         "0.6931472",
         "1.3862944",
         "0.0",
         "1.0986123",
         "0.6931472",
         "0.6931472",
         "1.0986123",
         "1.3862944",
         "1.0986123",
         "0.6931472",
         "1.0986123",
         "0.6931472",
         "0.6931472",
         "0.0",
         "1.0986123",
         "0.6931472",
         "0.0",
         "0.6931472",
         "0.6931472",
         "0.6931472",
         "1.0986123",
         "0.0",
         "0.0",
         "0.0",
         "0.0",
         "0.0",
         "0.0",
         "1.3862944",
         "0.0",
         "0.0",
         "0.0",
         "1.0986123",
         "0.0",
         "1.3862944",
         "0.0",
         "0.0",
         "0.0",
         "0.6931472",
         "0.6931472",
         "1.0986123",
         "0.6931472",
         "1.3862944",
         "0.6931472",
         "0.0",
         "1.0986123",
         "0.6931472",
         "0.0",
         "0.0",
         "0.6931472",
         "0.0",
         "0.6931472",
         "1.0986123",
         "0.0",
         "0.0",
         "1.0986123",
         "0.0",
         "1.0986123",
         "0.0",
         "0.6931472",
         "0.0",
         "0.6931472",
         "0.6931472",
         "0.0",
         "0.6931472",
         "0.0",
         "1.0986123",
         "0.0",
         "0.6931472",
         "0.6931472",
         "1.0986123",
         "0.6931472",
         "0.6931472",
         "0.6931472",
         "1.3862944",
         "0.0",
         "1.609438",
         "0.6931472",
         "1.609438",
         "1.3862944",
         "1.0986123",
         "0.0",
         "0.0",
         "1.0986123",
         "0.6931472",
         "1.0986123",
         "0.0",
         "0.6931472",
         "0.0",
         "0.0",
         "0.6931472",
         "1.0986123",
         "0.0",
         "0.0",
         "0.6931472",
         "0.6931472",
         "0.6931472",
         "0.6931472",
         "0.0",
         "0.0",
         "0.6931472",
         "1.0986123",
         "1.3862944",
         "1.0986123",
         "0.0",
         "0.0",
         "1.609438",
         "0.0",
         "1.0986123",
         "0.6931472",
         "0.6931472",
         "0.0",
         "0.6931472",
         "0.0",
         "0.6931472",
         "0.0",
         "0.0",
         "0.6931472",
         "0.6931472",
         "1.3862944",
         "0.6931472",
         "0.0",
         "1.0986123",
         "1.0986123",
         "1.3862944",
         "0.0",
         "0.0",
         "0.6931472",
         "1.0986123",
         "0.6931472",
         "0.0",
         "0.6931472",
         "0.0",
         "0.6931472",
         "0.6931472",
         "1.0986123",
         "0.6931472",
         "1.0986123",
         "0.0",
         "0.0",
         "0.0",
         "0.0",
         "1.0986123",
         "1.0986123",
         "0.6931472",
         "1.0986123",
         "0.6931472",
         "0.6931472",
         "0.6931472",
         "1.3862944",
         "0.6931472",
         "0.6931472",
         "0.6931472",
         "0.0",
         "0.0",
         "0.6931472",
         "0.0",
         "1.609438",
         "0.0",
         "0.0",
         "1.3862944",
         "0.6931472",
         "0.0",
         "0.6931472",
         "0.6931472",
         "0.6931472",
         "0.6931472",
         "1.0986123",
         "0.6931472",
         "0.6931472",
         "0.6931472",
         "0.0",
         "0.6931472",
         "0.0",
         "0.6931472",
         "0.6931472",
         "1.0986123",
         "0.0",
         "0.0",
         "0.6931472",
         "0.0",
         "0.6931472",
         "0.6931472",
         "0.0",
         "0.0",
         "0.0",
         "0.6931472",
         "1.0986123",
         "0.6931472",
         "1.0986123",
         "0.6931472",
         "0.6931472",
         "0.0",
         "1.3862944",
         "0.0",
         "0.6931472",
         "0.0",
         "1.0986123",
         "1.0986123",
         "1.0986123",
         "1.0986123",
         "0.0",
         "0.0",
         "1.0986123",
         "1.0986123",
         "0.0",
         "1.0986123",
         "0.6931472",
         "0.6931472",
         "1.3862944",
         "0.0",
         "0.6931472",
         "0.6931472",
         "0.6931472",
         "0.0",
         "0.0",
         "1.0986123",
         "0.0",
         "0.6931472",
         "0.6931472",
         "1.0986123",
         "0.6931472",
         "0.0",
         "0.0",
         "0.0",
         "0.0",
         "0.0",
         "1.0986123",
         "1.0986123",
         "1.0986123",
         "0.0",
         "0.0",
         "0.6931472",
         "0.6931472",
         "0.6931472",
         "1.3862944",
         "1.0986123",
         "0.6931472",
         "1.0986123",
         "1.3862944",
         "0.6931472",
         "0.6931472",
         "0.0",
         "1.0986123",
         "1.3862944",
         "0.0",
         "0.6931472",
         "1.3862944",
         "0.0",
         "1.609438",
         "0.6931472",
         "1.3862944",
         "0.0",
         "0.6931472",
         "1.0986123",
         "1.0986123",
         "1.0986123",
         "1.3862944",
         "0.6931472",
         "1.0986123",
         "0.6931472",
         "0.6931472",
         "1.3862944",
         "0.0",
         "0.6931472",
         "0.0",
         "0.0",
         "0.6931472",
         "0.6931472",
         "0.6931472",
         "0.0",
         "0.0",
         "0.6931472",
         "1.0986123",
         "0.6931472",
         "1.0986123",
         "0.0",
         "0.6931472",
         "0.6931472",
         "0.6931472",
         "1.0986123",
         "0.6931472",
         "0.0",
         "0.6931472",
         "0.6931472",
         "0.0",
         "1.0986123",
         "0.0",
         "0.0",
         "0.0",
         "1.3862944",
         "1.609438",
         "0.6931472",
         "0.6931472",
         "1.3862944",
         "1.0986123",
         "0.0",
         "0.6931472",
         "0.0",
         "0.0",
         "0.0",
         "0.6931472",
         "0.6931472",
         "1.0986123",
         "0.6931472",
         "0.0",
         "1.3862944",
         "0.6931472",
         "1.3862944",
         "1.0986123",
         "1.0986123",
         "0.6931472",
         "0.0",
         "0.6931472",
         "0.0",
         "0.6931472",
         "1.0986123",
         "1.3862944",
         "0.0",
         "1.0986123",
         "0.0",
         "0.0",
         "0.0",
         "0.0",
         "1.3862944",
         "1.0986123",
         "0.0",
         "1.0986123",
         "0.6931472",
         "0.0",
         "1.0986123",
         "0.6931472",
         "0.6931472",
         "0.0",
         "1.3862944",
         "0.6931472",
         "0.6931472",
         "0.0",
         "0.0",
         "0.6931472",
         "0.0",
         "0.0",
         "1.0986123",
         "0.0",
         "0.6931472",
         "0.6931472",
         "0.0",
         "0.6931472",
         "0.6931472",
         "0.6931472",
         "0.0",
         "0.0",
         "0.6931472",
         "0.6931472",
         "1.0986123",
         "0.6931472",
         "0.6931472",
         "1.3862944",
         "1.3862944",
         "0.0",
         "0.0",
         "0.0",
         "0.6931472",
         "0.6931472",
         "0.6931472",
         "0.0",
         "0.0",
         "0.6931472",
         "0.6931472",
         "0.0",
         "0.6931472",
         "0.0",
         "1.609438",
         "1.3862944",
         "1.609438",
         "1.609438",
         "0.0",
         "0.6931472",
         "0.6931472",
         "1.609438",
         "0.6931472",
         "0.6931472",
         "0.6931472",
         "0.6931472",
         "0.0",
         "0.6931472",
         "0.6931472",
         "0.6931472",
         "0.0",
         "0.0",
         "0.6931472",
         "0.0",
         "1.0986123",
         "0.6931472",
         "0.0",
         "0.0",
         "0.0",
         "1.609438",
         "0.6931472",
         "0.0",
         "0.6931472",
         "0.0",
         "0.0",
         "1.609438",
         "0.6931472",
         "0.6931472",
         "0.0",
         "1.3862944",
         "0.0",
         "0.6931472",
         "0.6931472",
         "1.609438",
         "0.6931472",
         "0.0",
         "0.0",
         "0.6931472",
         "0.0",
         "0.6931472",
         "0.0",
         "0.0",
         "0.0",
         "0.6931472",
         "0.6931472",
         "0.6931472",
         "0.0",
         "0.6931472",
         "1.0986123",
         "0.6931472",
         "0.0",
         "1.609438",
         "1.0986123",
         "0.0",
         "0.6931472",
         "0.6931472",
         "0.6931472",
         "0.6931472",
         "0.0",
         "0.6931472",
         "0.0",
         "1.3862944",
         "0.0",
         "0.6931472",
         "0.0",
         "0.0",
         "0.0",
         "0.6931472",
         "1.609438",
         "0.6931472",
         "0.0",
         "1.0986123",
         "0.6931472",
         "0.6931472",
         "0.6931472",
         "0.6931472",
         "1.0986123",
         "0.6931472",
         "1.0986123",
         "0.6931472",
         "0.6931472",
         "0.6931472",
         "1.0986123",
         "0.6931472",
         "1.0986123",
         "0.0",
         "0.0",
         "0.6931472",
         "1.0986123",
         "0.0",
         "1.3862944",
         "0.0",
         "0.0",
         "0.0",
         "1.0986123",
         "0.0",
         "0.6931472",
         "0.6931472",
         "0.6931472",
         "0.0",
         "0.0",
         "0.0",
         "0.0",
         "1.0986123",
         "0.6931472",
         "0.6931472",
         "0.6931472",
         "1.3862944",
         "0.0",
         "0.6931472",
         "0.0",
         "0.6931472",
         "0.6931472",
         "0.6931472",
         "1.609438",
         "1.0986123",
         "1.0986123",
         "1.0986123",
         "1.7917595",
         "0.0",
         "0.0",
         "0.6931472",
         "0.0",
         "0.6931472",
         "0.6931472",
         "0.6931472",
         "0.6931472",
         "0.0",
         "0.0",
         "0.0",
         "1.0986123",
         "1.0986123",
         "1.0986123",
         "0.0",
         "0.0",
         "0.0",
         "0.0",
         "0.0",
         "1.0986123",
         "0.0",
         "0.0",
         "0.6931472",
         "0.6931472",
         "0.0",
         "0.6931472",
         "0.6931472",
         "0.0",
         "1.0986123",
         "0.0",
         "0.0",
         "1.0986123",
         "0.6931472",
         "0.6931472",
         "1.0986123",
         "0.0",
         "0.6931472",
         "0.0",
         "1.0986123",
         "0.6931472",
         "1.0986123",
         "0.6931472",
         "1.0986123",
         "1.3862944",
         "0.6931472",
         "1.0986123",
         "0.6931472",
         "0.6931472",
         "1.3862944",
         "0.0",
         "0.6931472",
         "0.0",
         "0.6931472",
         "0.0",
         "0.0",
         "1.0986123",
         "0.6931472",
         "1.0986123",
         "0.0",
         "0.6931472",
         "0.6931472",
         "0.0",
         "0.0",
         "0.0",
         "0.0",
         "0.0",
         "0.0",
         "0.0",
         "0.0",
         "1.0986123",
         "0.0",
         "0.6931472",
         "0.0",
         "1.0986123",
         "0.6931472",
         "1.0986123",
         "1.3862944",
         "0.6931472",
         "0.6931472",
         "1.3862944",
         "0.0",
         "0.6931472",
         "0.6931472",
         "1.0986123",
         "1.3862944",
         "0.6931472",
         "0.0",
         "1.0986123",
         "1.0986123",
         "1.0986123",
         "0.6931472",
         "0.0",
         "1.0986123",
         "0.0",
         "0.6931472",
         "0.0",
         "0.6931472",
         "0.0",
         "0.6931472",
         "0.0",
         "1.0986123",
         "1.0986123",
         "0.6931472",
         "0.6931472",
         "0.0",
         "0.0",
         "0.0",
         "0.0",
         "0.0",
         "0.6931472",
         "0.6931472",
         "1.0986123",
         "0.0",
         "0.6931472",
         "0.6931472",
         "0.6931472",
         "0.6931472",
         "1.3862944",
         "1.3862944",
         "0.6931472",
         "0.6931472",
         "1.3862944",
         "0.6931472",
         "0.6931472",
         "0.6931472",
         "0.6931472",
         "0.0",
         "0.0",
         "0.6931472",
         "1.0986123",
         "0.0",
         "0.0",
         "0.6931472",
         "0.6931472",
         "0.6931472",
         "0.0",
         "0.0",
         "0.0",
         "0.0",
         "0.6931472",
         "0.6931472",
         "0.6931472",
         "0.6931472",
         "1.609438",
         "0.0",
         "0.6931472",
         "1.0986123",
         "0.0",
         "1.0986123",
         "0.6931472",
         "0.0",
         "1.0986123",
         "0.0",
         "0.6931472",
         "1.0986123",
         "0.6931472",
         "0.6931472",
         "0.6931472",
         "0.0",
         "0.0",
         "0.6931472",
         "0.6931472",
         "1.3862944",
         "0.6931472",
         "1.0986123",
         "1.0986123",
         "0.6931472",
         "0.0",
         "0.0",
         "0.6931472",
         "0.6931472",
         "0.6931472",
         "0.0",
         "0.0",
         "0.0",
         "0.0",
         "0.0",
         "0.6931472",
         "0.6931472",
         "0.0",
         "1.3862944",
         "0.0",
         "0.0",
         "0.0",
         "0.6931472",
         "1.0986123",
         "0.0",
         "1.0986123",
         "0.0",
         "0.0",
         "0.6931472",
         "0.0",
         "0.6931472",
         "0.6931472",
         "0.0",
         "0.6931472",
         "0.6931472",
         "0.0",
         "0.0",
         "1.0986123",
         "1.0986123",
         "1.3862944",
         "0.6931472",
         "1.0986123",
         "0.0",
         "0.6931472",
         "0.0",
         "0.6931472",
         "0.0",
         "0.6931472",
         "0.6931472",
         "0.0",
         "0.0",
         "0.6931472",
         "0.0",
         "1.3862944",
         "0.6931472",
         "0.0",
         "1.3862944",
         "0.0",
         "1.3862944",
         "1.609438",
         "1.0986123",
         "0.6931472",
         "0.6931472",
         "0.0",
         "1.0986123",
         "0.6931472",
         "0.0",
         "0.0",
         "1.0986123",
         "0.6931472",
         "0.6931472",
         "0.6931472",
         "0.0",
         "1.0986123",
         "0.6931472",
         "0.0",
         "0.0",
         "1.609438",
         "0.6931472",
         "0.0",
         "1.0986123",
         "0.0",
         "0.6931472",
         "0.6931472",
         "0.6931472",
         "0.6931472",
         "0.6931472",
         "0.6931472",
         "0.0",
         "0.6931472",
         "0.0",
         "1.0986123",
         "1.0986123",
         "0.6931472",
         "0.0",
         "0.6931472",
         "1.3862944",
         "0.6931472",
         "0.0",
         "1.0986123",
         "0.6931472",
         "0.0",
         "1.3862944",
         "0.0",
         "0.6931472",
         "0.0",
         "1.0986123",
         "0.0",
         "0.0",
         "0.6931472",
         "1.0986123",
         "0.0",
         "0.6931472",
         "0.0",
         "0.6931472",
         "0.0",
         "0.6931472",
         "1.0986123",
         "0.6931472",
         "0.0",
         "0.0",
         "1.0986123",
         "0.6931472",
         "0.6931472",
         "0.6931472",
         "0.6931472",
         "2.1972246",
         "0.0",
         "0.0",
         "0.6931472",
         "0.0",
         "1.3862944",
         "0.6931472",
         "0.6931472",
         "1.0986123",
         "0.6931472",
         "0.0",
         "0.6931472",
         "0.0",
         "1.3862944",
         "0.6931472",
         "0.0",
         "0.0",
         "0.6931472",
         "0.0",
         "0.0",
         "1.609438",
         "0.0",
         "0.6931472",
         "0.6931472",
         "0.0",
         "0.6931472",
         "0.0",
         "0.0",
         "1.0986123",
         "0.0",
         "0.6931472",
         "0.6931472",
         "1.0986123",
         "0.6931472",
         "0.0",
         "0.0",
         "0.6931472",
         "0.0",
         "1.0986123",
         "0.6931472",
         "0.0",
         "0.0",
         "0.6931472",
         "1.3862944",
         "0.0",
         "1.0986123",
         "0.0",
         "0.6931472",
         "0.6931472",
         "0.0",
         "0.0",
         "0.6931472",
         "0.6931472",
         "0.6931472",
         "0.6931472",
         "0.6931472",
         "0.0",
         "0.0",
         "0.6931472",
         "1.0986123",
         "1.0986123",
         "0.6931472",
         "1.0986123",
         "0.6931472",
         "0.6931472",
         "0.6931472",
         "0.6931472",
         "0.6931472",
         "0.6931472",
         "0.6931472",
         "0.0",
         "0.0",
         "1.0986123",
         "1.0986123",
         "0.0",
         "0.6931472",
         "1.0986123",
         "0.6931472",
         "0.0",
         "0.0",
         "0.0",
         "0.0",
         "1.0986123",
         "0.6931472",
         "1.0986123",
         "1.0986123",
         "0.6931472",
         "1.0986123",
         "0.0",
         "0.6931472",
         "0.6931472",
         "1.0986123",
         "0.0",
         "0.6931472",
         "0.0",
         "1.0986123",
         "0.0",
         "0.0",
         "0.0",
         "1.3862944",
         "1.0986123",
         "1.0986123",
         "0.0",
         "0.0",
         "0.6931472",
         "0.6931472",
         "1.0986123",
         "0.6931472",
         "1.0986123",
         "1.0986123",
         "0.6931472",
         "0.6931472",
         "1.0986123",
         "1.3862944",
         "0.0",
         "0.6931472",
         "1.0986123",
         "0.0",
         "0.0",
         "0.6931472",
         "0.0",
         "0.6931472",
         "0.0",
         "0.0",
         "0.6931472",
         "1.0986123",
         "0.6931472",
         "0.0",
         "0.0",
         "0.6931472",
         "0.6931472",
         "0.0",
         "1.0986123",
         "1.609438",
         "0.0",
         "1.0986123",
         "0.6931472",
         "1.609438",
         "0.6931472",
         "0.6931472",
         "0.0",
         "0.6931472",
         "1.0986123",
         "1.3862944",
         "0.0",
         "0.0",
         "1.0986123",
         "0.0",
         "0.6931472",
         "0.6931472",
         "0.0",
         "0.0",
         "0.0",
         "0.6931472",
         "1.3862944",
         "1.0986123",
         "1.609438",
         "1.3862944",
         "0.6931472",
         "0.6931472",
         "1.3862944",
         "1.0986123",
         "1.0986123",
         "0.0",
         "0.6931472",
         "0.0",
         "0.0",
         "0.6931472",
         "1.7917595",
         "1.0986123",
         "0.6931472",
         "0.6931472",
         "0.6931472",
         "0.6931472",
         "0.6931472",
         "0.6931472",
         "0.0",
         "0.0",
         "1.3862944",
         "0.6931472",
         "0.6931472",
         "1.0986123",
         "0.6931472",
         "0.6931472",
         "0.6931472",
         "0.0",
         "0.6931472",
         "0.6931472",
         "1.3862944",
         "0.0",
         "0.0",
         "0.6931472",
         "0.0",
         "0.6931472",
         "0.6931472",
         "0.6931472",
         "0.0",
         "0.0",
         "0.6931472",
         "1.0986123",
         "0.6931472",
         "1.0986123",
         "0.6931472",
         "1.0986123",
         "1.0986123",
         "0.6931472",
         "0.0",
         "1.0986123",
         "1.3862944",
         "0.6931472",
         "0.0",
         "0.0",
         "1.3862944",
         "0.6931472",
         "0.0",
         "0.0",
         "0.6931472",
         "0.6931472",
         "0.6931472",
         "0.0",
         "1.0986123",
         "0.0",
         "0.0",
         "0.0",
         "1.0986123",
         "1.3862944",
         "1.0986123",
         "0.0",
         "0.6931472",
         "1.0986123",
         "1.0986123",
         "1.0986123",
         "0.0",
         "1.3862944",
         "0.6931472",
         "0.6931472",
         "0.0",
         "1.0986123",
         "0.6931472",
         "0.0",
         "0.6931472",
         "1.609438",
         "0.0",
         "0.0",
         "0.0",
         "0.0",
         "0.6931472",
         "0.6931472",
         "0.6931472",
         "0.6931472",
         "1.0986123",
         "0.6931472",
         "1.609438",
         "0.6931472",
         "0.0",
         "0.6931472",
         "0.0",
         "0.6931472",
         "0.0",
         "1.0986123",
         "0.6931472",
         "0.6931472",
         "1.0986123",
         "0.0",
         "0.0",
         "0.0",
         "0.6931472",
         "0.0",
         "1.0986123",
         "0.6931472",
         "0.6931472",
         "0.0",
         "0.0",
         "0.6931472",
         "1.0986123",
         "0.6931472",
         "0.0",
         "0.6931472",
         "0.0",
         "0.0",
         "1.0986123",
         "1.3862944",
         "0.6931472",
         "1.3862944",
         "0.6931472",
         "0.6931472",
         "0.6931472",
         "0.0",
         "1.3862944",
         "0.0",
         "0.0",
         "1.3862944",
         "0.0",
         "0.0",
         "0.6931472",
         "0.0",
         "0.6931472",
         "0.6931472",
         "1.0986123",
         "0.0",
         "0.0",
         "1.0986123",
         "0.6931472",
         "1.0986123",
         "1.0986123",
         "0.0",
         "0.0",
         "0.6931472",
         "1.0986123",
         "0.6931472",
         "1.0986123",
         "1.609438",
         "1.609438",
         "0.6931472",
         "0.6931472",
         "0.6931472",
         "0.0",
         "0.6931472",
         "0.6931472",
         "1.0986123",
         "0.6931472",
         "0.0",
         "0.6931472",
         "0.0",
         "0.0",
         "0.6931472",
         "1.3862944",
         "0.0",
         "0.6931472",
         "0.6931472",
         "1.0986123",
         "1.609438",
         "0.0",
         "0.6931472",
         "0.6931472",
         "0.6931472",
         "0.6931472",
         "0.6931472",
         "0.0",
         "1.609438",
         "0.0",
         "1.0986123",
         "0.0",
         "0.0",
         "1.3862944",
         "0.0",
         "1.3862944",
         "0.6931472",
         "0.6931472",
         "1.0986123",
         "0.0",
         "0.6931472",
         "1.0986123",
         "0.0",
         "0.0",
         "0.0",
         "0.0",
         "0.6931472",
         "0.0",
         "0.6931472",
         "1.3862944",
         "0.0",
         "0.6931472",
         "0.6931472",
         "1.3862944",
         "0.6931472",
         "1.0986123",
         "1.0986123",
         "1.0986123",
         "0.0",
         "0.6931472",
         "0.6931472",
         "0.6931472",
         "0.0",
         "0.6931472",
         "0.0",
         "0.0",
         "0.6931472",
         "0.6931472",
         "0.6931472",
         "0.0",
         "0.0",
         "0.0",
         "0.0",
         "0.6931472",
         "0.6931472",
         "1.0986123",
         "1.3862944",
         "1.0986123",
         "0.6931472",
         "0.6931472",
         "0.0",
         "1.0986123",
         "0.0",
         "0.6931472",
         "0.0",
         "0.0",
         "0.6931472",
         "0.6931472",
         "0.6931472",
         "0.0",
         "0.0",
         "0.0",
         "0.0",
         "0.6931472",
         "1.0986123",
         "0.6931472",
         "1.3862944",
         "0.0",
         "0.6931472",
         "0.0",
         "0.6931472",
         "0.6931472",
         "0.6931472",
         "0.0",
         "0.0",
         "0.6931472",
         "0.6931472",
         "1.0986123",
         "1.0986123",
         "0.0",
         "0.0",
         "0.0",
         "0.6931472",
         "1.3862944",
         "0.0",
         "0.0",
         "1.0986123",
         "0.0",
         "0.6931472",
         "0.6931472",
         "0.6931472",
         "0.6931472",
         "0.0",
         "1.0986123",
         "0.0",
         "0.0",
         "1.0986123",
         "1.3862944",
         "0.6931472",
         "0.6931472",
         "0.6931472",
         "0.0",
         "0.6931472",
         "1.0986123",
         "1.0986123",
         "0.0",
         "0.6931472",
         "0.6931472",
         "0.0",
         "1.0986123",
         "0.0",
         "0.6931472",
         "0.0",
         "0.0",
         "0.6931472",
         "1.3862944",
         "1.0986123",
         "0.6931472",
         "0.6931472",
         "0.0",
         "0.6931472",
         "0.0",
         "0.0",
         "0.6931472",
         "0.0",
         "0.0",
         "0.6931472",
         "0.0",
         "0.0",
         "1.3862944",
         "0.6931472",
         "0.0",
         "0.6931472",
         "1.0986123",
         "0.0",
         "0.0",
         "0.6931472",
         "1.0986123",
         "0.6931472",
         "0.6931472",
         "1.3862944",
         "0.6931472",
         "1.0986123",
         "0.6931472",
         "0.0",
         "0.0",
         "0.6931472",
         "0.6931472",
         "0.0",
         "0.6931472",
         "0.6931472",
         "1.0986123",
         "0.6931472",
         "0.0",
         "0.6931472",
         "0.6931472",
         "1.0986123",
         "0.6931472",
         "1.3862944",
         "0.0",
         "0.0",
         "0.0",
         "1.609438",
         "0.0",
         "0.6931472",
         "0.0",
         "0.0",
         "1.0986123",
         "0.0",
         "0.0",
         "1.0986123",
         "0.6931472",
         "0.0",
         "0.0",
         "0.0",
         "0.6931472",
         "0.0",
         "0.6931472",
         "0.6931472",
         "0.6931472",
         "0.6931472",
         "0.0",
         "0.0",
         "0.0",
         "1.0986123",
         "1.0986123",
         "0.6931472",
         "0.6931472",
         "0.6931472",
         "0.6931472",
         "1.3862944",
         "0.6931472",
         "0.6931472",
         "0.0",
         "0.6931472",
         "0.6931472",
         "0.0",
         "0.6931472",
         "0.0",
         "0.6931472",
         "0.0",
         "0.6931472",
         "0.6931472",
         "0.6931472",
         "0.0",
         "0.0",
         "0.0",
         "0.6931472",
         "0.0",
         "1.0986123",
         "1.0986123",
         "1.0986123",
         "0.0",
         "1.0986123",
         "1.0986123",
         "0.6931472",
         "0.0",
         "0.0",
         "1.0986123",
         "1.0986123",
         "0.6931472",
         "1.0986123",
         "0.6931472",
         "0.0",
         "0.0",
         "0.6931472",
         "1.3862944",
         "0.0",
         "0.0",
         "1.0986123",
         "0.6931472",
         "0.0",
         "1.0986123",
         "0.0",
         "1.0986123",
         "1.0986123",
         "0.6931472",
         "0.6931472",
         "0.6931472",
         "0.0",
         "0.6931472",
         "0.0",
         "1.0986123",
         "0.6931472",
         "0.6931472",
         "0.0",
         "1.3862944",
         "0.0",
         "0.6931472",
         "0.6931472",
         "0.6931472",
         "0.0",
         "0.0",
         "0.0",
         "0.0",
         "0.0",
         "0.0",
         "0.6931472",
         "0.0",
         "0.0",
         "1.7917595",
         "0.6931472",
         "0.0",
         "0.6931472",
         "0.6931472",
         "0.0",
         "0.6931472",
         "0.6931472",
         "0.0",
         "0.0",
         "1.3862944",
         "1.0986123",
         "0.6931472",
         "0.6931472",
         "0.6931472",
         "1.3862944",
         "1.609438",
         "0.6931472",
         "1.0986123",
         "0.6931472",
         "0.0",
         "0.6931472",
         "0.6931472",
         "1.0986123",
         "0.6931472",
         "0.0",
         "1.7917595",
         "1.0986123",
         "1.0986123",
         "0.6931472",
         "1.0986123",
         "0.0",
         "1.3862944",
         "0.0",
         "1.0986123",
         "0.6931472",
         "0.6931472",
         "1.0986123",
         "0.0",
         "0.6931472",
         "1.0986123",
         "0.0",
         "0.0",
         "0.6931472",
         "1.0986123",
         "0.0",
         "0.0",
         "1.609438",
         "0.0",
         "0.0",
         "0.0",
         "0.6931472",
         "0.0",
         "0.6931472",
         "0.0",
         "0.0",
         "0.0",
         "0.6931472",
         "0.0",
         "0.0",
         "0.6931472",
         "0.0",
         "0.0",
         "0.6931472",
         "1.3862944",
         "0.6931472",
         "1.3862944",
         "0.6931472",
         "0.0",
         "0.6931472",
         "0.0",
         "0.6931472",
         "1.3862944",
         "1.0986123",
         "1.0986123",
         "0.6931472",
         "1.0986123",
         "0.6931472",
         "0.0",
         "0.0",
         "0.0",
         "0.0",
         "1.0986123",
         "0.6931472",
         "1.0986123",
         "0.0",
         "0.6931472",
         "1.0986123",
         "0.6931472",
         "0.0",
         "0.0",
         "0.0",
         "0.6931472",
         "0.0",
         "1.0986123",
         "0.6931472",
         "0.6931472",
         "0.0",
         "0.6931472",
         "0.0",
         "0.0",
         "0.0",
         "1.0986123",
         "1.0986123",
         "0.6931472",
         "0.0",
         "0.6931472",
         "1.3862944",
         "0.6931472",
         "1.0986123",
         "0.0",
         "1.0986123",
         "1.0986123",
         "0.6931472",
         "0.6931472",
         "0.6931472",
         "1.0986123",
         "1.0986123",
         "0.0",
         "1.0986123",
         "0.0",
         "0.0",
         "0.0",
         "0.6931472",
         "0.0",
         "1.0986123",
         "0.0",
         "0.0",
         "1.0986123",
         "0.0",
         "0.6931472",
         "0.6931472",
         "0.6931472",
         "0.6931472",
         "0.6931472",
         "0.0",
         "0.6931472",
         "1.0986123",
         "0.0",
         "1.0986123",
         "0.0",
         "0.6931472",
         "0.6931472",
         "0.0",
         "0.6931472",
         "0.0",
         "0.0",
         "0.6931472",
         "1.3862944",
         "0.0",
         "0.0",
         "0.6931472",
         "0.6931472",
         "0.0",
         "0.0",
         "1.3862944",
         "0.6931472",
         "1.0986123",
         "0.6931472",
         "1.0986123",
         "1.0986123",
         "1.0986123",
         "0.0",
         "0.6931472",
         "0.0",
         "1.0986123",
         "0.0",
         "1.0986123",
         "0.0",
         "1.0986123",
         "0.0",
         "0.6931472",
         "0.0",
         "0.6931472",
         "1.3862944",
         "0.0",
         "0.0",
         "0.0",
         "1.0986123",
         "0.0",
         "0.6931472",
         "0.0",
         "0.0",
         "0.0",
         "0.6931472",
         "1.3862944",
         "0.0",
         "1.0986123",
         "0.0",
         "1.0986123",
         "0.6931472",
         "1.3862944",
         "0.6931472",
         "0.6931472",
         "0.0",
         "0.0",
         "1.0986123",
         "0.0",
         "0.6931472",
         "0.6931472",
         "0.0",
         "0.6931472",
         "0.6931472",
         "0.0",
         "1.0986123",
         "0.0",
         "0.0",
         "0.6931472",
         "1.0986123",
         "0.0",
         "0.0",
         "0.0",
         "0.6931472",
         "1.0986123",
         "0.0",
         "0.0",
         "0.0",
         "0.6931472",
         "0.0",
         "0.6931472",
         "1.3862944",
         "0.6931472",
         "1.3862944",
         "0.6931472",
         "0.0",
         "0.0",
         "1.0986123",
         "0.0",
         "1.0986123",
         "0.6931472",
         "0.6931472",
         "0.0",
         "1.3862944",
         "0.6931472",
         "0.6931472",
         "0.6931472",
         "1.0986123",
         "0.6931472",
         "0.6931472",
         "0.6931472",
         "0.6931472",
         "0.0",
         "0.0",
         "0.6931472",
         "0.0",
         "1.0986123",
         "0.0",
         "0.0",
         "0.0",
         "0.0",
         "0.0",
         "0.6931472",
         "0.6931472",
         "0.6931472",
         "0.0",
         "1.0986123",
         "1.0986123",
         "0.6931472",
         "0.0",
         "0.6931472",
         "1.3862944",
         "0.0",
         "0.0",
         "0.6931472",
         "1.0986123",
         "0.0",
         "0.6931472",
         "1.0986123",
         "0.6931472",
         "0.6931472",
         "1.0986123",
         "0.0",
         "0.6931472",
         "1.0986123",
         "0.6931472",
         "1.0986123",
         "1.0986123",
         "0.0",
         "0.6931472",
         "0.6931472",
         "0.6931472",
         "0.6931472",
         "1.0986123",
         "0.6931472",
         "0.0",
         "0.0",
         "0.0",
         "1.0986123",
         "1.0986123",
         "0.6931472",
         "0.0",
         "0.0",
         "0.0",
         "0.0",
         "1.0986123",
         "1.0986123",
         "1.0986123",
         "0.6931472",
         "0.0",
         "0.0",
         "1.0986123",
         "0.6931472",
         "0.6931472",
         "0.6931472",
         "1.0986123",
         "1.0986123",
         "0.6931472",
         "1.0986123",
         "0.6931472",
         "1.3862944",
         "0.6931472",
         "0.0",
         "1.609438",
         "0.6931472",
         "0.0",
         "0.6931472",
         "1.0986123",
         "0.6931472",
         "0.0",
         "0.0",
         "0.0",
         "0.6931472",
         "0.6931472",
         "0.0",
         "0.6931472",
         "0.0",
         "1.0986123",
         "0.0",
         "0.6931472",
         "0.0",
         "0.0",
         "0.0",
         "0.6931472",
         "0.0",
         "0.0",
         "1.0986123",
         "0.0",
         "1.0986123",
         "0.0",
         "0.0",
         "0.6931472",
         "0.6931472",
         "0.6931472",
         "0.6931472",
         "1.0986123",
         "0.6931472",
         "1.0986123",
         "1.3862944",
         "0.6931472",
         "0.6931472",
         "0.6931472",
         "0.0",
         "0.0",
         "0.0",
         "0.0",
         "1.3862944",
         "0.0",
         "1.0986123"
        ],
        [
         "Cell_1",
         "0.6931472",
         "0.0",
         "1.0986123",
         "0.0",
         "0.6931472",
         "0.6931472",
         "1.0986123",
         "0.6931472",
         "0.0",
         "0.6931472",
         "0.0",
         "0.0",
         "0.6931472",
         "0.0",
         "0.6931472",
         "1.3862944",
         "0.6931472",
         "1.0986123",
         "0.6931472",
         "0.6931472",
         "0.6931472",
         "0.6931472",
         "0.6931472",
         "0.6931472",
         "1.0986123",
         "0.6931472",
         "1.0986123",
         "0.6931472",
         "0.6931472",
         "0.0",
         "1.3862944",
         "0.0",
         "0.0",
         "0.0",
         "0.0",
         "1.0986123",
         "0.0",
         "1.0986123",
         "0.0",
         "1.0986123",
         "1.0986123",
         "0.6931472",
         "0.0",
         "1.0986123",
         "0.0",
         "0.0",
         "1.3862944",
         "1.0986123",
         "0.6931472",
         "0.0",
         "0.0",
         "1.3862944",
         "0.6931472",
         "0.6931472",
         "0.0",
         "1.0986123",
         "1.0986123",
         "1.0986123",
         "0.6931472",
         "0.0",
         "0.6931472",
         "0.0",
         "1.0986123",
         "0.6931472",
         "0.0",
         "1.0986123",
         "1.0986123",
         "1.0986123",
         "0.0",
         "0.0",
         "0.6931472",
         "1.0986123",
         "0.0",
         "0.0",
         "0.6931472",
         "0.6931472",
         "0.6931472",
         "0.0",
         "0.6931472",
         "0.6931472",
         "0.0",
         "0.0",
         "0.6931472",
         "0.6931472",
         "0.6931472",
         "1.0986123",
         "1.3862944",
         "0.6931472",
         "0.0",
         "1.0986123",
         "0.6931472",
         "0.6931472",
         "0.0",
         "0.0",
         "0.0",
         "0.6931472",
         "0.6931472",
         "0.0",
         "0.6931472",
         "1.0986123",
         "0.0",
         "0.6931472",
         "0.6931472",
         "0.0",
         "0.6931472",
         "1.3862944",
         "1.3862944",
         "0.6931472",
         "0.0",
         "0.6931472",
         "0.6931472",
         "0.0",
         "0.0",
         "0.6931472",
         "0.0",
         "0.6931472",
         "0.6931472",
         "1.3862944",
         "0.0",
         "1.0986123",
         "0.6931472",
         "1.0986123",
         "0.6931472",
         "0.6931472",
         "0.6931472",
         "0.0",
         "0.0",
         "1.0986123",
         "1.0986123",
         "1.0986123",
         "1.3862944",
         "1.0986123",
         "1.0986123",
         "0.6931472",
         "0.0",
         "0.6931472",
         "0.0",
         "0.0",
         "0.0",
         "0.0",
         "0.6931472",
         "0.6931472",
         "0.6931472",
         "0.6931472",
         "0.6931472",
         "1.3862944",
         "1.0986123",
         "1.0986123",
         "1.0986123",
         "1.0986123",
         "0.6931472",
         "1.609438",
         "0.6931472",
         "0.0",
         "0.0",
         "1.0986123",
         "0.0",
         "1.0986123",
         "0.6931472",
         "1.0986123",
         "1.0986123",
         "0.6931472",
         "0.6931472",
         "0.0",
         "1.0986123",
         "0.6931472",
         "0.0",
         "0.0",
         "0.6931472",
         "0.0",
         "1.3862944",
         "0.6931472",
         "1.0986123",
         "0.6931472",
         "0.6931472",
         "0.6931472",
         "1.609438",
         "1.0986123",
         "0.6931472",
         "0.0",
         "1.0986123",
         "1.0986123",
         "0.6931472",
         "0.6931472",
         "0.0",
         "0.6931472",
         "0.0",
         "0.0",
         "0.6931472",
         "0.0",
         "1.0986123",
         "0.0",
         "1.0986123",
         "0.0",
         "0.0",
         "1.0986123",
         "0.0",
         "0.0",
         "0.6931472",
         "0.6931472",
         "0.0",
         "0.0",
         "1.0986123",
         "0.0",
         "0.0",
         "0.0",
         "1.0986123",
         "0.6931472",
         "0.0",
         "0.0",
         "0.6931472",
         "0.6931472",
         "0.0",
         "0.6931472",
         "0.6931472",
         "1.0986123",
         "0.0",
         "0.0",
         "0.0",
         "0.6931472",
         "1.0986123",
         "0.0",
         "1.0986123",
         "1.0986123",
         "0.0",
         "0.6931472",
         "0.0",
         "0.0",
         "0.0",
         "1.0986123",
         "0.0",
         "0.0",
         "0.0",
         "1.3862944",
         "0.0",
         "0.6931472",
         "1.7917595",
         "0.6931472",
         "0.6931472",
         "0.6931472",
         "0.6931472",
         "0.0",
         "1.0986123",
         "1.0986123",
         "0.6931472",
         "0.6931472",
         "0.0",
         "0.6931472",
         "0.0",
         "1.7917595",
         "0.6931472",
         "0.0",
         "0.6931472",
         "0.6931472",
         "0.0",
         "0.0",
         "1.9459101",
         "0.6931472",
         "0.6931472",
         "0.0",
         "1.0986123",
         "1.3862944",
         "0.6931472",
         "0.0",
         "0.0",
         "1.3862944",
         "0.6931472",
         "0.6931472",
         "0.6931472",
         "1.3862944",
         "0.6931472",
         "0.0",
         "0.6931472",
         "1.0986123",
         "1.3862944",
         "0.6931472",
         "0.6931472",
         "1.3862944",
         "0.0",
         "0.0",
         "1.0986123",
         "0.6931472",
         "0.0",
         "1.0986123",
         "0.0",
         "0.0",
         "0.6931472",
         "0.0",
         "0.6931472",
         "1.3862944",
         "0.6931472",
         "0.6931472",
         "0.6931472",
         "1.0986123",
         "0.0",
         "0.0",
         "0.6931472",
         "0.6931472",
         "0.0",
         "0.6931472",
         "1.3862944",
         "1.0986123",
         "1.3862944",
         "0.6931472",
         "0.0",
         "0.6931472",
         "0.6931472",
         "0.6931472",
         "0.0",
         "0.6931472",
         "0.6931472",
         "0.0",
         "0.0",
         "0.6931472",
         "0.0",
         "0.6931472",
         "0.0",
         "0.6931472",
         "0.6931472",
         "1.0986123",
         "1.3862944",
         "0.0",
         "0.0",
         "1.0986123",
         "0.6931472",
         "0.6931472",
         "1.0986123",
         "0.6931472",
         "0.6931472",
         "0.0",
         "0.0",
         "0.0",
         "0.0",
         "0.0",
         "0.0",
         "0.0",
         "0.6931472",
         "1.0986123",
         "1.0986123",
         "0.6931472",
         "1.3862944",
         "1.0986123",
         "1.0986123",
         "0.6931472",
         "1.0986123",
         "0.6931472",
         "0.0",
         "0.6931472",
         "0.6931472",
         "1.0986123",
         "0.0",
         "0.6931472",
         "0.6931472",
         "0.6931472",
         "0.0",
         "0.0",
         "0.0",
         "0.0",
         "1.0986123",
         "0.0",
         "1.3862944",
         "0.0",
         "1.0986123",
         "0.6931472",
         "0.0",
         "0.0",
         "1.0986123",
         "0.6931472",
         "0.0",
         "0.6931472",
         "1.0986123",
         "0.0",
         "1.7917595",
         "0.0",
         "0.0",
         "0.6931472",
         "0.0",
         "1.0986123",
         "0.0",
         "0.0",
         "0.6931472",
         "1.609438",
         "0.6931472",
         "0.6931472",
         "0.6931472",
         "1.0986123",
         "1.7917595",
         "0.0",
         "0.6931472",
         "0.0",
         "1.0986123",
         "0.6931472",
         "0.0",
         "0.0",
         "0.6931472",
         "0.0",
         "0.0",
         "0.0",
         "1.0986123",
         "0.0",
         "1.3862944",
         "0.0",
         "1.0986123",
         "0.6931472",
         "0.0",
         "0.0",
         "0.0",
         "0.6931472",
         "0.6931472",
         "0.6931472",
         "0.6931472",
         "1.0986123",
         "0.0",
         "1.0986123",
         "0.0",
         "0.0",
         "0.6931472",
         "0.0",
         "0.0",
         "0.6931472",
         "0.6931472",
         "1.0986123",
         "0.0",
         "0.6931472",
         "0.0",
         "1.0986123",
         "0.0",
         "0.6931472",
         "0.6931472",
         "0.6931472",
         "1.0986123",
         "0.6931472",
         "0.6931472",
         "1.0986123",
         "0.0",
         "0.6931472",
         "0.6931472",
         "0.0",
         "0.0",
         "1.3862944",
         "0.0",
         "0.0",
         "0.0",
         "0.0",
         "0.6931472",
         "0.6931472",
         "1.0986123",
         "0.0",
         "0.6931472",
         "0.6931472",
         "1.0986123",
         "0.0",
         "0.0",
         "0.0",
         "0.6931472",
         "0.0",
         "0.0",
         "1.0986123",
         "0.6931472",
         "0.6931472",
         "0.6931472",
         "1.609438",
         "0.0",
         "0.0",
         "1.0986123",
         "0.0",
         "1.3862944",
         "1.0986123",
         "0.0",
         "0.0",
         "0.6931472",
         "0.0",
         "0.0",
         "0.6931472",
         "1.0986123",
         "0.6931472",
         "1.0986123",
         "0.0",
         "0.0",
         "1.0986123",
         "1.0986123",
         "0.0",
         "1.3862944",
         "0.0",
         "1.0986123",
         "0.6931472",
         "0.0",
         "0.6931472",
         "1.3862944",
         "0.0",
         "0.0",
         "0.6931472",
         "0.6931472",
         "0.0",
         "0.0",
         "0.0",
         "0.0",
         "0.6931472",
         "0.0",
         "1.0986123",
         "0.6931472",
         "1.0986123",
         "0.0",
         "1.0986123",
         "1.0986123",
         "0.0",
         "0.6931472",
         "0.0",
         "0.0",
         "1.0986123",
         "0.0",
         "0.6931472",
         "0.6931472",
         "0.6931472",
         "0.0",
         "0.0",
         "1.0986123",
         "0.6931472",
         "0.6931472",
         "0.6931472",
         "0.0",
         "0.0",
         "1.0986123",
         "1.0986123",
         "0.0",
         "0.6931472",
         "0.6931472",
         "0.0",
         "0.0",
         "0.0",
         "0.6931472",
         "1.0986123",
         "0.6931472",
         "0.6931472",
         "0.0",
         "0.0",
         "1.0986123",
         "1.0986123",
         "0.0",
         "0.6931472",
         "0.6931472",
         "0.6931472",
         "0.0",
         "0.6931472",
         "0.0",
         "1.0986123",
         "0.6931472",
         "0.0",
         "0.0",
         "0.0",
         "0.0",
         "0.6931472",
         "0.0",
         "1.0986123",
         "0.0",
         "0.0",
         "0.6931472",
         "0.6931472",
         "0.0",
         "0.6931472",
         "1.0986123",
         "0.0",
         "0.6931472",
         "0.0",
         "0.0",
         "0.0",
         "0.6931472",
         "0.0",
         "0.0",
         "0.0",
         "0.0",
         "0.6931472",
         "0.6931472",
         "1.3862944",
         "0.6931472",
         "1.0986123",
         "1.0986123",
         "1.3862944",
         "0.6931472",
         "1.0986123",
         "0.6931472",
         "0.0",
         "0.0",
         "0.6931472",
         "0.0",
         "0.0",
         "0.0",
         "1.0986123",
         "0.6931472",
         "0.0",
         "0.0",
         "0.0",
         "0.0",
         "0.6931472",
         "0.6931472",
         "0.6931472",
         "0.0",
         "0.6931472",
         "1.0986123",
         "0.0",
         "0.6931472",
         "0.6931472",
         "0.0",
         "0.0",
         "1.0986123",
         "0.0",
         "0.0",
         "1.3862944",
         "0.0",
         "0.0",
         "1.0986123",
         "0.6931472",
         "0.0",
         "1.0986123",
         "0.0",
         "0.0",
         "0.6931472",
         "0.0",
         "0.0",
         "1.0986123",
         "0.0",
         "0.6931472",
         "0.0",
         "0.0",
         "0.6931472",
         "0.0",
         "0.0",
         "0.6931472",
         "0.6931472",
         "0.6931472",
         "1.0986123",
         "1.3862944",
         "0.0",
         "1.0986123",
         "0.0",
         "0.0",
         "0.6931472",
         "0.6931472",
         "0.6931472",
         "1.0986123",
         "1.0986123",
         "0.6931472",
         "1.0986123",
         "1.0986123",
         "1.0986123",
         "0.6931472",
         "0.0",
         "0.6931472",
         "1.0986123",
         "1.0986123",
         "0.6931472",
         "1.3862944",
         "0.6931472",
         "0.0",
         "0.6931472",
         "0.0",
         "1.0986123",
         "1.0986123",
         "1.0986123",
         "0.0",
         "1.0986123",
         "1.7917595",
         "0.6931472",
         "0.0",
         "1.0986123",
         "0.6931472",
         "1.609438",
         "0.0",
         "1.3862944",
         "1.3862944",
         "0.6931472",
         "0.6931472",
         "0.6931472",
         "1.0986123",
         "0.6931472",
         "0.0",
         "1.0986123",
         "0.0",
         "1.0986123",
         "1.0986123",
         "0.0",
         "1.3862944",
         "0.0",
         "0.6931472",
         "1.0986123",
         "0.6931472",
         "0.6931472",
         "0.0",
         "0.0",
         "1.0986123",
         "0.0",
         "0.6931472",
         "1.0986123",
         "0.0",
         "0.0",
         "0.6931472",
         "1.3862944",
         "1.0986123",
         "0.6931472",
         "0.6931472",
         "0.0",
         "0.0",
         "1.0986123",
         "0.0",
         "0.6931472",
         "0.6931472",
         "0.0",
         "0.6931472",
         "1.0986123",
         "0.6931472",
         "0.6931472",
         "0.6931472",
         "1.0986123",
         "0.0",
         "0.6931472",
         "0.6931472",
         "0.6931472",
         "1.0986123",
         "1.0986123",
         "0.6931472",
         "0.0",
         "1.0986123",
         "0.0",
         "0.6931472",
         "0.0",
         "0.0",
         "0.0",
         "0.0",
         "0.0",
         "0.6931472",
         "1.0986123",
         "0.0",
         "0.6931472",
         "0.0",
         "1.0986123",
         "0.6931472",
         "1.0986123",
         "0.0",
         "0.6931472",
         "0.6931472",
         "0.6931472",
         "0.6931472",
         "1.0986123",
         "1.0986123",
         "0.6931472",
         "0.6931472",
         "0.6931472",
         "1.3862944",
         "0.6931472",
         "0.0",
         "0.6931472",
         "0.0",
         "0.6931472",
         "0.0",
         "0.6931472",
         "0.0",
         "1.0986123",
         "0.0",
         "0.6931472",
         "0.6931472",
         "0.6931472",
         "0.0",
         "0.6931472",
         "1.0986123",
         "0.0",
         "1.609438",
         "0.6931472",
         "0.6931472",
         "0.0",
         "0.6931472",
         "0.6931472",
         "1.0986123",
         "0.0",
         "0.6931472",
         "1.0986123",
         "0.0",
         "1.0986123",
         "0.6931472",
         "0.6931472",
         "0.6931472",
         "0.6931472",
         "0.0",
         "1.0986123",
         "0.0",
         "1.0986123",
         "0.0",
         "0.6931472",
         "0.0",
         "0.0",
         "1.3862944",
         "0.0",
         "0.6931472",
         "0.0",
         "0.0",
         "1.609438",
         "0.0",
         "0.0",
         "0.0",
         "1.0986123",
         "1.0986123",
         "1.0986123",
         "0.6931472",
         "0.6931472",
         "1.0986123",
         "1.0986123",
         "0.0",
         "0.6931472",
         "0.0",
         "0.6931472",
         "0.6931472",
         "0.6931472",
         "0.0",
         "1.3862944",
         "0.0",
         "0.0",
         "0.6931472",
         "0.0",
         "0.6931472",
         "1.0986123",
         "1.609438",
         "0.6931472",
         "0.6931472",
         "0.0",
         "0.6931472",
         "0.6931472",
         "1.0986123",
         "0.6931472",
         "0.0",
         "1.3862944",
         "0.0",
         "0.6931472",
         "1.0986123",
         "0.6931472",
         "0.6931472",
         "0.6931472",
         "0.6931472",
         "1.0986123",
         "0.6931472",
         "0.6931472",
         "0.6931472",
         "0.0",
         "0.6931472",
         "0.0",
         "0.0",
         "1.0986123",
         "0.0",
         "0.6931472",
         "1.0986123",
         "0.6931472",
         "0.0",
         "0.6931472",
         "0.0",
         "0.6931472",
         "0.0",
         "1.0986123",
         "1.0986123",
         "0.0",
         "0.0",
         "1.0986123",
         "0.6931472",
         "1.0986123",
         "1.3862944",
         "0.6931472",
         "0.6931472",
         "1.3862944",
         "1.3862944",
         "0.6931472",
         "1.0986123",
         "1.0986123",
         "0.0",
         "1.0986123",
         "1.0986123",
         "0.0",
         "0.0",
         "0.6931472",
         "1.0986123",
         "1.3862944",
         "0.6931472",
         "0.6931472",
         "1.0986123",
         "0.6931472",
         "0.6931472",
         "0.0",
         "1.3862944",
         "1.3862944",
         "0.0",
         "1.0986123",
         "0.0",
         "0.6931472",
         "1.3862944",
         "0.0",
         "1.0986123",
         "0.6931472",
         "1.0986123",
         "0.0",
         "1.3862944",
         "0.6931472",
         "1.0986123",
         "0.0",
         "1.0986123",
         "1.0986123",
         "1.0986123",
         "1.3862944",
         "1.0986123",
         "0.6931472",
         "0.6931472",
         "0.0",
         "1.3862944",
         "0.0",
         "0.6931472",
         "0.0",
         "0.0",
         "0.0",
         "0.0",
         "1.0986123",
         "0.6931472",
         "1.0986123",
         "0.0",
         "0.0",
         "0.0",
         "1.0986123",
         "0.6931472",
         "0.6931472",
         "0.0",
         "0.6931472",
         "0.6931472",
         "0.0",
         "0.0",
         "0.6931472",
         "0.6931472",
         "1.0986123",
         "0.6931472",
         "1.0986123",
         "0.0",
         "1.3862944",
         "0.6931472",
         "0.0",
         "0.0",
         "0.0",
         "0.0",
         "1.3862944",
         "1.0986123",
         "0.6931472",
         "0.0",
         "1.0986123",
         "0.0",
         "1.0986123",
         "0.0",
         "0.0",
         "0.6931472",
         "0.0",
         "0.6931472",
         "0.6931472",
         "0.0",
         "1.0986123",
         "0.6931472",
         "0.0",
         "1.3862944",
         "0.0",
         "1.3862944",
         "1.0986123",
         "0.6931472",
         "0.6931472",
         "0.0",
         "0.6931472",
         "0.6931472",
         "0.0",
         "0.0",
         "1.3862944",
         "0.0",
         "1.3862944",
         "0.0",
         "0.0",
         "1.0986123",
         "0.6931472",
         "0.6931472",
         "0.6931472",
         "0.6931472",
         "0.0",
         "0.0",
         "0.6931472",
         "0.6931472",
         "0.0",
         "0.6931472",
         "0.6931472",
         "0.0",
         "0.6931472",
         "0.0",
         "1.0986123",
         "1.3862944",
         "0.0",
         "1.0986123",
         "1.0986123",
         "0.6931472",
         "0.6931472",
         "0.0",
         "1.0986123",
         "1.0986123",
         "0.6931472",
         "0.0",
         "0.6931472",
         "0.6931472",
         "0.0",
         "1.0986123",
         "1.0986123",
         "0.6931472",
         "0.6931472",
         "0.6931472",
         "0.0",
         "0.6931472",
         "0.0",
         "0.0",
         "0.0",
         "0.0",
         "0.6931472",
         "0.6931472",
         "0.0",
         "1.0986123",
         "1.0986123",
         "0.0",
         "0.6931472",
         "0.6931472",
         "0.6931472",
         "0.6931472",
         "0.6931472",
         "0.0",
         "1.609438",
         "0.0",
         "1.609438",
         "1.3862944",
         "0.6931472",
         "1.0986123",
         "0.6931472",
         "0.0",
         "0.0",
         "0.6931472",
         "1.0986123",
         "0.0",
         "0.0",
         "0.0",
         "0.0",
         "0.0",
         "0.0",
         "1.3862944",
         "0.6931472",
         "1.0986123",
         "1.3862944",
         "0.0",
         "0.0",
         "0.6931472",
         "1.0986123",
         "0.0",
         "0.6931472",
         "1.0986123",
         "1.0986123",
         "0.6931472",
         "0.0",
         "0.6931472",
         "0.6931472",
         "0.0",
         "0.0",
         "0.0",
         "0.0",
         "0.0",
         "0.0",
         "1.0986123",
         "0.6931472",
         "0.0",
         "0.6931472",
         "1.0986123",
         "0.0",
         "0.0",
         "1.3862944",
         "0.0",
         "0.0",
         "0.0",
         "1.7917595",
         "0.6931472",
         "0.0",
         "0.0",
         "0.6931472",
         "0.6931472",
         "0.6931472",
         "1.3862944",
         "0.6931472",
         "1.0986123",
         "1.3862944",
         "0.6931472",
         "0.6931472",
         "1.0986123",
         "0.0",
         "0.6931472",
         "0.6931472",
         "0.6931472",
         "0.6931472",
         "1.3862944",
         "1.0986123",
         "0.6931472",
         "0.0",
         "0.6931472",
         "0.0",
         "0.6931472",
         "0.0",
         "1.0986123",
         "1.3862944",
         "0.0",
         "0.6931472",
         "0.0",
         "0.0",
         "0.0",
         "0.6931472",
         "1.0986123",
         "0.6931472",
         "1.0986123",
         "0.0",
         "0.6931472",
         "1.0986123",
         "0.6931472",
         "0.0",
         "0.6931472",
         "1.0986123",
         "1.0986123",
         "0.0",
         "0.0",
         "0.0",
         "0.0",
         "0.6931472",
         "0.0",
         "0.0",
         "1.0986123",
         "0.6931472",
         "0.0",
         "0.6931472",
         "0.6931472",
         "0.0",
         "1.0986123",
         "0.0",
         "0.6931472",
         "0.6931472",
         "0.0",
         "0.6931472",
         "0.6931472",
         "0.0",
         "1.0986123",
         "1.0986123",
         "0.6931472",
         "0.6931472",
         "1.3862944",
         "0.6931472",
         "1.0986123",
         "0.0",
         "0.0",
         "0.6931472",
         "1.3862944",
         "0.0",
         "1.0986123",
         "1.0986123",
         "0.0",
         "1.0986123",
         "1.3862944",
         "0.6931472",
         "0.0",
         "1.0986123",
         "0.0",
         "1.0986123",
         "0.0",
         "1.0986123",
         "0.0",
         "0.0",
         "0.0",
         "0.0",
         "0.6931472",
         "1.0986123",
         "0.6931472",
         "1.0986123",
         "0.6931472",
         "0.0",
         "0.6931472",
         "0.6931472",
         "0.0",
         "1.0986123",
         "0.6931472",
         "1.3862944",
         "0.6931472",
         "0.6931472",
         "0.0",
         "1.3862944",
         "1.3862944",
         "0.0",
         "1.0986123",
         "0.6931472",
         "0.6931472",
         "0.6931472",
         "1.0986123",
         "0.0",
         "0.0",
         "0.6931472",
         "1.0986123",
         "1.0986123",
         "1.0986123",
         "0.0",
         "0.0",
         "0.0",
         "0.6931472",
         "1.0986123",
         "0.0",
         "0.6931472",
         "1.3862944",
         "0.0",
         "1.3862944",
         "0.0",
         "1.0986123",
         "1.0986123",
         "0.0",
         "0.0",
         "0.0",
         "0.6931472",
         "0.0",
         "0.6931472",
         "0.6931472",
         "1.0986123",
         "1.0986123",
         "0.0",
         "0.6931472",
         "0.0",
         "0.6931472",
         "0.0",
         "0.6931472",
         "1.0986123",
         "0.0",
         "0.6931472",
         "1.0986123",
         "0.6931472",
         "0.0",
         "1.3862944",
         "1.0986123",
         "0.6931472",
         "0.6931472",
         "1.3862944",
         "0.0",
         "0.0",
         "0.6931472",
         "0.0",
         "0.6931472",
         "1.3862944",
         "1.0986123",
         "1.3862944",
         "0.0",
         "1.0986123",
         "0.0",
         "0.6931472",
         "0.0",
         "0.0",
         "0.6931472",
         "1.3862944",
         "1.0986123",
         "1.0986123",
         "0.0",
         "0.6931472",
         "0.6931472",
         "0.0",
         "0.6931472",
         "1.3862944",
         "0.6931472",
         "0.6931472",
         "1.0986123",
         "1.0986123",
         "0.6931472",
         "1.3862944",
         "1.0986123",
         "0.0",
         "1.0986123",
         "1.0986123",
         "0.0",
         "0.0",
         "1.0986123",
         "0.0",
         "0.6931472",
         "0.0",
         "0.0",
         "1.0986123",
         "0.6931472",
         "0.6931472",
         "0.0",
         "1.0986123",
         "1.0986123",
         "0.0",
         "0.6931472",
         "0.6931472",
         "1.0986123",
         "0.6931472",
         "0.0",
         "1.0986123",
         "0.0",
         "0.6931472",
         "0.6931472",
         "0.6931472",
         "0.0",
         "0.0",
         "0.6931472",
         "0.0",
         "1.0986123",
         "0.6931472",
         "0.0",
         "0.0",
         "0.6931472",
         "1.3862944",
         "1.0986123",
         "0.0",
         "0.6931472",
         "0.0",
         "0.6931472",
         "1.0986123",
         "1.0986123",
         "0.6931472",
         "0.6931472",
         "1.0986123",
         "0.0",
         "0.6931472",
         "0.6931472",
         "1.0986123",
         "0.0",
         "0.0",
         "0.0",
         "1.3862944",
         "0.0",
         "0.0",
         "1.3862944",
         "0.0",
         "0.6931472",
         "1.0986123",
         "1.3862944",
         "0.0",
         "0.6931472",
         "0.0",
         "0.6931472",
         "0.0",
         "0.0",
         "0.0",
         "0.6931472",
         "0.0",
         "0.6931472",
         "0.0",
         "0.0",
         "1.3862944",
         "0.6931472",
         "0.6931472",
         "0.6931472",
         "1.0986123",
         "0.6931472",
         "0.0",
         "0.0",
         "0.6931472",
         "1.3862944",
         "0.6931472",
         "0.6931472",
         "1.0986123",
         "0.0",
         "0.0",
         "1.0986123",
         "0.0",
         "1.3862944",
         "0.6931472",
         "0.0",
         "0.6931472",
         "1.0986123",
         "0.0",
         "0.6931472",
         "0.6931472",
         "0.6931472",
         "1.0986123",
         "1.3862944",
         "1.3862944",
         "0.0",
         "0.6931472",
         "0.0",
         "0.6931472",
         "0.0",
         "0.0",
         "0.0",
         "1.0986123",
         "0.0",
         "0.0",
         "0.0",
         "1.0986123",
         "1.3862944",
         "0.6931472",
         "0.0",
         "0.6931472",
         "1.0986123",
         "0.6931472",
         "0.0",
         "0.6931472",
         "0.0",
         "0.6931472",
         "1.0986123",
         "0.6931472",
         "0.0",
         "0.6931472",
         "0.6931472",
         "0.0",
         "0.0",
         "1.0986123",
         "1.0986123",
         "0.6931472",
         "1.0986123",
         "0.6931472",
         "0.6931472",
         "1.0986123",
         "1.0986123",
         "0.6931472",
         "1.0986123",
         "0.0",
         "0.6931472",
         "0.6931472",
         "0.6931472",
         "0.0",
         "0.6931472",
         "0.0",
         "0.6931472",
         "0.6931472",
         "0.6931472",
         "0.0",
         "0.0",
         "1.3862944",
         "0.0",
         "0.0",
         "0.6931472",
         "1.0986123",
         "0.6931472",
         "0.6931472",
         "0.0",
         "0.0",
         "0.6931472",
         "0.6931472",
         "0.0",
         "0.0",
         "0.0",
         "1.0986123",
         "0.0",
         "0.0",
         "0.0",
         "0.0",
         "1.0986123",
         "0.6931472",
         "0.0",
         "1.0986123",
         "0.6931472",
         "0.0",
         "0.0",
         "0.6931472",
         "0.6931472",
         "0.6931472",
         "0.0",
         "1.3862944",
         "0.0",
         "1.0986123",
         "0.0",
         "0.0",
         "0.6931472",
         "0.0",
         "1.609438",
         "0.6931472",
         "0.0",
         "0.6931472",
         "1.0986123",
         "0.0",
         "0.6931472",
         "0.6931472",
         "0.0",
         "0.6931472",
         "0.6931472",
         "1.3862944",
         "0.0",
         "0.6931472",
         "0.0",
         "0.0",
         "0.6931472",
         "0.6931472",
         "0.6931472",
         "0.6931472",
         "0.0",
         "0.6931472",
         "1.0986123",
         "1.0986123",
         "0.6931472",
         "1.3862944",
         "0.0",
         "1.0986123",
         "0.0",
         "0.6931472",
         "0.6931472",
         "0.6931472",
         "0.6931472",
         "0.0",
         "1.0986123",
         "1.0986123",
         "0.6931472",
         "0.0",
         "0.6931472",
         "0.6931472",
         "0.0",
         "1.0986123",
         "1.0986123",
         "0.6931472",
         "0.6931472",
         "0.6931472",
         "1.7917595",
         "1.3862944",
         "0.0",
         "0.0",
         "0.6931472",
         "0.0",
         "0.0",
         "0.6931472",
         "0.0",
         "0.0",
         "0.6931472",
         "1.3862944",
         "0.6931472",
         "0.0",
         "0.0",
         "0.6931472",
         "0.6931472",
         "1.0986123",
         "0.6931472",
         "0.6931472",
         "0.0",
         "0.0",
         "0.0",
         "0.0",
         "0.6931472",
         "0.6931472",
         "0.6931472",
         "0.0",
         "1.3862944",
         "0.6931472",
         "0.6931472",
         "0.0",
         "0.0",
         "0.0",
         "0.6931472",
         "1.0986123",
         "0.0",
         "0.0",
         "0.0",
         "1.3862944",
         "1.0986123",
         "0.0",
         "0.0",
         "0.6931472",
         "0.6931472",
         "0.6931472",
         "1.0986123",
         "1.0986123",
         "0.6931472",
         "1.0986123",
         "0.0",
         "0.0",
         "0.0",
         "0.0",
         "0.0",
         "1.0986123",
         "0.6931472",
         "0.6931472",
         "1.3862944",
         "0.0",
         "0.6931472",
         "1.0986123",
         "1.0986123",
         "0.6931472",
         "0.6931472",
         "0.6931472",
         "0.0",
         "0.0",
         "1.0986123",
         "1.0986123",
         "1.0986123",
         "0.0",
         "1.0986123",
         "1.0986123",
         "0.0",
         "0.6931472",
         "1.0986123",
         "1.3862944",
         "0.0",
         "0.0",
         "0.0",
         "1.0986123",
         "0.6931472",
         "0.6931472",
         "0.6931472",
         "1.0986123",
         "0.0",
         "1.3862944",
         "0.6931472",
         "1.609438",
         "1.3862944",
         "0.6931472",
         "0.0",
         "0.6931472",
         "0.6931472",
         "0.0",
         "1.0986123",
         "0.6931472",
         "0.6931472",
         "1.0986123",
         "0.6931472",
         "0.6931472",
         "0.0",
         "0.6931472",
         "0.0",
         "0.0",
         "1.7917595",
         "0.0",
         "1.0986123",
         "0.0",
         "0.6931472",
         "0.0",
         "0.0",
         "1.0986123",
         "1.0986123",
         "0.6931472",
         "0.6931472",
         "0.0",
         "0.6931472",
         "0.6931472",
         "0.0",
         "0.6931472",
         "0.6931472",
         "0.0",
         "0.6931472",
         "0.6931472",
         "0.6931472",
         "0.6931472",
         "1.0986123",
         "1.0986123",
         "1.0986123",
         "0.0",
         "0.6931472",
         "0.0",
         "0.0",
         "0.0",
         "0.0",
         "0.6931472",
         "1.0986123",
         "1.0986123",
         "0.6931472",
         "0.6931472",
         "0.6931472",
         "0.0",
         "1.609438",
         "1.0986123",
         "0.6931472",
         "0.6931472",
         "0.0",
         "1.0986123",
         "1.0986123",
         "0.0",
         "0.6931472",
         "0.0",
         "1.0986123",
         "0.0",
         "0.0",
         "0.0",
         "0.6931472",
         "0.0",
         "1.0986123",
         "0.6931472",
         "0.0",
         "1.3862944",
         "0.6931472",
         "0.0",
         "0.0",
         "0.0",
         "1.0986123",
         "0.6931472",
         "0.0",
         "1.0986123",
         "0.6931472",
         "0.0",
         "1.0986123",
         "1.609438",
         "0.0",
         "0.0",
         "1.0986123",
         "0.0",
         "0.6931472",
         "0.0",
         "0.6931472",
         "1.3862944",
         "0.6931472",
         "1.0986123",
         "0.6931472",
         "1.0986123",
         "0.0",
         "0.6931472",
         "1.0986123",
         "0.6931472",
         "0.0",
         "0.6931472",
         "0.0",
         "0.6931472",
         "0.6931472",
         "0.6931472",
         "0.6931472",
         "0.6931472",
         "0.6931472",
         "0.0",
         "1.0986123",
         "0.6931472",
         "0.6931472",
         "1.3862944",
         "1.0986123",
         "0.0",
         "0.6931472",
         "0.6931472",
         "0.0",
         "0.0",
         "1.0986123",
         "0.6931472",
         "0.6931472",
         "0.6931472",
         "0.0",
         "0.0",
         "0.0",
         "0.6931472",
         "0.6931472",
         "0.0",
         "1.3862944",
         "1.3862944",
         "0.0",
         "0.6931472",
         "0.6931472",
         "0.6931472",
         "0.6931472",
         "0.0",
         "0.0",
         "1.0986123",
         "0.6931472",
         "0.6931472",
         "0.6931472",
         "1.0986123",
         "0.0",
         "0.0",
         "0.0",
         "0.0",
         "0.0",
         "1.3862944",
         "0.0",
         "0.0",
         "0.6931472",
         "0.6931472",
         "0.6931472",
         "0.0",
         "0.6931472",
         "1.0986123",
         "1.0986123",
         "1.0986123",
         "1.0986123",
         "0.0",
         "1.0986123",
         "0.6931472",
         "0.0",
         "0.0",
         "0.0",
         "0.0",
         "1.0986123",
         "1.0986123",
         "1.0986123",
         "1.0986123",
         "0.6931472",
         "0.6931472",
         "1.0986123",
         "0.0",
         "0.6931472",
         "1.0986123",
         "0.0",
         "0.6931472",
         "0.0",
         "1.609438",
         "1.0986123",
         "0.0",
         "0.0",
         "1.0986123",
         "0.0",
         "0.0",
         "0.6931472",
         "0.0",
         "1.3862944",
         "0.0",
         "0.0",
         "0.0",
         "0.6931472",
         "0.6931472",
         "0.0",
         "0.6931472",
         "1.3862944",
         "0.0",
         "0.0",
         "0.6931472",
         "0.6931472",
         "0.6931472",
         "0.0",
         "0.0",
         "1.0986123",
         "0.6931472",
         "0.6931472",
         "0.0",
         "0.0",
         "0.6931472",
         "0.6931472",
         "1.3862944",
         "0.6931472",
         "0.6931472",
         "1.0986123",
         "1.609438",
         "0.0",
         "0.0",
         "0.0",
         "0.0",
         "0.0",
         "0.0",
         "1.0986123",
         "1.0986123",
         "0.6931472",
         "0.6931472",
         "1.3862944",
         "0.6931472",
         "1.0986123",
         "1.0986123",
         "0.0",
         "1.0986123",
         "0.0",
         "0.6931472",
         "0.6931472",
         "1.0986123",
         "0.6931472",
         "0.6931472",
         "0.0",
         "0.0",
         "0.6931472",
         "1.3862944",
         "1.609438",
         "1.0986123",
         "1.609438",
         "0.6931472",
         "1.609438",
         "0.0",
         "1.609438",
         "1.0986123",
         "1.0986123",
         "0.0",
         "0.6931472",
         "1.3862944",
         "0.0",
         "0.6931472",
         "0.6931472",
         "0.0",
         "0.6931472",
         "1.3862944",
         "1.0986123",
         "0.6931472",
         "1.3862944",
         "0.6931472",
         "0.6931472",
         "0.0",
         "1.0986123",
         "0.0",
         "0.0",
         "1.0986123",
         "0.0",
         "1.0986123",
         "0.6931472",
         "0.0",
         "0.6931472",
         "1.3862944",
         "0.6931472",
         "0.0",
         "1.0986123",
         "0.6931472",
         "1.0986123",
         "0.0",
         "0.0",
         "1.3862944",
         "0.6931472",
         "0.0",
         "0.0",
         "0.6931472",
         "0.0",
         "0.6931472",
         "0.6931472",
         "0.6931472",
         "0.6931472",
         "0.6931472",
         "0.6931472",
         "0.0",
         "1.0986123",
         "0.6931472",
         "0.6931472",
         "0.0",
         "0.6931472",
         "0.0",
         "1.0986123",
         "0.0",
         "1.3862944",
         "0.0",
         "1.3862944",
         "0.6931472",
         "0.6931472",
         "0.0",
         "1.0986123",
         "0.0",
         "0.6931472",
         "1.7917595",
         "0.6931472",
         "0.6931472",
         "1.0986123",
         "0.6931472",
         "1.3862944",
         "1.3862944",
         "0.6931472",
         "1.0986123",
         "0.6931472",
         "0.0",
         "0.0",
         "0.0",
         "0.6931472",
         "0.0",
         "0.6931472",
         "0.0",
         "0.0",
         "0.6931472",
         "0.0",
         "0.6931472",
         "1.3862944",
         "1.0986123",
         "0.6931472",
         "0.6931472",
         "1.0986123",
         "0.6931472",
         "0.6931472",
         "1.0986123",
         "0.6931472",
         "1.3862944",
         "0.0",
         "1.609438",
         "1.0986123",
         "1.0986123",
         "0.6931472",
         "0.6931472",
         "1.3862944",
         "0.0",
         "0.6931472",
         "0.6931472",
         "0.6931472",
         "0.0",
         "1.0986123",
         "0.6931472",
         "0.0",
         "0.6931472",
         "0.0",
         "0.0",
         "0.0",
         "0.0",
         "0.0",
         "0.6931472",
         "0.0",
         "0.0",
         "0.0",
         "1.3862944",
         "0.0",
         "0.6931472",
         "1.0986123",
         "0.0",
         "0.6931472",
         "0.0",
         "1.0986123",
         "0.0",
         "0.6931472",
         "1.3862944",
         "1.0986123",
         "0.0",
         "0.6931472",
         "1.0986123",
         "1.0986123",
         "0.6931472",
         "0.0",
         "0.6931472",
         "1.0986123",
         "0.0",
         "0.0",
         "0.0",
         "0.6931472",
         "0.6931472",
         "0.0",
         "0.0",
         "0.6931472",
         "0.0",
         "0.0"
        ],
        [
         "Cell_2",
         "0.6931472",
         "0.0",
         "0.0",
         "0.6931472",
         "0.6931472",
         "0.0",
         "0.6931472",
         "0.0",
         "0.6931472",
         "1.3862944",
         "0.0",
         "0.6931472",
         "0.6931472",
         "1.609438",
         "1.0986123",
         "0.0",
         "0.6931472",
         "1.0986123",
         "0.0",
         "1.0986123",
         "0.0",
         "0.0",
         "0.6931472",
         "0.6931472",
         "1.0986123",
         "1.0986123",
         "1.3862944",
         "0.0",
         "0.6931472",
         "0.6931472",
         "1.3862944",
         "0.0",
         "1.0986123",
         "0.6931472",
         "0.6931472",
         "0.6931472",
         "0.6931472",
         "0.6931472",
         "0.6931472",
         "0.0",
         "0.6931472",
         "0.6931472",
         "0.0",
         "0.0",
         "0.6931472",
         "0.0",
         "1.0986123",
         "1.0986123",
         "1.3862944",
         "0.0",
         "0.0",
         "1.0986123",
         "0.0",
         "1.0986123",
         "1.3862944",
         "0.0",
         "0.0",
         "0.6931472",
         "0.0",
         "0.0",
         "0.0",
         "0.6931472",
         "1.3862944",
         "0.0",
         "0.6931472",
         "1.0986123",
         "1.3862944",
         "0.0",
         "1.0986123",
         "0.6931472",
         "1.0986123",
         "0.0",
         "0.6931472",
         "1.0986123",
         "0.6931472",
         "0.0",
         "0.6931472",
         "0.0",
         "0.0",
         "0.6931472",
         "1.0986123",
         "0.6931472",
         "0.6931472",
         "1.3862944",
         "1.3862944",
         "0.6931472",
         "0.0",
         "0.6931472",
         "0.6931472",
         "0.0",
         "0.6931472",
         "1.0986123",
         "0.6931472",
         "0.0",
         "0.6931472",
         "0.0",
         "1.0986123",
         "0.6931472",
         "0.0",
         "0.0",
         "0.0",
         "0.6931472",
         "0.0",
         "0.6931472",
         "1.0986123",
         "0.0",
         "0.6931472",
         "0.0",
         "1.3862944",
         "1.0986123",
         "0.0",
         "0.0",
         "0.0",
         "0.6931472",
         "0.0",
         "0.6931472",
         "0.6931472",
         "0.0",
         "0.6931472",
         "1.0986123",
         "0.6931472",
         "0.6931472",
         "0.0",
         "0.0",
         "0.0",
         "1.0986123",
         "0.0",
         "0.6931472",
         "0.0",
         "0.0",
         "0.6931472",
         "0.0",
         "0.0",
         "0.6931472",
         "0.6931472",
         "0.0",
         "1.0986123",
         "0.6931472",
         "0.6931472",
         "0.6931472",
         "0.0",
         "0.6931472",
         "0.6931472",
         "0.0",
         "0.6931472",
         "0.0",
         "0.0",
         "0.0",
         "0.6931472",
         "0.0",
         "0.6931472",
         "0.0",
         "0.6931472",
         "1.3862944",
         "0.6931472",
         "0.0",
         "0.0",
         "0.6931472",
         "0.6931472",
         "0.6931472",
         "1.0986123",
         "0.0",
         "0.6931472",
         "1.0986123",
         "0.0",
         "0.6931472",
         "0.6931472",
         "0.0",
         "1.0986123",
         "0.6931472",
         "0.0",
         "1.0986123",
         "0.0",
         "0.0",
         "0.0",
         "0.6931472",
         "0.0",
         "0.6931472",
         "0.0",
         "0.0",
         "0.6931472",
         "0.0",
         "0.6931472",
         "0.0",
         "0.6931472",
         "0.0",
         "0.0",
         "0.0",
         "1.0986123",
         "0.6931472",
         "0.6931472",
         "0.6931472",
         "0.6931472",
         "1.0986123",
         "0.6931472",
         "1.3862944",
         "0.6931472",
         "0.6931472",
         "0.6931472",
         "1.0986123",
         "0.0",
         "0.0",
         "0.0",
         "0.0",
         "1.3862944",
         "1.0986123",
         "1.0986123",
         "0.0",
         "1.0986123",
         "1.0986123",
         "0.0",
         "0.0",
         "0.6931472",
         "0.6931472",
         "0.6931472",
         "0.0",
         "0.0",
         "0.0",
         "0.0",
         "0.6931472",
         "0.6931472",
         "0.6931472",
         "0.0",
         "0.0",
         "1.0986123",
         "1.3862944",
         "0.0",
         "0.0",
         "0.6931472",
         "0.6931472",
         "0.6931472",
         "0.0",
         "0.0",
         "0.0",
         "1.609438",
         "0.6931472",
         "1.0986123",
         "0.0",
         "0.6931472",
         "1.0986123",
         "0.6931472",
         "0.6931472",
         "0.0",
         "0.6931472",
         "1.0986123",
         "0.6931472",
         "0.0",
         "0.0",
         "0.6931472",
         "0.6931472",
         "0.6931472",
         "0.6931472",
         "0.0",
         "0.0",
         "0.0",
         "0.0",
         "1.0986123",
         "0.6931472",
         "0.6931472",
         "0.0",
         "1.0986123",
         "1.3862944",
         "0.6931472",
         "0.0",
         "0.6931472",
         "0.0",
         "0.6931472",
         "1.0986123",
         "1.609438",
         "0.0",
         "1.0986123",
         "0.6931472",
         "0.0",
         "0.6931472",
         "1.0986123",
         "1.0986123",
         "1.609438",
         "1.0986123",
         "1.3862944",
         "0.0",
         "0.0",
         "1.0986123",
         "0.6931472",
         "0.0",
         "0.0",
         "1.3862944",
         "0.6931472",
         "1.3862944",
         "1.0986123",
         "1.0986123",
         "0.0",
         "0.0",
         "0.6931472",
         "0.6931472",
         "0.0",
         "0.0",
         "1.0986123",
         "0.6931472",
         "0.0",
         "0.0",
         "0.0",
         "0.6931472",
         "0.6931472",
         "0.6931472",
         "0.6931472",
         "0.6931472",
         "0.0",
         "0.6931472",
         "0.0",
         "0.6931472",
         "0.6931472",
         "0.0",
         "0.6931472",
         "0.6931472",
         "0.0",
         "0.6931472",
         "1.0986123",
         "0.6931472",
         "0.6931472",
         "0.0",
         "0.0",
         "0.0",
         "0.0",
         "0.0",
         "1.0986123",
         "1.0986123",
         "1.0986123",
         "0.6931472",
         "1.0986123",
         "1.0986123",
         "1.0986123",
         "1.0986123",
         "0.6931472",
         "0.6931472",
         "0.6931472",
         "0.0",
         "0.6931472",
         "1.3862944",
         "0.6931472",
         "0.6931472",
         "0.0",
         "0.6931472",
         "0.6931472",
         "0.0",
         "0.0",
         "0.0",
         "1.3862944",
         "0.6931472",
         "0.0",
         "0.0",
         "0.0",
         "0.0",
         "0.0",
         "0.6931472",
         "0.0",
         "0.0",
         "1.0986123",
         "0.6931472",
         "0.6931472",
         "1.3862944",
         "0.0",
         "1.0986123",
         "0.0",
         "0.6931472",
         "0.6931472",
         "0.6931472",
         "1.0986123",
         "1.3862944",
         "0.0",
         "0.6931472",
         "1.3862944",
         "0.0",
         "0.0",
         "0.0",
         "0.6931472",
         "0.0",
         "0.0",
         "0.6931472",
         "0.6931472",
         "0.0",
         "0.0",
         "0.6931472",
         "1.0986123",
         "1.0986123",
         "0.0",
         "0.6931472",
         "0.0",
         "0.0",
         "0.0",
         "0.6931472",
         "0.0",
         "0.0",
         "0.0",
         "1.3862944",
         "0.6931472",
         "0.0",
         "1.0986123",
         "0.0",
         "1.0986123",
         "0.0",
         "0.0",
         "0.0",
         "0.6931472",
         "0.0",
         "1.0986123",
         "1.0986123",
         "0.0",
         "0.6931472",
         "0.6931472",
         "0.0",
         "0.0",
         "0.0",
         "1.0986123",
         "0.6931472",
         "1.0986123",
         "0.6931472",
         "0.6931472",
         "0.6931472",
         "0.6931472",
         "0.6931472",
         "0.6931472",
         "0.0",
         "0.0",
         "1.0986123",
         "1.0986123",
         "0.0",
         "0.6931472",
         "0.0",
         "1.0986123",
         "0.6931472",
         "0.6931472",
         "0.0",
         "1.3862944",
         "1.3862944",
         "0.0",
         "0.0",
         "0.6931472",
         "0.0",
         "0.6931472",
         "0.6931472",
         "0.6931472",
         "1.0986123",
         "0.6931472",
         "0.0",
         "0.6931472",
         "0.6931472",
         "1.3862944",
         "1.0986123",
         "0.6931472",
         "0.0",
         "0.6931472",
         "0.0",
         "0.6931472",
         "1.0986123",
         "1.0986123",
         "0.6931472",
         "1.0986123",
         "0.0",
         "0.6931472",
         "0.6931472",
         "0.6931472",
         "0.6931472",
         "1.0986123",
         "1.0986123",
         "0.6931472",
         "0.0",
         "0.6931472",
         "0.0",
         "0.6931472",
         "1.0986123",
         "0.6931472",
         "0.6931472",
         "0.0",
         "0.6931472",
         "1.0986123",
         "0.6931472",
         "0.0",
         "1.0986123",
         "0.0",
         "1.7917595",
         "1.0986123",
         "0.0",
         "0.0",
         "1.3862944",
         "0.6931472",
         "0.6931472",
         "0.6931472",
         "0.6931472",
         "0.6931472",
         "0.6931472",
         "0.0",
         "0.0",
         "0.6931472",
         "1.0986123",
         "0.6931472",
         "1.0986123",
         "0.0",
         "0.0",
         "0.0",
         "0.6931472",
         "0.6931472",
         "0.0",
         "0.0",
         "1.0986123",
         "0.0",
         "0.0",
         "0.0",
         "0.0",
         "1.0986123",
         "0.0",
         "0.0",
         "0.0",
         "0.6931472",
         "1.0986123",
         "0.6931472",
         "0.6931472",
         "1.3862944",
         "0.6931472",
         "1.0986123",
         "0.6931472",
         "0.0",
         "0.6931472",
         "1.609438",
         "0.6931472",
         "1.0986123",
         "1.3862944",
         "1.0986123",
         "0.6931472",
         "0.6931472",
         "0.0",
         "0.0",
         "0.0",
         "1.3862944",
         "1.0986123",
         "1.0986123",
         "0.0",
         "0.6931472",
         "0.6931472",
         "0.6931472",
         "1.0986123",
         "0.0",
         "1.0986123",
         "1.0986123",
         "0.6931472",
         "0.6931472",
         "0.6931472",
         "0.0",
         "1.0986123",
         "0.6931472",
         "1.0986123",
         "0.6931472",
         "0.0",
         "0.6931472",
         "0.0",
         "0.6931472",
         "0.0",
         "0.6931472",
         "1.0986123",
         "0.0",
         "0.0",
         "0.6931472",
         "1.0986123",
         "0.0",
         "0.6931472",
         "0.6931472",
         "0.0",
         "1.3862944",
         "0.6931472",
         "0.6931472",
         "0.0",
         "0.6931472",
         "0.6931472",
         "1.3862944",
         "0.0",
         "0.0",
         "1.0986123",
         "0.0",
         "0.0",
         "1.0986123",
         "1.0986123",
         "0.6931472",
         "0.0",
         "0.6931472",
         "1.3862944",
         "0.0",
         "0.6931472",
         "0.0",
         "0.6931472",
         "0.0",
         "0.6931472",
         "1.0986123",
         "0.0",
         "0.0",
         "0.6931472",
         "0.6931472",
         "0.0",
         "1.0986123",
         "0.6931472",
         "0.6931472",
         "1.3862944",
         "0.0",
         "0.6931472",
         "1.3862944",
         "0.0",
         "0.0",
         "0.0",
         "0.0",
         "0.6931472",
         "1.0986123",
         "1.0986123",
         "0.6931472",
         "0.6931472",
         "0.0",
         "0.6931472",
         "0.6931472",
         "0.6931472",
         "0.6931472",
         "1.3862944",
         "0.0",
         "1.0986123",
         "0.6931472",
         "0.0",
         "0.0",
         "0.0",
         "0.6931472",
         "0.0",
         "0.6931472",
         "1.3862944",
         "0.6931472",
         "0.0",
         "0.0",
         "0.6931472",
         "1.0986123",
         "1.0986123",
         "0.6931472",
         "0.0",
         "0.0",
         "0.6931472",
         "0.6931472",
         "0.6931472",
         "0.0",
         "0.0",
         "0.6931472",
         "1.3862944",
         "0.0",
         "0.6931472",
         "0.6931472",
         "0.0",
         "0.6931472",
         "0.6931472",
         "0.6931472",
         "0.0",
         "0.0",
         "0.0",
         "1.0986123",
         "0.0",
         "0.6931472",
         "0.6931472",
         "0.0",
         "1.609438",
         "0.6931472",
         "0.0",
         "0.0",
         "1.609438",
         "0.6931472",
         "0.6931472",
         "0.6931472",
         "0.0",
         "0.6931472",
         "1.0986123",
         "0.0",
         "0.6931472",
         "0.6931472",
         "1.0986123",
         "1.0986123",
         "1.3862944",
         "0.0",
         "1.0986123",
         "0.6931472",
         "1.609438",
         "1.0986123",
         "1.609438",
         "1.0986123",
         "0.0",
         "0.0",
         "1.3862944",
         "0.0",
         "0.0",
         "1.0986123",
         "0.0",
         "0.0",
         "1.3862944",
         "1.0986123",
         "0.0",
         "0.6931472",
         "0.6931472",
         "1.0986123",
         "0.0",
         "0.6931472",
         "0.0",
         "0.0",
         "0.0",
         "1.0986123",
         "1.609438",
         "0.0",
         "0.0",
         "0.6931472",
         "0.0",
         "0.0",
         "1.0986123",
         "0.0",
         "0.0",
         "1.3862944",
         "0.0",
         "1.0986123",
         "0.6931472",
         "1.0986123",
         "0.0",
         "0.6931472",
         "0.6931472",
         "0.6931472",
         "0.6931472",
         "0.6931472",
         "0.0",
         "0.0",
         "0.6931472",
         "0.0",
         "0.0",
         "1.3862944",
         "0.6931472",
         "0.0",
         "1.0986123",
         "0.0",
         "1.0986123",
         "1.0986123",
         "0.6931472",
         "0.0",
         "1.0986123",
         "0.0",
         "1.0986123",
         "0.6931472",
         "0.6931472",
         "1.0986123",
         "1.3862944",
         "0.0",
         "0.6931472",
         "0.6931472",
         "0.6931472",
         "0.0",
         "0.6931472",
         "0.0",
         "0.6931472",
         "0.0",
         "1.609438",
         "0.0",
         "0.6931472",
         "1.3862944",
         "0.0",
         "0.6931472",
         "0.0",
         "0.0",
         "1.0986123",
         "0.0",
         "0.0",
         "0.6931472",
         "0.6931472",
         "1.3862944",
         "0.6931472",
         "0.6931472",
         "0.0",
         "1.3862944",
         "1.3862944",
         "0.0",
         "0.0",
         "0.6931472",
         "0.6931472",
         "0.0",
         "0.0",
         "0.6931472",
         "0.0",
         "0.0",
         "0.6931472",
         "0.6931472",
         "0.0",
         "0.6931472",
         "0.6931472",
         "1.609438",
         "0.0",
         "1.0986123",
         "0.6931472",
         "0.6931472",
         "0.6931472",
         "1.0986123",
         "0.6931472",
         "0.6931472",
         "1.3862944",
         "0.0",
         "1.0986123",
         "1.0986123",
         "0.0",
         "0.6931472",
         "0.6931472",
         "1.0986123",
         "0.0",
         "1.0986123",
         "1.0986123",
         "0.0",
         "0.0",
         "1.3862944",
         "0.6931472",
         "0.6931472",
         "0.0",
         "0.6931472",
         "0.6931472",
         "0.0",
         "0.0",
         "0.0",
         "1.3862944",
         "0.6931472",
         "1.3862944",
         "0.6931472",
         "0.6931472",
         "0.0",
         "0.6931472",
         "0.0",
         "0.0",
         "0.0",
         "1.0986123",
         "0.6931472",
         "0.6931472",
         "0.0",
         "0.0",
         "0.0",
         "0.6931472",
         "1.0986123",
         "0.6931472",
         "0.0",
         "0.0",
         "0.6931472",
         "1.0986123",
         "0.0",
         "0.0",
         "0.6931472",
         "0.0",
         "0.6931472",
         "1.0986123",
         "0.0",
         "1.3862944",
         "0.6931472",
         "0.6931472",
         "1.0986123",
         "0.6931472",
         "0.6931472",
         "0.0",
         "1.0986123",
         "1.3862944",
         "0.0",
         "0.6931472",
         "1.0986123",
         "0.0",
         "1.0986123",
         "0.6931472",
         "1.609438",
         "0.0",
         "1.0986123",
         "0.0",
         "0.0",
         "1.3862944",
         "0.0",
         "0.6931472",
         "1.609438",
         "0.6931472",
         "0.6931472",
         "1.0986123",
         "0.0",
         "0.6931472",
         "1.0986123",
         "0.6931472",
         "0.6931472",
         "1.0986123",
         "0.0",
         "1.0986123",
         "0.6931472",
         "0.6931472",
         "1.0986123",
         "0.6931472",
         "0.0",
         "0.6931472",
         "0.0",
         "0.6931472",
         "0.0",
         "0.6931472",
         "0.0",
         "0.6931472",
         "1.0986123",
         "1.609438",
         "0.6931472",
         "0.6931472",
         "0.6931472",
         "1.0986123",
         "1.0986123",
         "1.0986123",
         "0.0",
         "0.6931472",
         "1.0986123",
         "0.6931472",
         "1.0986123",
         "0.6931472",
         "0.6931472",
         "0.6931472",
         "0.0",
         "0.6931472",
         "0.6931472",
         "0.6931472",
         "0.6931472",
         "1.0986123",
         "1.0986123",
         "0.0",
         "0.0",
         "1.3862944",
         "1.0986123",
         "0.0",
         "0.6931472",
         "0.0",
         "0.0",
         "0.0",
         "0.6931472",
         "0.0",
         "1.0986123",
         "0.6931472",
         "0.6931472",
         "0.6931472",
         "0.6931472",
         "1.0986123",
         "0.6931472",
         "0.6931472",
         "1.0986123",
         "0.0",
         "1.0986123",
         "0.6931472",
         "0.0",
         "0.6931472",
         "0.0",
         "0.6931472",
         "0.6931472",
         "0.6931472",
         "0.0",
         "1.0986123",
         "0.6931472",
         "0.0",
         "0.6931472",
         "1.0986123",
         "0.6931472",
         "1.609438",
         "0.0",
         "1.3862944",
         "1.0986123",
         "0.0",
         "0.6931472",
         "0.0",
         "0.0",
         "0.6931472",
         "0.6931472",
         "0.6931472",
         "0.6931472",
         "0.0",
         "0.0",
         "1.0986123",
         "0.6931472",
         "0.6931472",
         "0.6931472",
         "0.6931472",
         "0.6931472",
         "0.0",
         "0.0",
         "0.6931472",
         "0.6931472",
         "0.0",
         "0.6931472",
         "0.6931472",
         "0.0",
         "1.0986123",
         "0.6931472",
         "0.0",
         "1.3862944",
         "0.6931472",
         "1.3862944",
         "0.0",
         "0.0",
         "0.6931472",
         "0.6931472",
         "0.0",
         "0.0",
         "0.0",
         "1.0986123",
         "1.7917595",
         "1.3862944",
         "0.0",
         "1.0986123",
         "0.0",
         "0.6931472",
         "0.6931472",
         "0.0",
         "0.0",
         "1.0986123",
         "1.0986123",
         "1.9459101",
         "0.0",
         "1.0986123",
         "0.6931472",
         "0.6931472",
         "0.0",
         "1.0986123",
         "1.0986123",
         "0.6931472",
         "1.3862944",
         "0.0",
         "0.6931472",
         "0.0",
         "0.0",
         "0.0",
         "0.0",
         "0.0",
         "0.6931472",
         "0.0",
         "0.6931472",
         "0.6931472",
         "0.6931472",
         "0.6931472",
         "0.0",
         "0.0",
         "0.6931472",
         "0.6931472",
         "0.6931472",
         "1.3862944",
         "0.0",
         "0.0",
         "0.6931472",
         "0.6931472",
         "0.0",
         "0.0",
         "0.0",
         "1.3862944",
         "0.6931472",
         "1.3862944",
         "1.0986123",
         "1.0986123",
         "1.609438",
         "0.0",
         "0.0",
         "0.0",
         "0.0",
         "0.6931472",
         "1.0986123",
         "0.6931472",
         "1.0986123",
         "0.6931472",
         "0.6931472",
         "0.6931472",
         "0.6931472",
         "1.0986123",
         "0.6931472",
         "0.6931472",
         "1.0986123",
         "0.6931472",
         "0.0",
         "0.6931472",
         "1.0986123",
         "0.6931472",
         "0.0",
         "0.0",
         "1.0986123",
         "0.6931472",
         "0.0",
         "0.6931472",
         "1.0986123",
         "0.0",
         "0.6931472",
         "1.0986123",
         "1.0986123",
         "0.0",
         "1.7917595",
         "0.6931472",
         "0.0",
         "0.6931472",
         "1.0986123",
         "0.0",
         "0.6931472",
         "0.6931472",
         "0.6931472",
         "1.0986123",
         "1.0986123",
         "1.0986123",
         "1.0986123",
         "0.0",
         "0.0",
         "0.0",
         "1.0986123",
         "0.6931472",
         "0.0",
         "0.6931472",
         "1.0986123",
         "0.6931472",
         "0.6931472",
         "0.0",
         "0.6931472",
         "1.0986123",
         "1.3862944",
         "0.0",
         "0.0",
         "0.0",
         "1.0986123",
         "0.0",
         "1.0986123",
         "1.0986123",
         "1.0986123",
         "0.0",
         "0.0",
         "1.0986123",
         "0.0",
         "0.0",
         "0.0",
         "0.6931472",
         "0.0",
         "0.6931472",
         "1.3862944",
         "0.0",
         "0.0",
         "0.6931472",
         "0.0",
         "0.0",
         "1.0986123",
         "0.0",
         "0.6931472",
         "0.0",
         "1.609438",
         "0.0",
         "0.0",
         "0.6931472",
         "0.0",
         "1.609438",
         "0.0",
         "0.0",
         "0.6931472",
         "1.0986123",
         "1.0986123",
         "0.6931472",
         "0.0",
         "0.6931472",
         "0.0",
         "0.6931472",
         "1.0986123",
         "1.0986123",
         "0.0",
         "0.0",
         "0.6931472",
         "0.0",
         "0.0",
         "0.6931472",
         "0.0",
         "0.0",
         "0.0",
         "0.6931472",
         "0.0",
         "0.0",
         "0.6931472",
         "1.0986123",
         "0.6931472",
         "0.6931472",
         "0.6931472",
         "0.0",
         "0.0",
         "1.0986123",
         "0.6931472",
         "0.0",
         "0.0",
         "0.0",
         "0.0",
         "1.609438",
         "1.0986123",
         "0.0",
         "0.6931472",
         "0.6931472",
         "1.0986123",
         "0.0",
         "0.6931472",
         "0.6931472",
         "0.6931472",
         "0.6931472",
         "0.0",
         "0.6931472",
         "0.0",
         "0.6931472",
         "1.3862944",
         "0.0",
         "0.6931472",
         "1.3862944",
         "0.0",
         "1.0986123",
         "0.0",
         "0.6931472",
         "0.6931472",
         "1.0986123",
         "0.0",
         "1.0986123",
         "0.6931472",
         "0.0",
         "0.0",
         "0.6931472",
         "0.0",
         "1.3862944",
         "0.0",
         "0.0",
         "0.6931472",
         "0.6931472",
         "1.0986123",
         "0.6931472",
         "0.6931472",
         "1.3862944",
         "0.6931472",
         "0.6931472",
         "0.0",
         "0.0",
         "0.0",
         "0.6931472",
         "0.6931472",
         "0.0",
         "0.0",
         "0.0",
         "0.6931472",
         "0.6931472",
         "0.6931472",
         "0.6931472",
         "0.6931472",
         "1.0986123",
         "1.3862944",
         "1.0986123",
         "0.0",
         "0.6931472",
         "0.0",
         "0.0",
         "0.6931472",
         "1.3862944",
         "0.6931472",
         "0.0",
         "0.0",
         "1.3862944",
         "0.6931472",
         "1.0986123",
         "1.3862944",
         "0.6931472",
         "0.6931472",
         "0.0",
         "0.6931472",
         "0.6931472",
         "0.0",
         "1.0986123",
         "0.6931472",
         "0.0",
         "0.0",
         "0.0",
         "1.0986123",
         "0.6931472",
         "1.0986123",
         "0.0",
         "0.6931472",
         "0.6931472",
         "0.0",
         "0.6931472",
         "0.0",
         "0.6931472",
         "1.0986123",
         "0.6931472",
         "0.6931472",
         "0.0",
         "1.0986123",
         "0.0",
         "0.0",
         "0.0",
         "0.0",
         "0.0",
         "0.0",
         "1.3862944",
         "1.0986123",
         "1.3862944",
         "0.0",
         "0.0",
         "1.0986123",
         "1.0986123",
         "1.3862944",
         "1.0986123",
         "0.6931472",
         "0.6931472",
         "1.0986123",
         "0.0",
         "0.6931472",
         "1.0986123",
         "0.6931472",
         "1.0986123",
         "0.6931472",
         "0.0",
         "0.0",
         "0.0",
         "0.6931472",
         "0.6931472",
         "0.0",
         "0.6931472",
         "1.3862944",
         "0.0",
         "0.6931472",
         "0.0",
         "0.0",
         "0.0",
         "0.6931472",
         "0.0",
         "0.6931472",
         "0.6931472",
         "0.6931472",
         "0.0",
         "1.609438",
         "1.3862944",
         "0.0",
         "0.6931472",
         "0.0",
         "0.0",
         "0.0",
         "0.0",
         "1.0986123",
         "0.0",
         "0.6931472",
         "0.6931472",
         "0.0",
         "0.0",
         "0.0",
         "0.6931472",
         "0.6931472",
         "1.3862944",
         "0.6931472",
         "0.0",
         "0.0",
         "1.0986123",
         "0.6931472",
         "0.6931472",
         "0.0",
         "1.0986123",
         "0.6931472",
         "0.6931472",
         "1.0986123",
         "0.0",
         "0.6931472",
         "0.0",
         "0.0",
         "0.0",
         "0.0",
         "0.6931472",
         "0.6931472",
         "1.0986123",
         "0.0",
         "0.6931472",
         "0.6931472",
         "0.0",
         "1.0986123",
         "0.0",
         "0.0",
         "1.3862944",
         "0.6931472",
         "0.0",
         "0.6931472",
         "0.6931472",
         "0.6931472",
         "0.0",
         "0.0",
         "0.6931472",
         "0.6931472",
         "1.0986123",
         "0.0",
         "0.6931472",
         "0.6931472",
         "0.0",
         "0.6931472",
         "1.0986123",
         "0.0",
         "0.0",
         "0.0",
         "0.6931472",
         "1.0986123",
         "0.0",
         "0.6931472",
         "0.0",
         "1.0986123",
         "0.6931472",
         "0.6931472",
         "0.6931472",
         "0.6931472",
         "0.6931472",
         "0.0",
         "0.6931472",
         "0.0",
         "1.0986123",
         "0.6931472",
         "1.0986123",
         "0.6931472",
         "0.0",
         "0.0",
         "1.0986123",
         "0.0",
         "0.6931472",
         "0.6931472",
         "0.6931472",
         "1.0986123",
         "0.6931472",
         "0.6931472",
         "0.0",
         "0.6931472",
         "0.0",
         "0.6931472",
         "0.6931472",
         "0.0",
         "0.0",
         "0.0",
         "1.0986123",
         "0.6931472",
         "1.0986123",
         "1.0986123",
         "1.0986123",
         "0.0",
         "1.3862944",
         "0.6931472",
         "1.0986123",
         "0.0",
         "0.0",
         "0.6931472",
         "0.6931472",
         "0.0",
         "0.0",
         "1.7917595",
         "0.6931472",
         "1.0986123",
         "1.0986123",
         "0.6931472",
         "0.6931472",
         "1.609438",
         "1.0986123",
         "0.6931472",
         "0.0",
         "1.0986123",
         "1.0986123",
         "0.6931472",
         "0.6931472",
         "0.0",
         "0.6931472",
         "0.0",
         "0.0",
         "0.0",
         "1.3862944",
         "1.0986123",
         "0.6931472",
         "0.6931472",
         "0.6931472",
         "0.6931472",
         "0.0",
         "0.0",
         "1.3862944",
         "1.3862944",
         "1.609438",
         "0.6931472",
         "1.0986123",
         "0.6931472",
         "1.609438",
         "0.6931472",
         "0.0",
         "0.6931472",
         "0.0",
         "0.0",
         "0.0",
         "0.6931472",
         "0.6931472",
         "0.0",
         "0.0",
         "0.6931472",
         "0.6931472",
         "0.6931472",
         "0.6931472",
         "1.0986123",
         "1.3862944",
         "0.0",
         "0.6931472",
         "0.0",
         "1.0986123",
         "0.6931472",
         "0.6931472",
         "0.0",
         "0.0",
         "0.6931472",
         "0.0",
         "0.6931472",
         "0.0",
         "0.0",
         "0.6931472",
         "0.0",
         "1.0986123",
         "1.3862944",
         "0.6931472",
         "0.6931472",
         "0.6931472",
         "0.6931472",
         "0.6931472",
         "0.6931472",
         "0.6931472",
         "0.6931472",
         "1.3862944",
         "0.0",
         "0.6931472",
         "0.0",
         "0.6931472",
         "1.0986123",
         "0.6931472",
         "1.0986123",
         "1.0986123",
         "1.609438",
         "0.6931472",
         "0.6931472",
         "0.6931472",
         "0.6931472",
         "1.3862944",
         "0.0",
         "1.609438",
         "1.0986123",
         "0.6931472",
         "0.6931472",
         "0.0",
         "0.0",
         "0.0",
         "0.6931472",
         "0.6931472",
         "1.3862944",
         "0.0",
         "0.6931472",
         "1.0986123",
         "0.6931472",
         "0.6931472",
         "0.6931472",
         "1.0986123",
         "0.6931472",
         "0.0",
         "0.0",
         "1.3862944",
         "0.0",
         "0.6931472",
         "0.6931472",
         "1.609438",
         "1.3862944",
         "0.6931472",
         "1.0986123",
         "1.0986123",
         "0.0",
         "1.7917595",
         "1.0986123",
         "1.0986123",
         "1.3862944",
         "0.0",
         "0.0",
         "1.3862944",
         "0.0",
         "0.0",
         "1.0986123",
         "0.6931472",
         "0.0",
         "0.6931472",
         "1.0986123",
         "0.0",
         "0.0",
         "0.0",
         "0.0",
         "0.6931472",
         "1.0986123",
         "0.0",
         "0.6931472",
         "1.609438",
         "0.0",
         "0.0",
         "0.0",
         "0.0",
         "1.3862944",
         "0.0",
         "0.6931472",
         "0.0",
         "0.0",
         "1.0986123",
         "0.6931472",
         "0.0",
         "1.0986123",
         "0.0",
         "0.6931472",
         "1.0986123",
         "0.6931472",
         "0.6931472",
         "1.0986123",
         "0.0",
         "0.0",
         "0.0",
         "0.6931472",
         "0.6931472",
         "0.0",
         "0.0",
         "0.6931472",
         "0.0",
         "0.6931472",
         "0.0",
         "0.0",
         "1.3862944",
         "0.6931472",
         "0.0",
         "0.0",
         "1.0986123",
         "0.6931472",
         "1.0986123",
         "0.0",
         "0.6931472",
         "0.6931472",
         "0.6931472",
         "0.6931472",
         "0.0",
         "1.3862944",
         "0.0",
         "0.6931472",
         "0.0",
         "1.0986123",
         "0.0",
         "0.6931472",
         "1.3862944",
         "0.0",
         "1.0986123",
         "1.0986123",
         "1.3862944",
         "0.6931472",
         "0.6931472",
         "1.3862944",
         "0.6931472",
         "0.6931472",
         "0.6931472",
         "1.0986123",
         "0.0",
         "0.6931472",
         "0.0",
         "0.6931472",
         "0.0",
         "0.0",
         "0.6931472",
         "0.0",
         "0.6931472",
         "0.0",
         "0.0",
         "0.6931472",
         "0.6931472",
         "0.6931472",
         "0.0",
         "0.6931472",
         "0.6931472",
         "0.0",
         "1.0986123",
         "0.0",
         "0.6931472",
         "1.0986123",
         "0.0",
         "0.0",
         "0.6931472",
         "0.6931472",
         "0.0",
         "0.6931472",
         "1.0986123",
         "0.0",
         "0.0",
         "0.6931472",
         "0.6931472",
         "0.0",
         "0.0",
         "0.0",
         "0.0",
         "0.0",
         "0.0",
         "0.0",
         "0.0",
         "0.6931472",
         "0.0",
         "0.6931472",
         "0.6931472",
         "1.3862944",
         "0.6931472",
         "0.0",
         "0.6931472",
         "0.6931472",
         "1.3862944",
         "1.0986123",
         "0.6931472",
         "0.0",
         "0.0",
         "0.6931472",
         "0.0",
         "0.0",
         "0.0",
         "0.0",
         "1.0986123",
         "0.6931472",
         "0.0",
         "0.0",
         "0.0",
         "0.6931472",
         "1.0986123",
         "1.0986123",
         "0.0",
         "0.0",
         "1.3862944",
         "0.0",
         "0.6931472",
         "0.6931472",
         "0.0",
         "1.0986123",
         "1.0986123",
         "0.0",
         "1.3862944",
         "0.0",
         "0.6931472",
         "0.0",
         "1.0986123",
         "0.6931472",
         "0.6931472",
         "1.0986123",
         "0.6931472",
         "0.6931472",
         "0.6931472",
         "1.0986123",
         "0.6931472",
         "0.0",
         "0.0",
         "1.0986123",
         "0.6931472",
         "0.0",
         "0.6931472",
         "0.0",
         "0.0",
         "0.0",
         "1.0986123",
         "1.0986123",
         "1.0986123",
         "1.609438",
         "1.0986123",
         "0.6931472",
         "0.6931472",
         "0.6931472",
         "1.0986123",
         "0.6931472",
         "1.0986123",
         "0.0",
         "0.0",
         "0.6931472",
         "0.6931472",
         "1.0986123",
         "1.609438",
         "0.6931472",
         "1.0986123",
         "0.0",
         "0.0",
         "0.6931472",
         "0.6931472",
         "0.6931472",
         "0.6931472",
         "0.0",
         "0.0",
         "1.3862944",
         "0.6931472",
         "0.0",
         "1.609438",
         "0.0",
         "0.6931472",
         "0.0",
         "0.6931472",
         "0.6931472",
         "0.6931472",
         "1.0986123",
         "1.9459101",
         "1.0986123",
         "0.6931472",
         "0.0",
         "1.0986123",
         "0.6931472",
         "1.0986123",
         "0.0",
         "0.6931472",
         "0.0",
         "0.6931472",
         "0.6931472",
         "1.0986123",
         "0.0",
         "1.3862944",
         "0.6931472",
         "0.6931472",
         "0.6931472",
         "0.0",
         "0.0",
         "0.0",
         "0.0",
         "0.0",
         "0.0",
         "0.0",
         "0.6931472",
         "0.0",
         "0.6931472",
         "0.0",
         "0.6931472",
         "0.0",
         "1.0986123",
         "1.0986123",
         "0.0",
         "0.6931472",
         "0.0",
         "0.0",
         "0.0",
         "0.6931472",
         "1.0986123",
         "0.6931472",
         "0.6931472",
         "1.0986123",
         "0.0",
         "0.6931472",
         "0.0",
         "1.3862944",
         "0.6931472",
         "1.0986123",
         "0.0",
         "0.6931472",
         "0.0",
         "0.0",
         "0.0",
         "1.3862944",
         "0.0",
         "0.6931472",
         "0.0",
         "0.6931472",
         "0.6931472",
         "0.0",
         "0.0",
         "0.0",
         "0.6931472",
         "0.6931472",
         "1.0986123",
         "0.6931472",
         "0.6931472",
         "1.0986123",
         "0.0",
         "1.0986123",
         "1.0986123",
         "0.0",
         "1.0986123",
         "0.6931472",
         "0.0",
         "1.0986123",
         "0.0",
         "0.6931472",
         "1.0986123",
         "0.0",
         "0.0",
         "0.0",
         "0.0",
         "0.0",
         "0.0",
         "0.0",
         "0.6931472",
         "0.6931472",
         "1.0986123",
         "0.6931472",
         "0.6931472",
         "1.0986123",
         "0.0",
         "0.0",
         "0.6931472",
         "1.0986123",
         "0.0",
         "1.0986123",
         "0.6931472",
         "1.0986123",
         "0.0",
         "0.0",
         "0.0",
         "0.0",
         "0.0",
         "0.0",
         "0.0",
         "1.0986123",
         "0.6931472",
         "1.0986123",
         "1.3862944",
         "0.0",
         "0.6931472",
         "0.6931472",
         "0.6931472",
         "0.0",
         "0.6931472",
         "0.0",
         "1.3862944",
         "0.6931472",
         "0.6931472",
         "1.609438",
         "0.0",
         "0.0",
         "0.6931472",
         "0.6931472",
         "0.0",
         "1.0986123",
         "0.0",
         "0.0",
         "0.0",
         "1.3862944",
         "0.6931472",
         "0.0",
         "0.6931472",
         "1.0986123",
         "0.0",
         "0.0",
         "0.6931472",
         "0.6931472",
         "0.0",
         "0.6931472",
         "0.6931472",
         "0.6931472",
         "1.0986123",
         "0.0",
         "0.6931472",
         "0.0",
         "0.6931472",
         "0.0",
         "0.6931472",
         "1.0986123",
         "0.6931472",
         "1.0986123",
         "0.6931472",
         "0.0",
         "0.0",
         "0.6931472",
         "0.6931472",
         "0.6931472",
         "0.6931472",
         "0.6931472",
         "0.6931472",
         "0.6931472",
         "1.0986123",
         "0.6931472",
         "0.0",
         "1.0986123",
         "0.6931472",
         "1.0986123",
         "0.0",
         "1.0986123",
         "0.6931472",
         "0.6931472",
         "0.6931472",
         "0.0",
         "0.0",
         "0.6931472",
         "0.0",
         "0.6931472",
         "0.0",
         "0.0",
         "0.0",
         "0.0",
         "1.3862944",
         "1.0986123",
         "0.6931472",
         "0.6931472",
         "1.3862944",
         "0.0",
         "0.0",
         "0.0",
         "0.0",
         "0.6931472",
         "0.0",
         "0.0",
         "0.0",
         "0.0",
         "1.0986123",
         "1.0986123",
         "0.0",
         "0.0",
         "0.6931472",
         "0.0",
         "0.0",
         "0.6931472",
         "0.6931472",
         "1.0986123",
         "1.0986123",
         "1.0986123",
         "1.0986123",
         "1.0986123",
         "0.6931472",
         "0.0",
         "0.6931472",
         "0.0",
         "0.0",
         "0.6931472",
         "0.0"
        ],
        [
         "Cell_3",
         "0.6931472",
         "0.6931472",
         "1.3862944",
         "0.6931472",
         "1.609438",
         "1.0986123",
         "0.0",
         "0.0",
         "1.7917595",
         "0.0",
         "1.0986123",
         "0.0",
         "0.0",
         "0.6931472",
         "0.6931472",
         "0.0",
         "0.6931472",
         "0.6931472",
         "0.6931472",
         "1.609438",
         "1.0986123",
         "0.6931472",
         "0.0",
         "1.3862944",
         "1.0986123",
         "1.0986123",
         "0.0",
         "1.3862944",
         "1.0986123",
         "1.0986123",
         "1.0986123",
         "0.0",
         "0.6931472",
         "0.0",
         "0.0",
         "0.6931472",
         "1.3862944",
         "1.0986123",
         "0.0",
         "0.0",
         "0.0",
         "0.0",
         "0.0",
         "0.0",
         "0.6931472",
         "1.0986123",
         "0.6931472",
         "0.0",
         "0.0",
         "1.0986123",
         "0.6931472",
         "1.3862944",
         "0.6931472",
         "0.6931472",
         "0.6931472",
         "0.6931472",
         "0.0",
         "1.0986123",
         "0.6931472",
         "0.0",
         "1.3862944",
         "0.0",
         "0.0",
         "0.6931472",
         "0.6931472",
         "0.0",
         "1.0986123",
         "0.6931472",
         "0.0",
         "1.0986123",
         "0.6931472",
         "0.0",
         "0.0",
         "0.6931472",
         "0.6931472",
         "0.0",
         "0.0",
         "1.0986123",
         "1.0986123",
         "0.0",
         "0.0",
         "1.7917595",
         "0.6931472",
         "1.0986123",
         "0.0",
         "0.0",
         "1.0986123",
         "1.0986123",
         "1.0986123",
         "1.3862944",
         "0.6931472",
         "0.6931472",
         "1.0986123",
         "1.0986123",
         "0.6931472",
         "0.6931472",
         "0.6931472",
         "0.0",
         "1.0986123",
         "0.6931472",
         "0.6931472",
         "1.609438",
         "0.0",
         "1.3862944",
         "0.0",
         "0.6931472",
         "0.6931472",
         "0.6931472",
         "1.0986123",
         "1.0986123",
         "0.6931472",
         "0.6931472",
         "0.0",
         "1.0986123",
         "1.609438",
         "0.0",
         "0.0",
         "0.6931472",
         "0.0",
         "1.0986123",
         "0.6931472",
         "1.3862944",
         "1.0986123",
         "0.6931472",
         "0.0",
         "1.0986123",
         "0.6931472",
         "0.6931472",
         "0.6931472",
         "1.0986123",
         "0.6931472",
         "0.6931472",
         "0.0",
         "0.6931472",
         "0.0",
         "0.0",
         "1.0986123",
         "1.0986123",
         "0.6931472",
         "1.3862944",
         "1.0986123",
         "0.0",
         "0.6931472",
         "0.0",
         "1.3862944",
         "1.0986123",
         "1.0986123",
         "0.0",
         "0.6931472",
         "1.0986123",
         "0.0",
         "0.0",
         "0.6931472",
         "0.6931472",
         "0.6931472",
         "0.6931472",
         "0.6931472",
         "0.6931472",
         "0.0",
         "0.0",
         "0.0",
         "0.0",
         "0.0",
         "0.6931472",
         "0.6931472",
         "0.6931472",
         "0.0",
         "1.3862944",
         "1.0986123",
         "1.0986123",
         "0.0",
         "0.6931472",
         "0.0",
         "0.6931472",
         "0.6931472",
         "0.6931472",
         "0.0",
         "0.6931472",
         "0.0",
         "0.0",
         "1.3862944",
         "0.0",
         "0.0",
         "0.0",
         "1.0986123",
         "0.6931472",
         "1.0986123",
         "0.0",
         "0.6931472",
         "1.3862944",
         "1.0986123",
         "0.0",
         "0.0",
         "0.6931472",
         "1.0986123",
         "1.0986123",
         "0.6931472",
         "0.6931472",
         "0.6931472",
         "1.3862944",
         "1.0986123",
         "1.3862944",
         "0.0",
         "0.0",
         "1.0986123",
         "0.6931472",
         "0.0",
         "1.3862944",
         "1.0986123",
         "0.0",
         "0.0",
         "0.6931472",
         "0.6931472",
         "0.0",
         "0.6931472",
         "1.609438",
         "0.0",
         "0.6931472",
         "0.6931472",
         "1.609438",
         "0.0",
         "0.6931472",
         "1.3862944",
         "0.6931472",
         "0.0",
         "0.0",
         "0.6931472",
         "1.0986123",
         "0.0",
         "0.6931472",
         "1.3862944",
         "0.6931472",
         "0.6931472",
         "0.0",
         "0.0",
         "1.0986123",
         "0.0",
         "0.6931472",
         "0.6931472",
         "0.0",
         "1.0986123",
         "0.6931472",
         "0.0",
         "0.0",
         "0.0",
         "0.0",
         "0.6931472",
         "1.3862944",
         "1.3862944",
         "1.609438",
         "0.0",
         "0.6931472",
         "0.0",
         "1.3862944",
         "0.0",
         "1.3862944",
         "0.0",
         "0.0",
         "0.6931472",
         "0.6931472",
         "0.6931472",
         "0.0",
         "1.0986123",
         "0.6931472",
         "1.0986123",
         "1.0986123",
         "1.0986123",
         "1.609438",
         "1.0986123",
         "0.6931472",
         "0.0",
         "0.6931472",
         "1.3862944",
         "0.0",
         "0.0",
         "0.6931472",
         "0.0",
         "1.0986123",
         "0.6931472",
         "0.0",
         "0.0",
         "1.3862944",
         "0.0",
         "0.0",
         "0.0",
         "0.0",
         "1.0986123",
         "0.0",
         "0.0",
         "0.0",
         "0.6931472",
         "0.0",
         "0.0",
         "0.0",
         "0.6931472",
         "0.6931472",
         "0.6931472",
         "1.0986123",
         "0.6931472",
         "0.6931472",
         "0.6931472",
         "0.0",
         "0.0",
         "1.0986123",
         "0.6931472",
         "0.6931472",
         "1.0986123",
         "0.0",
         "0.0",
         "0.6931472",
         "0.6931472",
         "0.6931472",
         "1.0986123",
         "0.6931472",
         "1.0986123",
         "0.6931472",
         "0.6931472",
         "1.0986123",
         "0.0",
         "0.0",
         "0.0",
         "0.0",
         "0.0",
         "1.3862944",
         "0.0",
         "0.0",
         "0.0",
         "0.6931472",
         "0.0",
         "0.6931472",
         "0.6931472",
         "0.6931472",
         "0.6931472",
         "0.6931472",
         "1.0986123",
         "0.6931472",
         "0.0",
         "0.0",
         "1.0986123",
         "0.0",
         "1.0986123",
         "0.6931472",
         "0.6931472",
         "1.0986123",
         "0.6931472",
         "1.0986123",
         "0.6931472",
         "1.3862944",
         "0.0",
         "0.0",
         "0.6931472",
         "0.6931472",
         "1.0986123",
         "0.0",
         "0.0",
         "0.6931472",
         "0.0",
         "0.0",
         "0.6931472",
         "1.0986123",
         "1.3862944",
         "0.0",
         "0.6931472",
         "1.609438",
         "0.0",
         "1.0986123",
         "0.0",
         "0.6931472",
         "0.0",
         "1.3862944",
         "0.6931472",
         "0.6931472",
         "0.6931472",
         "0.6931472",
         "1.0986123",
         "0.0",
         "0.6931472",
         "0.6931472",
         "0.6931472",
         "0.6931472",
         "0.0",
         "0.0",
         "0.6931472",
         "0.6931472",
         "0.0",
         "1.0986123",
         "1.3862944",
         "0.6931472",
         "0.6931472",
         "1.0986123",
         "0.6931472",
         "0.6931472",
         "0.0",
         "0.0",
         "0.0",
         "0.0",
         "0.6931472",
         "0.0",
         "0.0",
         "0.0",
         "0.6931472",
         "1.3862944",
         "0.0",
         "0.0",
         "0.0",
         "0.6931472",
         "1.609438",
         "0.0",
         "0.0",
         "1.0986123",
         "0.6931472",
         "0.6931472",
         "0.0",
         "0.0",
         "1.0986123",
         "0.6931472",
         "0.0",
         "1.3862944",
         "0.6931472",
         "0.6931472",
         "0.0",
         "0.6931472",
         "1.0986123",
         "0.6931472",
         "0.6931472",
         "1.0986123",
         "0.6931472",
         "0.6931472",
         "1.3862944",
         "1.0986123",
         "1.0986123",
         "0.6931472",
         "1.0986123",
         "0.6931472",
         "0.0",
         "0.6931472",
         "0.6931472",
         "0.6931472",
         "1.3862944",
         "0.6931472",
         "0.0",
         "0.6931472",
         "0.6931472",
         "0.6931472",
         "0.6931472",
         "0.0",
         "0.6931472",
         "0.0",
         "0.0",
         "1.3862944",
         "1.3862944",
         "0.0",
         "0.0",
         "0.6931472",
         "0.6931472",
         "0.0",
         "0.0",
         "1.3862944",
         "0.0",
         "0.6931472",
         "0.6931472",
         "0.0",
         "1.609438",
         "1.609438",
         "0.0",
         "0.0",
         "0.0",
         "0.6931472",
         "0.0",
         "1.609438",
         "0.0",
         "0.6931472",
         "0.0",
         "0.6931472",
         "0.6931472",
         "0.6931472",
         "0.0",
         "0.6931472",
         "0.0",
         "1.0986123",
         "1.0986123",
         "0.6931472",
         "0.6931472",
         "0.6931472",
         "0.6931472",
         "0.6931472",
         "0.6931472",
         "0.6931472",
         "1.0986123",
         "0.0",
         "1.0986123",
         "1.0986123",
         "1.0986123",
         "1.0986123",
         "0.0",
         "1.3862944",
         "1.0986123",
         "1.3862944",
         "0.6931472",
         "0.6931472",
         "0.0",
         "0.0",
         "0.6931472",
         "0.0",
         "0.0",
         "1.0986123",
         "0.6931472",
         "1.0986123",
         "0.0",
         "0.0",
         "0.6931472",
         "0.6931472",
         "0.0",
         "0.6931472",
         "1.0986123",
         "0.0",
         "0.6931472",
         "0.0",
         "1.3862944",
         "1.0986123",
         "0.0",
         "0.0",
         "0.0",
         "1.0986123",
         "1.0986123",
         "0.6931472",
         "0.0",
         "0.0",
         "0.6931472",
         "0.6931472",
         "1.0986123",
         "1.0986123",
         "0.6931472",
         "1.0986123",
         "0.6931472",
         "0.0",
         "1.0986123",
         "0.0",
         "1.609438",
         "0.0",
         "0.6931472",
         "1.0986123",
         "0.0",
         "1.0986123",
         "0.6931472",
         "0.6931472",
         "0.6931472",
         "1.0986123",
         "0.0",
         "0.0",
         "0.6931472",
         "1.3862944",
         "1.0986123",
         "0.6931472",
         "0.0",
         "0.6931472",
         "1.3862944",
         "1.3862944",
         "0.0",
         "0.0",
         "0.0",
         "0.6931472",
         "1.0986123",
         "0.6931472",
         "0.0",
         "1.0986123",
         "0.6931472",
         "0.6931472",
         "1.0986123",
         "0.0",
         "1.0986123",
         "0.6931472",
         "1.3862944",
         "0.6931472",
         "0.0",
         "0.0",
         "0.0",
         "0.0",
         "0.6931472",
         "1.0986123",
         "0.6931472",
         "0.6931472",
         "1.3862944",
         "0.6931472",
         "1.0986123",
         "0.0",
         "0.0",
         "0.6931472",
         "0.0",
         "0.6931472",
         "0.6931472",
         "1.3862944",
         "0.0",
         "0.6931472",
         "0.0",
         "1.3862944",
         "1.3862944",
         "0.6931472",
         "0.0",
         "0.0",
         "0.0",
         "0.0",
         "0.6931472",
         "0.6931472",
         "0.0",
         "0.6931472",
         "1.3862944",
         "1.0986123",
         "0.6931472",
         "1.0986123",
         "0.0",
         "0.0",
         "1.0986123",
         "0.6931472",
         "0.6931472",
         "0.0",
         "1.0986123",
         "0.0",
         "0.6931472",
         "0.6931472",
         "0.0",
         "0.0",
         "0.0",
         "0.0",
         "1.0986123",
         "1.3862944",
         "1.0986123",
         "1.0986123",
         "0.0",
         "1.609438",
         "0.6931472",
         "0.6931472",
         "1.3862944",
         "0.6931472",
         "0.6931472",
         "0.6931472",
         "0.6931472",
         "1.0986123",
         "0.0",
         "1.0986123",
         "0.6931472",
         "1.3862944",
         "0.6931472",
         "0.0",
         "1.0986123",
         "1.0986123",
         "1.0986123",
         "0.6931472",
         "1.0986123",
         "1.3862944",
         "0.6931472",
         "0.0",
         "0.0",
         "1.0986123",
         "0.0",
         "0.0",
         "0.0",
         "1.3862944",
         "1.0986123",
         "0.6931472",
         "1.609438",
         "0.6931472",
         "0.6931472",
         "0.6931472",
         "0.0",
         "0.6931472",
         "0.6931472",
         "0.0",
         "0.0",
         "0.6931472",
         "0.6931472",
         "0.0",
         "1.0986123",
         "1.3862944",
         "0.0",
         "0.0",
         "0.6931472",
         "0.6931472",
         "0.6931472",
         "0.0",
         "1.0986123",
         "0.6931472",
         "0.6931472",
         "0.6931472",
         "0.0",
         "0.0",
         "0.0",
         "0.0",
         "0.0",
         "1.0986123",
         "1.0986123",
         "0.0",
         "0.6931472",
         "0.6931472",
         "1.0986123",
         "0.0",
         "1.0986123",
         "1.0986123",
         "0.0",
         "1.3862944",
         "0.0",
         "0.0",
         "1.0986123",
         "0.0",
         "0.6931472",
         "0.0",
         "1.0986123",
         "1.0986123",
         "0.6931472",
         "0.6931472",
         "0.0",
         "0.0",
         "1.3862944",
         "0.6931472",
         "0.0",
         "0.0",
         "0.0",
         "0.0",
         "1.0986123",
         "0.0",
         "0.6931472",
         "0.6931472",
         "1.0986123",
         "1.0986123",
         "0.6931472",
         "0.6931472",
         "0.6931472",
         "0.0",
         "0.6931472",
         "0.0",
         "1.0986123",
         "0.0",
         "0.6931472",
         "0.0",
         "1.0986123",
         "0.0",
         "0.6931472",
         "0.0",
         "0.0",
         "0.0",
         "1.0986123",
         "1.0986123",
         "1.0986123",
         "1.0986123",
         "0.6931472",
         "0.0",
         "0.6931472",
         "0.6931472",
         "0.6931472",
         "1.609438",
         "0.6931472",
         "0.6931472",
         "0.6931472",
         "0.6931472",
         "0.0",
         "0.0",
         "1.0986123",
         "0.0",
         "0.6931472",
         "0.0",
         "0.0",
         "0.0",
         "1.0986123",
         "1.0986123",
         "0.0",
         "0.0",
         "0.0",
         "0.0",
         "0.0",
         "0.6931472",
         "0.6931472",
         "0.0",
         "0.0",
         "0.0",
         "0.0",
         "0.0",
         "1.3862944",
         "0.0",
         "0.6931472",
         "0.0",
         "1.3862944",
         "1.0986123",
         "0.6931472",
         "0.0",
         "1.3862944",
         "0.6931472",
         "0.6931472",
         "0.0",
         "0.0",
         "1.0986123",
         "0.6931472",
         "0.6931472",
         "0.6931472",
         "1.3862944",
         "0.0",
         "0.0",
         "0.6931472",
         "1.609438",
         "0.6931472",
         "0.6931472",
         "1.0986123",
         "0.6931472",
         "0.0",
         "0.0",
         "1.0986123",
         "0.0",
         "0.0",
         "0.6931472",
         "0.0",
         "0.6931472",
         "0.0",
         "0.6931472",
         "0.0",
         "0.0",
         "0.0",
         "0.0",
         "0.6931472",
         "0.6931472",
         "0.0",
         "1.3862944",
         "0.0",
         "0.0",
         "0.0",
         "0.6931472",
         "1.0986123",
         "0.6931472",
         "1.0986123",
         "0.6931472",
         "0.6931472",
         "0.0",
         "0.0",
         "0.6931472",
         "0.0",
         "1.0986123",
         "0.6931472",
         "1.0986123",
         "0.6931472",
         "0.0",
         "0.0",
         "1.0986123",
         "0.6931472",
         "1.0986123",
         "1.3862944",
         "0.0",
         "0.0",
         "0.6931472",
         "0.6931472",
         "0.0",
         "1.3862944",
         "0.6931472",
         "0.6931472",
         "0.0",
         "1.0986123",
         "1.3862944",
         "0.0",
         "0.6931472",
         "0.6931472",
         "0.0",
         "0.0",
         "0.6931472",
         "1.0986123",
         "1.0986123",
         "0.6931472",
         "0.6931472",
         "0.6931472",
         "1.3862944",
         "1.0986123",
         "1.609438",
         "1.0986123",
         "0.6931472",
         "0.0",
         "1.0986123",
         "0.0",
         "0.0",
         "1.3862944",
         "0.0",
         "0.6931472",
         "0.0",
         "1.0986123",
         "0.0",
         "1.0986123",
         "1.0986123",
         "0.0",
         "1.0986123",
         "0.6931472",
         "1.3862944",
         "0.0",
         "1.3862944",
         "0.0",
         "1.0986123",
         "0.0",
         "0.0",
         "0.6931472",
         "0.0",
         "0.6931472",
         "0.6931472",
         "0.0",
         "1.0986123",
         "1.3862944",
         "0.0",
         "0.6931472",
         "0.0",
         "0.0",
         "1.0986123",
         "1.0986123",
         "0.6931472",
         "1.3862944",
         "0.6931472",
         "0.6931472",
         "1.0986123",
         "1.3862944",
         "0.0",
         "0.0",
         "1.0986123",
         "0.6931472",
         "1.0986123",
         "0.0",
         "1.0986123",
         "0.0",
         "0.0",
         "0.0",
         "0.0",
         "0.0",
         "0.0",
         "0.0",
         "0.0",
         "0.6931472",
         "0.6931472",
         "0.6931472",
         "0.6931472",
         "0.6931472",
         "0.6931472",
         "1.0986123",
         "0.0",
         "0.0",
         "0.6931472",
         "1.3862944",
         "1.3862944",
         "0.0",
         "0.6931472",
         "0.0",
         "1.3862944",
         "0.6931472",
         "0.6931472",
         "1.0986123",
         "0.0",
         "0.6931472",
         "1.3862944",
         "0.6931472",
         "1.0986123",
         "0.0",
         "0.0",
         "0.6931472",
         "0.6931472",
         "0.6931472",
         "0.0",
         "0.6931472",
         "0.0",
         "0.6931472",
         "0.0",
         "0.0",
         "0.6931472",
         "0.6931472",
         "0.0",
         "0.0",
         "0.6931472",
         "1.0986123",
         "0.0",
         "0.6931472",
         "0.6931472",
         "0.0",
         "0.6931472",
         "0.0",
         "1.0986123",
         "1.609438",
         "0.0",
         "1.3862944",
         "0.0",
         "1.3862944",
         "0.0",
         "1.0986123",
         "0.6931472",
         "1.0986123",
         "0.0",
         "0.6931472",
         "1.3862944",
         "0.6931472",
         "0.6931472",
         "1.3862944",
         "1.0986123",
         "0.0",
         "1.0986123",
         "0.6931472",
         "0.0",
         "1.0986123",
         "0.6931472",
         "0.0",
         "1.0986123",
         "1.0986123",
         "0.6931472",
         "1.3862944",
         "0.0",
         "0.6931472",
         "1.0986123",
         "0.0",
         "1.0986123",
         "0.6931472",
         "0.0",
         "0.6931472",
         "0.6931472",
         "0.0",
         "0.6931472",
         "1.0986123",
         "0.0",
         "1.3862944",
         "0.0",
         "0.6931472",
         "0.6931472",
         "0.6931472",
         "1.7917595",
         "1.0986123",
         "0.0",
         "1.0986123",
         "1.3862944",
         "1.0986123",
         "0.0",
         "1.3862944",
         "0.6931472",
         "1.3862944",
         "0.0",
         "0.6931472",
         "0.6931472",
         "0.0",
         "0.6931472",
         "1.0986123",
         "0.0",
         "0.6931472",
         "0.0",
         "0.0",
         "0.0",
         "0.6931472",
         "1.0986123",
         "0.6931472",
         "1.0986123",
         "0.0",
         "0.0",
         "0.6931472",
         "0.6931472",
         "1.0986123",
         "0.6931472",
         "0.6931472",
         "0.6931472",
         "0.0",
         "0.0",
         "1.0986123",
         "0.0",
         "0.6931472",
         "1.0986123",
         "1.0986123",
         "0.0",
         "0.6931472",
         "1.0986123",
         "0.0",
         "0.0",
         "1.3862944",
         "0.6931472",
         "0.0",
         "1.3862944",
         "1.0986123",
         "0.0",
         "0.6931472",
         "0.6931472",
         "1.0986123",
         "0.6931472",
         "0.0",
         "0.6931472",
         "0.0",
         "0.0",
         "1.3862944",
         "0.0",
         "0.6931472",
         "0.6931472",
         "0.0",
         "0.0",
         "1.0986123",
         "1.0986123",
         "0.6931472",
         "0.0",
         "0.0",
         "0.6931472",
         "0.0",
         "0.0",
         "1.0986123",
         "0.6931472",
         "1.3862944",
         "0.0",
         "0.6931472",
         "1.3862944",
         "0.0",
         "0.0",
         "1.0986123",
         "1.3862944",
         "0.0",
         "1.0986123",
         "0.0",
         "1.0986123",
         "0.6931472",
         "0.0",
         "0.6931472",
         "0.6931472",
         "0.0",
         "0.0",
         "0.6931472",
         "0.6931472",
         "0.0",
         "0.0",
         "1.0986123",
         "0.0",
         "0.6931472",
         "1.0986123",
         "0.0",
         "1.0986123",
         "0.0",
         "1.3862944",
         "0.0",
         "1.3862944",
         "0.0",
         "1.0986123",
         "0.0",
         "0.0",
         "0.0",
         "0.6931472",
         "1.0986123",
         "1.0986123",
         "0.0",
         "0.0",
         "0.6931472",
         "0.0",
         "0.6931472",
         "0.6931472",
         "0.6931472",
         "0.6931472",
         "0.0",
         "1.0986123",
         "0.6931472",
         "0.6931472",
         "1.0986123",
         "0.0",
         "1.609438",
         "0.6931472",
         "0.6931472",
         "0.0",
         "0.0",
         "1.0986123",
         "1.0986123",
         "0.0",
         "1.0986123",
         "0.6931472",
         "0.6931472",
         "0.6931472",
         "0.6931472",
         "0.6931472",
         "0.6931472",
         "1.3862944",
         "1.609438",
         "0.0",
         "0.0",
         "0.0",
         "1.0986123",
         "1.0986123",
         "1.0986123",
         "0.6931472",
         "0.0",
         "1.0986123",
         "0.6931472",
         "0.6931472",
         "0.0",
         "1.0986123",
         "0.0",
         "1.0986123",
         "0.0",
         "0.0",
         "1.3862944",
         "0.6931472",
         "1.0986123",
         "0.6931472",
         "0.6931472",
         "0.0",
         "0.0",
         "0.0",
         "0.6931472",
         "0.0",
         "1.0986123",
         "1.609438",
         "0.0",
         "0.6931472",
         "0.6931472",
         "0.6931472",
         "0.6931472",
         "0.6931472",
         "0.6931472",
         "0.0",
         "0.0",
         "0.6931472",
         "0.6931472",
         "0.0",
         "1.0986123",
         "0.6931472",
         "1.3862944",
         "1.0986123",
         "1.3862944",
         "1.0986123",
         "0.0",
         "0.0",
         "1.0986123",
         "0.6931472",
         "0.6931472",
         "0.0",
         "0.6931472",
         "0.6931472",
         "0.6931472",
         "0.6931472",
         "1.0986123",
         "0.6931472",
         "0.0",
         "0.0",
         "0.0",
         "0.0",
         "0.0",
         "1.0986123",
         "0.0",
         "0.6931472",
         "0.6931472",
         "0.0",
         "1.3862944",
         "0.0",
         "0.0",
         "1.0986123",
         "1.3862944",
         "0.6931472",
         "0.0",
         "1.3862944",
         "1.3862944",
         "0.6931472",
         "0.0",
         "0.0",
         "0.0",
         "1.0986123",
         "1.0986123",
         "0.6931472",
         "0.0",
         "0.6931472",
         "0.6931472",
         "0.0",
         "0.0",
         "0.0",
         "0.0",
         "1.0986123",
         "0.6931472",
         "0.6931472",
         "1.0986123",
         "1.0986123",
         "1.3862944",
         "0.6931472",
         "0.6931472",
         "0.6931472",
         "1.3862944",
         "0.6931472",
         "1.0986123",
         "0.6931472",
         "0.6931472",
         "0.6931472",
         "0.0",
         "0.6931472",
         "0.6931472",
         "0.0",
         "1.7917595",
         "0.6931472",
         "0.6931472",
         "0.0",
         "1.0986123",
         "0.0",
         "0.6931472",
         "1.3862944",
         "0.0",
         "0.0",
         "0.0",
         "0.6931472",
         "1.3862944",
         "0.6931472",
         "1.0986123",
         "0.6931472",
         "0.6931472",
         "0.6931472",
         "1.0986123",
         "0.0",
         "0.0",
         "0.0",
         "1.0986123",
         "0.0",
         "0.6931472",
         "0.0",
         "0.6931472",
         "0.6931472",
         "0.6931472",
         "0.0",
         "0.0",
         "0.0",
         "0.0",
         "0.6931472",
         "0.0",
         "0.6931472",
         "1.3862944",
         "0.6931472",
         "1.0986123",
         "0.0",
         "1.3862944",
         "0.6931472",
         "0.0",
         "0.6931472",
         "0.6931472",
         "0.0",
         "0.0",
         "0.0",
         "0.0",
         "0.0",
         "0.6931472",
         "1.0986123",
         "0.6931472",
         "0.6931472",
         "0.0",
         "0.0",
         "0.0",
         "0.0",
         "0.6931472",
         "0.0",
         "0.6931472",
         "1.0986123",
         "0.0",
         "0.0",
         "0.6931472",
         "1.0986123",
         "1.609438",
         "0.0",
         "1.3862944",
         "0.6931472",
         "0.6931472",
         "0.6931472",
         "0.6931472",
         "0.6931472",
         "0.6931472",
         "0.0",
         "0.0",
         "1.0986123",
         "0.6931472",
         "0.0",
         "0.0",
         "0.0",
         "0.6931472",
         "0.6931472",
         "0.6931472",
         "0.6931472",
         "1.3862944",
         "0.0",
         "0.0",
         "1.3862944",
         "0.6931472",
         "1.0986123",
         "1.3862944",
         "0.0",
         "0.0",
         "0.0",
         "1.609438",
         "1.0986123",
         "0.6931472",
         "0.0",
         "0.0",
         "1.609438",
         "0.6931472",
         "0.0",
         "0.6931472",
         "0.6931472",
         "0.6931472",
         "0.6931472",
         "0.0",
         "0.6931472",
         "0.6931472",
         "0.0",
         "1.3862944",
         "0.6931472",
         "0.6931472",
         "0.0",
         "0.0",
         "0.6931472",
         "0.0",
         "1.3862944",
         "0.6931472",
         "0.0",
         "0.0",
         "0.6931472",
         "0.6931472",
         "1.0986123",
         "0.6931472",
         "0.6931472",
         "0.6931472",
         "0.6931472",
         "1.0986123",
         "0.6931472",
         "0.6931472",
         "0.6931472",
         "0.0",
         "0.0",
         "0.0",
         "0.0",
         "0.0",
         "1.3862944",
         "1.3862944",
         "1.0986123",
         "0.0",
         "0.6931472",
         "1.3862944",
         "0.6931472",
         "0.6931472",
         "0.6931472",
         "1.609438",
         "0.0",
         "0.0",
         "0.6931472",
         "0.0",
         "0.0",
         "0.6931472",
         "0.0",
         "0.0",
         "0.6931472",
         "0.6931472",
         "0.0",
         "0.6931472",
         "1.0986123",
         "0.0",
         "0.0",
         "1.0986123",
         "0.0",
         "0.0",
         "0.0",
         "0.6931472",
         "0.0",
         "0.6931472",
         "0.6931472",
         "0.6931472",
         "1.0986123",
         "1.3862944",
         "0.6931472",
         "1.0986123",
         "0.0",
         "1.0986123",
         "0.6931472",
         "0.0",
         "1.0986123",
         "0.6931472",
         "1.0986123",
         "0.6931472",
         "0.0",
         "1.0986123",
         "0.6931472",
         "0.6931472",
         "0.0",
         "1.0986123",
         "1.0986123",
         "0.0",
         "0.6931472",
         "0.0",
         "0.6931472",
         "1.3862944",
         "0.0",
         "1.0986123",
         "1.3862944",
         "0.6931472",
         "0.0",
         "0.0",
         "0.0",
         "0.0",
         "0.6931472",
         "1.609438",
         "0.6931472",
         "0.0",
         "1.3862944",
         "0.6931472",
         "0.6931472",
         "1.0986123",
         "0.6931472",
         "0.6931472",
         "0.0",
         "0.0",
         "0.0",
         "0.0",
         "0.0",
         "1.0986123",
         "0.0",
         "1.0986123",
         "0.0",
         "0.0",
         "0.0",
         "0.0",
         "0.0",
         "0.6931472",
         "0.6931472",
         "0.0",
         "0.0",
         "0.0",
         "0.6931472",
         "1.3862944",
         "0.6931472",
         "0.0",
         "0.6931472",
         "0.0",
         "0.0",
         "1.0986123",
         "0.0",
         "0.0",
         "0.0",
         "0.0",
         "1.0986123",
         "1.0986123",
         "0.6931472",
         "1.0986123",
         "0.0",
         "0.6931472",
         "0.0",
         "0.6931472",
         "0.6931472",
         "0.0",
         "1.0986123",
         "0.6931472",
         "0.0",
         "1.0986123",
         "0.0",
         "0.0",
         "0.0",
         "0.0",
         "0.6931472",
         "0.0",
         "0.0",
         "0.0",
         "0.0",
         "0.6931472",
         "0.6931472",
         "1.0986123",
         "0.6931472",
         "0.6931472",
         "0.6931472",
         "0.0",
         "0.6931472",
         "0.6931472",
         "0.0",
         "1.3862944",
         "0.6931472",
         "1.0986123",
         "1.9459101",
         "1.0986123",
         "0.6931472",
         "0.0",
         "1.0986123",
         "0.6931472",
         "0.0",
         "0.0",
         "0.0",
         "0.6931472",
         "1.0986123",
         "0.6931472",
         "0.6931472",
         "0.0",
         "0.6931472",
         "0.6931472",
         "0.0",
         "0.0",
         "1.0986123",
         "0.6931472",
         "0.6931472",
         "1.3862944",
         "0.6931472",
         "0.6931472",
         "0.6931472",
         "0.0",
         "0.6931472",
         "0.6931472",
         "0.6931472",
         "0.0",
         "0.0",
         "0.6931472",
         "0.6931472",
         "0.0",
         "0.0",
         "0.6931472",
         "1.0986123",
         "1.609438",
         "0.6931472",
         "0.0",
         "1.0986123",
         "1.0986123",
         "0.6931472",
         "0.0",
         "0.6931472",
         "1.3862944",
         "0.0",
         "0.6931472",
         "1.609438",
         "0.6931472",
         "0.0",
         "1.0986123",
         "1.0986123",
         "0.6931472",
         "0.6931472",
         "0.6931472",
         "0.0",
         "0.6931472",
         "0.6931472",
         "0.0",
         "0.6931472",
         "0.0",
         "0.0",
         "0.6931472",
         "0.6931472",
         "1.9459101",
         "0.6931472",
         "0.0",
         "0.6931472",
         "0.0",
         "1.0986123",
         "0.0",
         "0.6931472",
         "0.6931472",
         "1.0986123",
         "0.6931472",
         "0.6931472",
         "0.6931472",
         "0.6931472",
         "1.0986123",
         "0.6931472",
         "0.0",
         "1.7917595",
         "1.0986123",
         "0.0",
         "0.0",
         "1.0986123",
         "1.3862944",
         "0.0",
         "0.6931472",
         "0.0",
         "0.6931472",
         "0.0",
         "0.6931472",
         "0.6931472",
         "0.6931472",
         "0.6931472",
         "0.0",
         "0.6931472",
         "0.6931472",
         "0.6931472",
         "0.0",
         "1.0986123",
         "0.6931472",
         "0.6931472",
         "0.6931472",
         "0.0",
         "0.0",
         "0.6931472",
         "0.0",
         "0.6931472",
         "0.0",
         "1.0986123",
         "1.3862944",
         "0.0",
         "1.0986123",
         "1.0986123",
         "0.0",
         "0.0",
         "0.6931472",
         "0.6931472",
         "1.0986123",
         "0.6931472",
         "0.0",
         "1.0986123",
         "0.6931472",
         "1.3862944",
         "0.0",
         "1.0986123",
         "0.0",
         "0.0",
         "1.0986123",
         "0.6931472",
         "0.6931472",
         "0.6931472",
         "0.0",
         "0.0",
         "0.0",
         "0.6931472",
         "0.6931472",
         "0.0",
         "0.0",
         "1.0986123",
         "0.0",
         "1.0986123",
         "0.6931472",
         "1.0986123",
         "0.6931472",
         "1.0986123",
         "0.6931472",
         "1.0986123",
         "1.3862944",
         "0.0",
         "0.0",
         "0.0",
         "0.0",
         "0.6931472",
         "0.6931472",
         "0.6931472",
         "0.6931472",
         "0.0",
         "1.0986123",
         "0.0",
         "1.3862944",
         "0.6931472",
         "0.0",
         "0.0",
         "1.0986123",
         "0.0",
         "0.6931472",
         "0.0",
         "0.6931472",
         "0.6931472",
         "0.0",
         "0.0",
         "0.0",
         "1.3862944",
         "0.0",
         "0.0",
         "1.0986123",
         "1.0986123",
         "0.0",
         "0.0",
         "0.6931472",
         "0.0",
         "1.0986123",
         "0.0",
         "0.0",
         "0.0",
         "0.6931472",
         "0.0",
         "0.6931472",
         "0.6931472",
         "1.0986123",
         "0.0",
         "0.6931472",
         "0.0",
         "0.0",
         "1.3862944",
         "0.6931472",
         "1.0986123",
         "0.6931472",
         "1.0986123",
         "0.0",
         "0.6931472",
         "0.6931472",
         "0.0",
         "1.0986123",
         "0.6931472",
         "1.0986123",
         "0.0",
         "0.0",
         "1.0986123",
         "0.6931472",
         "0.6931472",
         "0.6931472",
         "1.3862944",
         "1.0986123",
         "1.0986123",
         "0.0",
         "0.0",
         "0.6931472",
         "1.3862944",
         "0.6931472",
         "1.0986123",
         "0.6931472",
         "1.0986123",
         "0.0",
         "0.6931472",
         "0.0",
         "1.0986123",
         "0.6931472",
         "1.0986123",
         "1.609438",
         "1.0986123",
         "0.6931472",
         "0.0",
         "0.6931472",
         "0.0",
         "0.6931472",
         "1.0986123",
         "0.6931472",
         "0.0",
         "1.7917595",
         "0.0",
         "0.6931472",
         "0.0",
         "0.0",
         "0.0",
         "0.6931472",
         "0.6931472",
         "0.6931472",
         "0.0",
         "1.0986123",
         "0.0",
         "0.0",
         "0.6931472",
         "0.6931472",
         "0.0",
         "0.6931472",
         "1.3862944",
         "1.0986123",
         "0.0",
         "0.0",
         "1.0986123",
         "0.0",
         "0.0",
         "0.6931472",
         "0.0",
         "0.0",
         "0.6931472",
         "1.0986123",
         "1.0986123",
         "0.0",
         "0.6931472",
         "0.6931472",
         "0.0",
         "0.0",
         "0.0",
         "0.0",
         "1.0986123",
         "1.609438",
         "0.0",
         "0.6931472",
         "1.0986123",
         "0.0",
         "0.6931472",
         "0.0",
         "0.0",
         "1.0986123",
         "1.0986123",
         "0.6931472",
         "1.0986123",
         "0.0",
         "1.0986123",
         "0.6931472",
         "1.3862944",
         "1.0986123",
         "0.0",
         "0.6931472",
         "0.6931472",
         "0.0",
         "0.0",
         "0.0",
         "1.0986123",
         "0.6931472",
         "0.0",
         "1.0986123",
         "0.6931472",
         "0.6931472",
         "0.6931472",
         "1.609438",
         "0.0",
         "0.0",
         "1.0986123",
         "0.6931472",
         "0.6931472",
         "0.0",
         "0.0",
         "1.0986123",
         "0.6931472",
         "1.0986123",
         "0.6931472",
         "0.0",
         "1.3862944",
         "1.0986123",
         "0.6931472",
         "0.0",
         "0.6931472",
         "0.6931472",
         "1.0986123",
         "0.6931472",
         "0.6931472",
         "0.0",
         "1.0986123",
         "1.3862944",
         "0.6931472",
         "0.0",
         "0.6931472",
         "0.0",
         "1.3862944",
         "0.6931472",
         "0.0",
         "1.0986123",
         "0.6931472",
         "1.609438",
         "0.0",
         "0.0",
         "0.0",
         "1.609438",
         "0.0",
         "0.6931472",
         "1.0986123",
         "1.0986123",
         "1.0986123",
         "0.6931472",
         "0.6931472",
         "0.6931472",
         "0.0",
         "0.0",
         "0.6931472",
         "1.0986123",
         "0.0",
         "0.0",
         "1.609438",
         "1.3862944",
         "0.6931472",
         "0.0",
         "1.609438",
         "0.6931472",
         "1.0986123",
         "0.0",
         "0.6931472",
         "0.6931472",
         "1.0986123",
         "0.6931472",
         "1.0986123",
         "0.0",
         "1.0986123",
         "1.0986123",
         "0.6931472",
         "0.6931472",
         "0.0",
         "0.0",
         "0.6931472",
         "1.3862944",
         "1.3862944",
         "0.6931472",
         "0.0",
         "0.6931472",
         "0.6931472",
         "0.6931472",
         "0.6931472",
         "1.0986123",
         "0.0",
         "1.0986123",
         "1.0986123",
         "1.0986123",
         "0.6931472",
         "0.6931472",
         "0.0",
         "0.6931472",
         "1.0986123",
         "0.0",
         "1.3862944",
         "0.0",
         "0.0",
         "0.0",
         "0.0",
         "0.0",
         "0.0",
         "0.6931472",
         "0.6931472",
         "0.0",
         "0.6931472",
         "0.6931472",
         "0.6931472",
         "0.6931472",
         "0.0",
         "1.0986123",
         "0.6931472",
         "0.0",
         "0.0",
         "0.0",
         "0.0",
         "1.7917595",
         "0.6931472",
         "0.6931472",
         "1.0986123",
         "0.6931472",
         "0.0",
         "0.0",
         "1.0986123",
         "0.0",
         "0.6931472",
         "1.0986123",
         "0.6931472",
         "1.0986123",
         "0.6931472",
         "0.6931472",
         "0.6931472",
         "0.6931472",
         "0.6931472"
        ],
        [
         "Cell_4",
         "1.0986123",
         "0.6931472",
         "0.6931472",
         "0.6931472",
         "1.0986123",
         "0.6931472",
         "0.0",
         "0.0",
         "0.6931472",
         "0.6931472",
         "1.3862944",
         "0.0",
         "0.0",
         "0.6931472",
         "0.6931472",
         "0.6931472",
         "0.6931472",
         "0.6931472",
         "0.0",
         "0.6931472",
         "0.6931472",
         "1.0986123",
         "0.0",
         "0.6931472",
         "0.0",
         "0.0",
         "0.0",
         "1.609438",
         "1.0986123",
         "1.0986123",
         "0.6931472",
         "1.609438",
         "0.6931472",
         "0.0",
         "0.6931472",
         "0.6931472",
         "0.6931472",
         "1.0986123",
         "0.0",
         "0.6931472",
         "0.0",
         "1.0986123",
         "0.6931472",
         "0.0",
         "0.0",
         "1.0986123",
         "0.6931472",
         "1.3862944",
         "0.6931472",
         "0.6931472",
         "1.0986123",
         "0.6931472",
         "1.0986123",
         "1.3862944",
         "0.0",
         "0.0",
         "1.0986123",
         "1.3862944",
         "0.6931472",
         "0.6931472",
         "0.6931472",
         "0.0",
         "0.6931472",
         "0.0",
         "0.0",
         "0.0",
         "0.6931472",
         "0.0",
         "0.6931472",
         "0.0",
         "1.0986123",
         "0.6931472",
         "0.0",
         "0.0",
         "0.0",
         "0.6931472",
         "1.0986123",
         "0.0",
         "0.6931472",
         "0.0",
         "1.3862944",
         "0.0",
         "0.0",
         "0.0",
         "1.3862944",
         "0.6931472",
         "0.0",
         "0.0",
         "0.0",
         "0.6931472",
         "0.0",
         "0.6931472",
         "1.3862944",
         "0.6931472",
         "0.6931472",
         "1.0986123",
         "0.0",
         "0.0",
         "0.6931472",
         "0.0",
         "0.6931472",
         "0.0",
         "0.0",
         "0.6931472",
         "1.0986123",
         "0.0",
         "1.0986123",
         "0.6931472",
         "0.6931472",
         "0.0",
         "0.6931472",
         "0.0",
         "0.0",
         "1.609438",
         "0.0",
         "1.0986123",
         "0.6931472",
         "0.0",
         "0.6931472",
         "0.6931472",
         "0.6931472",
         "0.0",
         "1.0986123",
         "1.3862944",
         "1.0986123",
         "1.0986123",
         "0.6931472",
         "0.6931472",
         "0.6931472",
         "0.0",
         "0.6931472",
         "0.0",
         "0.6931472",
         "0.6931472",
         "1.0986123",
         "0.6931472",
         "0.0",
         "0.0",
         "1.0986123",
         "0.0",
         "0.6931472",
         "0.0",
         "0.0",
         "0.6931472",
         "1.0986123",
         "0.6931472",
         "0.6931472",
         "0.6931472",
         "0.6931472",
         "0.6931472",
         "0.0",
         "0.0",
         "0.6931472",
         "1.3862944",
         "0.6931472",
         "1.0986123",
         "0.6931472",
         "0.0",
         "0.6931472",
         "0.0",
         "0.6931472",
         "0.0",
         "0.6931472",
         "0.6931472",
         "0.6931472",
         "0.0",
         "0.0",
         "0.0",
         "0.0",
         "0.0",
         "0.6931472",
         "1.0986123",
         "0.0",
         "0.0",
         "0.0",
         "0.6931472",
         "0.0",
         "0.6931472",
         "0.6931472",
         "0.6931472",
         "0.0",
         "0.6931472",
         "1.0986123",
         "0.0",
         "0.6931472",
         "0.0",
         "1.0986123",
         "0.0",
         "0.6931472",
         "1.0986123",
         "1.0986123",
         "1.3862944",
         "1.0986123",
         "0.6931472",
         "0.0",
         "0.6931472",
         "0.6931472",
         "0.0",
         "1.0986123",
         "0.0",
         "1.0986123",
         "0.6931472",
         "0.6931472",
         "1.0986123",
         "1.0986123",
         "1.0986123",
         "0.0",
         "0.6931472",
         "1.0986123",
         "0.0",
         "0.0",
         "0.0",
         "0.0",
         "0.6931472",
         "0.0",
         "0.0",
         "0.6931472",
         "0.6931472",
         "1.0986123",
         "0.0",
         "0.6931472",
         "1.609438",
         "1.3862944",
         "0.0",
         "0.6931472",
         "1.3862944",
         "0.6931472",
         "0.0",
         "0.6931472",
         "1.7917595",
         "0.6931472",
         "0.0",
         "0.0",
         "1.0986123",
         "1.0986123",
         "0.6931472",
         "0.6931472",
         "1.0986123",
         "1.7917595",
         "1.0986123",
         "0.0",
         "0.0",
         "0.6931472",
         "0.0",
         "1.0986123",
         "1.0986123",
         "0.6931472",
         "0.0",
         "1.3862944",
         "1.0986123",
         "1.0986123",
         "0.0",
         "0.6931472",
         "0.0",
         "0.0",
         "1.0986123",
         "0.6931472",
         "0.6931472",
         "1.0986123",
         "0.6931472",
         "1.0986123",
         "0.0",
         "0.0",
         "1.0986123",
         "0.0",
         "0.0",
         "0.0",
         "0.6931472",
         "0.6931472",
         "1.3862944",
         "0.6931472",
         "0.0",
         "0.0",
         "0.6931472",
         "0.6931472",
         "0.0",
         "0.6931472",
         "0.6931472",
         "0.6931472",
         "0.0",
         "1.0986123",
         "0.6931472",
         "0.6931472",
         "0.0",
         "0.0",
         "1.0986123",
         "0.6931472",
         "0.6931472",
         "0.6931472",
         "0.0",
         "1.0986123",
         "0.0",
         "0.0",
         "0.0",
         "0.6931472",
         "0.0",
         "0.6931472",
         "1.3862944",
         "1.3862944",
         "0.6931472",
         "0.6931472",
         "0.0",
         "1.3862944",
         "1.3862944",
         "0.6931472",
         "0.6931472",
         "1.3862944",
         "0.0",
         "0.6931472",
         "0.0",
         "0.0",
         "1.3862944",
         "0.6931472",
         "0.6931472",
         "0.6931472",
         "0.6931472",
         "1.0986123",
         "0.0",
         "0.6931472",
         "0.0",
         "0.0",
         "0.6931472",
         "0.6931472",
         "0.6931472",
         "1.0986123",
         "0.0",
         "1.0986123",
         "0.0",
         "0.6931472",
         "0.6931472",
         "0.6931472",
         "1.0986123",
         "0.6931472",
         "0.6931472",
         "0.6931472",
         "0.6931472",
         "0.0",
         "0.0",
         "0.6931472",
         "0.6931472",
         "0.6931472",
         "0.0",
         "0.0",
         "1.609438",
         "0.6931472",
         "0.0",
         "0.0",
         "0.0",
         "0.6931472",
         "0.0",
         "0.0",
         "0.0",
         "0.0",
         "0.0",
         "1.3862944",
         "1.0986123",
         "0.0",
         "1.0986123",
         "0.0",
         "0.0",
         "0.0",
         "0.0",
         "0.0",
         "0.6931472",
         "0.6931472",
         "0.6931472",
         "0.0",
         "0.0",
         "0.0",
         "1.0986123",
         "0.0",
         "1.0986123",
         "0.6931472",
         "0.6931472",
         "0.6931472",
         "1.0986123",
         "0.6931472",
         "0.0",
         "0.0",
         "0.0",
         "0.0",
         "0.6931472",
         "0.0",
         "1.0986123",
         "0.0",
         "0.6931472",
         "0.6931472",
         "0.6931472",
         "1.0986123",
         "0.0",
         "0.6931472",
         "1.0986123",
         "0.0",
         "0.6931472",
         "0.0",
         "0.6931472",
         "0.0",
         "0.6931472",
         "0.6931472",
         "0.0",
         "0.0",
         "0.0",
         "0.6931472",
         "0.6931472",
         "0.6931472",
         "0.6931472",
         "0.0",
         "0.6931472",
         "0.6931472",
         "0.6931472",
         "0.6931472",
         "1.0986123",
         "0.6931472",
         "0.0",
         "0.0",
         "0.6931472",
         "0.0",
         "0.6931472",
         "0.6931472",
         "0.6931472",
         "0.0",
         "0.0",
         "0.6931472",
         "0.0",
         "0.0",
         "0.0",
         "0.0",
         "0.0",
         "0.6931472",
         "0.6931472",
         "0.0",
         "0.0",
         "0.6931472",
         "1.609438",
         "0.6931472",
         "0.0",
         "1.0986123",
         "0.0",
         "0.0",
         "1.0986123",
         "1.0986123",
         "0.6931472",
         "0.0",
         "0.0",
         "0.0",
         "0.6931472",
         "0.0",
         "0.0",
         "0.6931472",
         "0.6931472",
         "0.6931472",
         "1.3862944",
         "0.6931472",
         "0.0",
         "0.0",
         "1.0986123",
         "1.0986123",
         "0.0",
         "0.6931472",
         "0.6931472",
         "1.0986123",
         "0.6931472",
         "1.0986123",
         "0.0",
         "0.6931472",
         "0.6931472",
         "0.0",
         "0.0",
         "0.0",
         "1.609438",
         "1.3862944",
         "0.6931472",
         "0.0",
         "0.0",
         "1.0986123",
         "1.0986123",
         "0.0",
         "0.0",
         "0.0",
         "1.3862944",
         "0.0",
         "1.3862944",
         "0.6931472",
         "1.0986123",
         "0.6931472",
         "0.6931472",
         "0.0",
         "0.0",
         "0.6931472",
         "0.6931472",
         "1.0986123",
         "0.0",
         "0.0",
         "0.0",
         "0.0",
         "0.6931472",
         "0.6931472",
         "1.0986123",
         "1.0986123",
         "0.0",
         "1.0986123",
         "0.0",
         "0.6931472",
         "1.0986123",
         "1.0986123",
         "0.6931472",
         "0.0",
         "0.6931472",
         "1.0986123",
         "1.609438",
         "0.0",
         "0.6931472",
         "0.0",
         "1.3862944",
         "0.0",
         "0.0",
         "1.3862944",
         "0.6931472",
         "0.0",
         "0.6931472",
         "0.6931472",
         "0.6931472",
         "1.3862944",
         "0.6931472",
         "0.6931472",
         "1.0986123",
         "0.0",
         "1.3862944",
         "1.0986123",
         "1.0986123",
         "0.0",
         "0.0",
         "0.6931472",
         "0.0",
         "1.0986123",
         "0.0",
         "0.6931472",
         "0.6931472",
         "0.6931472",
         "0.6931472",
         "1.0986123",
         "1.3862944",
         "1.0986123",
         "0.6931472",
         "0.0",
         "1.0986123",
         "1.0986123",
         "1.0986123",
         "0.6931472",
         "0.0",
         "0.6931472",
         "1.0986123",
         "1.0986123",
         "1.0986123",
         "0.0",
         "0.6931472",
         "0.6931472",
         "0.0",
         "0.6931472",
         "0.6931472",
         "1.0986123",
         "0.0",
         "0.6931472",
         "0.0",
         "0.0",
         "0.6931472",
         "0.0",
         "0.6931472",
         "1.0986123",
         "0.0",
         "0.6931472",
         "1.0986123",
         "0.0",
         "0.0",
         "1.3862944",
         "1.0986123",
         "0.0",
         "1.0986123",
         "0.0",
         "0.0",
         "0.6931472",
         "1.0986123",
         "0.6931472",
         "0.6931472",
         "0.6931472",
         "0.0",
         "0.0",
         "0.0",
         "0.6931472",
         "0.6931472",
         "0.0",
         "0.0",
         "0.0",
         "0.0",
         "0.6931472",
         "1.0986123",
         "1.0986123",
         "0.0",
         "1.0986123",
         "0.0",
         "0.6931472",
         "0.6931472",
         "0.6931472",
         "0.6931472",
         "0.6931472",
         "1.0986123",
         "0.0",
         "0.6931472",
         "1.3862944",
         "0.0",
         "0.6931472",
         "0.0",
         "1.609438",
         "0.0",
         "1.0986123",
         "1.0986123",
         "0.6931472",
         "0.0",
         "0.6931472",
         "1.0986123",
         "1.609438",
         "0.6931472",
         "1.0986123",
         "0.0",
         "0.0",
         "1.0986123",
         "0.6931472",
         "0.0",
         "0.6931472",
         "0.0",
         "0.0",
         "1.0986123",
         "0.0",
         "0.6931472",
         "0.6931472",
         "0.0",
         "0.6931472",
         "1.3862944",
         "1.0986123",
         "0.6931472",
         "0.6931472",
         "0.6931472",
         "0.0",
         "0.6931472",
         "0.6931472",
         "1.3862944",
         "0.0",
         "0.0",
         "0.6931472",
         "0.0",
         "0.0",
         "1.609438",
         "1.0986123",
         "0.6931472",
         "0.0",
         "0.0",
         "1.0986123",
         "0.6931472",
         "1.609438",
         "0.0",
         "0.6931472",
         "0.0",
         "1.0986123",
         "1.0986123",
         "1.0986123",
         "0.6931472",
         "1.0986123",
         "0.6931472",
         "0.0",
         "0.0",
         "0.0",
         "0.0",
         "0.6931472",
         "0.6931472",
         "0.6931472",
         "1.3862944",
         "0.6931472",
         "0.0",
         "1.609438",
         "0.6931472",
         "1.0986123",
         "0.6931472",
         "0.0",
         "0.6931472",
         "1.3862944",
         "0.6931472",
         "0.6931472",
         "1.0986123",
         "0.0",
         "0.6931472",
         "0.6931472",
         "0.0",
         "0.0",
         "0.0",
         "0.6931472",
         "0.0",
         "0.0",
         "0.6931472",
         "0.0",
         "0.0",
         "0.0",
         "0.6931472",
         "0.0",
         "0.0",
         "1.0986123",
         "1.0986123",
         "1.0986123",
         "0.0",
         "0.0",
         "1.0986123",
         "0.6931472",
         "0.6931472",
         "1.0986123",
         "1.0986123",
         "0.0",
         "1.0986123",
         "1.3862944",
         "0.0",
         "1.0986123",
         "1.0986123",
         "0.6931472",
         "1.0986123",
         "0.6931472",
         "1.0986123",
         "0.6931472",
         "1.0986123",
         "1.3862944",
         "0.6931472",
         "0.0",
         "0.0",
         "1.0986123",
         "0.0",
         "0.0",
         "0.6931472",
         "1.3862944",
         "0.0",
         "0.0",
         "0.6931472",
         "1.0986123",
         "1.0986123",
         "1.0986123",
         "0.6931472",
         "0.6931472",
         "0.6931472",
         "0.0",
         "1.3862944",
         "0.0",
         "1.0986123",
         "0.0",
         "1.0986123",
         "0.6931472",
         "0.0",
         "1.0986123",
         "0.0",
         "0.6931472",
         "0.0",
         "1.0986123",
         "0.0",
         "0.6931472",
         "0.6931472",
         "1.0986123",
         "0.0",
         "0.6931472",
         "0.6931472",
         "0.6931472",
         "0.0",
         "1.3862944",
         "0.6931472",
         "0.6931472",
         "0.6931472",
         "0.0",
         "0.0",
         "0.0",
         "1.0986123",
         "1.0986123",
         "1.3862944",
         "0.6931472",
         "0.0",
         "0.6931472",
         "0.6931472",
         "0.0",
         "0.6931472",
         "0.0",
         "0.6931472",
         "1.3862944",
         "1.0986123",
         "0.0",
         "0.6931472",
         "0.0",
         "1.3862944",
         "0.6931472",
         "0.0",
         "0.0",
         "0.0",
         "0.0",
         "0.0",
         "0.0",
         "0.6931472",
         "1.7917595",
         "0.6931472",
         "0.0",
         "0.0",
         "0.0",
         "0.0",
         "1.3862944",
         "0.6931472",
         "0.0",
         "0.0",
         "1.0986123",
         "0.6931472",
         "1.3862944",
         "1.0986123",
         "1.609438",
         "0.6931472",
         "0.6931472",
         "0.6931472",
         "0.6931472",
         "0.6931472",
         "0.0",
         "1.0986123",
         "0.0",
         "0.6931472",
         "0.0",
         "0.6931472",
         "1.3862944",
         "0.6931472",
         "0.6931472",
         "1.0986123",
         "0.0",
         "0.0",
         "0.6931472",
         "0.0",
         "1.609438",
         "1.0986123",
         "0.6931472",
         "0.0",
         "0.6931472",
         "0.6931472",
         "1.0986123",
         "1.0986123",
         "1.7917595",
         "0.0",
         "0.0",
         "0.6931472",
         "0.6931472",
         "0.6931472",
         "1.0986123",
         "0.0",
         "1.0986123",
         "0.0",
         "1.0986123",
         "1.0986123",
         "0.6931472",
         "0.6931472",
         "0.6931472",
         "1.0986123",
         "0.6931472",
         "0.6931472",
         "0.0",
         "1.0986123",
         "0.6931472",
         "0.6931472",
         "1.0986123",
         "0.6931472",
         "0.0",
         "0.0",
         "0.0",
         "0.0",
         "1.0986123",
         "0.6931472",
         "0.0",
         "0.0",
         "0.6931472",
         "0.0",
         "1.0986123",
         "0.6931472",
         "0.0",
         "0.6931472",
         "0.0",
         "1.0986123",
         "0.6931472",
         "0.0",
         "0.0",
         "0.6931472",
         "1.0986123",
         "0.0",
         "1.0986123",
         "1.0986123",
         "1.0986123",
         "0.6931472",
         "1.3862944",
         "1.3862944",
         "0.0",
         "0.6931472",
         "0.0",
         "0.0",
         "0.6931472",
         "0.0",
         "0.0",
         "1.3862944",
         "0.0",
         "1.3862944",
         "1.0986123",
         "1.0986123",
         "0.6931472",
         "0.6931472",
         "1.0986123",
         "0.0",
         "1.0986123",
         "1.0986123",
         "1.0986123",
         "0.0",
         "0.6931472",
         "0.6931472",
         "0.0",
         "0.6931472",
         "0.6931472",
         "0.6931472",
         "0.6931472",
         "0.6931472",
         "1.0986123",
         "1.0986123",
         "0.6931472",
         "0.6931472",
         "0.0",
         "0.0",
         "0.0",
         "0.6931472",
         "0.0",
         "1.0986123",
         "0.6931472",
         "0.0",
         "0.6931472",
         "0.0",
         "1.0986123",
         "0.6931472",
         "0.6931472",
         "1.0986123",
         "0.6931472",
         "1.0986123",
         "0.6931472",
         "0.0",
         "0.0",
         "1.609438",
         "0.0",
         "1.3862944",
         "0.6931472",
         "0.0",
         "0.0",
         "1.0986123",
         "1.0986123",
         "0.0",
         "1.0986123",
         "0.6931472",
         "0.6931472",
         "1.0986123",
         "0.6931472",
         "0.6931472",
         "0.0",
         "0.6931472",
         "1.609438",
         "1.0986123",
         "0.6931472",
         "0.6931472",
         "0.6931472",
         "0.6931472",
         "0.0",
         "1.3862944",
         "0.6931472",
         "1.0986123",
         "0.6931472",
         "0.0",
         "1.0986123",
         "0.6931472",
         "1.0986123",
         "0.0",
         "0.0",
         "1.0986123",
         "0.6931472",
         "1.3862944",
         "1.3862944",
         "1.3862944",
         "0.6931472",
         "0.6931472",
         "1.0986123",
         "0.0",
         "0.0",
         "0.0",
         "0.0",
         "0.0",
         "0.6931472",
         "0.6931472",
         "0.6931472",
         "0.0",
         "0.0",
         "1.3862944",
         "1.3862944",
         "0.0",
         "0.6931472",
         "1.0986123",
         "0.0",
         "0.0",
         "0.6931472",
         "0.6931472",
         "0.0",
         "0.6931472",
         "0.0",
         "0.6931472",
         "0.0",
         "1.3862944",
         "1.3862944",
         "0.0",
         "1.0986123",
         "0.0",
         "0.0",
         "0.6931472",
         "1.0986123",
         "0.0",
         "0.6931472",
         "1.0986123",
         "0.6931472",
         "0.0",
         "1.0986123",
         "1.3862944",
         "0.6931472",
         "0.6931472",
         "0.6931472",
         "0.6931472",
         "0.0",
         "0.6931472",
         "0.6931472",
         "0.0",
         "0.0",
         "1.0986123",
         "1.0986123",
         "0.0",
         "1.0986123",
         "0.6931472",
         "0.6931472",
         "0.0",
         "0.6931472",
         "0.0",
         "0.0",
         "0.0",
         "0.6931472",
         "0.0",
         "0.0",
         "0.6931472",
         "0.0",
         "0.0",
         "1.0986123",
         "0.0",
         "0.0",
         "0.0",
         "1.3862944",
         "0.6931472",
         "1.0986123",
         "0.0",
         "0.0",
         "0.0",
         "0.0",
         "0.6931472",
         "0.6931472",
         "0.6931472",
         "0.6931472",
         "1.3862944",
         "0.0",
         "0.6931472",
         "0.6931472",
         "1.0986123",
         "0.0",
         "1.0986123",
         "0.0",
         "1.0986123",
         "0.0",
         "0.0",
         "0.6931472",
         "1.0986123",
         "0.0",
         "1.609438",
         "0.0",
         "1.3862944",
         "0.0",
         "0.0",
         "0.6931472",
         "1.0986123",
         "1.0986123",
         "0.0",
         "0.6931472",
         "0.6931472",
         "0.0",
         "0.0",
         "0.0",
         "0.6931472",
         "0.0",
         "0.0",
         "1.0986123",
         "0.0",
         "0.0",
         "0.6931472",
         "1.0986123",
         "0.0",
         "1.3862944",
         "1.0986123",
         "0.0",
         "1.3862944",
         "0.0",
         "0.6931472",
         "1.7917595",
         "0.0",
         "0.0",
         "0.6931472",
         "1.0986123",
         "0.0",
         "0.6931472",
         "0.6931472",
         "0.0",
         "0.0",
         "0.0",
         "0.0",
         "0.6931472",
         "1.0986123",
         "0.6931472",
         "0.0",
         "0.0",
         "0.0",
         "0.6931472",
         "0.0",
         "0.6931472",
         "0.0",
         "1.0986123",
         "0.0",
         "0.0",
         "0.6931472",
         "0.6931472",
         "0.6931472",
         "0.0",
         "0.6931472",
         "0.0",
         "1.3862944",
         "0.0",
         "1.0986123",
         "1.0986123",
         "0.6931472",
         "0.6931472",
         "0.0",
         "1.7917595",
         "1.3862944",
         "0.6931472",
         "1.0986123",
         "1.0986123",
         "0.6931472",
         "1.0986123",
         "1.0986123",
         "0.0",
         "0.6931472",
         "1.0986123",
         "1.3862944",
         "0.6931472",
         "0.0",
         "1.0986123",
         "0.0",
         "0.6931472",
         "0.6931472",
         "1.0986123",
         "0.6931472",
         "0.6931472",
         "0.6931472",
         "0.6931472",
         "0.6931472",
         "0.0",
         "1.3862944",
         "1.0986123",
         "0.6931472",
         "0.0",
         "0.0",
         "0.0",
         "0.6931472",
         "0.6931472",
         "0.0",
         "0.6931472",
         "1.0986123",
         "0.6931472",
         "0.0",
         "1.0986123",
         "0.0",
         "0.0",
         "0.0",
         "0.6931472",
         "0.6931472",
         "0.6931472",
         "0.0",
         "1.0986123",
         "0.6931472",
         "1.0986123",
         "0.6931472",
         "0.0",
         "1.0986123",
         "0.0",
         "0.0",
         "0.0",
         "0.6931472",
         "0.0",
         "0.6931472",
         "0.6931472",
         "0.6931472",
         "0.0",
         "0.6931472",
         "0.0",
         "0.0",
         "0.6931472",
         "1.0986123",
         "1.0986123",
         "0.0",
         "0.6931472",
         "0.0",
         "0.6931472",
         "0.6931472",
         "1.0986123",
         "0.0",
         "1.0986123",
         "0.6931472",
         "0.0",
         "0.0",
         "0.6931472",
         "1.3862944",
         "0.6931472",
         "1.0986123",
         "1.3862944",
         "0.6931472",
         "1.3862944",
         "0.0",
         "0.0",
         "0.6931472",
         "0.6931472",
         "1.609438",
         "1.7917595",
         "0.6931472",
         "0.0",
         "0.0",
         "0.6931472",
         "0.0",
         "1.3862944",
         "0.0",
         "1.0986123",
         "0.6931472",
         "0.0",
         "1.3862944",
         "1.0986123",
         "1.0986123",
         "0.6931472",
         "1.0986123",
         "0.0",
         "1.3862944",
         "0.0",
         "1.3862944",
         "0.6931472",
         "0.0",
         "0.6931472",
         "0.0",
         "0.0",
         "0.6931472",
         "0.0",
         "1.3862944",
         "0.6931472",
         "0.6931472",
         "0.0",
         "1.0986123",
         "1.0986123",
         "0.0",
         "0.0",
         "0.6931472",
         "0.0",
         "0.0",
         "0.6931472",
         "0.0",
         "0.6931472",
         "0.0",
         "0.6931472",
         "0.0",
         "0.0",
         "1.0986123",
         "0.6931472",
         "0.0",
         "0.6931472",
         "0.6931472",
         "0.0",
         "1.3862944",
         "0.0",
         "0.0",
         "0.6931472",
         "0.6931472",
         "0.6931472",
         "0.0",
         "0.6931472",
         "1.3862944",
         "0.0",
         "0.0",
         "0.6931472",
         "0.6931472",
         "1.0986123",
         "1.3862944",
         "0.6931472",
         "0.0",
         "0.0",
         "0.6931472",
         "0.6931472",
         "1.0986123",
         "1.0986123",
         "1.3862944",
         "0.6931472",
         "1.0986123",
         "1.3862944",
         "0.6931472",
         "0.6931472",
         "0.0",
         "0.6931472",
         "0.0",
         "0.0",
         "0.6931472",
         "1.0986123",
         "0.6931472",
         "1.0986123",
         "0.0",
         "0.0",
         "1.3862944",
         "0.6931472",
         "0.0",
         "1.0986123",
         "0.6931472",
         "1.3862944",
         "0.6931472",
         "1.3862944",
         "0.6931472",
         "0.6931472",
         "0.0",
         "0.6931472",
         "1.0986123",
         "0.6931472",
         "0.6931472",
         "0.0",
         "0.6931472",
         "0.0",
         "0.6931472",
         "1.0986123",
         "0.6931472",
         "0.0",
         "0.0",
         "0.0",
         "0.0",
         "0.0",
         "1.0986123",
         "0.6931472",
         "0.6931472",
         "0.0",
         "0.6931472",
         "1.0986123",
         "0.6931472",
         "0.0",
         "0.6931472",
         "0.6931472",
         "0.0",
         "0.0",
         "0.6931472",
         "1.3862944",
         "1.0986123",
         "0.0",
         "1.0986123",
         "0.0",
         "1.0986123",
         "0.6931472",
         "0.6931472",
         "0.6931472",
         "0.6931472",
         "0.0",
         "0.0",
         "1.0986123",
         "1.0986123",
         "1.0986123",
         "0.0",
         "1.3862944",
         "0.6931472",
         "1.609438",
         "1.3862944",
         "1.0986123",
         "0.0",
         "0.0",
         "0.6931472",
         "0.6931472",
         "0.0",
         "1.0986123",
         "0.6931472",
         "0.6931472",
         "0.0",
         "0.6931472",
         "0.6931472",
         "0.0",
         "0.0",
         "0.6931472",
         "1.609438",
         "1.0986123",
         "0.6931472",
         "0.0",
         "0.0",
         "1.0986123",
         "0.0",
         "0.6931472",
         "0.6931472",
         "0.0",
         "0.0",
         "0.0",
         "0.6931472",
         "1.0986123",
         "0.0",
         "0.0",
         "0.6931472",
         "0.6931472",
         "0.0",
         "0.6931472",
         "0.0",
         "0.6931472",
         "0.6931472",
         "0.0",
         "0.6931472",
         "0.6931472",
         "0.0",
         "1.0986123",
         "1.0986123",
         "0.6931472",
         "0.6931472",
         "0.0",
         "0.6931472",
         "0.0",
         "0.6931472",
         "1.0986123",
         "0.0",
         "0.0",
         "0.0",
         "0.6931472",
         "0.6931472",
         "0.0",
         "0.0",
         "0.0",
         "0.6931472",
         "0.0",
         "1.3862944",
         "1.0986123",
         "0.0",
         "0.6931472",
         "0.6931472",
         "0.6931472",
         "0.0",
         "1.0986123",
         "1.3862944",
         "0.0",
         "0.6931472",
         "1.0986123",
         "0.6931472",
         "0.0",
         "0.6931472",
         "0.0",
         "1.0986123",
         "0.6931472",
         "0.6931472",
         "0.0",
         "0.6931472",
         "0.6931472",
         "0.6931472",
         "0.6931472",
         "0.6931472",
         "0.0",
         "1.0986123",
         "0.0",
         "0.6931472",
         "1.609438",
         "0.6931472",
         "0.0",
         "0.6931472",
         "0.6931472",
         "0.6931472",
         "0.0",
         "0.0",
         "1.0986123",
         "0.6931472",
         "1.3862944",
         "1.0986123",
         "0.0",
         "1.0986123",
         "0.6931472",
         "0.0",
         "0.6931472",
         "0.0",
         "0.6931472",
         "1.0986123",
         "0.0",
         "0.0",
         "1.0986123",
         "0.6931472",
         "0.6931472",
         "0.0",
         "1.0986123",
         "0.6931472",
         "0.6931472",
         "1.0986123",
         "0.6931472",
         "0.0",
         "0.0",
         "1.3862944",
         "0.0",
         "0.0",
         "0.6931472",
         "1.0986123",
         "1.3862944",
         "0.6931472",
         "1.3862944",
         "1.0986123",
         "0.6931472",
         "0.6931472",
         "1.0986123",
         "0.0",
         "1.3862944",
         "0.6931472",
         "0.0",
         "0.6931472",
         "1.0986123",
         "0.6931472",
         "0.0",
         "0.0",
         "1.0986123",
         "0.0",
         "0.0",
         "0.0",
         "0.0",
         "1.0986123",
         "0.6931472",
         "1.0986123",
         "0.0",
         "0.6931472",
         "1.0986123",
         "0.6931472",
         "1.0986123",
         "1.0986123",
         "1.0986123",
         "0.0",
         "0.0",
         "1.0986123",
         "1.0986123",
         "1.0986123",
         "0.0",
         "1.3862944",
         "0.0",
         "0.0",
         "0.0",
         "1.0986123",
         "0.0",
         "0.0",
         "0.6931472",
         "0.0",
         "0.6931472",
         "1.0986123",
         "1.3862944",
         "1.0986123",
         "1.3862944",
         "0.0",
         "1.0986123",
         "0.6931472",
         "0.0",
         "0.6931472",
         "1.3862944",
         "1.0986123",
         "0.6931472",
         "1.0986123",
         "0.6931472",
         "0.0",
         "0.6931472",
         "0.6931472",
         "0.6931472",
         "0.6931472",
         "0.0",
         "0.6931472",
         "1.0986123",
         "1.3862944",
         "0.0",
         "0.0",
         "0.6931472",
         "1.0986123",
         "0.6931472",
         "0.0",
         "0.6931472",
         "0.0",
         "0.0",
         "1.0986123",
         "0.0",
         "0.0",
         "0.6931472",
         "0.0",
         "1.3862944",
         "0.0",
         "0.6931472",
         "0.6931472",
         "0.0",
         "0.0",
         "0.0",
         "0.0",
         "1.0986123",
         "0.6931472",
         "0.6931472",
         "1.0986123",
         "1.3862944",
         "0.6931472",
         "0.0",
         "1.0986123",
         "0.0",
         "0.0",
         "0.0",
         "0.0",
         "0.6931472",
         "1.3862944",
         "1.0986123",
         "0.6931472",
         "1.3862944",
         "0.6931472",
         "1.0986123",
         "1.3862944",
         "0.6931472",
         "0.6931472",
         "0.0",
         "0.0",
         "1.0986123",
         "0.0",
         "0.0",
         "0.6931472",
         "1.0986123",
         "1.0986123",
         "0.0",
         "0.0",
         "0.0",
         "0.0",
         "0.0",
         "0.6931472",
         "1.0986123",
         "0.6931472",
         "0.0",
         "1.0986123",
         "1.0986123",
         "0.0",
         "0.6931472",
         "1.0986123",
         "0.0",
         "0.6931472",
         "0.0",
         "0.6931472",
         "0.6931472",
         "1.0986123",
         "0.6931472",
         "0.6931472",
         "0.6931472",
         "0.6931472",
         "1.0986123",
         "0.6931472",
         "0.0",
         "0.0",
         "0.6931472",
         "0.0",
         "0.0",
         "1.0986123",
         "0.0",
         "0.0",
         "0.6931472",
         "0.0",
         "1.0986123",
         "0.6931472",
         "0.6931472",
         "0.6931472",
         "0.6931472",
         "1.0986123",
         "1.0986123",
         "0.0",
         "0.6931472",
         "0.6931472",
         "0.6931472",
         "1.0986123",
         "0.6931472",
         "0.0",
         "0.6931472",
         "0.0",
         "0.0",
         "1.0986123",
         "0.6931472",
         "1.0986123",
         "1.0986123",
         "0.6931472",
         "0.0",
         "0.0",
         "0.6931472",
         "1.0986123",
         "1.3862944",
         "0.0",
         "1.0986123",
         "0.6931472",
         "1.609438",
         "0.0",
         "1.0986123",
         "0.6931472",
         "0.6931472",
         "0.0",
         "0.0",
         "1.3862944",
         "1.609438",
         "0.0",
         "0.0",
         "0.6931472",
         "0.0",
         "1.0986123",
         "0.6931472",
         "0.6931472",
         "0.6931472",
         "0.0",
         "0.6931472",
         "1.3862944",
         "1.0986123",
         "0.6931472",
         "0.0",
         "0.6931472",
         "0.6931472",
         "0.0",
         "1.3862944",
         "0.6931472",
         "0.0",
         "1.0986123",
         "0.0",
         "1.0986123",
         "0.0",
         "0.6931472",
         "0.6931472",
         "0.0",
         "0.0",
         "1.0986123",
         "1.0986123",
         "0.0",
         "0.6931472",
         "1.3862944",
         "1.3862944",
         "0.0",
         "0.6931472",
         "0.0",
         "0.0",
         "0.6931472",
         "0.6931472",
         "0.0",
         "0.6931472",
         "1.3862944",
         "0.6931472",
         "1.0986123",
         "1.0986123",
         "0.0",
         "1.0986123",
         "0.0",
         "0.0",
         "0.0",
         "1.0986123",
         "0.6931472",
         "1.0986123",
         "0.6931472",
         "0.0",
         "0.6931472",
         "0.0",
         "0.0",
         "0.0",
         "0.0",
         "0.6931472",
         "0.0",
         "0.6931472",
         "1.3862944",
         "0.0",
         "0.0",
         "0.6931472",
         "1.0986123",
         "1.0986123",
         "0.6931472",
         "0.6931472",
         "0.0",
         "0.0",
         "0.0",
         "1.609438",
         "1.0986123",
         "0.0",
         "0.6931472",
         "0.6931472",
         "0.0",
         "0.6931472",
         "1.0986123",
         "0.6931472",
         "0.0",
         "1.0986123",
         "0.6931472",
         "0.0",
         "0.0",
         "0.6931472",
         "0.6931472",
         "0.0",
         "0.0",
         "0.0",
         "0.6931472",
         "1.3862944",
         "1.0986123",
         "0.6931472",
         "0.0",
         "0.6931472",
         "0.6931472",
         "0.6931472",
         "0.0",
         "1.0986123",
         "1.3862944",
         "0.6931472",
         "0.0",
         "0.0",
         "0.0",
         "0.0",
         "0.0",
         "1.0986123",
         "0.0",
         "0.0",
         "0.6931472",
         "0.6931472",
         "0.0",
         "0.0",
         "1.0986123",
         "0.0",
         "0.0",
         "0.0",
         "0.0",
         "0.0",
         "0.0",
         "1.0986123",
         "1.3862944",
         "0.0",
         "1.0986123",
         "0.0",
         "0.6931472",
         "1.0986123",
         "0.6931472",
         "0.0",
         "0.6931472",
         "1.0986123",
         "0.0",
         "0.0",
         "0.0",
         "0.0",
         "1.0986123",
         "0.6931472",
         "0.6931472",
         "0.6931472",
         "0.0",
         "1.3862944",
         "0.6931472",
         "0.6931472",
         "0.6931472",
         "0.6931472",
         "1.0986123",
         "0.0",
         "0.0",
         "0.6931472",
         "0.0",
         "0.6931472",
         "0.0",
         "0.6931472",
         "0.0",
         "0.6931472",
         "0.6931472",
         "0.0",
         "0.6931472",
         "0.6931472",
         "1.3862944",
         "0.0",
         "0.0",
         "1.3862944",
         "1.3862944",
         "0.6931472",
         "0.0",
         "1.0986123",
         "0.6931472",
         "1.0986123",
         "1.0986123",
         "0.0",
         "1.0986123",
         "0.0",
         "0.0",
         "1.0986123",
         "0.6931472",
         "0.0",
         "0.6931472",
         "0.0",
         "0.0",
         "0.0",
         "0.0",
         "0.6931472",
         "1.0986123",
         "0.6931472",
         "1.0986123",
         "1.0986123",
         "0.6931472",
         "0.0",
         "0.0",
         "0.0",
         "0.6931472",
         "0.6931472",
         "0.6931472",
         "0.0",
         "1.0986123",
         "0.0",
         "0.0",
         "0.0",
         "0.6931472",
         "1.0986123",
         "0.6931472",
         "0.0",
         "0.6931472",
         "0.6931472",
         "1.0986123",
         "0.0",
         "1.3862944",
         "0.6931472",
         "1.0986123",
         "1.0986123",
         "0.6931472",
         "1.0986123",
         "1.0986123",
         "0.6931472",
         "1.3862944",
         "0.6931472",
         "1.0986123",
         "0.0",
         "0.0",
         "1.3862944",
         "0.6931472",
         "0.0",
         "0.0",
         "0.0",
         "0.6931472",
         "0.0",
         "0.0",
         "0.6931472",
         "0.0",
         "0.0",
         "0.6931472",
         "0.6931472",
         "1.3862944",
         "0.0",
         "0.6931472",
         "0.0",
         "0.6931472",
         "0.0",
         "1.0986123",
         "0.6931472",
         "1.0986123",
         "1.0986123",
         "0.0",
         "1.3862944",
         "0.0",
         "0.6931472",
         "0.0",
         "0.6931472",
         "1.0986123",
         "0.0",
         "0.0",
         "0.0",
         "0.0",
         "0.6931472",
         "0.6931472",
         "1.3862944",
         "0.0",
         "0.6931472",
         "0.0",
         "0.6931472",
         "0.6931472",
         "0.6931472",
         "1.3862944",
         "0.0",
         "0.0",
         "0.6931472",
         "0.6931472",
         "0.6931472",
         "0.0",
         "0.0",
         "1.609438",
         "1.0986123",
         "0.0",
         "1.0986123",
         "0.6931472",
         "0.0",
         "0.0",
         "0.6931472",
         "1.3862944",
         "0.6931472",
         "0.6931472",
         "0.0",
         "1.0986123",
         "0.6931472",
         "0.6931472"
        ]
       ],
       "shape": {
        "columns": 2000,
        "rows": 5
       }
      },
      "text/html": [
       "<div>\n",
       "<style scoped>\n",
       "    .dataframe tbody tr th:only-of-type {\n",
       "        vertical-align: middle;\n",
       "    }\n",
       "\n",
       "    .dataframe tbody tr th {\n",
       "        vertical-align: top;\n",
       "    }\n",
       "\n",
       "    .dataframe thead th {\n",
       "        text-align: right;\n",
       "    }\n",
       "</style>\n",
       "<table border=\"1\" class=\"dataframe\">\n",
       "  <thead>\n",
       "    <tr style=\"text-align: right;\">\n",
       "      <th></th>\n",
       "      <th>Gene_0</th>\n",
       "      <th>Gene_1</th>\n",
       "      <th>Gene_2</th>\n",
       "      <th>Gene_3</th>\n",
       "      <th>Gene_4</th>\n",
       "      <th>Gene_5</th>\n",
       "      <th>Gene_6</th>\n",
       "      <th>Gene_7</th>\n",
       "      <th>Gene_8</th>\n",
       "      <th>Gene_9</th>\n",
       "      <th>...</th>\n",
       "      <th>Gene_1990</th>\n",
       "      <th>Gene_1991</th>\n",
       "      <th>Gene_1992</th>\n",
       "      <th>Gene_1993</th>\n",
       "      <th>Gene_1994</th>\n",
       "      <th>Gene_1995</th>\n",
       "      <th>Gene_1996</th>\n",
       "      <th>Gene_1997</th>\n",
       "      <th>Gene_1998</th>\n",
       "      <th>Gene_1999</th>\n",
       "    </tr>\n",
       "  </thead>\n",
       "  <tbody>\n",
       "    <tr>\n",
       "      <th>Cell_0</th>\n",
       "      <td>0.693147</td>\n",
       "      <td>0.000000</td>\n",
       "      <td>1.386294</td>\n",
       "      <td>0.000000</td>\n",
       "      <td>0.000000</td>\n",
       "      <td>0.000000</td>\n",
       "      <td>0.693147</td>\n",
       "      <td>1.098612</td>\n",
       "      <td>0.000000</td>\n",
       "      <td>0.693147</td>\n",
       "      <td>...</td>\n",
       "      <td>0.693147</td>\n",
       "      <td>0.693147</td>\n",
       "      <td>0.693147</td>\n",
       "      <td>0.000000</td>\n",
       "      <td>0.000000</td>\n",
       "      <td>0.000000</td>\n",
       "      <td>0.000000</td>\n",
       "      <td>1.386294</td>\n",
       "      <td>0.000000</td>\n",
       "      <td>1.098612</td>\n",
       "    </tr>\n",
       "    <tr>\n",
       "      <th>Cell_1</th>\n",
       "      <td>0.693147</td>\n",
       "      <td>0.000000</td>\n",
       "      <td>1.098612</td>\n",
       "      <td>0.000000</td>\n",
       "      <td>0.693147</td>\n",
       "      <td>0.693147</td>\n",
       "      <td>1.098612</td>\n",
       "      <td>0.693147</td>\n",
       "      <td>0.000000</td>\n",
       "      <td>0.693147</td>\n",
       "      <td>...</td>\n",
       "      <td>0.000000</td>\n",
       "      <td>0.000000</td>\n",
       "      <td>0.000000</td>\n",
       "      <td>0.693147</td>\n",
       "      <td>0.693147</td>\n",
       "      <td>0.000000</td>\n",
       "      <td>0.000000</td>\n",
       "      <td>0.693147</td>\n",
       "      <td>0.000000</td>\n",
       "      <td>0.000000</td>\n",
       "    </tr>\n",
       "    <tr>\n",
       "      <th>Cell_2</th>\n",
       "      <td>0.693147</td>\n",
       "      <td>0.000000</td>\n",
       "      <td>0.000000</td>\n",
       "      <td>0.693147</td>\n",
       "      <td>0.693147</td>\n",
       "      <td>0.000000</td>\n",
       "      <td>0.693147</td>\n",
       "      <td>0.000000</td>\n",
       "      <td>0.693147</td>\n",
       "      <td>1.386294</td>\n",
       "      <td>...</td>\n",
       "      <td>1.098612</td>\n",
       "      <td>1.098612</td>\n",
       "      <td>1.098612</td>\n",
       "      <td>0.693147</td>\n",
       "      <td>0.000000</td>\n",
       "      <td>0.693147</td>\n",
       "      <td>0.000000</td>\n",
       "      <td>0.000000</td>\n",
       "      <td>0.693147</td>\n",
       "      <td>0.000000</td>\n",
       "    </tr>\n",
       "    <tr>\n",
       "      <th>Cell_3</th>\n",
       "      <td>0.693147</td>\n",
       "      <td>0.693147</td>\n",
       "      <td>1.386294</td>\n",
       "      <td>0.693147</td>\n",
       "      <td>1.609438</td>\n",
       "      <td>1.098612</td>\n",
       "      <td>0.000000</td>\n",
       "      <td>0.000000</td>\n",
       "      <td>1.791759</td>\n",
       "      <td>0.000000</td>\n",
       "      <td>...</td>\n",
       "      <td>0.000000</td>\n",
       "      <td>0.693147</td>\n",
       "      <td>1.098612</td>\n",
       "      <td>0.693147</td>\n",
       "      <td>1.098612</td>\n",
       "      <td>0.693147</td>\n",
       "      <td>0.693147</td>\n",
       "      <td>0.693147</td>\n",
       "      <td>0.693147</td>\n",
       "      <td>0.693147</td>\n",
       "    </tr>\n",
       "    <tr>\n",
       "      <th>Cell_4</th>\n",
       "      <td>1.098612</td>\n",
       "      <td>0.693147</td>\n",
       "      <td>0.693147</td>\n",
       "      <td>0.693147</td>\n",
       "      <td>1.098612</td>\n",
       "      <td>0.693147</td>\n",
       "      <td>0.000000</td>\n",
       "      <td>0.000000</td>\n",
       "      <td>0.693147</td>\n",
       "      <td>0.693147</td>\n",
       "      <td>...</td>\n",
       "      <td>0.000000</td>\n",
       "      <td>0.000000</td>\n",
       "      <td>0.693147</td>\n",
       "      <td>1.386294</td>\n",
       "      <td>0.693147</td>\n",
       "      <td>0.693147</td>\n",
       "      <td>0.000000</td>\n",
       "      <td>1.098612</td>\n",
       "      <td>0.693147</td>\n",
       "      <td>0.693147</td>\n",
       "    </tr>\n",
       "  </tbody>\n",
       "</table>\n",
       "<p>5 rows × 2000 columns</p>\n",
       "</div>"
      ],
      "text/plain": [
       "          Gene_0    Gene_1    Gene_2    Gene_3    Gene_4    Gene_5    Gene_6  \\\n",
       "Cell_0  0.693147  0.000000  1.386294  0.000000  0.000000  0.000000  0.693147   \n",
       "Cell_1  0.693147  0.000000  1.098612  0.000000  0.693147  0.693147  1.098612   \n",
       "Cell_2  0.693147  0.000000  0.000000  0.693147  0.693147  0.000000  0.693147   \n",
       "Cell_3  0.693147  0.693147  1.386294  0.693147  1.609438  1.098612  0.000000   \n",
       "Cell_4  1.098612  0.693147  0.693147  0.693147  1.098612  0.693147  0.000000   \n",
       "\n",
       "          Gene_7    Gene_8    Gene_9  ...  Gene_1990  Gene_1991  Gene_1992  \\\n",
       "Cell_0  1.098612  0.000000  0.693147  ...   0.693147   0.693147   0.693147   \n",
       "Cell_1  0.693147  0.000000  0.693147  ...   0.000000   0.000000   0.000000   \n",
       "Cell_2  0.000000  0.693147  1.386294  ...   1.098612   1.098612   1.098612   \n",
       "Cell_3  0.000000  1.791759  0.000000  ...   0.000000   0.693147   1.098612   \n",
       "Cell_4  0.000000  0.693147  0.693147  ...   0.000000   0.000000   0.693147   \n",
       "\n",
       "        Gene_1993  Gene_1994  Gene_1995  Gene_1996  Gene_1997  Gene_1998  \\\n",
       "Cell_0   0.000000   0.000000   0.000000   0.000000   1.386294   0.000000   \n",
       "Cell_1   0.693147   0.693147   0.000000   0.000000   0.693147   0.000000   \n",
       "Cell_2   0.693147   0.000000   0.693147   0.000000   0.000000   0.693147   \n",
       "Cell_3   0.693147   1.098612   0.693147   0.693147   0.693147   0.693147   \n",
       "Cell_4   1.386294   0.693147   0.693147   0.000000   1.098612   0.693147   \n",
       "\n",
       "        Gene_1999  \n",
       "Cell_0   1.098612  \n",
       "Cell_1   0.000000  \n",
       "Cell_2   0.000000  \n",
       "Cell_3   0.693147  \n",
       "Cell_4   0.693147  \n",
       "\n",
       "[5 rows x 2000 columns]"
      ]
     },
     "execution_count": 13,
     "metadata": {},
     "output_type": "execute_result"
    }
   ],
   "source": [
    "adata.to_df(layer = \"log_transformed\").head()"
   ]
  },
  {
   "cell_type": "markdown",
   "id": "34ed6abb",
   "metadata": {},
   "source": [
    "## 保存anndata\n",
    "一般会把`anndata`保存成一个`.h5ad`文件。\n",
    "`.h5ad`文件是基于 `HDF5` 的二进制文件格式，适合存储矩阵 + 元数据，压缩后体积小、读取快。"
   ]
  },
  {
   "cell_type": "markdown",
   "id": "e8855ee0",
   "metadata": {},
   "source": [
    "`.h5ad` 文件就像是 `AnnData` 对象的“完整快照”，保存了：\n",
    "主数据矩阵（.X）\n",
    "所有版本矩阵（.layers）\n",
    "细胞/基因元数据（.obs / .var）\n",
    "多维嵌入（.obsm / .varm）\n",
    "图结构（.obsp / .varp）\n",
    "额外参数配置（.uns）"
   ]
  },
  {
   "cell_type": "code",
   "execution_count": 14,
   "id": "06af10d8",
   "metadata": {},
   "outputs": [],
   "source": [
    "adata.write(\"../data/my_results.h5ad\", compression=\"gzip\")"
   ]
  },
  {
   "cell_type": "markdown",
   "id": "ae6de63a",
   "metadata": {},
   "source": [
    "## views and copies"
   ]
  },
  {
   "cell_type": "code",
   "execution_count": 15,
   "id": "f61f00f4",
   "metadata": {},
   "outputs": [],
   "source": [
    "## 创建一个关于细胞的元数据\n",
    "obs_meta = pd.DataFrame({\n",
    "        'time_yr': np.random.choice([0, 2, 4, 8], adata.n_obs),\n",
    "        'subject_id': np.random.choice(['subject 1', 'subject 2', 'subject 4', 'subject 8'], adata.n_obs),\n",
    "        'instrument_type': np.random.choice(['type a', 'type b'], adata.n_obs),\n",
    "        'site': np.random.choice(['site x', 'site y'], adata.n_obs),\n",
    "    },\n",
    "    index=adata.obs.index,    # 细胞的索引不变\n",
    ")"
   ]
  },
  {
   "cell_type": "code",
   "execution_count": 16,
   "id": "2ddea8ae",
   "metadata": {},
   "outputs": [],
   "source": [
    "## 创建新的anndata对象（使用新的细胞metadata）\n",
    "adata = ad.AnnData(adata.X, obs=obs_meta, var=adata.var)"
   ]
  },
  {
   "cell_type": "code",
   "execution_count": 17,
   "id": "20cde329",
   "metadata": {},
   "outputs": [
    {
     "name": "stdout",
     "output_type": "stream",
     "text": [
      "AnnData object with n_obs × n_vars = 100 × 2000\n",
      "    obs: 'time_yr', 'subject_id', 'instrument_type', 'site'\n"
     ]
    }
   ],
   "source": [
    "print(adata)"
   ]
  },
  {
   "cell_type": "markdown",
   "id": "3518487d",
   "metadata": {},
   "source": [
    "### AnnData 的 View 与 Copy 机制\n",
    "\n",
    "- **两种状态**  \n",
    "  - **Actual data**：对象自身持有全部数据。  \n",
    "  - **View**：仅引用另一个 AnnData 的部分数据，没有独立存储。\n",
    "\n",
    "- **切片默认返回 View**  \n",
    "  - 节省内存（不复制数据）。  \n",
    "  - 可以直接修改原对象的内容。\n",
    "\n",
    "- **从 View 转换为独立对象**  \n",
    "  - 显式调用 `.copy()`。  \n",
    "  - 或者，当对 View 的内容（如 `.obs`、`.var`、`.X`）进行赋值修改时，会自动触发 `.copy()`。\n",
    "\n",
    "- **优点**  \n",
    "  1. 高效的内存利用。  \n",
    "  2. 快速访问和修改原对象的子集数据。\n",
    "\n",
    "- **注意**  \n",
    "  如果只是读取子集数据，不会触发 `.copy()`；但一旦修改，就会变成独立数据对象。\n"
   ]
  },
  {
   "cell_type": "code",
   "execution_count": 18,
   "id": "89ea68be",
   "metadata": {},
   "outputs": [
    {
     "data": {
      "text/plain": [
       "View of AnnData object with n_obs × n_vars = 5 × 2\n",
       "    obs: 'time_yr', 'subject_id', 'instrument_type', 'site'"
      ]
     },
     "execution_count": 18,
     "metadata": {},
     "output_type": "execute_result"
    }
   ],
   "source": [
    "## 这是一个view\n",
    "adata[:5, ['Gene_1', 'Gene_3']]"
   ]
  },
  {
   "cell_type": "code",
   "execution_count": 19,
   "id": "b022df5b",
   "metadata": {},
   "outputs": [],
   "source": [
    "## copy\n",
    "adata_subset = adata[:5, ['Gene_1', 'Gene_3']].copy()"
   ]
  },
  {
   "cell_type": "code",
   "execution_count": 20,
   "id": "1efdf051",
   "metadata": {},
   "outputs": [
    {
     "name": "stdout",
     "output_type": "stream",
     "text": [
      "[[0.0], [0.0], [0.0]]\n",
      "[[0.0], [0.0], [0.0]]\n"
     ]
    },
    {
     "name": "stderr",
     "output_type": "stream",
     "text": [
      "/var/folders/s8/0mvfbk_j3_7chd0wj4khg3bh0000gn/T/ipykernel_56176/257090664.py:3: ImplicitModificationWarning: Modifying `X` on a view results in data being overridden\n",
      "  adata[:3, 'Gene_1'].X = [0, 0, 0]\n"
     ]
    }
   ],
   "source": [
    "## 对adata进行修改\n",
    "print(adata[:3, 'Gene_1'].X.toarray().tolist())\n",
    "adata[:3, 'Gene_1'].X = [0, 0, 0]\n",
    "print(adata[:3, 'Gene_1'].X.toarray().tolist())"
   ]
  },
  {
   "cell_type": "code",
   "execution_count": 21,
   "id": "49d9a0c1",
   "metadata": {},
   "outputs": [
    {
     "data": {
      "text/plain": [
       "View of AnnData object with n_obs × n_vars = 3 × 2\n",
       "    obs: 'time_yr', 'subject_id', 'instrument_type', 'site'"
      ]
     },
     "execution_count": 21,
     "metadata": {},
     "output_type": "execute_result"
    }
   ],
   "source": [
    "## 自动创建对象\n",
    "adata_subset = adata[:3, ['Gene_1', 'Gene_2']]\n",
    "adata_subset"
   ]
  },
  {
   "cell_type": "code",
   "execution_count": 22,
   "id": "e63c3eed",
   "metadata": {},
   "outputs": [
    {
     "name": "stderr",
     "output_type": "stream",
     "text": [
      "/var/folders/s8/0mvfbk_j3_7chd0wj4khg3bh0000gn/T/ipykernel_56176/4201540124.py:1: ImplicitModificationWarning: Trying to modify attribute `.obs` of view, initializing view as actual.\n",
      "  adata_subset.obs['foo'] = range(3)\n"
     ]
    },
    {
     "data": {
      "text/plain": [
       "AnnData object with n_obs × n_vars = 3 × 2\n",
       "    obs: 'time_yr', 'subject_id', 'instrument_type', 'site', 'foo'"
      ]
     },
     "execution_count": 22,
     "metadata": {},
     "output_type": "execute_result"
    }
   ],
   "source": [
    "adata_subset.obs['foo'] = range(3)\n",
    "adata_subset"
   ]
  },
  {
   "cell_type": "code",
   "execution_count": 23,
   "id": "0c301d96",
   "metadata": {},
   "outputs": [
    {
     "data": {
      "application/vnd.microsoft.datawrangler.viewer.v0+json": {
       "columns": [
        {
         "name": "index",
         "rawType": "object",
         "type": "string"
        },
        {
         "name": "time_yr",
         "rawType": "int64",
         "type": "integer"
        },
        {
         "name": "subject_id",
         "rawType": "object",
         "type": "string"
        },
        {
         "name": "instrument_type",
         "rawType": "object",
         "type": "string"
        },
        {
         "name": "site",
         "rawType": "object",
         "type": "string"
        }
       ],
       "ref": "6534358f-9a67-4d12-b354-1dbf9bf1ad6d",
       "rows": [
        [
         "Cell_1",
         "4",
         "subject 8",
         "type a",
         "site y"
        ],
        [
         "Cell_2",
         "2",
         "subject 8",
         "type b",
         "site x"
        ],
        [
         "Cell_4",
         "2",
         "subject 2",
         "type a",
         "site y"
        ],
        [
         "Cell_5",
         "4",
         "subject 2",
         "type b",
         "site y"
        ],
        [
         "Cell_6",
         "4",
         "subject 1",
         "type b",
         "site y"
        ]
       ],
       "shape": {
        "columns": 4,
        "rows": 5
       }
      },
      "text/html": [
       "<div>\n",
       "<style scoped>\n",
       "    .dataframe tbody tr th:only-of-type {\n",
       "        vertical-align: middle;\n",
       "    }\n",
       "\n",
       "    .dataframe tbody tr th {\n",
       "        vertical-align: top;\n",
       "    }\n",
       "\n",
       "    .dataframe thead th {\n",
       "        text-align: right;\n",
       "    }\n",
       "</style>\n",
       "<table border=\"1\" class=\"dataframe\">\n",
       "  <thead>\n",
       "    <tr style=\"text-align: right;\">\n",
       "      <th></th>\n",
       "      <th>time_yr</th>\n",
       "      <th>subject_id</th>\n",
       "      <th>instrument_type</th>\n",
       "      <th>site</th>\n",
       "    </tr>\n",
       "  </thead>\n",
       "  <tbody>\n",
       "    <tr>\n",
       "      <th>Cell_1</th>\n",
       "      <td>4</td>\n",
       "      <td>subject 8</td>\n",
       "      <td>type a</td>\n",
       "      <td>site y</td>\n",
       "    </tr>\n",
       "    <tr>\n",
       "      <th>Cell_2</th>\n",
       "      <td>2</td>\n",
       "      <td>subject 8</td>\n",
       "      <td>type b</td>\n",
       "      <td>site x</td>\n",
       "    </tr>\n",
       "    <tr>\n",
       "      <th>Cell_4</th>\n",
       "      <td>2</td>\n",
       "      <td>subject 2</td>\n",
       "      <td>type a</td>\n",
       "      <td>site y</td>\n",
       "    </tr>\n",
       "    <tr>\n",
       "      <th>Cell_5</th>\n",
       "      <td>4</td>\n",
       "      <td>subject 2</td>\n",
       "      <td>type b</td>\n",
       "      <td>site y</td>\n",
       "    </tr>\n",
       "    <tr>\n",
       "      <th>Cell_6</th>\n",
       "      <td>4</td>\n",
       "      <td>subject 1</td>\n",
       "      <td>type b</td>\n",
       "      <td>site y</td>\n",
       "    </tr>\n",
       "  </tbody>\n",
       "</table>\n",
       "</div>"
      ],
      "text/plain": [
       "        time_yr subject_id instrument_type    site\n",
       "Cell_1        4  subject 8          type a  site y\n",
       "Cell_2        2  subject 8          type b  site x\n",
       "Cell_4        2  subject 2          type a  site y\n",
       "Cell_5        4  subject 2          type b  site y\n",
       "Cell_6        4  subject 1          type b  site y"
      ]
     },
     "execution_count": 23,
     "metadata": {},
     "output_type": "execute_result"
    }
   ],
   "source": [
    "## 做类似于pandas对切片操作\n",
    "# 判断time_yr在2和4的细胞\n",
    "adata[adata.obs.time_yr.isin([2, 4])].obs.head()"
   ]
  },
  {
   "cell_type": "markdown",
   "id": "6d1c504d",
   "metadata": {},
   "source": [
    "## `.h5ad`文件的部分读取\n",
    "`backed='r'`表示只读模式下的部分加载。AnnData不会一次性把所有数据读到内存，而是保留一个到磁盘文件的连接。\n",
    "当访问`.X `的部分数据时，才会从磁盘读入这一部分（按需读取）。"
   ]
  },
  {
   "cell_type": "code",
   "execution_count": 24,
   "id": "adccea11",
   "metadata": {},
   "outputs": [
    {
     "name": "stderr",
     "output_type": "stream",
     "text": [
      "/opt/anaconda3/envs/scepy/lib/python3.10/site-packages/anndata/__init__.py:42: FutureWarning: `anndata.read` is deprecated, use `anndata.read_h5ad` instead. `ad.read` will be removed in mid 2024.\n",
      "  warnings.warn(\n"
     ]
    },
    {
     "data": {
      "text/plain": [
       "True"
      ]
     },
     "execution_count": 24,
     "metadata": {},
     "output_type": "execute_result"
    }
   ],
   "source": [
    "adata = ad.read('../data/my_results.h5ad', backed='r')\n",
    "adata.isbacked"
   ]
  },
  {
   "cell_type": "code",
   "execution_count": 25,
   "id": "14685a1c",
   "metadata": {},
   "outputs": [
    {
     "data": {
      "text/plain": [
       "PosixPath('../data/my_results.h5ad')"
      ]
     },
     "execution_count": 25,
     "metadata": {},
     "output_type": "execute_result"
    }
   ],
   "source": [
    "adata.filename"
   ]
  },
  {
   "cell_type": "code",
   "execution_count": 26,
   "id": "6fe3bee1",
   "metadata": {},
   "outputs": [],
   "source": [
    "adata.file.close()"
   ]
  }
 ],
 "metadata": {
  "kernelspec": {
   "display_name": "scepy",
   "language": "python",
   "name": "python3"
  },
  "language_info": {
   "codemirror_mode": {
    "name": "ipython",
    "version": 3
   },
   "file_extension": ".py",
   "mimetype": "text/x-python",
   "name": "python",
   "nbconvert_exporter": "python",
   "pygments_lexer": "ipython3",
   "version": "3.10.18"
  }
 },
 "nbformat": 4,
 "nbformat_minor": 5
}
